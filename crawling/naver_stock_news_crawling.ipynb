{
 "cells": [
  {
   "cell_type": "code",
   "execution_count": 94,
   "id": "c217db25",
   "metadata": {
    "ExecuteTime": {
     "end_time": "2022-01-14T11:24:51.400590Z",
     "start_time": "2022-01-14T11:24:51.386006Z"
    }
   },
   "outputs": [],
   "source": [
    "import pandas as pd\n",
    "import time\n",
    "import re\n",
    "from selenium import webdriver\n",
    "from datetime import datetime"
   ]
  },
  {
   "cell_type": "markdown",
   "id": "61fc8cc1",
   "metadata": {},
   "source": [
    "## 종목별 2011.12.31 ~ 2021.12.31별 네이버 금융 종목 기사 뉴스 헤드라인 크롤링 \n",
    "- 일자별 기사의 개수가 모두 다르기 때문에 1page에 있는 일별 최근 기사 기준 20개를 크롤링\n",
    "- 일별 기사가 20개가 안되는 경우 ->  기사가 총 10 ~ 20개일 경우는 10개만, 5 ~ 10개는 5개, 1 ~ 5개는 1개만 크롤링 진행\n"
   ]
  },
  {
   "cell_type": "code",
   "execution_count": 95,
   "id": "0e506c01",
   "metadata": {
    "ExecuteTime": {
     "end_time": "2022-01-14T11:24:51.975478Z",
     "start_time": "2022-01-14T11:24:51.960050Z"
    }
   },
   "outputs": [],
   "source": [
    "# 기간 내의 날짜 리스트 생성\n",
    "def date_range(start, end):\n",
    "    start = datetime.strptime(start, \"%Y-%m-%d\")\n",
    "    end = datetime.strptime(end, \"%Y-%m-%d\")\n",
    "    dates = [date.strftime(\"%Y-%m-%d\") for date in pd.date_range(start, periods=(end-start).days+1)]\n",
    "    return dates\n",
    "    \n",
    "dates = date_range(\"2011-12-31\", \"2021-12-31\")"
   ]
  },
  {
   "cell_type": "code",
   "execution_count": 96,
   "id": "25e2db00",
   "metadata": {
    "ExecuteTime": {
     "end_time": "2022-01-14T11:24:55.020021Z",
     "start_time": "2022-01-14T11:24:52.336176Z"
    }
   },
   "outputs": [],
   "source": [
    "# '네이버 금융' 페이지 접근\n",
    "url = 'https://finance.naver.com/news'\n",
    "driver = webdriver.Chrome('C:/Users/seonwook/Documents/ds_study/driver/chromedriver.exe') # Windows: '../driver/chromedriver.exe'\n",
    "driver.get(url)\n",
    "driver.maximize_window()"
   ]
  },
  {
   "cell_type": "markdown",
   "id": "5c5c02e7",
   "metadata": {},
   "source": [
    "### 종목 선정 기준\n",
    "- 한국 거래소 시가총액 기준 1위~10위\n",
    "- 단, 동일 계열사는 제외하고 다음 순위에 있는 기업으로 선정 (예시: 선정: 카카오 제외: 카카오페이, 카카오뱅크)"
   ]
  },
  {
   "cell_type": "code",
   "execution_count": 97,
   "id": "a0ccb0f7",
   "metadata": {
    "ExecuteTime": {
     "end_time": "2022-01-14T11:36:39.250205Z",
     "start_time": "2022-01-14T11:24:55.022013Z"
    }
   },
   "outputs": [],
   "source": [
    "# 종목 선정 (한국 거래소 기준)\n",
    "stock_list = [] # 종목리스트 선정  현대차 005380\n",
    "temp_list = [] \n",
    "for stock in stock_list:\n",
    "    # 종목 뉴스 검색\n",
    "    some_tag = driver.find_element_by_css_selector('#newsMainTop > div > div.inner_area_right > form > div > input')\n",
    "    some_tag.clear()\n",
    "    some_tag.send_keys('{}'.format(stock)) # 종목명 입력\n",
    "\n",
    "    some_tag = driver.find_element_by_css_selector('#newsMainTop > div > div.inner_area_right > form > div > a > input[type=image]')\n",
    "    some_tag.click()\n",
    "    time.sleep(3)\n",
    "    \n",
    "    # 뉴스 헤드라인, 날짜 가져오기\n",
    "    main = driver.current_url\n",
    "    for date in dates:\n",
    "        url = main + '&stDateStart={}&stDateEnd={}'.format(date, date)\n",
    "        driver.get(url)\n",
    "        temp = driver.find_element_by_css_selector('#contentarea_left > div.newsSchResult > dl')\n",
    "        temp = temp.text\n",
    "        temp = re.split(\"[\\n|]\", temp )\n",
    "        if len(temp) < 15 and len(temp) >=3:\n",
    "            for j in range(0, 3, 3):\n",
    "                temp_list.append([stock, temp[j], temp[j+2]])\n",
    "        \n",
    "        if len(temp) < 30 and len(temp) >=15:\n",
    "            for j in range(0, 15, 3):\n",
    "                temp_list.append([stock, temp[j], temp[j+2]])\n",
    "\n",
    "        if len(temp) < 60 and len(temp) >= 30:\n",
    "            for j in range(0, 30, 3):\n",
    "                temp_list.append([stock, temp[j], temp[j+2]])\n",
    "\n",
    "        if len(temp) >= 60:\n",
    "            for j in range(0, 60, 3):\n",
    "                temp_list.append([stock, temp[j], temp[j+2]])\n",
    "driver.quit()    "
   ]
  },
  {
   "cell_type": "code",
   "execution_count": 98,
   "id": "0eb991a2",
   "metadata": {
    "ExecuteTime": {
     "end_time": "2022-01-14T11:41:01.287700Z",
     "start_time": "2022-01-14T11:41:01.274742Z"
    }
   },
   "outputs": [
    {
     "data": {
      "text/plain": [
       "33126"
      ]
     },
     "execution_count": 98,
     "metadata": {},
     "output_type": "execute_result"
    }
   ],
   "source": [
    "# 설정한 기간동안의 총 기사 개수\n",
    "len(temp_list)"
   ]
  },
  {
   "cell_type": "code",
   "execution_count": 99,
   "id": "339de5b9",
   "metadata": {
    "ExecuteTime": {
     "end_time": "2022-01-14T11:41:02.731819Z",
     "start_time": "2022-01-14T11:41:02.718461Z"
    }
   },
   "outputs": [
    {
     "data": {
      "text/plain": [
       "[['현대차', '[2012 증시는?] 20개 증권사 전문가들이 꼽은 2012 유망주', ' 2011-12-31 17:00'],\n",
       " ['현대차', '잘 나가는 기업, 못 나가는 기업···\"다 이유가 있다\"', ' 2011-12-31 16:48'],\n",
       " ['현대차', '4대그룹 \"새해 어렵지만 성장 드라이브\"', ' 2011-12-31 13:01'],\n",
       " ['현대차', '[2012 증시는?] 미래에셋 \"상저하고, 1년이상 장기투자를\"', ' 2011-12-31 10:01'],\n",
       " ['현대차', '[2012] 삼성證, 글로벌 정책과 유동성 환경에 좌우될 것', ' 2011-12-31 09:49']]"
      ]
     },
     "execution_count": 99,
     "metadata": {},
     "output_type": "execute_result"
    }
   ],
   "source": [
    "temp_list[:5] # 종목, 헤드라인, 일자 형식"
   ]
  },
  {
   "cell_type": "code",
   "execution_count": 100,
   "id": "8626902a",
   "metadata": {
    "ExecuteTime": {
     "end_time": "2022-01-14T11:41:03.948569Z",
     "start_time": "2022-01-14T11:41:03.923314Z"
    }
   },
   "outputs": [],
   "source": [
    "# 컬럼명 지정: pd.DataFrame형식으로 바꾸기 위해\n",
    "col_name = ['종목', '헤드라인', '날짜']\n",
    "df_stock = pd.DataFrame(temp_list, columns=col_name)"
   ]
  },
  {
   "cell_type": "code",
   "execution_count": 101,
   "id": "19fe736c",
   "metadata": {
    "ExecuteTime": {
     "end_time": "2022-01-14T11:41:04.706802Z",
     "start_time": "2022-01-14T11:41:04.695116Z"
    }
   },
   "outputs": [
    {
     "data": {
      "text/html": [
       "<div>\n",
       "<style scoped>\n",
       "    .dataframe tbody tr th:only-of-type {\n",
       "        vertical-align: middle;\n",
       "    }\n",
       "\n",
       "    .dataframe tbody tr th {\n",
       "        vertical-align: top;\n",
       "    }\n",
       "\n",
       "    .dataframe thead th {\n",
       "        text-align: right;\n",
       "    }\n",
       "</style>\n",
       "<table border=\"1\" class=\"dataframe\">\n",
       "  <thead>\n",
       "    <tr style=\"text-align: right;\">\n",
       "      <th></th>\n",
       "      <th>종목</th>\n",
       "      <th>헤드라인</th>\n",
       "      <th>날짜</th>\n",
       "    </tr>\n",
       "  </thead>\n",
       "  <tbody>\n",
       "    <tr>\n",
       "      <th>0</th>\n",
       "      <td>현대차</td>\n",
       "      <td>[2012 증시는?] 20개 증권사 전문가들이 꼽은 2012 유망주</td>\n",
       "      <td>2011-12-31 17:00</td>\n",
       "    </tr>\n",
       "    <tr>\n",
       "      <th>1</th>\n",
       "      <td>현대차</td>\n",
       "      <td>잘 나가는 기업, 못 나가는 기업···\"다 이유가 있다\"</td>\n",
       "      <td>2011-12-31 16:48</td>\n",
       "    </tr>\n",
       "    <tr>\n",
       "      <th>2</th>\n",
       "      <td>현대차</td>\n",
       "      <td>4대그룹 \"새해 어렵지만 성장 드라이브\"</td>\n",
       "      <td>2011-12-31 13:01</td>\n",
       "    </tr>\n",
       "    <tr>\n",
       "      <th>3</th>\n",
       "      <td>현대차</td>\n",
       "      <td>[2012 증시는?] 미래에셋 \"상저하고, 1년이상 장기투자를\"</td>\n",
       "      <td>2011-12-31 10:01</td>\n",
       "    </tr>\n",
       "    <tr>\n",
       "      <th>4</th>\n",
       "      <td>현대차</td>\n",
       "      <td>[2012] 삼성證, 글로벌 정책과 유동성 환경에 좌우될 것</td>\n",
       "      <td>2011-12-31 09:49</td>\n",
       "    </tr>\n",
       "  </tbody>\n",
       "</table>\n",
       "</div>"
      ],
      "text/plain": [
       "    종목                                   헤드라인                 날짜\n",
       "0  현대차  [2012 증시는?] 20개 증권사 전문가들이 꼽은 2012 유망주   2011-12-31 17:00\n",
       "1  현대차        잘 나가는 기업, 못 나가는 기업···\"다 이유가 있다\"   2011-12-31 16:48\n",
       "2  현대차                 4대그룹 \"새해 어렵지만 성장 드라이브\"   2011-12-31 13:01\n",
       "3  현대차    [2012 증시는?] 미래에셋 \"상저하고, 1년이상 장기투자를\"   2011-12-31 10:01\n",
       "4  현대차      [2012] 삼성證, 글로벌 정책과 유동성 환경에 좌우될 것   2011-12-31 09:49"
      ]
     },
     "execution_count": 101,
     "metadata": {},
     "output_type": "execute_result"
    }
   ],
   "source": [
    "df_stock.head()"
   ]
  },
  {
   "cell_type": "code",
   "execution_count": 102,
   "id": "4dbaa7d8",
   "metadata": {
    "ExecuteTime": {
     "end_time": "2022-01-14T11:41:10.172412Z",
     "start_time": "2022-01-14T11:41:07.091180Z"
    }
   },
   "outputs": [],
   "source": [
    "# 크롤링해온 날짜 형식 전처리\n",
    "for i in range(len(df_stock)):\n",
    "    df_stock['날짜'][i] = df_stock['날짜'][i][:11].lstrip()"
   ]
  },
  {
   "cell_type": "code",
   "execution_count": 103,
   "id": "01b26a97",
   "metadata": {
    "ExecuteTime": {
     "end_time": "2022-01-14T11:41:10.188115Z",
     "start_time": "2022-01-14T11:41:10.173942Z"
    }
   },
   "outputs": [
    {
     "data": {
      "text/html": [
       "<div>\n",
       "<style scoped>\n",
       "    .dataframe tbody tr th:only-of-type {\n",
       "        vertical-align: middle;\n",
       "    }\n",
       "\n",
       "    .dataframe tbody tr th {\n",
       "        vertical-align: top;\n",
       "    }\n",
       "\n",
       "    .dataframe thead th {\n",
       "        text-align: right;\n",
       "    }\n",
       "</style>\n",
       "<table border=\"1\" class=\"dataframe\">\n",
       "  <thead>\n",
       "    <tr style=\"text-align: right;\">\n",
       "      <th></th>\n",
       "      <th>종목</th>\n",
       "      <th>헤드라인</th>\n",
       "      <th>날짜</th>\n",
       "    </tr>\n",
       "  </thead>\n",
       "  <tbody>\n",
       "    <tr>\n",
       "      <th>0</th>\n",
       "      <td>현대차</td>\n",
       "      <td>[2012 증시는?] 20개 증권사 전문가들이 꼽은 2012 유망주</td>\n",
       "      <td>2011-12-31</td>\n",
       "    </tr>\n",
       "    <tr>\n",
       "      <th>1</th>\n",
       "      <td>현대차</td>\n",
       "      <td>잘 나가는 기업, 못 나가는 기업···\"다 이유가 있다\"</td>\n",
       "      <td>2011-12-31</td>\n",
       "    </tr>\n",
       "    <tr>\n",
       "      <th>2</th>\n",
       "      <td>현대차</td>\n",
       "      <td>4대그룹 \"새해 어렵지만 성장 드라이브\"</td>\n",
       "      <td>2011-12-31</td>\n",
       "    </tr>\n",
       "    <tr>\n",
       "      <th>3</th>\n",
       "      <td>현대차</td>\n",
       "      <td>[2012 증시는?] 미래에셋 \"상저하고, 1년이상 장기투자를\"</td>\n",
       "      <td>2011-12-31</td>\n",
       "    </tr>\n",
       "    <tr>\n",
       "      <th>4</th>\n",
       "      <td>현대차</td>\n",
       "      <td>[2012] 삼성證, 글로벌 정책과 유동성 환경에 좌우될 것</td>\n",
       "      <td>2011-12-31</td>\n",
       "    </tr>\n",
       "  </tbody>\n",
       "</table>\n",
       "</div>"
      ],
      "text/plain": [
       "    종목                                   헤드라인          날짜\n",
       "0  현대차  [2012 증시는?] 20개 증권사 전문가들이 꼽은 2012 유망주  2011-12-31\n",
       "1  현대차        잘 나가는 기업, 못 나가는 기업···\"다 이유가 있다\"  2011-12-31\n",
       "2  현대차                 4대그룹 \"새해 어렵지만 성장 드라이브\"  2011-12-31\n",
       "3  현대차    [2012 증시는?] 미래에셋 \"상저하고, 1년이상 장기투자를\"  2011-12-31\n",
       "4  현대차      [2012] 삼성證, 글로벌 정책과 유동성 환경에 좌우될 것  2011-12-31"
      ]
     },
     "execution_count": 103,
     "metadata": {},
     "output_type": "execute_result"
    }
   ],
   "source": [
    "df_stock.head()"
   ]
  },
  {
   "cell_type": "markdown",
   "id": "d2dc16ec",
   "metadata": {},
   "source": [
    "## 해당 종목의 일자별 주가 변동에 대한 파일과 병합\n",
    "- 기사가 주식 가격에 미치는 영향을 토대로 긍/부정 라벨링을 하기 위해 해당 종목의 일자별 주가 급락에 대한 데이터를 불러옴\n",
    "- 크롤링해온 종목별 기사 데이터와 병합"
   ]
  },
  {
   "cell_type": "code",
   "execution_count": 104,
   "id": "7a21027e",
   "metadata": {
    "ExecuteTime": {
     "end_time": "2022-01-14T11:46:00.584043Z",
     "start_time": "2022-01-14T11:46:00.559840Z"
    }
   },
   "outputs": [
    {
     "data": {
      "text/html": [
       "<div>\n",
       "<style scoped>\n",
       "    .dataframe tbody tr th:only-of-type {\n",
       "        vertical-align: middle;\n",
       "    }\n",
       "\n",
       "    .dataframe tbody tr th {\n",
       "        vertical-align: top;\n",
       "    }\n",
       "\n",
       "    .dataframe thead th {\n",
       "        text-align: right;\n",
       "    }\n",
       "</style>\n",
       "<table border=\"1\" class=\"dataframe\">\n",
       "  <thead>\n",
       "    <tr style=\"text-align: right;\">\n",
       "      <th></th>\n",
       "      <th>date</th>\n",
       "      <th>change</th>\n",
       "      <th>name</th>\n",
       "    </tr>\n",
       "  </thead>\n",
       "  <tbody>\n",
       "    <tr>\n",
       "      <th>0</th>\n",
       "      <td>2012-01-02</td>\n",
       "      <td>1</td>\n",
       "      <td>삼성전자</td>\n",
       "    </tr>\n",
       "    <tr>\n",
       "      <th>1</th>\n",
       "      <td>2012-01-03</td>\n",
       "      <td>1</td>\n",
       "      <td>삼성전자</td>\n",
       "    </tr>\n",
       "    <tr>\n",
       "      <th>2</th>\n",
       "      <td>2012-01-04</td>\n",
       "      <td>0</td>\n",
       "      <td>삼성전자</td>\n",
       "    </tr>\n",
       "    <tr>\n",
       "      <th>3</th>\n",
       "      <td>2012-01-05</td>\n",
       "      <td>0</td>\n",
       "      <td>삼성전자</td>\n",
       "    </tr>\n",
       "    <tr>\n",
       "      <th>4</th>\n",
       "      <td>2012-01-06</td>\n",
       "      <td>0</td>\n",
       "      <td>삼성전자</td>\n",
       "    </tr>\n",
       "  </tbody>\n",
       "</table>\n",
       "</div>"
      ],
      "text/plain": [
       "         date  change  name\n",
       "0  2012-01-02       1  삼성전자\n",
       "1  2012-01-03       1  삼성전자\n",
       "2  2012-01-04       0  삼성전자\n",
       "3  2012-01-05       0  삼성전자\n",
       "4  2012-01-06       0  삼성전자"
      ]
     },
     "execution_count": 104,
     "metadata": {},
     "output_type": "execute_result"
    }
   ],
   "source": [
    "change_rate = pd.read_csv('C:/Users/seonwook/Documents/ten_change.csv', index_col=0)\n",
    "change_rate.head()"
   ]
  },
  {
   "cell_type": "code",
   "execution_count": 105,
   "id": "4ad44564",
   "metadata": {
    "ExecuteTime": {
     "end_time": "2022-01-14T11:46:01.069576Z",
     "start_time": "2022-01-14T11:46:01.052143Z"
    }
   },
   "outputs": [],
   "source": [
    "# 병합을 위해 컬럼명 통일\n",
    "df_stock.columns = ['name', 'headline', 'date']"
   ]
  },
  {
   "cell_type": "code",
   "execution_count": 106,
   "id": "00cf1e3e",
   "metadata": {
    "ExecuteTime": {
     "end_time": "2022-01-14T11:46:01.692711Z",
     "start_time": "2022-01-14T11:46:01.672166Z"
    }
   },
   "outputs": [
    {
     "data": {
      "text/html": [
       "<div>\n",
       "<style scoped>\n",
       "    .dataframe tbody tr th:only-of-type {\n",
       "        vertical-align: middle;\n",
       "    }\n",
       "\n",
       "    .dataframe tbody tr th {\n",
       "        vertical-align: top;\n",
       "    }\n",
       "\n",
       "    .dataframe thead th {\n",
       "        text-align: right;\n",
       "    }\n",
       "</style>\n",
       "<table border=\"1\" class=\"dataframe\">\n",
       "  <thead>\n",
       "    <tr style=\"text-align: right;\">\n",
       "      <th></th>\n",
       "      <th>name</th>\n",
       "      <th>headline</th>\n",
       "      <th>date</th>\n",
       "    </tr>\n",
       "  </thead>\n",
       "  <tbody>\n",
       "    <tr>\n",
       "      <th>0</th>\n",
       "      <td>현대차</td>\n",
       "      <td>[2012 증시는?] 20개 증권사 전문가들이 꼽은 2012 유망주</td>\n",
       "      <td>2011-12-31</td>\n",
       "    </tr>\n",
       "    <tr>\n",
       "      <th>1</th>\n",
       "      <td>현대차</td>\n",
       "      <td>잘 나가는 기업, 못 나가는 기업···\"다 이유가 있다\"</td>\n",
       "      <td>2011-12-31</td>\n",
       "    </tr>\n",
       "    <tr>\n",
       "      <th>2</th>\n",
       "      <td>현대차</td>\n",
       "      <td>4대그룹 \"새해 어렵지만 성장 드라이브\"</td>\n",
       "      <td>2011-12-31</td>\n",
       "    </tr>\n",
       "    <tr>\n",
       "      <th>3</th>\n",
       "      <td>현대차</td>\n",
       "      <td>[2012 증시는?] 미래에셋 \"상저하고, 1년이상 장기투자를\"</td>\n",
       "      <td>2011-12-31</td>\n",
       "    </tr>\n",
       "    <tr>\n",
       "      <th>4</th>\n",
       "      <td>현대차</td>\n",
       "      <td>[2012] 삼성證, 글로벌 정책과 유동성 환경에 좌우될 것</td>\n",
       "      <td>2011-12-31</td>\n",
       "    </tr>\n",
       "  </tbody>\n",
       "</table>\n",
       "</div>"
      ],
      "text/plain": [
       "  name                               headline        date\n",
       "0  현대차  [2012 증시는?] 20개 증권사 전문가들이 꼽은 2012 유망주  2011-12-31\n",
       "1  현대차        잘 나가는 기업, 못 나가는 기업···\"다 이유가 있다\"  2011-12-31\n",
       "2  현대차                 4대그룹 \"새해 어렵지만 성장 드라이브\"  2011-12-31\n",
       "3  현대차    [2012 증시는?] 미래에셋 \"상저하고, 1년이상 장기투자를\"  2011-12-31\n",
       "4  현대차      [2012] 삼성證, 글로벌 정책과 유동성 환경에 좌우될 것  2011-12-31"
      ]
     },
     "execution_count": 106,
     "metadata": {},
     "output_type": "execute_result"
    }
   ],
   "source": [
    "df_stock.head()"
   ]
  },
  {
   "cell_type": "markdown",
   "id": "b91fdcea",
   "metadata": {},
   "source": [
    "### inner join을 통해 공통된 부분만 추출하도록 병합\n",
    "- 주식장은 주말을 제외한 평일에만 개장한다는 점을 고려"
   ]
  },
  {
   "cell_type": "code",
   "execution_count": 107,
   "id": "47896d91",
   "metadata": {
    "ExecuteTime": {
     "end_time": "2022-01-14T11:46:48.975577Z",
     "start_time": "2022-01-14T11:46:48.953660Z"
    }
   },
   "outputs": [],
   "source": [
    "df_stock = pd.merge(df_stock, change_rate, on=['name', 'date'], how='inner')"
   ]
  },
  {
   "cell_type": "code",
   "execution_count": 108,
   "id": "ddc9bf0d",
   "metadata": {
    "ExecuteTime": {
     "end_time": "2022-01-14T11:46:49.641256Z",
     "start_time": "2022-01-14T11:46:49.624439Z"
    }
   },
   "outputs": [
    {
     "data": {
      "text/html": [
       "<div>\n",
       "<style scoped>\n",
       "    .dataframe tbody tr th:only-of-type {\n",
       "        vertical-align: middle;\n",
       "    }\n",
       "\n",
       "    .dataframe tbody tr th {\n",
       "        vertical-align: top;\n",
       "    }\n",
       "\n",
       "    .dataframe thead th {\n",
       "        text-align: right;\n",
       "    }\n",
       "</style>\n",
       "<table border=\"1\" class=\"dataframe\">\n",
       "  <thead>\n",
       "    <tr style=\"text-align: right;\">\n",
       "      <th></th>\n",
       "      <th>name</th>\n",
       "      <th>headline</th>\n",
       "      <th>date</th>\n",
       "      <th>change</th>\n",
       "    </tr>\n",
       "  </thead>\n",
       "  <tbody>\n",
       "    <tr>\n",
       "      <th>0</th>\n",
       "      <td>현대차</td>\n",
       "      <td>재계 총수들의 올해 첫 화두는 ‘위기’ ‘투자’ ‘인재’</td>\n",
       "      <td>2012-01-02</td>\n",
       "      <td>0</td>\n",
       "    </tr>\n",
       "    <tr>\n",
       "      <th>1</th>\n",
       "      <td>현대차</td>\n",
       "      <td>[경제 굿&amp;노굿] CEO들 신년사로 보는 2012 경제전망</td>\n",
       "      <td>2012-01-02</td>\n",
       "      <td>0</td>\n",
       "    </tr>\n",
       "    <tr>\n",
       "      <th>2</th>\n",
       "      <td>현대차</td>\n",
       "      <td>[경제 굿&amp;노굿] CEO들 신년사로 보는 2012 경제전망</td>\n",
       "      <td>2012-01-02</td>\n",
       "      <td>0</td>\n",
       "    </tr>\n",
       "    <tr>\n",
       "      <th>3</th>\n",
       "      <td>현대차</td>\n",
       "      <td>재계 빅3 공격적 투자‥나머지는 '흐림'</td>\n",
       "      <td>2012-01-02</td>\n",
       "      <td>0</td>\n",
       "    </tr>\n",
       "    <tr>\n",
       "      <th>4</th>\n",
       "      <td>현대차</td>\n",
       "      <td>“공생발전·내실경영으로 글로벌 위기 돌파”</td>\n",
       "      <td>2012-01-02</td>\n",
       "      <td>0</td>\n",
       "    </tr>\n",
       "  </tbody>\n",
       "</table>\n",
       "</div>"
      ],
      "text/plain": [
       "  name                          headline        date  change\n",
       "0  현대차   재계 총수들의 올해 첫 화두는 ‘위기’ ‘투자’ ‘인재’  2012-01-02       0\n",
       "1  현대차  [경제 굿&노굿] CEO들 신년사로 보는 2012 경제전망  2012-01-02       0\n",
       "2  현대차  [경제 굿&노굿] CEO들 신년사로 보는 2012 경제전망  2012-01-02       0\n",
       "3  현대차            재계 빅3 공격적 투자‥나머지는 '흐림'  2012-01-02       0\n",
       "4  현대차           “공생발전·내실경영으로 글로벌 위기 돌파”  2012-01-02       0"
      ]
     },
     "execution_count": 108,
     "metadata": {},
     "output_type": "execute_result"
    }
   ],
   "source": [
    "df_stock.head()"
   ]
  },
  {
   "cell_type": "code",
   "execution_count": 109,
   "id": "5ade1e9c",
   "metadata": {
    "ExecuteTime": {
     "end_time": "2022-01-14T11:46:51.700612Z",
     "start_time": "2022-01-14T11:46:51.682165Z"
    }
   },
   "outputs": [
    {
     "data": {
      "text/plain": [
       "24275"
      ]
     },
     "execution_count": 109,
     "metadata": {},
     "output_type": "execute_result"
    }
   ],
   "source": [
    "len(df_stock)"
   ]
  },
  {
   "cell_type": "markdown",
   "id": "81c39ba0",
   "metadata": {},
   "source": [
    "## csv로 저장"
   ]
  },
  {
   "cell_type": "code",
   "execution_count": 110,
   "id": "f3fffa26",
   "metadata": {
    "ExecuteTime": {
     "end_time": "2022-01-14T11:46:58.983271Z",
     "start_time": "2022-01-14T11:46:58.904363Z"
    }
   },
   "outputs": [],
   "source": [
    "df_stock.to_csv('C:/Users/seonwook/Documents/{}.csv'.format(df_stock['name'][0]), encoding='utf-8-sig') # 한글 깨짐 -> utf-8-sig"
   ]
  },
  {
   "cell_type": "markdown",
   "id": "18a741a6",
   "metadata": {},
   "source": [
    "## 데이터 불러와보기"
   ]
  },
  {
   "cell_type": "code",
   "execution_count": 111,
   "id": "923b6dce",
   "metadata": {
    "ExecuteTime": {
     "end_time": "2022-01-14T11:47:01.560763Z",
     "start_time": "2022-01-14T11:47:01.495012Z"
    }
   },
   "outputs": [
    {
     "data": {
      "text/html": [
       "<div>\n",
       "<style scoped>\n",
       "    .dataframe tbody tr th:only-of-type {\n",
       "        vertical-align: middle;\n",
       "    }\n",
       "\n",
       "    .dataframe tbody tr th {\n",
       "        vertical-align: top;\n",
       "    }\n",
       "\n",
       "    .dataframe thead th {\n",
       "        text-align: right;\n",
       "    }\n",
       "</style>\n",
       "<table border=\"1\" class=\"dataframe\">\n",
       "  <thead>\n",
       "    <tr style=\"text-align: right;\">\n",
       "      <th></th>\n",
       "      <th>name</th>\n",
       "      <th>headline</th>\n",
       "      <th>date</th>\n",
       "      <th>change</th>\n",
       "    </tr>\n",
       "  </thead>\n",
       "  <tbody>\n",
       "    <tr>\n",
       "      <th>0</th>\n",
       "      <td>현대차</td>\n",
       "      <td>재계 총수들의 올해 첫 화두는 ‘위기’ ‘투자’ ‘인재’</td>\n",
       "      <td>2012-01-02</td>\n",
       "      <td>0</td>\n",
       "    </tr>\n",
       "    <tr>\n",
       "      <th>1</th>\n",
       "      <td>현대차</td>\n",
       "      <td>[경제 굿&amp;노굿] CEO들 신년사로 보는 2012 경제전망</td>\n",
       "      <td>2012-01-02</td>\n",
       "      <td>0</td>\n",
       "    </tr>\n",
       "    <tr>\n",
       "      <th>2</th>\n",
       "      <td>현대차</td>\n",
       "      <td>[경제 굿&amp;노굿] CEO들 신년사로 보는 2012 경제전망</td>\n",
       "      <td>2012-01-02</td>\n",
       "      <td>0</td>\n",
       "    </tr>\n",
       "    <tr>\n",
       "      <th>3</th>\n",
       "      <td>현대차</td>\n",
       "      <td>재계 빅3 공격적 투자‥나머지는 '흐림'</td>\n",
       "      <td>2012-01-02</td>\n",
       "      <td>0</td>\n",
       "    </tr>\n",
       "    <tr>\n",
       "      <th>4</th>\n",
       "      <td>현대차</td>\n",
       "      <td>“공생발전·내실경영으로 글로벌 위기 돌파”</td>\n",
       "      <td>2012-01-02</td>\n",
       "      <td>0</td>\n",
       "    </tr>\n",
       "  </tbody>\n",
       "</table>\n",
       "</div>"
      ],
      "text/plain": [
       "  name                          headline        date  change\n",
       "0  현대차   재계 총수들의 올해 첫 화두는 ‘위기’ ‘투자’ ‘인재’  2012-01-02       0\n",
       "1  현대차  [경제 굿&노굿] CEO들 신년사로 보는 2012 경제전망  2012-01-02       0\n",
       "2  현대차  [경제 굿&노굿] CEO들 신년사로 보는 2012 경제전망  2012-01-02       0\n",
       "3  현대차            재계 빅3 공격적 투자‥나머지는 '흐림'  2012-01-02       0\n",
       "4  현대차           “공생발전·내실경영으로 글로벌 위기 돌파”  2012-01-02       0"
      ]
     },
     "execution_count": 111,
     "metadata": {},
     "output_type": "execute_result"
    }
   ],
   "source": [
    "temp = pd.read_csv('C:/Users/seonwook/Documents/{}.csv'.format(df_stock['name'][0]), encoding='utf-8-sig', index_col=0)\n",
    "temp.head()"
   ]
  },
  {
   "cell_type": "code",
   "execution_count": 112,
   "id": "7fb1bb36",
   "metadata": {
    "ExecuteTime": {
     "end_time": "2022-01-14T11:47:04.384409Z",
     "start_time": "2022-01-14T11:47:04.301570Z"
    }
   },
   "outputs": [
    {
     "data": {
      "text/html": [
       "<div>\n",
       "<style scoped>\n",
       "    .dataframe tbody tr th:only-of-type {\n",
       "        vertical-align: middle;\n",
       "    }\n",
       "\n",
       "    .dataframe tbody tr th {\n",
       "        vertical-align: top;\n",
       "    }\n",
       "\n",
       "    .dataframe thead th {\n",
       "        text-align: right;\n",
       "    }\n",
       "</style>\n",
       "<table border=\"1\" class=\"dataframe\">\n",
       "  <thead>\n",
       "    <tr style=\"text-align: right;\">\n",
       "      <th></th>\n",
       "      <th>name</th>\n",
       "      <th>headline</th>\n",
       "      <th>date</th>\n",
       "      <th>change</th>\n",
       "    </tr>\n",
       "  </thead>\n",
       "  <tbody>\n",
       "    <tr>\n",
       "      <th>0</th>\n",
       "      <td>현대차</td>\n",
       "      <td>[심층기획] 3500억대 귀속자산… 전경련 해체 시 향방 주목</td>\n",
       "      <td>2017-01-02</td>\n",
       "      <td>1</td>\n",
       "    </tr>\n",
       "    <tr>\n",
       "      <th>1</th>\n",
       "      <td>현대차</td>\n",
       "      <td>[심층기획] 정경유착 오명에 줄줄이 탈퇴… 존폐 기로에 선 전경련</td>\n",
       "      <td>2017-01-02</td>\n",
       "      <td>1</td>\n",
       "    </tr>\n",
       "    <tr>\n",
       "      <th>2</th>\n",
       "      <td>현대차</td>\n",
       "      <td>현대차株, 올해 내수 줄어도 신흥국 전망 '맑음'</td>\n",
       "      <td>2017-01-02</td>\n",
       "      <td>1</td>\n",
       "    </tr>\n",
       "    <tr>\n",
       "      <th>3</th>\n",
       "      <td>현대차</td>\n",
       "      <td>특검 수사에 '바짝 낮춘 이재용'…최태원은 '대담하게'</td>\n",
       "      <td>2017-01-02</td>\n",
       "      <td>1</td>\n",
       "    </tr>\n",
       "    <tr>\n",
       "      <th>4</th>\n",
       "      <td>현대차</td>\n",
       "      <td>화성남자 vs 금성여자 \"이 차가 최고라니까!\"</td>\n",
       "      <td>2017-01-02</td>\n",
       "      <td>1</td>\n",
       "    </tr>\n",
       "  </tbody>\n",
       "</table>\n",
       "</div>"
      ],
      "text/plain": [
       "  name                              headline        date  change\n",
       "0  현대차    [심층기획] 3500억대 귀속자산… 전경련 해체 시 향방 주목  2017-01-02       1\n",
       "1  현대차  [심층기획] 정경유착 오명에 줄줄이 탈퇴… 존폐 기로에 선 전경련  2017-01-02       1\n",
       "2  현대차           현대차株, 올해 내수 줄어도 신흥국 전망 '맑음'  2017-01-02       1\n",
       "3  현대차        특검 수사에 '바짝 낮춘 이재용'…최태원은 '대담하게'  2017-01-02       1\n",
       "4  현대차            화성남자 vs 금성여자 \"이 차가 최고라니까!\"  2017-01-02       1"
      ]
     },
     "execution_count": 112,
     "metadata": {},
     "output_type": "execute_result"
    }
   ],
   "source": [
    "temp2 = pd.read_csv('C:/Users/seonwook/Documents/hyundai.csv', index_col=0)\n",
    "temp2.head()"
   ]
  },
  {
   "cell_type": "code",
   "execution_count": 113,
   "id": "018929c6",
   "metadata": {
    "ExecuteTime": {
     "end_time": "2022-01-14T11:47:44.684165Z",
     "start_time": "2022-01-14T11:47:44.668184Z"
    }
   },
   "outputs": [
    {
     "data": {
      "text/plain": [
       "(24275, 24508)"
      ]
     },
     "execution_count": 113,
     "metadata": {},
     "output_type": "execute_result"
    }
   ],
   "source": [
    "len(temp), len(temp2)"
   ]
  },
  {
   "cell_type": "code",
   "execution_count": 114,
   "id": "4baee6a5",
   "metadata": {
    "ExecuteTime": {
     "end_time": "2022-01-14T11:48:19.968179Z",
     "start_time": "2022-01-14T11:48:19.957239Z"
    }
   },
   "outputs": [
    {
     "data": {
      "text/plain": [
       "48783"
      ]
     },
     "execution_count": 114,
     "metadata": {},
     "output_type": "execute_result"
    }
   ],
   "source": [
    "temp = pd.concat([temp, temp2], ignore_index=True)\n",
    "len(temp)"
   ]
  },
  {
   "cell_type": "code",
   "execution_count": 115,
   "id": "5c8b64ab",
   "metadata": {
    "ExecuteTime": {
     "end_time": "2022-01-14T11:48:22.741262Z",
     "start_time": "2022-01-14T11:48:22.607649Z"
    }
   },
   "outputs": [],
   "source": [
    "temp.to_csv('C:/Users/seonwook/Documents/현대자동차.csv', encoding='utf-8-sig')"
   ]
  }
 ],
 "metadata": {
  "kernelspec": {
   "display_name": "Python 3 (ipykernel)",
   "language": "python",
   "name": "python3"
  },
  "language_info": {
   "codemirror_mode": {
    "name": "ipython",
    "version": 3
   },
   "file_extension": ".py",
   "mimetype": "text/x-python",
   "name": "python",
   "nbconvert_exporter": "python",
   "pygments_lexer": "ipython3",
   "version": "3.9.7"
  },
  "toc": {
   "base_numbering": 1,
   "nav_menu": {},
   "number_sections": true,
   "sideBar": true,
   "skip_h1_title": false,
   "title_cell": "Table of Contents",
   "title_sidebar": "Contents",
   "toc_cell": false,
   "toc_position": {},
   "toc_section_display": true,
   "toc_window_display": false
  }
 },
 "nbformat": 4,
 "nbformat_minor": 5
}
