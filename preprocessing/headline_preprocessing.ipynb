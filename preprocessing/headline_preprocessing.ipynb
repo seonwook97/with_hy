{
  "cells": [
    {
      "cell_type": "code",
      "execution_count": 1,
      "source": [
        "from google.colab import drive\n",
        "drive.mount('/content/drive')"
      ],
      "outputs": [
        {
          "output_type": "stream",
          "name": "stdout",
          "text": [
            "Drive already mounted at /content/drive; to attempt to forcibly remount, call drive.mount(\"/content/drive\", force_remount=True).\n"
          ]
        }
      ],
      "metadata": {
        "ExecuteTime": {
          "end_time": "2022-01-17T02:49:52.304682Z",
          "start_time": "2022-01-17T02:49:52.301692Z"
        },
        "colab": {
          "base_uri": "https://localhost:8080/"
        },
        "id": "nJprOR8ch6D7",
        "outputId": "dd61ee83-f6eb-42c4-c5e4-fa55e60ab629"
      },
      "id": "nJprOR8ch6D7"
    },
    {
      "cell_type": "code",
      "source": [
        "import matplotlib as mpl\n",
        "import matplotlib.pyplot as plt\n",
        " \n",
        "%config InlineBackend.figure_format = 'retina'\n",
        " \n",
        "!apt -qq -y install fonts-nanum\n",
        " \n",
        "import matplotlib.font_manager as fm\n",
        "fontpath = '/usr/share/fonts/truetype/nanum/NanumBarunGothic.ttf'\n",
        "font = fm.FontProperties(fname=fontpath, size=9)\n",
        "plt.rc('font', family='NanumBarunGothic') \n",
        "mpl.font_manager._rebuild()"
      ],
      "metadata": {
        "colab": {
          "base_uri": "https://localhost:8080/"
        },
        "id": "atU6VtB03Pk1",
        "outputId": "ed4dd2b5-70fb-4e23-9224-0cf6e7f1e5b5"
      },
      "id": "atU6VtB03Pk1",
      "execution_count": 2,
      "outputs": [
        {
          "output_type": "stream",
          "name": "stdout",
          "text": [
            "fonts-nanum is already the newest version (20170925-1).\n",
            "0 upgraded, 0 newly installed, 0 to remove and 37 not upgraded.\n"
          ]
        }
      ]
    },
    {
      "cell_type": "markdown",
      "source": [
        "## NLP Preporcessing에 앞서 고찰해야 될 부분\n",
        "- 자연어처리는 정해진 정답이 없고 우리가 가진 데이터와 목적에 따라 달라진다.\n",
        "    - 우리가 가진 데이터는 어떤 종목의 일자별 주가 등락에 따른 뉴스 헤드라인 데이터\n",
        "    - 헤드라인에 포함된 단어의 감정적 요소가 주가 등락에 미치는 유의미한 영향을 찾아야 함\n",
        "    - 따라서 기업의 주가와 연관되는 단어와 그렇지 않은 단어 혹은 중립어의 유무를 판단해야 함\n",
        "    - 단어가 주가에 긍정적인 영향을 끼치면 긍정의 분류로, 반대는 부정으로 분류해야함"
      ],
      "metadata": {
        "id": "809ae1bd"
      },
      "id": "809ae1bd"
    },
    {
      "cell_type": "markdown",
      "source": [
        "### 형태소 분석\n",
        "- 형태소 분석이란 단어나 문장의 언어적 속성을 파악하는 것을 의미한다. 보통 품사의 태깅(PoS)을 통해 이루어지며 한국어 형태소 분석을 위해 Konlpy 패키지에 있는 다양한 함수를 이용하여 진행 할 수 있다.\n",
        "- 형태소 분석을 하는 이유는 주로 **형태소 단위로 의미있는 단어**를 가져가고 싶거나 품사 태깅을 통해 **형용사나 명사를 추출**하고 싶을 때 많이 이용하게 된다.\n",
        "- **형태소 분석은 어쩌면 모델링보다 성능에 더 중요한 영향을 미치는 아주 중요한 과정이다**. 다양한 형태소 분석기를 사용하여 결과를 비교해 보는것이 좋다.\n"
      ],
      "metadata": {
        "id": "20c82a34"
      },
      "id": "20c82a34"
    },
    {
      "cell_type": "markdown",
      "source": [
        "- 형태소 분석기 종류 몇가지\n",
        "    - Mecab: 굉장히 속도가 빠르면서도 좋은 분석 결과를 보여준다.\n",
        "    - Komoran: 댓글과 같이 정제되지 않은 글에 대해서 먼저 사용해보면 좋다.(오탈자를 어느정도 고려해준다.)\n",
        "    - Kkma: 분석 시간이 오래걸리기 때문에 잘 이용하지 않게 된다.\n",
        "    - Okt: 품사 태깅 결과를 Noun, Verb등 알아보기 쉽게 반환해준다.\n",
        "    - khaiii: 카카오에서 가장 최근에 공개한 분석기, 성능이 좋다고 알려져 있으며 다양한 실험이 필요하다."
      ],
      "metadata": {
        "id": "d16f800f"
      },
      "id": "d16f800f"
    },
    {
      "cell_type": "markdown",
      "source": [
        "### 표제어 추출(Lemmatization or stemming)\n",
        "- 단어의 본 모습을 찾아주는 과정으로서 Konlpy에서 공개한 형태소 분석기들을 이용하면 어느 정도 어간 추출이 가능하다."
      ],
      "metadata": {
        "id": "3f229898"
      },
      "id": "3f229898"
    },
    {
      "cell_type": "markdown",
      "source": [
        "### 불용어 제거(Stopwords removing)\n",
        "- 불용어를 간단하게 정의내리면 문장에서 큰 의미가 없다고 생각되는 단어, 글자들이다. 불용어는 데이터와 문제에 따라 유동적입니다.\n",
        "- 예시\n",
        "    - 예시: \"이번에 새롭게 개봉한 영화의 배우들은 모두 훌륭한 연기력과 아름다운 목소리를 갖고 있어!!\"\n",
        "- 예시 문장에서 감성분석을 진행할 때는 \"훌륭한\"과 \"아름다운\"등이 주요 특징으로 사용될 것이다. 하지만 경우에 따라서는 이러한 형용사들을 제외한 배우들의 연기력과 목소리라는 정보에 집중해야 할 때가 있다. 이럴때는 \"훌륭한\"과 \"아름다운\"은 불용어로 정의될 수 있다."
      ],
      "metadata": {
        "id": "e32d40e1"
      },
      "id": "e32d40e1"
    },
    {
      "cell_type": "markdown",
      "source": [
        "## 기본적인 전처리를 통해서 '삼성전자'의 뉴스 헤드라인에 대한 감성분석을 통해 주가 변동성 예측 진행\n"
      ],
      "metadata": {
        "id": "34c6ebfc"
      },
      "id": "34c6ebfc"
    },
    {
      "cell_type": "code",
      "execution_count": 3,
      "source": [
        "import pandas as pd"
      ],
      "outputs": [],
      "metadata": {
        "ExecuteTime": {
          "end_time": "2022-01-17T02:49:53.907862Z",
          "start_time": "2022-01-17T02:49:53.397571Z"
        },
        "id": "Z1jKdx4I0KAt"
      },
      "id": "Z1jKdx4I0KAt"
    },
    {
      "cell_type": "code",
      "execution_count": 4,
      "source": [
        "news = pd.read_csv('./drive/MyDrive/crawling_df.csv', index_col=0) \n",
        "news.tail()"
      ],
      "outputs": [
        {
          "output_type": "execute_result",
          "data": {
            "text/html": [
              "\n",
              "  <div id=\"df-a81422dd-5d46-471e-bf5e-26022d796c17\">\n",
              "    <div class=\"colab-df-container\">\n",
              "      <div>\n",
              "<style scoped>\n",
              "    .dataframe tbody tr th:only-of-type {\n",
              "        vertical-align: middle;\n",
              "    }\n",
              "\n",
              "    .dataframe tbody tr th {\n",
              "        vertical-align: top;\n",
              "    }\n",
              "\n",
              "    .dataframe thead th {\n",
              "        text-align: right;\n",
              "    }\n",
              "</style>\n",
              "<table border=\"1\" class=\"dataframe\">\n",
              "  <thead>\n",
              "    <tr style=\"text-align: right;\">\n",
              "      <th></th>\n",
              "      <th>name</th>\n",
              "      <th>headline</th>\n",
              "      <th>date</th>\n",
              "      <th>change</th>\n",
              "    </tr>\n",
              "  </thead>\n",
              "  <tbody>\n",
              "    <tr>\n",
              "      <th>419439</th>\n",
              "      <td>신한지주</td>\n",
              "      <td>신한 디지털 vs 국민 변화… 카드 리딩금융 승부수</td>\n",
              "      <td>2021-12-30</td>\n",
              "      <td>0</td>\n",
              "    </tr>\n",
              "    <tr>\n",
              "      <th>419440</th>\n",
              "      <td>신한지주</td>\n",
              "      <td>순혈주의 이어 유리천장도 깨진다…은행권에 부는 '여풍'</td>\n",
              "      <td>2021-12-30</td>\n",
              "      <td>0</td>\n",
              "    </tr>\n",
              "    <tr>\n",
              "      <th>419441</th>\n",
              "      <td>신한지주</td>\n",
              "      <td>“리딩금융 승자, 비은행이 가른다” 신한 vs KB, ‘보험 전쟁’</td>\n",
              "      <td>2021-12-30</td>\n",
              "      <td>0</td>\n",
              "    </tr>\n",
              "    <tr>\n",
              "      <th>419442</th>\n",
              "      <td>신한지주</td>\n",
              "      <td>은행 개발자 몸값 더 높아진다...부서 넘나들며 플랫폼 특명 완수</td>\n",
              "      <td>2021-12-30</td>\n",
              "      <td>0</td>\n",
              "    </tr>\n",
              "    <tr>\n",
              "      <th>419443</th>\n",
              "      <td>신한지주</td>\n",
              "      <td>배당락에 3000선 내줬지만…“코스피 하락폭 예상보다 작았다”</td>\n",
              "      <td>2021-12-30</td>\n",
              "      <td>0</td>\n",
              "    </tr>\n",
              "  </tbody>\n",
              "</table>\n",
              "</div>\n",
              "      <button class=\"colab-df-convert\" onclick=\"convertToInteractive('df-a81422dd-5d46-471e-bf5e-26022d796c17')\"\n",
              "              title=\"Convert this dataframe to an interactive table.\"\n",
              "              style=\"display:none;\">\n",
              "        \n",
              "  <svg xmlns=\"http://www.w3.org/2000/svg\" height=\"24px\"viewBox=\"0 0 24 24\"\n",
              "       width=\"24px\">\n",
              "    <path d=\"M0 0h24v24H0V0z\" fill=\"none\"/>\n",
              "    <path d=\"M18.56 5.44l.94 2.06.94-2.06 2.06-.94-2.06-.94-.94-2.06-.94 2.06-2.06.94zm-11 1L8.5 8.5l.94-2.06 2.06-.94-2.06-.94L8.5 2.5l-.94 2.06-2.06.94zm10 10l.94 2.06.94-2.06 2.06-.94-2.06-.94-.94-2.06-.94 2.06-2.06.94z\"/><path d=\"M17.41 7.96l-1.37-1.37c-.4-.4-.92-.59-1.43-.59-.52 0-1.04.2-1.43.59L10.3 9.45l-7.72 7.72c-.78.78-.78 2.05 0 2.83L4 21.41c.39.39.9.59 1.41.59.51 0 1.02-.2 1.41-.59l7.78-7.78 2.81-2.81c.8-.78.8-2.07 0-2.86zM5.41 20L4 18.59l7.72-7.72 1.47 1.35L5.41 20z\"/>\n",
              "  </svg>\n",
              "      </button>\n",
              "      \n",
              "  <style>\n",
              "    .colab-df-container {\n",
              "      display:flex;\n",
              "      flex-wrap:wrap;\n",
              "      gap: 12px;\n",
              "    }\n",
              "\n",
              "    .colab-df-convert {\n",
              "      background-color: #E8F0FE;\n",
              "      border: none;\n",
              "      border-radius: 50%;\n",
              "      cursor: pointer;\n",
              "      display: none;\n",
              "      fill: #1967D2;\n",
              "      height: 32px;\n",
              "      padding: 0 0 0 0;\n",
              "      width: 32px;\n",
              "    }\n",
              "\n",
              "    .colab-df-convert:hover {\n",
              "      background-color: #E2EBFA;\n",
              "      box-shadow: 0px 1px 2px rgba(60, 64, 67, 0.3), 0px 1px 3px 1px rgba(60, 64, 67, 0.15);\n",
              "      fill: #174EA6;\n",
              "    }\n",
              "\n",
              "    [theme=dark] .colab-df-convert {\n",
              "      background-color: #3B4455;\n",
              "      fill: #D2E3FC;\n",
              "    }\n",
              "\n",
              "    [theme=dark] .colab-df-convert:hover {\n",
              "      background-color: #434B5C;\n",
              "      box-shadow: 0px 1px 3px 1px rgba(0, 0, 0, 0.15);\n",
              "      filter: drop-shadow(0px 1px 2px rgba(0, 0, 0, 0.3));\n",
              "      fill: #FFFFFF;\n",
              "    }\n",
              "  </style>\n",
              "\n",
              "      <script>\n",
              "        const buttonEl =\n",
              "          document.querySelector('#df-a81422dd-5d46-471e-bf5e-26022d796c17 button.colab-df-convert');\n",
              "        buttonEl.style.display =\n",
              "          google.colab.kernel.accessAllowed ? 'block' : 'none';\n",
              "\n",
              "        async function convertToInteractive(key) {\n",
              "          const element = document.querySelector('#df-a81422dd-5d46-471e-bf5e-26022d796c17');\n",
              "          const dataTable =\n",
              "            await google.colab.kernel.invokeFunction('convertToInteractive',\n",
              "                                                     [key], {});\n",
              "          if (!dataTable) return;\n",
              "\n",
              "          const docLinkHtml = 'Like what you see? Visit the ' +\n",
              "            '<a target=\"_blank\" href=https://colab.research.google.com/notebooks/data_table.ipynb>data table notebook</a>'\n",
              "            + ' to learn more about interactive tables.';\n",
              "          element.innerHTML = '';\n",
              "          dataTable['output_type'] = 'display_data';\n",
              "          await google.colab.output.renderOutput(dataTable, element);\n",
              "          const docLink = document.createElement('div');\n",
              "          docLink.innerHTML = docLinkHtml;\n",
              "          element.appendChild(docLink);\n",
              "        }\n",
              "      </script>\n",
              "    </div>\n",
              "  </div>\n",
              "  "
            ],
            "text/plain": [
              "        name                               headline        date  change\n",
              "419439  신한지주           신한 디지털 vs 국민 변화… 카드 리딩금융 승부수  2021-12-30       0\n",
              "419440  신한지주         순혈주의 이어 유리천장도 깨진다…은행권에 부는 '여풍'  2021-12-30       0\n",
              "419441  신한지주  “리딩금융 승자, 비은행이 가른다” 신한 vs KB, ‘보험 전쟁’  2021-12-30       0\n",
              "419442  신한지주   은행 개발자 몸값 더 높아진다...부서 넘나들며 플랫폼 특명 완수  2021-12-30       0\n",
              "419443  신한지주     배당락에 3000선 내줬지만…“코스피 하락폭 예상보다 작았다”  2021-12-30       0"
            ]
          },
          "metadata": {},
          "execution_count": 4
        }
      ],
      "metadata": {
        "ExecuteTime": {
          "end_time": "2022-01-17T02:49:54.700220Z",
          "start_time": "2022-01-17T02:49:53.908858Z"
        },
        "colab": {
          "base_uri": "https://localhost:8080/",
          "height": 206
        },
        "id": "xVoIy-xn0aC3",
        "outputId": "9d9d52e6-5f14-4313-ce7c-618afc4a6f81"
      },
      "id": "xVoIy-xn0aC3"
    },
    {
      "cell_type": "markdown",
      "source": [
        "### 중복 검사"
      ],
      "metadata": {
        "id": "AMX_RizKWSOa"
      },
      "id": "AMX_RizKWSOa"
    },
    {
      "cell_type": "code",
      "execution_count": 5,
      "source": [
        "news['headline'].nunique(), news['change'].nunique()"
      ],
      "outputs": [
        {
          "output_type": "execute_result",
          "data": {
            "text/plain": [
              "(306794, 2)"
            ]
          },
          "metadata": {},
          "execution_count": 5
        }
      ],
      "metadata": {
        "ExecuteTime": {
          "end_time": "2022-01-17T02:49:54.894559Z",
          "start_time": "2022-01-17T02:49:54.701207Z"
        },
        "colab": {
          "base_uri": "https://localhost:8080/"
        },
        "id": "JnqvTYoJWSOa",
        "outputId": "5558e7b6-d70f-4b56-d9e2-b6cc04b950db"
      },
      "id": "JnqvTYoJWSOa"
    },
    {
      "cell_type": "code",
      "execution_count": 6,
      "source": [
        "# headline 열의 중복 제거\n",
        "news.drop_duplicates(subset=['headline'], inplace=True, keep=False)"
      ],
      "outputs": [],
      "metadata": {
        "ExecuteTime": {
          "end_time": "2022-01-17T02:49:55.059011Z",
          "start_time": "2022-01-17T02:49:54.895556Z"
        },
        "id": "4yu9GDmtWSOa"
      },
      "id": "4yu9GDmtWSOa"
    },
    {
      "cell_type": "code",
      "execution_count": 7,
      "source": [
        "news.reset_index(drop=True, inplace=True)"
      ],
      "outputs": [],
      "metadata": {
        "ExecuteTime": {
          "end_time": "2022-01-17T02:49:55.074028Z",
          "start_time": "2022-01-17T02:49:55.061002Z"
        },
        "id": "puIGFgFYWSOb"
      },
      "id": "puIGFgFYWSOb"
    },
    {
      "cell_type": "code",
      "execution_count": 8,
      "source": [
        "news.tail(3)"
      ],
      "outputs": [
        {
          "output_type": "execute_result",
          "data": {
            "text/html": [
              "\n",
              "  <div id=\"df-44abdb1c-1774-4aa0-9944-d81af9de5b06\">\n",
              "    <div class=\"colab-df-container\">\n",
              "      <div>\n",
              "<style scoped>\n",
              "    .dataframe tbody tr th:only-of-type {\n",
              "        vertical-align: middle;\n",
              "    }\n",
              "\n",
              "    .dataframe tbody tr th {\n",
              "        vertical-align: top;\n",
              "    }\n",
              "\n",
              "    .dataframe thead th {\n",
              "        text-align: right;\n",
              "    }\n",
              "</style>\n",
              "<table border=\"1\" class=\"dataframe\">\n",
              "  <thead>\n",
              "    <tr style=\"text-align: right;\">\n",
              "      <th></th>\n",
              "      <th>name</th>\n",
              "      <th>headline</th>\n",
              "      <th>date</th>\n",
              "      <th>change</th>\n",
              "    </tr>\n",
              "  </thead>\n",
              "  <tbody>\n",
              "    <tr>\n",
              "      <th>244716</th>\n",
              "      <td>신한지주</td>\n",
              "      <td>“리딩금융 승자, 비은행이 가른다” 신한 vs KB, ‘보험 전쟁’</td>\n",
              "      <td>2021-12-30</td>\n",
              "      <td>0</td>\n",
              "    </tr>\n",
              "    <tr>\n",
              "      <th>244717</th>\n",
              "      <td>신한지주</td>\n",
              "      <td>은행 개발자 몸값 더 높아진다...부서 넘나들며 플랫폼 특명 완수</td>\n",
              "      <td>2021-12-30</td>\n",
              "      <td>0</td>\n",
              "    </tr>\n",
              "    <tr>\n",
              "      <th>244718</th>\n",
              "      <td>신한지주</td>\n",
              "      <td>배당락에 3000선 내줬지만…“코스피 하락폭 예상보다 작았다”</td>\n",
              "      <td>2021-12-30</td>\n",
              "      <td>0</td>\n",
              "    </tr>\n",
              "  </tbody>\n",
              "</table>\n",
              "</div>\n",
              "      <button class=\"colab-df-convert\" onclick=\"convertToInteractive('df-44abdb1c-1774-4aa0-9944-d81af9de5b06')\"\n",
              "              title=\"Convert this dataframe to an interactive table.\"\n",
              "              style=\"display:none;\">\n",
              "        \n",
              "  <svg xmlns=\"http://www.w3.org/2000/svg\" height=\"24px\"viewBox=\"0 0 24 24\"\n",
              "       width=\"24px\">\n",
              "    <path d=\"M0 0h24v24H0V0z\" fill=\"none\"/>\n",
              "    <path d=\"M18.56 5.44l.94 2.06.94-2.06 2.06-.94-2.06-.94-.94-2.06-.94 2.06-2.06.94zm-11 1L8.5 8.5l.94-2.06 2.06-.94-2.06-.94L8.5 2.5l-.94 2.06-2.06.94zm10 10l.94 2.06.94-2.06 2.06-.94-2.06-.94-.94-2.06-.94 2.06-2.06.94z\"/><path d=\"M17.41 7.96l-1.37-1.37c-.4-.4-.92-.59-1.43-.59-.52 0-1.04.2-1.43.59L10.3 9.45l-7.72 7.72c-.78.78-.78 2.05 0 2.83L4 21.41c.39.39.9.59 1.41.59.51 0 1.02-.2 1.41-.59l7.78-7.78 2.81-2.81c.8-.78.8-2.07 0-2.86zM5.41 20L4 18.59l7.72-7.72 1.47 1.35L5.41 20z\"/>\n",
              "  </svg>\n",
              "      </button>\n",
              "      \n",
              "  <style>\n",
              "    .colab-df-container {\n",
              "      display:flex;\n",
              "      flex-wrap:wrap;\n",
              "      gap: 12px;\n",
              "    }\n",
              "\n",
              "    .colab-df-convert {\n",
              "      background-color: #E8F0FE;\n",
              "      border: none;\n",
              "      border-radius: 50%;\n",
              "      cursor: pointer;\n",
              "      display: none;\n",
              "      fill: #1967D2;\n",
              "      height: 32px;\n",
              "      padding: 0 0 0 0;\n",
              "      width: 32px;\n",
              "    }\n",
              "\n",
              "    .colab-df-convert:hover {\n",
              "      background-color: #E2EBFA;\n",
              "      box-shadow: 0px 1px 2px rgba(60, 64, 67, 0.3), 0px 1px 3px 1px rgba(60, 64, 67, 0.15);\n",
              "      fill: #174EA6;\n",
              "    }\n",
              "\n",
              "    [theme=dark] .colab-df-convert {\n",
              "      background-color: #3B4455;\n",
              "      fill: #D2E3FC;\n",
              "    }\n",
              "\n",
              "    [theme=dark] .colab-df-convert:hover {\n",
              "      background-color: #434B5C;\n",
              "      box-shadow: 0px 1px 3px 1px rgba(0, 0, 0, 0.15);\n",
              "      filter: drop-shadow(0px 1px 2px rgba(0, 0, 0, 0.3));\n",
              "      fill: #FFFFFF;\n",
              "    }\n",
              "  </style>\n",
              "\n",
              "      <script>\n",
              "        const buttonEl =\n",
              "          document.querySelector('#df-44abdb1c-1774-4aa0-9944-d81af9de5b06 button.colab-df-convert');\n",
              "        buttonEl.style.display =\n",
              "          google.colab.kernel.accessAllowed ? 'block' : 'none';\n",
              "\n",
              "        async function convertToInteractive(key) {\n",
              "          const element = document.querySelector('#df-44abdb1c-1774-4aa0-9944-d81af9de5b06');\n",
              "          const dataTable =\n",
              "            await google.colab.kernel.invokeFunction('convertToInteractive',\n",
              "                                                     [key], {});\n",
              "          if (!dataTable) return;\n",
              "\n",
              "          const docLinkHtml = 'Like what you see? Visit the ' +\n",
              "            '<a target=\"_blank\" href=https://colab.research.google.com/notebooks/data_table.ipynb>data table notebook</a>'\n",
              "            + ' to learn more about interactive tables.';\n",
              "          element.innerHTML = '';\n",
              "          dataTable['output_type'] = 'display_data';\n",
              "          await google.colab.output.renderOutput(dataTable, element);\n",
              "          const docLink = document.createElement('div');\n",
              "          docLink.innerHTML = docLinkHtml;\n",
              "          element.appendChild(docLink);\n",
              "        }\n",
              "      </script>\n",
              "    </div>\n",
              "  </div>\n",
              "  "
            ],
            "text/plain": [
              "        name                               headline        date  change\n",
              "244716  신한지주  “리딩금융 승자, 비은행이 가른다” 신한 vs KB, ‘보험 전쟁’  2021-12-30       0\n",
              "244717  신한지주   은행 개발자 몸값 더 높아진다...부서 넘나들며 플랫폼 특명 완수  2021-12-30       0\n",
              "244718  신한지주     배당락에 3000선 내줬지만…“코스피 하락폭 예상보다 작았다”  2021-12-30       0"
            ]
          },
          "metadata": {},
          "execution_count": 8
        }
      ],
      "metadata": {
        "ExecuteTime": {
          "end_time": "2022-01-17T02:49:55.088910Z",
          "start_time": "2022-01-17T02:49:55.074958Z"
        },
        "colab": {
          "base_uri": "https://localhost:8080/",
          "height": 143
        },
        "id": "qxvFXCYwWSOb",
        "outputId": "2c6719bd-312a-4225-cff8-882d3fc143cf"
      },
      "id": "qxvFXCYwWSOb"
    },
    {
      "cell_type": "code",
      "execution_count": 9,
      "source": [
        "news['change'].value_counts().plot(kind = 'bar');"
      ],
      "outputs": [
        {
          "output_type": "display_data",
          "data": {
            "image/png": "[encoded data removed]",
            "text/plain": [
              "<Figure size 432x288 with 1 Axes>"
            ]
          },
          "metadata": {
            "image/png": {
              "width": 391,
              "height": 244
            },
            "needs_background": "light"
          }
        }
      ],
      "metadata": {
        "ExecuteTime": {
          "end_time": "2022-01-17T02:49:55.477965Z",
          "start_time": "2022-01-17T02:49:55.089915Z"
        },
        "colab": {
          "base_uri": "https://localhost:8080/",
          "height": 261
        },
        "id": "ZzFuGWjzWSOb",
        "outputId": "e82d9143-d37e-42dc-98c3-10e1ab1bbe05"
      },
      "id": "ZzFuGWjzWSOb"
    },
    {
      "cell_type": "code",
      "execution_count": 10,
      "source": [
        "print(news.groupby('change').size().reset_index(name = 'count'))"
      ],
      "outputs": [
        {
          "output_type": "stream",
          "name": "stdout",
          "text": [
            "   change   count\n",
            "0       0  129183\n",
            "1       1  115536\n"
          ]
        }
      ],
      "metadata": {
        "ExecuteTime": {
          "end_time": "2022-01-17T02:49:55.492927Z",
          "start_time": "2022-01-17T02:49:55.478878Z"
        },
        "colab": {
          "base_uri": "https://localhost:8080/"
        },
        "id": "vX0DWnuRWSOb",
        "outputId": "0d68e704-0b0c-4788-fb91-89febdbecf76"
      },
      "id": "vX0DWnuRWSOb"
    },
    {
      "cell_type": "code",
      "execution_count": 11,
      "source": [
        "print(news.isnull().values.any()) # 널값 없음"
      ],
      "outputs": [
        {
          "output_type": "stream",
          "name": "stdout",
          "text": [
            "False\n"
          ]
        }
      ],
      "metadata": {
        "ExecuteTime": {
          "end_time": "2022-01-17T02:49:55.628531Z",
          "start_time": "2022-01-17T02:49:55.594646Z"
        },
        "colab": {
          "base_uri": "https://localhost:8080/"
        },
        "id": "PKFkV-jUWSOc",
        "outputId": "81255853-4252-4ae1-fc3a-1193f82a299c"
      },
      "id": "PKFkV-jUWSOc"
    },
    {
      "cell_type": "markdown",
      "source": [
        "### train, test split (2012 ~ 2019 : 2020 ~ 2021)"
      ],
      "metadata": {
        "id": "fi40WtxD6aFQ"
      },
      "id": "fi40WtxD6aFQ"
    },
    {
      "cell_type": "code",
      "execution_count": 12,
      "source": [
        "news['date'] = pd.to_datetime(news['date'])"
      ],
      "outputs": [],
      "metadata": {
        "ExecuteTime": {
          "end_time": "2022-01-17T02:49:56.382468Z",
          "start_time": "2022-01-17T02:49:56.342603Z"
        },
        "id": "eZDB3-do61pq"
      },
      "id": "eZDB3-do61pq"
    },
    {
      "cell_type": "code",
      "execution_count": 13,
      "source": [
        "split_date = pd.to_datetime('2020-01-01')\n",
        "\n",
        "train = news[news['date'] < split_date]\n",
        "test = news[news['date'] >= split_date]"
      ],
      "outputs": [],
      "metadata": {
        "ExecuteTime": {
          "end_time": "2022-01-17T02:49:56.758319Z",
          "start_time": "2022-01-17T02:49:56.723472Z"
        },
        "id": "ZdkonNJg7Mzy"
      },
      "id": "ZdkonNJg7Mzy"
    },
    {
      "cell_type": "code",
      "execution_count": 14,
      "source": [
        "len(train), len(test)"
      ],
      "outputs": [
        {
          "output_type": "execute_result",
          "data": {
            "text/plain": [
              "(198058, 46661)"
            ]
          },
          "metadata": {},
          "execution_count": 14
        }
      ],
      "metadata": {
        "ExecuteTime": {
          "end_time": "2022-01-17T02:49:57.106847Z",
          "start_time": "2022-01-17T02:49:57.102936Z"
        },
        "colab": {
          "base_uri": "https://localhost:8080/"
        },
        "id": "5k3Colbd7_LC",
        "outputId": "29a1e0a2-b6f1-47a6-fa63-8f4f54ec36d9"
      },
      "id": "5k3Colbd7_LC"
    },
    {
      "cell_type": "markdown",
      "source": [
        "### 데이터 정제 "
      ],
      "metadata": {
        "id": "s6-x5vLL8FnX"
      },
      "id": "s6-x5vLL8FnX"
    },
    {
      "cell_type": "markdown",
      "source": [
        "#### 기사 헤드라인에 영문 또는 특수문자가 포함. 하지만 한국 주식 기사의 헤드라인으로 판단함으로 영문은 제외"
      ],
      "metadata": {
        "id": "I5V545BUAXQr"
      },
      "id": "I5V545BUAXQr"
    },
    {
      "cell_type": "code",
      "execution_count": 15,
      "source": [
        "train.head()"
      ],
      "outputs": [
        {
          "output_type": "execute_result",
          "data": {
            "text/html": [
              "\n",
              "  <div id=\"df-95a245c6-66e6-4b6c-a8a3-25387c4db4b6\">\n",
              "    <div class=\"colab-df-container\">\n",
              "      <div>\n",
              "<style scoped>\n",
              "    .dataframe tbody tr th:only-of-type {\n",
              "        vertical-align: middle;\n",
              "    }\n",
              "\n",
              "    .dataframe tbody tr th {\n",
              "        vertical-align: top;\n",
              "    }\n",
              "\n",
              "    .dataframe thead th {\n",
              "        text-align: right;\n",
              "    }\n",
              "</style>\n",
              "<table border=\"1\" class=\"dataframe\">\n",
              "  <thead>\n",
              "    <tr style=\"text-align: right;\">\n",
              "      <th></th>\n",
              "      <th>name</th>\n",
              "      <th>headline</th>\n",
              "      <th>date</th>\n",
              "      <th>change</th>\n",
              "    </tr>\n",
              "  </thead>\n",
              "  <tbody>\n",
              "    <tr>\n",
              "      <th>0</th>\n",
              "      <td>삼성전자</td>\n",
              "      <td>[TV] 재계 총수들, 일자리 창출과 투자 확대 강조</td>\n",
              "      <td>2012-01-02</td>\n",
              "      <td>1</td>\n",
              "    </tr>\n",
              "    <tr>\n",
              "      <th>1</th>\n",
              "      <td>삼성전자</td>\n",
              "      <td>오너 3세들 '전진배치' 명과 암</td>\n",
              "      <td>2012-01-02</td>\n",
              "      <td>1</td>\n",
              "    </tr>\n",
              "    <tr>\n",
              "      <th>2</th>\n",
              "      <td>삼성전자</td>\n",
              "      <td>안철수연구소 개장 첫날 또 상한가</td>\n",
              "      <td>2012-01-02</td>\n",
              "      <td>1</td>\n",
              "    </tr>\n",
              "    <tr>\n",
              "      <th>3</th>\n",
              "      <td>삼성전자</td>\n",
              "      <td>[포토] 이건희 회장의 미소</td>\n",
              "      <td>2012-01-02</td>\n",
              "      <td>1</td>\n",
              "    </tr>\n",
              "    <tr>\n",
              "      <th>4</th>\n",
              "      <td>삼성전자</td>\n",
              "      <td>재계 1위 삼성도 '정면돌파'…이건희 \"투자·채용 늘린다\"</td>\n",
              "      <td>2012-01-02</td>\n",
              "      <td>1</td>\n",
              "    </tr>\n",
              "  </tbody>\n",
              "</table>\n",
              "</div>\n",
              "      <button class=\"colab-df-convert\" onclick=\"convertToInteractive('df-95a245c6-66e6-4b6c-a8a3-25387c4db4b6')\"\n",
              "              title=\"Convert this dataframe to an interactive table.\"\n",
              "              style=\"display:none;\">\n",
              "        \n",
              "  <svg xmlns=\"http://www.w3.org/2000/svg\" height=\"24px\"viewBox=\"0 0 24 24\"\n",
              "       width=\"24px\">\n",
              "    <path d=\"M0 0h24v24H0V0z\" fill=\"none\"/>\n",
              "    <path d=\"M18.56 5.44l.94 2.06.94-2.06 2.06-.94-2.06-.94-.94-2.06-.94 2.06-2.06.94zm-11 1L8.5 8.5l.94-2.06 2.06-.94-2.06-.94L8.5 2.5l-.94 2.06-2.06.94zm10 10l.94 2.06.94-2.06 2.06-.94-2.06-.94-.94-2.06-.94 2.06-2.06.94z\"/><path d=\"M17.41 7.96l-1.37-1.37c-.4-.4-.92-.59-1.43-.59-.52 0-1.04.2-1.43.59L10.3 9.45l-7.72 7.72c-.78.78-.78 2.05 0 2.83L4 21.41c.39.39.9.59 1.41.59.51 0 1.02-.2 1.41-.59l7.78-7.78 2.81-2.81c.8-.78.8-2.07 0-2.86zM5.41 20L4 18.59l7.72-7.72 1.47 1.35L5.41 20z\"/>\n",
              "  </svg>\n",
              "      </button>\n",
              "      \n",
              "  <style>\n",
              "    .colab-df-container {\n",
              "      display:flex;\n",
              "      flex-wrap:wrap;\n",
              "      gap: 12px;\n",
              "    }\n",
              "\n",
              "    .colab-df-convert {\n",
              "      background-color: #E8F0FE;\n",
              "      border: none;\n",
              "      border-radius: 50%;\n",
              "      cursor: pointer;\n",
              "      display: none;\n",
              "      fill: #1967D2;\n",
              "      height: 32px;\n",
              "      padding: 0 0 0 0;\n",
              "      width: 32px;\n",
              "    }\n",
              "\n",
              "    .colab-df-convert:hover {\n",
              "      background-color: #E2EBFA;\n",
              "      box-shadow: 0px 1px 2px rgba(60, 64, 67, 0.3), 0px 1px 3px 1px rgba(60, 64, 67, 0.15);\n",
              "      fill: #174EA6;\n",
              "    }\n",
              "\n",
              "    [theme=dark] .colab-df-convert {\n",
              "      background-color: #3B4455;\n",
              "      fill: #D2E3FC;\n",
              "    }\n",
              "\n",
              "    [theme=dark] .colab-df-convert:hover {\n",
              "      background-color: #434B5C;\n",
              "      box-shadow: 0px 1px 3px 1px rgba(0, 0, 0, 0.15);\n",
              "      filter: drop-shadow(0px 1px 2px rgba(0, 0, 0, 0.3));\n",
              "      fill: #FFFFFF;\n",
              "    }\n",
              "  </style>\n",
              "\n",
              "      <script>\n",
              "        const buttonEl =\n",
              "          document.querySelector('#df-95a245c6-66e6-4b6c-a8a3-25387c4db4b6 button.colab-df-convert');\n",
              "        buttonEl.style.display =\n",
              "          google.colab.kernel.accessAllowed ? 'block' : 'none';\n",
              "\n",
              "        async function convertToInteractive(key) {\n",
              "          const element = document.querySelector('#df-95a245c6-66e6-4b6c-a8a3-25387c4db4b6');\n",
              "          const dataTable =\n",
              "            await google.colab.kernel.invokeFunction('convertToInteractive',\n",
              "                                                     [key], {});\n",
              "          if (!dataTable) return;\n",
              "\n",
              "          const docLinkHtml = 'Like what you see? Visit the ' +\n",
              "            '<a target=\"_blank\" href=https://colab.research.google.com/notebooks/data_table.ipynb>data table notebook</a>'\n",
              "            + ' to learn more about interactive tables.';\n",
              "          element.innerHTML = '';\n",
              "          dataTable['output_type'] = 'display_data';\n",
              "          await google.colab.output.renderOutput(dataTable, element);\n",
              "          const docLink = document.createElement('div');\n",
              "          docLink.innerHTML = docLinkHtml;\n",
              "          element.appendChild(docLink);\n",
              "        }\n",
              "      </script>\n",
              "    </div>\n",
              "  </div>\n",
              "  "
            ],
            "text/plain": [
              "   name                          headline       date  change\n",
              "0  삼성전자     [TV] 재계 총수들, 일자리 창출과 투자 확대 강조 2012-01-02       1\n",
              "1  삼성전자                오너 3세들 '전진배치' 명과 암 2012-01-02       1\n",
              "2  삼성전자                안철수연구소 개장 첫날 또 상한가 2012-01-02       1\n",
              "3  삼성전자                   [포토] 이건희 회장의 미소 2012-01-02       1\n",
              "4  삼성전자  재계 1위 삼성도 '정면돌파'…이건희 \"투자·채용 늘린다\" 2012-01-02       1"
            ]
          },
          "metadata": {},
          "execution_count": 15
        }
      ],
      "metadata": {
        "ExecuteTime": {
          "end_time": "2022-01-17T02:49:59.015017Z",
          "start_time": "2022-01-17T02:49:59.006049Z"
        },
        "colab": {
          "base_uri": "https://localhost:8080/",
          "height": 206
        },
        "id": "awweZosMWSOd",
        "outputId": "b72cb9c1-d2c6-42a7-a750-2b6a616854fb"
      },
      "id": "awweZosMWSOd"
    },
    {
      "cell_type": "code",
      "execution_count": 16,
      "source": [
        "# 많이 나오는 구두점과 특수기호에 대해 적절히 대체, 한글과 공백을 제외하고 모두 제거\n",
        "train['headline'] = train['headline'].replace('..', ' ')\n",
        "train['headline'] = train['headline'].replace('...', ' ') \n",
        "train['headline'] = train['headline'].replace(\"↓\",\"하락\")\n",
        "train['headline'] = train['headline'].replace(\"↑\",\"상승\")\n",
        "train['headline'] = train['headline'].str.replace(\"[^ㄱ-ㅎㅏ-ㅣ가-힣 ]\",\"\")\n",
        "train['headline'][:5]"
      ],
      "outputs": [
        {
          "output_type": "stream",
          "name": "stderr",
          "text": [
            "/usr/local/lib/python3.7/dist-packages/ipykernel_launcher.py:2: SettingWithCopyWarning: \n",
            "A value is trying to be set on a copy of a slice from a DataFrame.\n",
            "Try using .loc[row_indexer,col_indexer] = value instead\n",
            "\n",
            "See the caveats in the documentation: https://pandas.pydata.org/pandas-docs/stable/user_guide/indexing.html#returning-a-view-versus-a-copy\n",
            "  \n",
            "/usr/local/lib/python3.7/dist-packages/ipykernel_launcher.py:3: SettingWithCopyWarning: \n",
            "A value is trying to be set on a copy of a slice from a DataFrame.\n",
            "Try using .loc[row_indexer,col_indexer] = value instead\n",
            "\n",
            "See the caveats in the documentation: https://pandas.pydata.org/pandas-docs/stable/user_guide/indexing.html#returning-a-view-versus-a-copy\n",
            "  This is separate from the ipykernel package so we can avoid doing imports until\n",
            "/usr/local/lib/python3.7/dist-packages/ipykernel_launcher.py:4: SettingWithCopyWarning: \n",
            "A value is trying to be set on a copy of a slice from a DataFrame.\n",
            "Try using .loc[row_indexer,col_indexer] = value instead\n",
            "\n",
            "See the caveats in the documentation: https://pandas.pydata.org/pandas-docs/stable/user_guide/indexing.html#returning-a-view-versus-a-copy\n",
            "  after removing the cwd from sys.path.\n",
            "/usr/local/lib/python3.7/dist-packages/ipykernel_launcher.py:5: SettingWithCopyWarning: \n",
            "A value is trying to be set on a copy of a slice from a DataFrame.\n",
            "Try using .loc[row_indexer,col_indexer] = value instead\n",
            "\n",
            "See the caveats in the documentation: https://pandas.pydata.org/pandas-docs/stable/user_guide/indexing.html#returning-a-view-versus-a-copy\n",
            "  \"\"\"\n",
            "/usr/local/lib/python3.7/dist-packages/ipykernel_launcher.py:6: SettingWithCopyWarning: \n",
            "A value is trying to be set on a copy of a slice from a DataFrame.\n",
            "Try using .loc[row_indexer,col_indexer] = value instead\n",
            "\n",
            "See the caveats in the documentation: https://pandas.pydata.org/pandas-docs/stable/user_guide/indexing.html#returning-a-view-versus-a-copy\n",
            "  \n"
          ]
        },
        {
          "output_type": "execute_result",
          "data": {
            "text/plain": [
              "0      재계 총수들 일자리 창출과 투자 확대 강조\n",
              "1              오너 세들 전진배치 명과 암\n",
              "2           안철수연구소 개장 첫날 또 상한가\n",
              "3                포토 이건희 회장의 미소\n",
              "4    재계 위 삼성도 정면돌파이건희 투자채용 늘린다\n",
              "Name: headline, dtype: object"
            ]
          },
          "metadata": {},
          "execution_count": 16
        }
      ],
      "metadata": {
        "ExecuteTime": {
          "end_time": "2022-01-17T02:50:10.840536Z",
          "start_time": "2022-01-17T02:50:10.416574Z"
        },
        "colab": {
          "base_uri": "https://localhost:8080/"
        },
        "id": "jWLE8L3r8mk9",
        "outputId": "646c1174-62e2-45b7-932c-4142568bf7bd"
      },
      "id": "jWLE8L3r8mk9"
    },
    {
      "cell_type": "markdown",
      "source": [
        "- 기존의 공백은 유지되면서 온점과 같은 구두점 등은 모두 제거되었다.\n",
        "- 기존에 한글이 없는 헤드라인이면 더 이상 아무값도 없을 것이다. \n",
        "- train headline에 공백만 있거나 빈 값을 가진 행이 있다면 Null로 변경하고, Null 값이 존재하는지 확인"
      ],
      "metadata": {
        "id": "dhFuLEKZ9YN6"
      },
      "id": "dhFuLEKZ9YN6"
    },
    {
      "cell_type": "code",
      "execution_count": 17,
      "source": [
        "import numpy as np"
      ],
      "outputs": [],
      "metadata": {
        "ExecuteTime": {
          "end_time": "2022-01-17T02:50:10.885575Z",
          "start_time": "2022-01-17T02:50:10.871622Z"
        },
        "id": "Ppr7ssar-PDH"
      },
      "id": "Ppr7ssar-PDH"
    },
    {
      "cell_type": "code",
      "execution_count": 18,
      "source": [
        "train['headline'] = train['headline'].str.replace('^ +', \"\") # white space 데이터를 empty value로 변경\n",
        "train['headline'].replace('', np.nan, inplace=True)\n",
        "print(train.isnull().sum())"
      ],
      "outputs": [
        {
          "output_type": "stream",
          "name": "stdout",
          "text": [
            "name        0\n",
            "headline    8\n",
            "date        0\n",
            "change      0\n",
            "dtype: int64\n"
          ]
        },
        {
          "output_type": "stream",
          "name": "stderr",
          "text": [
            "/usr/local/lib/python3.7/dist-packages/ipykernel_launcher.py:1: SettingWithCopyWarning: \n",
            "A value is trying to be set on a copy of a slice from a DataFrame.\n",
            "Try using .loc[row_indexer,col_indexer] = value instead\n",
            "\n",
            "See the caveats in the documentation: https://pandas.pydata.org/pandas-docs/stable/user_guide/indexing.html#returning-a-view-versus-a-copy\n",
            "  \"\"\"Entry point for launching an IPython kernel.\n",
            "/usr/local/lib/python3.7/dist-packages/pandas/core/series.py:4582: SettingWithCopyWarning: \n",
            "A value is trying to be set on a copy of a slice from a DataFrame\n",
            "\n",
            "See the caveats in the documentation: https://pandas.pydata.org/pandas-docs/stable/user_guide/indexing.html#returning-a-view-versus-a-copy\n",
            "  method=method,\n"
          ]
        }
      ],
      "metadata": {
        "ExecuteTime": {
          "end_time": "2022-01-17T02:50:11.442697Z",
          "start_time": "2022-01-17T02:50:11.196618Z"
        },
        "colab": {
          "base_uri": "https://localhost:8080/"
        },
        "id": "W8gBAvr69nS3",
        "outputId": "8e991a4b-8041-43b9-a671-70284da78aa6"
      },
      "id": "W8gBAvr69nS3"
    },
    {
      "cell_type": "code",
      "execution_count": 19,
      "source": [
        "train.loc[train.headline.isnull()][:5]"
      ],
      "outputs": [
        {
          "output_type": "execute_result",
          "data": {
            "text/html": [
              "\n",
              "  <div id=\"df-1ffd40dc-8eee-4f3b-b316-96acc1f24606\">\n",
              "    <div class=\"colab-df-container\">\n",
              "      <div>\n",
              "<style scoped>\n",
              "    .dataframe tbody tr th:only-of-type {\n",
              "        vertical-align: middle;\n",
              "    }\n",
              "\n",
              "    .dataframe tbody tr th {\n",
              "        vertical-align: top;\n",
              "    }\n",
              "\n",
              "    .dataframe thead th {\n",
              "        text-align: right;\n",
              "    }\n",
              "</style>\n",
              "<table border=\"1\" class=\"dataframe\">\n",
              "  <thead>\n",
              "    <tr style=\"text-align: right;\">\n",
              "      <th></th>\n",
              "      <th>name</th>\n",
              "      <th>headline</th>\n",
              "      <th>date</th>\n",
              "      <th>change</th>\n",
              "    </tr>\n",
              "  </thead>\n",
              "  <tbody>\n",
              "    <tr>\n",
              "      <th>4223</th>\n",
              "      <td>삼성전자</td>\n",
              "      <td>NaN</td>\n",
              "      <td>2013-02-25</td>\n",
              "      <td>0</td>\n",
              "    </tr>\n",
              "    <tr>\n",
              "      <th>34167</th>\n",
              "      <td>SK하이닉스</td>\n",
              "      <td>NaN</td>\n",
              "      <td>2012-02-01</td>\n",
              "      <td>1</td>\n",
              "    </tr>\n",
              "    <tr>\n",
              "      <th>55306</th>\n",
              "      <td>LG화학</td>\n",
              "      <td>NaN</td>\n",
              "      <td>2012-11-15</td>\n",
              "      <td>0</td>\n",
              "    </tr>\n",
              "    <tr>\n",
              "      <th>92268</th>\n",
              "      <td>NAVER</td>\n",
              "      <td>NaN</td>\n",
              "      <td>2018-09-05</td>\n",
              "      <td>0</td>\n",
              "    </tr>\n",
              "    <tr>\n",
              "      <th>93371</th>\n",
              "      <td>NAVER</td>\n",
              "      <td>NaN</td>\n",
              "      <td>2019-06-25</td>\n",
              "      <td>1</td>\n",
              "    </tr>\n",
              "  </tbody>\n",
              "</table>\n",
              "</div>\n",
              "      <button class=\"colab-df-convert\" onclick=\"convertToInteractive('df-1ffd40dc-8eee-4f3b-b316-96acc1f24606')\"\n",
              "              title=\"Convert this dataframe to an interactive table.\"\n",
              "              style=\"display:none;\">\n",
              "        \n",
              "  <svg xmlns=\"http://www.w3.org/2000/svg\" height=\"24px\"viewBox=\"0 0 24 24\"\n",
              "       width=\"24px\">\n",
              "    <path d=\"M0 0h24v24H0V0z\" fill=\"none\"/>\n",
              "    <path d=\"M18.56 5.44l.94 2.06.94-2.06 2.06-.94-2.06-.94-.94-2.06-.94 2.06-2.06.94zm-11 1L8.5 8.5l.94-2.06 2.06-.94-2.06-.94L8.5 2.5l-.94 2.06-2.06.94zm10 10l.94 2.06.94-2.06 2.06-.94-2.06-.94-.94-2.06-.94 2.06-2.06.94z\"/><path d=\"M17.41 7.96l-1.37-1.37c-.4-.4-.92-.59-1.43-.59-.52 0-1.04.2-1.43.59L10.3 9.45l-7.72 7.72c-.78.78-.78 2.05 0 2.83L4 21.41c.39.39.9.59 1.41.59.51 0 1.02-.2 1.41-.59l7.78-7.78 2.81-2.81c.8-.78.8-2.07 0-2.86zM5.41 20L4 18.59l7.72-7.72 1.47 1.35L5.41 20z\"/>\n",
              "  </svg>\n",
              "      </button>\n",
              "      \n",
              "  <style>\n",
              "    .colab-df-container {\n",
              "      display:flex;\n",
              "      flex-wrap:wrap;\n",
              "      gap: 12px;\n",
              "    }\n",
              "\n",
              "    .colab-df-convert {\n",
              "      background-color: #E8F0FE;\n",
              "      border: none;\n",
              "      border-radius: 50%;\n",
              "      cursor: pointer;\n",
              "      display: none;\n",
              "      fill: #1967D2;\n",
              "      height: 32px;\n",
              "      padding: 0 0 0 0;\n",
              "      width: 32px;\n",
              "    }\n",
              "\n",
              "    .colab-df-convert:hover {\n",
              "      background-color: #E2EBFA;\n",
              "      box-shadow: 0px 1px 2px rgba(60, 64, 67, 0.3), 0px 1px 3px 1px rgba(60, 64, 67, 0.15);\n",
              "      fill: #174EA6;\n",
              "    }\n",
              "\n",
              "    [theme=dark] .colab-df-convert {\n",
              "      background-color: #3B4455;\n",
              "      fill: #D2E3FC;\n",
              "    }\n",
              "\n",
              "    [theme=dark] .colab-df-convert:hover {\n",
              "      background-color: #434B5C;\n",
              "      box-shadow: 0px 1px 3px 1px rgba(0, 0, 0, 0.15);\n",
              "      filter: drop-shadow(0px 1px 2px rgba(0, 0, 0, 0.3));\n",
              "      fill: #FFFFFF;\n",
              "    }\n",
              "  </style>\n",
              "\n",
              "      <script>\n",
              "        const buttonEl =\n",
              "          document.querySelector('#df-1ffd40dc-8eee-4f3b-b316-96acc1f24606 button.colab-df-convert');\n",
              "        buttonEl.style.display =\n",
              "          google.colab.kernel.accessAllowed ? 'block' : 'none';\n",
              "\n",
              "        async function convertToInteractive(key) {\n",
              "          const element = document.querySelector('#df-1ffd40dc-8eee-4f3b-b316-96acc1f24606');\n",
              "          const dataTable =\n",
              "            await google.colab.kernel.invokeFunction('convertToInteractive',\n",
              "                                                     [key], {});\n",
              "          if (!dataTable) return;\n",
              "\n",
              "          const docLinkHtml = 'Like what you see? Visit the ' +\n",
              "            '<a target=\"_blank\" href=https://colab.research.google.com/notebooks/data_table.ipynb>data table notebook</a>'\n",
              "            + ' to learn more about interactive tables.';\n",
              "          element.innerHTML = '';\n",
              "          dataTable['output_type'] = 'display_data';\n",
              "          await google.colab.output.renderOutput(dataTable, element);\n",
              "          const docLink = document.createElement('div');\n",
              "          docLink.innerHTML = docLinkHtml;\n",
              "          element.appendChild(docLink);\n",
              "        }\n",
              "      </script>\n",
              "    </div>\n",
              "  </div>\n",
              "  "
            ],
            "text/plain": [
              "         name headline       date  change\n",
              "4223     삼성전자      NaN 2013-02-25       0\n",
              "34167  SK하이닉스      NaN 2012-02-01       1\n",
              "55306    LG화학      NaN 2012-11-15       0\n",
              "92268   NAVER      NaN 2018-09-05       0\n",
              "93371   NAVER      NaN 2019-06-25       1"
            ]
          },
          "metadata": {},
          "execution_count": 19
        }
      ],
      "metadata": {
        "ExecuteTime": {
          "end_time": "2022-01-17T02:50:11.487549Z",
          "start_time": "2022-01-17T02:50:11.468611Z"
        },
        "colab": {
          "base_uri": "https://localhost:8080/",
          "height": 206
        },
        "id": "xr33vZX7_x-o",
        "outputId": "5eaab8e9-1725-4464-ca24-97e56d08bb8f"
      },
      "id": "xr33vZX7_x-o"
    },
    {
      "cell_type": "markdown",
      "source": [
        "- Null 샘플들은 레이블이 긍정일 수도 있고, 부정일 수도 있다. 아무런 의미도 없는 데이터므로 제거한다."
      ],
      "metadata": {
        "id": "Bp6N-n4Q_5Pv"
      },
      "id": "Bp6N-n4Q_5Pv"
    },
    {
      "cell_type": "code",
      "execution_count": 20,
      "source": [
        "train = train.dropna(how = 'any')\n",
        "print(len(train))"
      ],
      "outputs": [
        {
          "output_type": "stream",
          "name": "stdout",
          "text": [
            "198050\n"
          ]
        }
      ],
      "metadata": {
        "ExecuteTime": {
          "end_time": "2022-01-17T02:50:12.789948Z",
          "start_time": "2022-01-17T02:50:12.743182Z"
        },
        "colab": {
          "base_uri": "https://localhost:8080/"
        },
        "id": "h9JfLlU1AMA2",
        "outputId": "a8eb41db-bfaa-44c8-c707-59897e5eccd2"
      },
      "id": "h9JfLlU1AMA2"
    },
    {
      "cell_type": "markdown",
      "source": [
        "#### test셋도 동일하게 진행"
      ],
      "metadata": {
        "id": "Rsc10vuHA1k9"
      },
      "id": "Rsc10vuHA1k9"
    },
    {
      "cell_type": "code",
      "execution_count": 21,
      "source": [
        "test['headline'] = test['headline'].replace('..', ' ')\n",
        "test['headline'] = test['headline'].replace('...', ' ') \n",
        "test['headline'] = test['headline'].replace(\"↓\",\"하락\")\n",
        "test['headline'] = test['headline'].replace(\"↑\",\"상승\")\n",
        "test['headline'] = test['headline'].str.replace(\"[^ㄱ-ㅎㅏ-ㅣ가-힣 ]\",\"\")\n",
        "test['headline'] = test['headline'].str.replace('^ +', \"\") # 공백은 empty 값으로 변경\n",
        "test['headline'].replace('', np.nan, inplace=True) # 공백은 Null 값으로 변경\n",
        "test = test.dropna(how='any') # Null 값 제거\n",
        "print('전처리 후 테스트용 샘플의 개수 :',len(test))"
      ],
      "outputs": [
        {
          "output_type": "stream",
          "name": "stdout",
          "text": [
            "전처리 후 테스트용 샘플의 개수 : 46156\n"
          ]
        },
        {
          "output_type": "stream",
          "name": "stderr",
          "text": [
            "/usr/local/lib/python3.7/dist-packages/ipykernel_launcher.py:1: SettingWithCopyWarning: \n",
            "A value is trying to be set on a copy of a slice from a DataFrame.\n",
            "Try using .loc[row_indexer,col_indexer] = value instead\n",
            "\n",
            "See the caveats in the documentation: https://pandas.pydata.org/pandas-docs/stable/user_guide/indexing.html#returning-a-view-versus-a-copy\n",
            "  \"\"\"Entry point for launching an IPython kernel.\n",
            "/usr/local/lib/python3.7/dist-packages/ipykernel_launcher.py:2: SettingWithCopyWarning: \n",
            "A value is trying to be set on a copy of a slice from a DataFrame.\n",
            "Try using .loc[row_indexer,col_indexer] = value instead\n",
            "\n",
            "See the caveats in the documentation: https://pandas.pydata.org/pandas-docs/stable/user_guide/indexing.html#returning-a-view-versus-a-copy\n",
            "  \n",
            "/usr/local/lib/python3.7/dist-packages/ipykernel_launcher.py:3: SettingWithCopyWarning: \n",
            "A value is trying to be set on a copy of a slice from a DataFrame.\n",
            "Try using .loc[row_indexer,col_indexer] = value instead\n",
            "\n",
            "See the caveats in the documentation: https://pandas.pydata.org/pandas-docs/stable/user_guide/indexing.html#returning-a-view-versus-a-copy\n",
            "  This is separate from the ipykernel package so we can avoid doing imports until\n",
            "/usr/local/lib/python3.7/dist-packages/ipykernel_launcher.py:4: SettingWithCopyWarning: \n",
            "A value is trying to be set on a copy of a slice from a DataFrame.\n",
            "Try using .loc[row_indexer,col_indexer] = value instead\n",
            "\n",
            "See the caveats in the documentation: https://pandas.pydata.org/pandas-docs/stable/user_guide/indexing.html#returning-a-view-versus-a-copy\n",
            "  after removing the cwd from sys.path.\n",
            "/usr/local/lib/python3.7/dist-packages/ipykernel_launcher.py:5: SettingWithCopyWarning: \n",
            "A value is trying to be set on a copy of a slice from a DataFrame.\n",
            "Try using .loc[row_indexer,col_indexer] = value instead\n",
            "\n",
            "See the caveats in the documentation: https://pandas.pydata.org/pandas-docs/stable/user_guide/indexing.html#returning-a-view-versus-a-copy\n",
            "  \"\"\"\n",
            "/usr/local/lib/python3.7/dist-packages/ipykernel_launcher.py:6: SettingWithCopyWarning: \n",
            "A value is trying to be set on a copy of a slice from a DataFrame.\n",
            "Try using .loc[row_indexer,col_indexer] = value instead\n",
            "\n",
            "See the caveats in the documentation: https://pandas.pydata.org/pandas-docs/stable/user_guide/indexing.html#returning-a-view-versus-a-copy\n",
            "  \n",
            "/usr/local/lib/python3.7/dist-packages/pandas/core/series.py:4582: SettingWithCopyWarning: \n",
            "A value is trying to be set on a copy of a slice from a DataFrame\n",
            "\n",
            "See the caveats in the documentation: https://pandas.pydata.org/pandas-docs/stable/user_guide/indexing.html#returning-a-view-versus-a-copy\n",
            "  method=method,\n"
          ]
        }
      ],
      "metadata": {
        "ExecuteTime": {
          "end_time": "2022-01-17T02:50:14.863828Z",
          "start_time": "2022-01-17T02:50:14.679434Z"
        },
        "id": "gEPz8sa7A6bQ",
        "colab": {
          "base_uri": "https://localhost:8080/"
        },
        "outputId": "6738ab11-58bc-4aeb-d5c1-326b5fe04fb3"
      },
      "id": "gEPz8sa7A6bQ"
    },
    {
      "cell_type": "markdown",
      "source": [
        "- 앞서 train, test split을 16~20 : 21로 나누었었다.\n",
        "- 정제를 하고보니 21년도 헤드라인이 16~20년도보다 어떤 특수문자나 영어로 많이 쓰였던 것 같다."
      ],
      "metadata": {
        "id": "KoA7jc6-Bf3Q"
      },
      "id": "KoA7jc6-Bf3Q"
    },
    {
      "cell_type": "code",
      "source": [
        "train.head()"
      ],
      "metadata": {
        "colab": {
          "base_uri": "https://localhost:8080/",
          "height": 206
        },
        "id": "cY0O53bbYwdi",
        "outputId": "dd68d4d3-96de-445c-b60f-f6f323c8c439"
      },
      "id": "cY0O53bbYwdi",
      "execution_count": 22,
      "outputs": [
        {
          "output_type": "execute_result",
          "data": {
            "text/html": [
              "\n",
              "  <div id=\"df-b9da8a9f-138e-4827-94ed-6665aeb5685e\">\n",
              "    <div class=\"colab-df-container\">\n",
              "      <div>\n",
              "<style scoped>\n",
              "    .dataframe tbody tr th:only-of-type {\n",
              "        vertical-align: middle;\n",
              "    }\n",
              "\n",
              "    .dataframe tbody tr th {\n",
              "        vertical-align: top;\n",
              "    }\n",
              "\n",
              "    .dataframe thead th {\n",
              "        text-align: right;\n",
              "    }\n",
              "</style>\n",
              "<table border=\"1\" class=\"dataframe\">\n",
              "  <thead>\n",
              "    <tr style=\"text-align: right;\">\n",
              "      <th></th>\n",
              "      <th>name</th>\n",
              "      <th>headline</th>\n",
              "      <th>date</th>\n",
              "      <th>change</th>\n",
              "    </tr>\n",
              "  </thead>\n",
              "  <tbody>\n",
              "    <tr>\n",
              "      <th>0</th>\n",
              "      <td>삼성전자</td>\n",
              "      <td>재계 총수들 일자리 창출과 투자 확대 강조</td>\n",
              "      <td>2012-01-02</td>\n",
              "      <td>1</td>\n",
              "    </tr>\n",
              "    <tr>\n",
              "      <th>1</th>\n",
              "      <td>삼성전자</td>\n",
              "      <td>오너 세들 전진배치 명과 암</td>\n",
              "      <td>2012-01-02</td>\n",
              "      <td>1</td>\n",
              "    </tr>\n",
              "    <tr>\n",
              "      <th>2</th>\n",
              "      <td>삼성전자</td>\n",
              "      <td>안철수연구소 개장 첫날 또 상한가</td>\n",
              "      <td>2012-01-02</td>\n",
              "      <td>1</td>\n",
              "    </tr>\n",
              "    <tr>\n",
              "      <th>3</th>\n",
              "      <td>삼성전자</td>\n",
              "      <td>포토 이건희 회장의 미소</td>\n",
              "      <td>2012-01-02</td>\n",
              "      <td>1</td>\n",
              "    </tr>\n",
              "    <tr>\n",
              "      <th>4</th>\n",
              "      <td>삼성전자</td>\n",
              "      <td>재계 위 삼성도 정면돌파이건희 투자채용 늘린다</td>\n",
              "      <td>2012-01-02</td>\n",
              "      <td>1</td>\n",
              "    </tr>\n",
              "  </tbody>\n",
              "</table>\n",
              "</div>\n",
              "      <button class=\"colab-df-convert\" onclick=\"convertToInteractive('df-b9da8a9f-138e-4827-94ed-6665aeb5685e')\"\n",
              "              title=\"Convert this dataframe to an interactive table.\"\n",
              "              style=\"display:none;\">\n",
              "        \n",
              "  <svg xmlns=\"http://www.w3.org/2000/svg\" height=\"24px\"viewBox=\"0 0 24 24\"\n",
              "       width=\"24px\">\n",
              "    <path d=\"M0 0h24v24H0V0z\" fill=\"none\"/>\n",
              "    <path d=\"M18.56 5.44l.94 2.06.94-2.06 2.06-.94-2.06-.94-.94-2.06-.94 2.06-2.06.94zm-11 1L8.5 8.5l.94-2.06 2.06-.94-2.06-.94L8.5 2.5l-.94 2.06-2.06.94zm10 10l.94 2.06.94-2.06 2.06-.94-2.06-.94-.94-2.06-.94 2.06-2.06.94z\"/><path d=\"M17.41 7.96l-1.37-1.37c-.4-.4-.92-.59-1.43-.59-.52 0-1.04.2-1.43.59L10.3 9.45l-7.72 7.72c-.78.78-.78 2.05 0 2.83L4 21.41c.39.39.9.59 1.41.59.51 0 1.02-.2 1.41-.59l7.78-7.78 2.81-2.81c.8-.78.8-2.07 0-2.86zM5.41 20L4 18.59l7.72-7.72 1.47 1.35L5.41 20z\"/>\n",
              "  </svg>\n",
              "      </button>\n",
              "      \n",
              "  <style>\n",
              "    .colab-df-container {\n",
              "      display:flex;\n",
              "      flex-wrap:wrap;\n",
              "      gap: 12px;\n",
              "    }\n",
              "\n",
              "    .colab-df-convert {\n",
              "      background-color: #E8F0FE;\n",
              "      border: none;\n",
              "      border-radius: 50%;\n",
              "      cursor: pointer;\n",
              "      display: none;\n",
              "      fill: #1967D2;\n",
              "      height: 32px;\n",
              "      padding: 0 0 0 0;\n",
              "      width: 32px;\n",
              "    }\n",
              "\n",
              "    .colab-df-convert:hover {\n",
              "      background-color: #E2EBFA;\n",
              "      box-shadow: 0px 1px 2px rgba(60, 64, 67, 0.3), 0px 1px 3px 1px rgba(60, 64, 67, 0.15);\n",
              "      fill: #174EA6;\n",
              "    }\n",
              "\n",
              "    [theme=dark] .colab-df-convert {\n",
              "      background-color: #3B4455;\n",
              "      fill: #D2E3FC;\n",
              "    }\n",
              "\n",
              "    [theme=dark] .colab-df-convert:hover {\n",
              "      background-color: #434B5C;\n",
              "      box-shadow: 0px 1px 3px 1px rgba(0, 0, 0, 0.15);\n",
              "      filter: drop-shadow(0px 1px 2px rgba(0, 0, 0, 0.3));\n",
              "      fill: #FFFFFF;\n",
              "    }\n",
              "  </style>\n",
              "\n",
              "      <script>\n",
              "        const buttonEl =\n",
              "          document.querySelector('#df-b9da8a9f-138e-4827-94ed-6665aeb5685e button.colab-df-convert');\n",
              "        buttonEl.style.display =\n",
              "          google.colab.kernel.accessAllowed ? 'block' : 'none';\n",
              "\n",
              "        async function convertToInteractive(key) {\n",
              "          const element = document.querySelector('#df-b9da8a9f-138e-4827-94ed-6665aeb5685e');\n",
              "          const dataTable =\n",
              "            await google.colab.kernel.invokeFunction('convertToInteractive',\n",
              "                                                     [key], {});\n",
              "          if (!dataTable) return;\n",
              "\n",
              "          const docLinkHtml = 'Like what you see? Visit the ' +\n",
              "            '<a target=\"_blank\" href=https://colab.research.google.com/notebooks/data_table.ipynb>data table notebook</a>'\n",
              "            + ' to learn more about interactive tables.';\n",
              "          element.innerHTML = '';\n",
              "          dataTable['output_type'] = 'display_data';\n",
              "          await google.colab.output.renderOutput(dataTable, element);\n",
              "          const docLink = document.createElement('div');\n",
              "          docLink.innerHTML = docLinkHtml;\n",
              "          element.appendChild(docLink);\n",
              "        }\n",
              "      </script>\n",
              "    </div>\n",
              "  </div>\n",
              "  "
            ],
            "text/plain": [
              "   name                   headline       date  change\n",
              "0  삼성전자    재계 총수들 일자리 창출과 투자 확대 강조 2012-01-02       1\n",
              "1  삼성전자            오너 세들 전진배치 명과 암 2012-01-02       1\n",
              "2  삼성전자         안철수연구소 개장 첫날 또 상한가 2012-01-02       1\n",
              "3  삼성전자              포토 이건희 회장의 미소 2012-01-02       1\n",
              "4  삼성전자  재계 위 삼성도 정면돌파이건희 투자채용 늘린다 2012-01-02       1"
            ]
          },
          "metadata": {},
          "execution_count": 22
        }
      ]
    },
    {
      "cell_type": "markdown",
      "source": [
        "### 토큰화"
      ],
      "metadata": {
        "id": "jqLyKnFYCxxr"
      },
      "id": "jqLyKnFYCxxr"
    },
    {
      "cell_type": "markdown",
      "source": [
        "- 토큰화 과정에서 불용어를 제거할 예정.\n",
        "- 불용어는 정의하기 나름, 한국어의 조사, 접속사 등의 보편적인 불용어를 사용하며,\n",
        "- 추가적으로 풀고자 하는 문제의 데이터를 지속 검토하면서 계속해서 추가해야함.\n",
        "- 따라서 headline의 텍스트를 유심히 살펴보면서 추가적인 불용어를 선정해줘야 함."
      ],
      "metadata": {
        "id": "60-xbrpiC4Nw"
      },
      "id": "60-xbrpiC4Nw"
    },
    {
      "cell_type": "code",
      "execution_count": 23,
      "source": [
        "!pip install konlpy\n",
        "from konlpy.tag import Okt\n",
        "# from konlpy.tag import Kkma"
      ],
      "outputs": [
        {
          "output_type": "stream",
          "name": "stdout",
          "text": [
            "Collecting konlpy\n",
            "  Downloading konlpy-0.6.0-py2.py3-none-any.whl (19.4 MB)\n",
            "\u001b[K     |████████████████████████████████| 19.4 MB 4.6 MB/s \n",
            "\u001b[?25hRequirement already satisfied: numpy>=1.6 in /usr/local/lib/python3.7/dist-packages (from konlpy) (1.19.5)\n",
            "Requirement already satisfied: lxml>=4.1.0 in /usr/local/lib/python3.7/dist-packages (from konlpy) (4.2.6)\n",
            "Collecting JPype1>=0.7.0\n",
            "  Downloading JPype1-1.3.0-cp37-cp37m-manylinux_2_5_x86_64.manylinux1_x86_64.whl (448 kB)\n",
            "\u001b[K     |████████████████████████████████| 448 kB 56.9 MB/s \n",
            "\u001b[?25hRequirement already satisfied: typing-extensions in /usr/local/lib/python3.7/dist-packages (from JPype1>=0.7.0->konlpy) (3.10.0.2)\n",
            "Installing collected packages: JPype1, konlpy\n",
            "Successfully installed JPype1-1.3.0 konlpy-0.6.0\n"
          ]
        }
      ],
      "metadata": {
        "ExecuteTime": {
          "end_time": "2022-01-17T02:50:25.329007Z",
          "start_time": "2022-01-17T02:50:25.320109Z"
        },
        "colab": {
          "base_uri": "https://localhost:8080/"
        },
        "id": "wDEK8scV198V",
        "outputId": "767184fa-6518-4742-c21e-8babefdd6ed6"
      },
      "id": "wDEK8scV198V"
    },
    {
      "cell_type": "code",
      "source": [
        "# 한글자로 구성된 토큰도 삭제해준다\n",
        "stopwords = ['의','가','이','은','들','는','걍','과','들','걍','과','으로','도','을','를','으로','자','에','와','한','하다','에서','에게'] "
      ],
      "metadata": {
        "id": "KlIciAd1dcc9"
      },
      "id": "KlIciAd1dcc9",
      "execution_count": 24,
      "outputs": []
    },
    {
      "cell_type": "code",
      "source": [
        "okt = Okt()"
      ],
      "metadata": {
        "id": "cn67lzezd1se"
      },
      "id": "cn67lzezd1se",
      "execution_count": 25,
      "outputs": []
    },
    {
      "cell_type": "code",
      "execution_count": 26,
      "source": [
        "from tqdm import tqdm\n",
        "\n",
        "token_list = []\n",
        "for sentence in tqdm(train['headline']):\n",
        "    token = okt.morphs(sentence, stem=True) # 토큰\n",
        "    token = [t for t in token if t not in stopwords] # 불용어 제거\n",
        "    token_list.append(token)"
      ],
      "outputs": [
        {
          "output_type": "stream",
          "name": "stderr",
          "text": [
            "100%|██████████| 198050/198050 [04:52<00:00, 676.58it/s]\n"
          ]
        }
      ],
      "metadata": {
        "colab": {
          "base_uri": "https://localhost:8080/"
        },
        "id": "-luzmz75ev4t",
        "outputId": "fcdee3ea-8dec-437a-9ae3-a758b40270d7"
      },
      "id": "-luzmz75ev4t"
    },
    {
      "cell_type": "code",
      "source": [
        "token_list[:10]"
      ],
      "metadata": {
        "id": "0OpwDyj4ooce",
        "colab": {
          "base_uri": "https://localhost:8080/"
        },
        "outputId": "fc6b613f-ef9d-4fa8-ae81-454816c52085"
      },
      "id": "0OpwDyj4ooce",
      "execution_count": 27,
      "outputs": [
        {
          "output_type": "execute_result",
          "data": {
            "text/plain": [
              "[['재계', '총수', '일자리', '창', '추다', '투자', '확대', '강조'],\n",
              " ['오', '너', '세', '전진', '배치', '명과', '암'],\n",
              " ['안철수', '연구소', '개장', '첫날', '또', '상한'],\n",
              " ['포토', '이건희', '회장', '미소'],\n",
              " ['재계', '위', '삼성', '정면', '돌파', '이건희', '투자', '채용', '늘리다'],\n",
              " ['코스피', '임진년', '첫', '거래', '일', '외인', '기관', '공', '방속', '상승'],\n",
              " ['시가총액', '삼성', '그룹', '삼성', '주가', '상승', '시', '총', '증가'],\n",
              " ['클럽', '추천', '주', '삼성'],\n",
              " ['주요', '그룹', '신년사', '키', '워드', '투자', '확대', '동반성', '장', '통해', '위기', '돌파'],\n",
              " ['이재용', '회장', '동승', '시무', '식', '생략']]"
            ]
          },
          "metadata": {},
          "execution_count": 27
        }
      ]
    },
    {
      "cell_type": "code",
      "source": [
        "tokens = pd.Series(token_list) # 인덱싱을 위해 시리즈로 변환\n",
        "tokens[:10]"
      ],
      "metadata": {
        "id": "vHoFACrGjDjb",
        "colab": {
          "base_uri": "https://localhost:8080/"
        },
        "outputId": "f478a8b9-e3b5-49c9-87fb-5a015795db68"
      },
      "id": "vHoFACrGjDjb",
      "execution_count": 28,
      "outputs": [
        {
          "output_type": "execute_result",
          "data": {
            "text/plain": [
              "0                    [재계, 총수, 일자리, 창, 추다, 투자, 확대, 강조]\n",
              "1                            [오, 너, 세, 전진, 배치, 명과, 암]\n",
              "2                           [안철수, 연구소, 개장, 첫날, 또, 상한]\n",
              "3                                   [포토, 이건희, 회장, 미소]\n",
              "4               [재계, 위, 삼성, 정면, 돌파, 이건희, 투자, 채용, 늘리다]\n",
              "5             [코스피, 임진년, 첫, 거래, 일, 외인, 기관, 공, 방속, 상승]\n",
              "6                [시가총액, 삼성, 그룹, 삼성, 주가, 상승, 시, 총, 증가]\n",
              "7                                     [클럽, 추천, 주, 삼성]\n",
              "8    [주요, 그룹, 신년사, 키, 워드, 투자, 확대, 동반성, 장, 통해, 위기, 돌파]\n",
              "9                            [이재용, 회장, 동승, 시무, 식, 생략]\n",
              "dtype: object"
            ]
          },
          "metadata": {},
          "execution_count": 28
        }
      ]
    },
    {
      "cell_type": "code",
      "source": [
        "freqeuncies = pd.Series(np.concatenate([w for w in token_list])).value_counts() # 빈도수 확인\n",
        "freqeuncies"
      ],
      "metadata": {
        "id": "aMFJnCKUo5Gy",
        "colab": {
          "base_uri": "https://localhost:8080/"
        },
        "outputId": "fab0b6fd-9242-4786-9149-792786f7bdb5"
      },
      "id": "aMFJnCKUo5Gy",
      "execution_count": 29,
      "outputs": [
        {
          "output_type": "execute_result",
          "data": {
            "text/plain": [
              "코스피     20127\n",
              "삼성      18094\n",
              "금융      13932\n",
              "코스닥     11300\n",
              "선       10119\n",
              "        ...  \n",
              "스페          1\n",
              "친딸          1\n",
              "왕새우         1\n",
              "유로스타        1\n",
              "서치          1\n",
              "Length: 34880, dtype: int64"
            ]
          },
          "metadata": {},
          "execution_count": 29
        }
      ]
    },
    {
      "cell_type": "code",
      "source": [
        "train['tokens'] = token_list"
      ],
      "metadata": {
        "id": "2N8CWpWV2STg"
      },
      "id": "2N8CWpWV2STg",
      "execution_count": 30,
      "outputs": []
    },
    {
      "cell_type": "code",
      "source": [
        "# train.head()"
      ],
      "metadata": {
        "id": "XTDpwx292Tbi"
      },
      "id": "XTDpwx292Tbi",
      "execution_count": 31,
      "outputs": []
    },
    {
      "cell_type": "code",
      "source": [
        "def get_freq_count(tokens):\n",
        "  pos_token = list(train['tokens'][train['change'] == 1])\n",
        "  neg_token = list(train['tokens'][train['change'] == 0])\n",
        "  pos_freq = pd.Series(np.concatenate([w for w in pos_token])).value_counts()\n",
        "  neg_freq = pd.Series(np.concatenate([w for w in neg_token])).value_counts()\n",
        "  return pos_freq, neg_freq\n",
        "\n",
        "def remove_doubled_words(pos_freq, neg_freq, tokens):\n",
        "  # 긍정,부정에서 모두 사용되는 단어는 의미 없는 단어이므로 제거\n",
        "  top_50_pos = pos_freq[:20]\n",
        "  top_50_neg = neg_freq[:20]\n",
        "  remove_words = [p for p in top_50_pos.index if p in top_50_neg.index]\n",
        "  tokens_removed = remove_stop_words(tokens, remove_words)\n",
        "  final_tokens = cleaning_tokens(tokens_removed)\n",
        "  return final_tokens\n",
        "\n",
        "def draw_top_hist(data,name,color): # 히스토그램을 그려줍니다.\n",
        "  top_10 = data[:10]\n",
        "  plt.figure(figsize=(12,7.5))\n",
        "  plt.rc('font', family='NanumBarunGothic') \n",
        "  plt.suptitle(\"Bar Plot\", fontsize=30)\n",
        "  plt.title(name, fontsize=15)\n",
        "  plt.bar(top_10.index,top_10.values, width=0.5, color= color, alpha=0.5)\n",
        "  plt.tight_layout(rect=[0, 0.03, 1, 0.95])\n",
        "  plt.show()"
      ],
      "metadata": {
        "id": "QSiK5BCbpDMy"
      },
      "id": "QSiK5BCbpDMy",
      "execution_count": 32,
      "outputs": []
    },
    {
      "cell_type": "code",
      "source": [
        "pos_freq, neg_freq = get_freq_count(tokens)"
      ],
      "metadata": {
        "id": "re53kAah2vXb"
      },
      "id": "re53kAah2vXb",
      "execution_count": 33,
      "outputs": []
    },
    {
      "cell_type": "code",
      "source": [
        "import matplotlib.pyplot as plt\n",
        "%matplotlib inline"
      ],
      "metadata": {
        "id": "18ZoDaj425ah"
      },
      "id": "18ZoDaj425ah",
      "execution_count": 34,
      "outputs": []
    },
    {
      "cell_type": "code",
      "source": [
        "draw_top_hist(freqeuncies,'total headlines','g')"
      ],
      "metadata": {
        "id": "i0WQwjz921_G",
        "colab": {
          "base_uri": "https://localhost:8080/",
          "height": 534
        },
        "outputId": "f4c32f2b-2663-47fe-f563-da20b0f6dfee"
      },
      "id": "i0WQwjz921_G",
      "execution_count": 35,
      "outputs": [
        {
          "output_type": "display_data",
          "data": {
            "image/png": "[encoded data removed]",
            "text/plain": [
              "<Figure size 864x540 with 1 Axes>"
            ]
          },
          "metadata": {
            "image/png": {
              "width": 856,
              "height": 517
            },
            "needs_background": "light"
          }
        }
      ]
    },
    {
      "cell_type": "code",
      "source": [
        "draw_top_hist(pos_freq,'pos headlines','r')"
      ],
      "metadata": {
        "id": "jVYq3_Cv3jtO",
        "colab": {
          "base_uri": "https://localhost:8080/",
          "height": 534
        },
        "outputId": "d2c90c68-fff9-4629-e73b-16a310a95572"
      },
      "id": "jVYq3_Cv3jtO",
      "execution_count": 36,
      "outputs": [
        {
          "output_type": "display_data",
          "data": {
            "image/png": "[encoded data removed]",
            "text/plain": [
              "<Figure size 864x540 with 1 Axes>"
            ]
          },
          "metadata": {
            "image/png": {
              "width": 856,
              "height": 517
            },
            "needs_background": "light"
          }
        }
      ]
    },
    {
      "cell_type": "code",
      "source": [
        "draw_top_hist(neg_freq,'Neg reviews','b')"
      ],
      "metadata": {
        "id": "X5s5x8gZ46X7",
        "colab": {
          "base_uri": "https://localhost:8080/",
          "height": 534
        },
        "outputId": "5c8e3540-74bc-4a62-e52a-98fc08b5cda1"
      },
      "id": "X5s5x8gZ46X7",
      "execution_count": 37,
      "outputs": [
        {
          "output_type": "display_data",
          "data": {
            "image/png": "[encoded data removed]",
            "text/plain": [
              "<Figure size 864x540 with 1 Axes>"
            ]
          },
          "metadata": {
            "image/png": {
              "width": 856,
              "height": 517
            },
            "needs_background": "light"
          }
        }
      ]
    },
    {
      "cell_type": "code",
      "source": [
        "top_50_pos = pos_freq[:10]\n",
        "top_50_neg = neg_freq[:10]\n",
        "common_words = [p for p in top_50_pos.index if p in top_50_neg.index]\n",
        "common_words"
      ],
      "metadata": {
        "id": "7r8rErKO-XSD",
        "colab": {
          "base_uri": "https://localhost:8080/"
        },
        "outputId": "87343bfe-c3a5-4805-ebef-918a32e61121"
      },
      "id": "7r8rErKO-XSD",
      "execution_count": 38,
      "outputs": [
        {
          "output_type": "execute_result",
          "data": {
            "text/plain": [
              "['코스피', '삼성', '금융', '코스닥', '선', '전자', '현대차', '마감', '시', '로']"
            ]
          },
          "metadata": {},
          "execution_count": 38
        }
      ]
    },
    {
      "cell_type": "markdown",
      "source": [
        "- 상위 10위에 공동으로 존재하는 토큰들을 전부 제거"
      ],
      "metadata": {
        "id": "AMlq2Pkk-9gq"
      },
      "id": "AMlq2Pkk-9gq"
    },
    {
      "cell_type": "code",
      "source": [
        "total = freqeuncies.sum()\n",
        "common_words_cnt = freqeuncies[common_words].sum()\n",
        "print(f'total words count: {total} removed: {common_words_cnt} ratio: {common_words_cnt / total :.2f}')"
      ],
      "metadata": {
        "id": "loM_KeGB-0PA",
        "colab": {
          "base_uri": "https://localhost:8080/"
        },
        "outputId": "012f7723-1a2a-4fd4-8445-1f2a95c14705"
      },
      "id": "loM_KeGB-0PA",
      "execution_count": 39,
      "outputs": [
        {
          "output_type": "stream",
          "name": "stdout",
          "text": [
            "total words count: 1651587 removed: 117899 ratio: 0.07\n"
          ]
        }
      ]
    },
    {
      "cell_type": "markdown",
      "source": [
        "- 165만개의 사용횟수 중 7%정도의 빈도수가 겹치는 공통어 -> 불용어 처리해 제거"
      ],
      "metadata": {
        "id": "QQS6tL09_HBO"
      },
      "id": "QQS6tL09_HBO"
    },
    {
      "cell_type": "code",
      "source": [
        "clean_token_list = []\n",
        "for token in tokens:\n",
        "  clean_token = list(filter(lambda x: x not in common_words,token))\n",
        "  clean_token_list.append(clean_token)"
      ],
      "metadata": {
        "id": "yjWvoqfq_Oyx"
      },
      "id": "yjWvoqfq_Oyx",
      "execution_count": 40,
      "outputs": []
    },
    {
      "cell_type": "code",
      "source": [
        "clean_tokens = pd.Series(clean_token_list)\n",
        "clean_tokens[:10]"
      ],
      "metadata": {
        "id": "DUnprAaS_V-h",
        "colab": {
          "base_uri": "https://localhost:8080/"
        },
        "outputId": "71aab7de-c870-4a1f-d25b-d267faba50b1"
      },
      "id": "DUnprAaS_V-h",
      "execution_count": 41,
      "outputs": [
        {
          "output_type": "execute_result",
          "data": {
            "text/plain": [
              "0                    [재계, 총수, 일자리, 창, 추다, 투자, 확대, 강조]\n",
              "1                            [오, 너, 세, 전진, 배치, 명과, 암]\n",
              "2                           [안철수, 연구소, 개장, 첫날, 또, 상한]\n",
              "3                                   [포토, 이건희, 회장, 미소]\n",
              "4                   [재계, 위, 정면, 돌파, 이건희, 투자, 채용, 늘리다]\n",
              "5                  [임진년, 첫, 거래, 일, 외인, 기관, 공, 방속, 상승]\n",
              "6                           [시가총액, 그룹, 주가, 상승, 총, 증가]\n",
              "7                                         [클럽, 추천, 주]\n",
              "8    [주요, 그룹, 신년사, 키, 워드, 투자, 확대, 동반성, 장, 통해, 위기, 돌파]\n",
              "9                            [이재용, 회장, 동승, 시무, 식, 생략]\n",
              "dtype: object"
            ]
          },
          "metadata": {},
          "execution_count": 41
        }
      ]
    },
    {
      "cell_type": "markdown",
      "source": [
        "- 다시 긍, 부정에서 많이 쓰이는 토큰 데이터를 확인"
      ],
      "metadata": {
        "id": "PAp4hrfZ_tNu"
      },
      "id": "PAp4hrfZ_tNu"
    },
    {
      "cell_type": "code",
      "source": [
        "train['clean_tokens'] = clean_token_list"
      ],
      "metadata": {
        "id": "pRMvqUe2BYcF"
      },
      "id": "pRMvqUe2BYcF",
      "execution_count": 42,
      "outputs": []
    },
    {
      "cell_type": "code",
      "source": [
        "def get_freq_count2(clean_tokens):\n",
        "  pos_token = list(train['clean_tokens'][train['change'] == 1])\n",
        "  neg_token = list(train['clean_tokens'][train['change'] == 0])\n",
        "  pos_freq = pd.Series(np.concatenate([w for w in pos_token])).value_counts()\n",
        "  neg_freq = pd.Series(np.concatenate([w for w in neg_token])).value_counts()\n",
        "  return pos_freq, neg_freq"
      ],
      "metadata": {
        "id": "XUqb2ZpxB4_Q"
      },
      "id": "XUqb2ZpxB4_Q",
      "execution_count": 43,
      "outputs": []
    },
    {
      "cell_type": "code",
      "source": [
        "pos_freq, neg_freq = get_freq_count2(clean_tokens)"
      ],
      "metadata": {
        "id": "6g1nNHMC_ny1"
      },
      "id": "6g1nNHMC_ny1",
      "execution_count": 44,
      "outputs": []
    },
    {
      "cell_type": "code",
      "source": [
        "draw_top_hist(pos_freq,'pos headlines','r') # 다시 그린 긍정 headline 빈도수 히스토그램"
      ],
      "metadata": {
        "id": "giaPO28N_zfh",
        "colab": {
          "base_uri": "https://localhost:8080/",
          "height": 534
        },
        "outputId": "5607d5b0-2917-4ba6-9220-d671430f330e"
      },
      "id": "giaPO28N_zfh",
      "execution_count": 45,
      "outputs": [
        {
          "output_type": "display_data",
          "data": {
            "image/png": "[encoded data removed]",
            "text/plain": [
              "<Figure size 864x540 with 1 Axes>"
            ]
          },
          "metadata": {
            "image/png": {
              "width": 856,
              "height": 517
            },
            "needs_background": "light"
          }
        }
      ]
    },
    {
      "cell_type": "code",
      "source": [
        "draw_top_hist(neg_freq,'neg reviews','b') # 다시 그린 부정 헤드라인 빈도수 히스토그램"
      ],
      "metadata": {
        "id": "0-tmFi5yAExZ",
        "colab": {
          "base_uri": "https://localhost:8080/",
          "height": 534
        },
        "outputId": "13f7802e-ce2f-4fc7-9716-44c60c2b4ca1"
      },
      "id": "0-tmFi5yAExZ",
      "execution_count": 46,
      "outputs": [
        {
          "output_type": "display_data",
          "data": {
            "image/png": "[encoded data removed]",
            "text/plain": [
              "<Figure size 864x540 with 1 Axes>"
            ]
          },
          "metadata": {
            "image/png": {
              "width": 856,
              "height": 517
            },
            "needs_background": "light"
          }
        }
      ]
    },
    {
      "cell_type": "code",
      "source": [
        "top_50_pos = pos_freq[:10]\n",
        "top_50_neg = neg_freq[:10]\n",
        "common_words = [p for p in top_50_pos.index if p in top_50_neg.index]\n",
        "common_words"
      ],
      "metadata": {
        "id": "sJ3nezNXDB3O",
        "colab": {
          "base_uri": "https://localhost:8080/"
        },
        "outputId": "bbe10cdb-73d7-46df-a9cf-17915edee24c"
      },
      "id": "sJ3nezNXDB3O",
      "execution_count": 47,
      "outputs": [
        {
          "output_type": "execute_result",
          "data": {
            "text/plain": [
              "['일', '주', '투자', '기업', '황', '년', '회장', '기관']"
            ]
          },
          "metadata": {},
          "execution_count": 47
        }
      ]
    },
    {
      "cell_type": "code",
      "source": [
        "total = freqeuncies.sum()\n",
        "common_words_cnt = freqeuncies[common_words].sum()\n",
        "print(f'total words count: {total} removed: {common_words_cnt} ratio: {common_words_cnt / total :.2f}')"
      ],
      "metadata": {
        "id": "79BcYcgrDKSy",
        "colab": {
          "base_uri": "https://localhost:8080/"
        },
        "outputId": "cdac4639-fc5c-4e8b-e1f6-78c79c740e9d"
      },
      "id": "79BcYcgrDKSy",
      "execution_count": 48,
      "outputs": [
        {
          "output_type": "stream",
          "name": "stdout",
          "text": [
            "total words count: 1651587 removed: 57690 ratio: 0.03\n"
          ]
        }
      ]
    },
    {
      "cell_type": "code",
      "source": [
        "clean_token_list2 = []\n",
        "for token in clean_tokens:\n",
        "    clean_token = list(filter(lambda x: x not in common_words, token))\n",
        "    clean_token_list2.append(clean_token)"
      ],
      "metadata": {
        "id": "X4NWVwBtDTTQ"
      },
      "id": "X4NWVwBtDTTQ",
      "execution_count": 49,
      "outputs": []
    },
    {
      "cell_type": "code",
      "source": [
        "clean_tokens2 = pd.Series(clean_token_list2)\n",
        "clean_tokens2[:10]"
      ],
      "metadata": {
        "id": "FuxOowykEfmC",
        "colab": {
          "base_uri": "https://localhost:8080/"
        },
        "outputId": "6625836a-35c0-4c83-e04e-1549a9be992d"
      },
      "id": "FuxOowykEfmC",
      "execution_count": 50,
      "outputs": [
        {
          "output_type": "execute_result",
          "data": {
            "text/plain": [
              "0                    [재계, 총수, 일자리, 창, 추다, 확대, 강조]\n",
              "1                        [오, 너, 세, 전진, 배치, 명과, 암]\n",
              "2                       [안철수, 연구소, 개장, 첫날, 또, 상한]\n",
              "3                                   [포토, 이건희, 미소]\n",
              "4                   [재계, 위, 정면, 돌파, 이건희, 채용, 늘리다]\n",
              "5                     [임진년, 첫, 거래, 외인, 공, 방속, 상승]\n",
              "6                       [시가총액, 그룹, 주가, 상승, 총, 증가]\n",
              "7                                        [클럽, 추천]\n",
              "8    [주요, 그룹, 신년사, 키, 워드, 확대, 동반성, 장, 통해, 위기, 돌파]\n",
              "9                            [이재용, 동승, 시무, 식, 생략]\n",
              "dtype: object"
            ]
          },
          "metadata": {},
          "execution_count": 50
        }
      ]
    },
    {
      "cell_type": "code",
      "source": [
        "train['clean_tokens2'] = clean_token_list2"
      ],
      "metadata": {
        "id": "fRRbX4mNHSOu"
      },
      "id": "fRRbX4mNHSOu",
      "execution_count": 51,
      "outputs": []
    },
    {
      "cell_type": "code",
      "source": [
        "def get_freq_count3(clean_tokens2):\n",
        "  pos_token = list(train['clean_tokens2'][train['change'] == 1])\n",
        "  neg_token = list(train['clean_tokens2'][train['change'] == 0])\n",
        "  pos_freq = pd.Series(np.concatenate([w for w in pos_token])).value_counts()\n",
        "  neg_freq = pd.Series(np.concatenate([w for w in neg_token])).value_counts()\n",
        "  return pos_freq, neg_freq"
      ],
      "metadata": {
        "id": "32In19YcID3q"
      },
      "id": "32In19YcID3q",
      "execution_count": 52,
      "outputs": []
    },
    {
      "cell_type": "code",
      "source": [
        "pos_freq, neg_freq = get_freq_count3(clean_tokens2)"
      ],
      "metadata": {
        "id": "6kT41B7ZIXNq"
      },
      "id": "6kT41B7ZIXNq",
      "execution_count": 53,
      "outputs": []
    },
    {
      "cell_type": "code",
      "source": [
        "draw_top_hist(pos_freq,'pos headlines','r') # 다시 그린 긍정 headline 빈도수 히스토그램"
      ],
      "metadata": {
        "id": "20GocXhNIotX",
        "colab": {
          "base_uri": "https://localhost:8080/",
          "height": 534
        },
        "outputId": "6fc8c3d6-b9ae-4611-9fbf-57a569662327"
      },
      "id": "20GocXhNIotX",
      "execution_count": 54,
      "outputs": [
        {
          "output_type": "display_data",
          "data": {
            "image/png": "[encoded data removed]",
            "text/plain": [
              "<Figure size 864x540 with 1 Axes>"
            ]
          },
          "metadata": {
            "image/png": {
              "width": 856,
              "height": 517
            },
            "needs_background": "light"
          }
        }
      ]
    },
    {
      "cell_type": "code",
      "source": [
        "draw_top_hist(neg_freq,'neg reviews','b') # 다시 그린 부정 헤드라인 빈도수 히스토그램"
      ],
      "metadata": {
        "id": "TkRFCVogItpO",
        "colab": {
          "base_uri": "https://localhost:8080/",
          "height": 534
        },
        "outputId": "da33a08a-7c73-48a9-bc98-162de91c9980"
      },
      "id": "TkRFCVogItpO",
      "execution_count": 55,
      "outputs": [
        {
          "output_type": "display_data",
          "data": {
            "image/png": "[encoded data removed]",
            "text/plain": [
              "<Figure size 864x540 with 1 Axes>"
            ]
          },
          "metadata": {
            "image/png": {
              "width": 856,
              "height": 517
            },
            "needs_background": "light"
          }
        }
      ]
    },
    {
      "cell_type": "code",
      "source": [
        "print(f\"Words kinds: {len(freqeuncies)}\")"
      ],
      "metadata": {
        "id": "3lLnNsv6I7ID",
        "colab": {
          "base_uri": "https://localhost:8080/"
        },
        "outputId": "1bedbbe6-c2d6-4fb0-f94e-482251ec2f34"
      },
      "id": "3lLnNsv6I7ID",
      "execution_count": 56,
      "outputs": [
        {
          "output_type": "stream",
          "name": "stdout",
          "text": [
            "Words kinds: 34880\n"
          ]
        }
      ]
    },
    {
      "cell_type": "markdown",
      "source": [
        "- 단어 사용 횟수는 165만, 34800개 정도의 단어를 사용\n"
      ],
      "metadata": {
        "id": "TfdUDSc6JjTM"
      },
      "id": "TfdUDSc6JjTM"
    },
    {
      "cell_type": "code",
      "source": [
        "clean_frequencies = pd.Series(np.concatenate([w for w in clean_tokens2])).value_counts()\n",
        "accumulate_words = np.add.accumulate(clean_frequencies) # 빈도수의 누적합을 구해줍니다.\n",
        "ratio = 0.99\n",
        "words_cnt = np.where(accumulate_words > sum(clean_frequencies) * 0.99)[0][0]\n",
        "plt.figure(figsize=(12,8))\n",
        "plt.bar(range(0,len(clean_frequencies)), accumulate_words / sum(clean_frequencies), width=1.0) # 전체 단어와 현재까지의 빈도수의 비율을 구해줍니다.\n",
        "plt.title('Words distribuition')\n",
        "plt.suptitle(f'{words_cnt} words explain {ratio * 100:.1f}% of total words dirtribution')"
      ],
      "metadata": {
        "id": "SE0zJ0oOJqP1",
        "colab": {
          "base_uri": "https://localhost:8080/",
          "height": 559
        },
        "outputId": "73a9b526-11e9-4bad-8e6d-dbf2e88095d6"
      },
      "id": "SE0zJ0oOJqP1",
      "execution_count": 57,
      "outputs": [
        {
          "output_type": "execute_result",
          "data": {
            "text/plain": [
              "Text(0.5, 0.98, '21687 words explain 99.0% of total words dirtribution')"
            ]
          },
          "metadata": {},
          "execution_count": 57
        },
        {
          "output_type": "display_data",
          "data": {
            "image/png": "[encoded data removed]",
            "text/plain": [
              "<Figure size 864x576 with 1 Axes>"
            ]
          },
          "metadata": {
            "image/png": {
              "width": 705,
              "height": 524
            },
            "needs_background": "light"
          }
        }
      ]
    },
    {
      "cell_type": "code",
      "source": [
        "freqeuncies.describe()"
      ],
      "metadata": {
        "id": "lRZo4bFTLODj",
        "colab": {
          "base_uri": "https://localhost:8080/"
        },
        "outputId": "f1ba5282-12dc-4371-98e8-04afd114fb09"
      },
      "id": "lRZo4bFTLODj",
      "execution_count": 58,
      "outputs": [
        {
          "output_type": "execute_result",
          "data": {
            "text/plain": [
              "count    34880.000000\n",
              "mean        47.350545\n",
              "std        324.072556\n",
              "min          1.000000\n",
              "25%          1.000000\n",
              "50%          3.000000\n",
              "75%         13.000000\n",
              "max      20127.000000\n",
              "dtype: float64"
            ]
          },
          "metadata": {},
          "execution_count": 58
        }
      ]
    },
    {
      "cell_type": "code",
      "source": [
        "words_distribution = clean_frequencies.value_counts()\n",
        "plt.figure(figsize=(12,8))\n",
        "plt.plot(range(0,len(words_distribution)), words_distribution.values)\n",
        "plt.ylabel(\"해당 빈도수를 갖는 단어의 수\")\n",
        "plt.xlabel(\"단어의 등장 빈도 수\")\n",
        "plt.title(\"등장 빈도수에 따른 단어의 분포\")\n",
        "plt.legend()"
      ],
      "metadata": {
        "id": "Pr1joGxnLUWQ",
        "colab": {
          "base_uri": "https://localhost:8080/",
          "height": 551
        },
        "outputId": "391d3ab5-6123-4673-bbaf-b48b3a350057"
      },
      "id": "Pr1joGxnLUWQ",
      "execution_count": 59,
      "outputs": [
        {
          "output_type": "stream",
          "name": "stderr",
          "text": [
            "No handles with labels found to put in legend.\n"
          ]
        },
        {
          "output_type": "execute_result",
          "data": {
            "text/plain": [
              "<matplotlib.legend.Legend at 0x7f637d826890>"
            ]
          },
          "metadata": {},
          "execution_count": 59
        },
        {
          "output_type": "display_data",
          "data": {
            "image/png": "[encoded data removed]",
            "text/plain": [
              "<Figure size 864x576 with 1 Axes>"
            ]
          },
          "metadata": {
            "image/png": {
              "width": 735,
              "height": 497
            },
            "needs_background": "light"
          }
        }
      ]
    }
  ],
  "metadata": {
    "accelerator": "GPU",
    "colab": {
      "collapsed_sections": [],
      "machine_shape": "hm",
      "name": "headline_preprocessing.ipynb",
      "provenance": []
    },
    "kernelspec": {
      "name": "python3",
      "display_name": "Python 3.8.12 64-bit ('nltk_setting': conda)"
    },
    "language_info": {
      "codemirror_mode": {
        "name": "ipython",
        "version": 3
      },
      "file_extension": ".py",
      "mimetype": "text/x-python",
      "name": "python",
      "nbconvert_exporter": "python",
      "pygments_lexer": "ipython3",
      "version": "3.8.12"
    },
    "toc": {
      "base_numbering": 1,
      "nav_menu": {},
      "number_sections": true,
      "sideBar": true,
      "skip_h1_title": false,
      "title_cell": "Table of Contents",
      "title_sidebar": "Contents",
      "toc_cell": false,
      "toc_position": {},
      "toc_section_display": true,
      "toc_window_display": false
    },
    "interpreter": {
      "hash": "3fe12c2ed2e5724ba31f81a6c8b38907c9bc763fd90983d5bc2d3aca454e7f8d"
    }
  },
  "nbformat": 4,
  "nbformat_minor": 5
}