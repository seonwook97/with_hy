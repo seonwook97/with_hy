{
  "nbformat": 4,
  "nbformat_minor": 0,
  "metadata": {
    "colab": {
      "name": "stock_headline_base.ipynb",
      "provenance": [],
      "collapsed_sections": [],
      "machine_shape": "hm"
    },
    "kernelspec": {
      "name": "python3",
      "display_name": "Python 3"
    },
    "language_info": {
      "name": "python"
    },
    "accelerator": "GPU"
  },
  "cells": [
    {
      "cell_type": "markdown",
      "source": [
        "## 모듈 설치"
      ],
      "metadata": {
        "id": "rF5x_anw5uiQ"
      }
    },
    {
      "cell_type": "code",
      "source": [
        "from google.colab import drive\n",
        "drive.mount('/content/drive')"
      ],
      "metadata": {
        "colab": {
          "base_uri": "https://localhost:8080/"
        },
        "id": "fOHdv-0uNxdU",
        "outputId": "a8ce5741-edca-4c98-8b51-f260371e50b7"
      },
      "execution_count": 1,
      "outputs": [
        {
          "output_type": "stream",
          "name": "stdout",
          "text": [
            "Mounted at /content/drive\n"
          ]
        }
      ]
    },
    {
      "cell_type": "code",
      "execution_count": null,
      "source": [
        "# !pip install konlpy"
      ],
      "outputs": [
        {
          "output_type": "stream",
          "name": "stdout",
          "text": [
            "Collecting konlpy\n",
            "  Downloading konlpy-0.6.0-py2.py3-none-any.whl (19.4 MB)\n",
            "\u001b[K     |████████████████████████████████| 19.4 MB 483 kB/s \n",
            "\u001b[?25hCollecting JPype1>=0.7.0\n",
            "  Downloading JPype1-1.3.0-cp37-cp37m-manylinux_2_5_x86_64.manylinux1_x86_64.whl (448 kB)\n",
            "\u001b[K     |████████████████████████████████| 448 kB 67.6 MB/s \n",
            "\u001b[?25hRequirement already satisfied: numpy>=1.6 in /usr/local/lib/python3.7/dist-packages (from konlpy) (1.19.5)\n",
            "Requirement already satisfied: lxml>=4.1.0 in /usr/local/lib/python3.7/dist-packages (from konlpy) (4.2.6)\n",
            "Requirement already satisfied: typing-extensions in /usr/local/lib/python3.7/dist-packages (from JPype1>=0.7.0->konlpy) (3.10.0.2)\n",
            "Installing collected packages: JPype1, konlpy\n",
            "Successfully installed JPype1-1.3.0 konlpy-0.6.0\n"
          ]
        }
      ],
      "metadata": {
        "colab": {
          "base_uri": "https://localhost:8080/"
        },
        "id": "Uggimla159al",
        "outputId": "ee5a6e13-89a2-4536-b463-e0d517686e66"
      }
    },
    {
      "cell_type": "code",
      "source": [
        "import pandas as pd\n",
        "import numpy as np\n",
        "import re\n",
        "from tqdm import tqdm"
      ],
      "metadata": {
        "id": "7K7W1Rr5N7io"
      },
      "execution_count": 2,
      "outputs": []
    },
    {
      "cell_type": "code",
      "execution_count": null,
      "source": [
        "import pandas as pd\n",
        "import numpy as np\n",
        "import matplotlib.pyplot as plt\n",
        "import re\n",
        "import urllib.request\n",
        "from konlpy.tag import Okt\n",
        "from tqdm import tqdm\n",
        "from tensorflow.keras.preprocessing.text import Tokenizer\n",
        "from tensorflow.keras.preprocessing.sequence import pad_sequences"
      ],
      "outputs": [],
      "metadata": {
        "id": "XH0iUXld2wY7"
      }
    },
    {
      "cell_type": "markdown",
      "source": [
        "### 한글 깨짐 방지"
      ],
      "metadata": {
        "id": "lpI1oz9V6Emr"
      }
    },
    {
      "cell_type": "code",
      "execution_count": null,
      "source": [
        "import matplotlib as mpl\n",
        "import matplotlib.pyplot as plt\n",
        " \n",
        "%config InlineBackend.figure_format = 'retina'\n",
        " \n",
        "!apt -qq -y install fonts-nanum\n",
        " \n",
        "import matplotlib.font_manager as fm\n",
        "fontpath = '/usr/share/fonts/truetype/nanum/NanumBarunGothic.ttf'\n",
        "font = fm.FontProperties(fname=fontpath, size=9)\n",
        "plt.rc('font', family='NanumBarunGothic') \n",
        "mpl.font_manager._rebuild()"
      ],
      "outputs": [
        {
          "output_type": "stream",
          "name": "stdout",
          "text": [
            "fonts-nanum is already the newest version (20170925-1).\n",
            "0 upgraded, 0 newly installed, 0 to remove and 37 not upgraded.\n"
          ]
        }
      ],
      "metadata": {
        "colab": {
          "base_uri": "https://localhost:8080/"
        },
        "id": "DMe7BhWl4ThG",
        "outputId": "fbe39947-9af4-4196-f947-0ef9d87aa824"
      }
    },
    {
      "cell_type": "markdown",
      "source": [
        "## 데이터 확인"
      ],
      "metadata": {
        "id": "ipZquvbD8WWu"
      }
    },
    {
      "cell_type": "code",
      "execution_count": 3,
      "source": [
        "#news = pd.read_csv('./drive/MyDrive/crawling_datasets.csv', index_col=0) \n",
        "news = pd.read_csv('/content/drive/MyDrive/final_project/crawling_datasets.csv', index_col=0)\n",
        "news.tail()"
      ],
      "outputs": [
        {
          "output_type": "execute_result",
          "data": {
            "text/html": [
              "\n",
              "  <div id=\"df-cd8e820e-6faf-4592-8cd1-d0c8eac69219\">\n",
              "    <div class=\"colab-df-container\">\n",
              "      <div>\n",
              "<style scoped>\n",
              "    .dataframe tbody tr th:only-of-type {\n",
              "        vertical-align: middle;\n",
              "    }\n",
              "\n",
              "    .dataframe tbody tr th {\n",
              "        vertical-align: top;\n",
              "    }\n",
              "\n",
              "    .dataframe thead th {\n",
              "        text-align: right;\n",
              "    }\n",
              "</style>\n",
              "<table border=\"1\" class=\"dataframe\">\n",
              "  <thead>\n",
              "    <tr style=\"text-align: right;\">\n",
              "      <th></th>\n",
              "      <th>name</th>\n",
              "      <th>headline</th>\n",
              "      <th>date</th>\n",
              "      <th>change</th>\n",
              "    </tr>\n",
              "  </thead>\n",
              "  <tbody>\n",
              "    <tr>\n",
              "      <th>419439</th>\n",
              "      <td>신한지주</td>\n",
              "      <td>신한 디지털 vs 국민 변화… 카드 리딩금융 승부수</td>\n",
              "      <td>2021-12-30</td>\n",
              "      <td>0</td>\n",
              "    </tr>\n",
              "    <tr>\n",
              "      <th>419440</th>\n",
              "      <td>신한지주</td>\n",
              "      <td>순혈주의 이어 유리천장도 깨진다…은행권에 부는 '여풍'</td>\n",
              "      <td>2021-12-30</td>\n",
              "      <td>0</td>\n",
              "    </tr>\n",
              "    <tr>\n",
              "      <th>419441</th>\n",
              "      <td>신한지주</td>\n",
              "      <td>“리딩금융 승자, 비은행이 가른다” 신한 vs KB, ‘보험 전쟁’</td>\n",
              "      <td>2021-12-30</td>\n",
              "      <td>0</td>\n",
              "    </tr>\n",
              "    <tr>\n",
              "      <th>419442</th>\n",
              "      <td>신한지주</td>\n",
              "      <td>은행 개발자 몸값 더 높아진다...부서 넘나들며 플랫폼 특명 완수</td>\n",
              "      <td>2021-12-30</td>\n",
              "      <td>0</td>\n",
              "    </tr>\n",
              "    <tr>\n",
              "      <th>419443</th>\n",
              "      <td>신한지주</td>\n",
              "      <td>배당락에 3000선 내줬지만…“코스피 하락폭 예상보다 작았다”</td>\n",
              "      <td>2021-12-30</td>\n",
              "      <td>0</td>\n",
              "    </tr>\n",
              "  </tbody>\n",
              "</table>\n",
              "</div>\n",
              "      <button class=\"colab-df-convert\" onclick=\"convertToInteractive('df-cd8e820e-6faf-4592-8cd1-d0c8eac69219')\"\n",
              "              title=\"Convert this dataframe to an interactive table.\"\n",
              "              style=\"display:none;\">\n",
              "        \n",
              "  <svg xmlns=\"http://www.w3.org/2000/svg\" height=\"24px\"viewBox=\"0 0 24 24\"\n",
              "       width=\"24px\">\n",
              "    <path d=\"M0 0h24v24H0V0z\" fill=\"none\"/>\n",
              "    <path d=\"M18.56 5.44l.94 2.06.94-2.06 2.06-.94-2.06-.94-.94-2.06-.94 2.06-2.06.94zm-11 1L8.5 8.5l.94-2.06 2.06-.94-2.06-.94L8.5 2.5l-.94 2.06-2.06.94zm10 10l.94 2.06.94-2.06 2.06-.94-2.06-.94-.94-2.06-.94 2.06-2.06.94z\"/><path d=\"M17.41 7.96l-1.37-1.37c-.4-.4-.92-.59-1.43-.59-.52 0-1.04.2-1.43.59L10.3 9.45l-7.72 7.72c-.78.78-.78 2.05 0 2.83L4 21.41c.39.39.9.59 1.41.59.51 0 1.02-.2 1.41-.59l7.78-7.78 2.81-2.81c.8-.78.8-2.07 0-2.86zM5.41 20L4 18.59l7.72-7.72 1.47 1.35L5.41 20z\"/>\n",
              "  </svg>\n",
              "      </button>\n",
              "      \n",
              "  <style>\n",
              "    .colab-df-container {\n",
              "      display:flex;\n",
              "      flex-wrap:wrap;\n",
              "      gap: 12px;\n",
              "    }\n",
              "\n",
              "    .colab-df-convert {\n",
              "      background-color: #E8F0FE;\n",
              "      border: none;\n",
              "      border-radius: 50%;\n",
              "      cursor: pointer;\n",
              "      display: none;\n",
              "      fill: #1967D2;\n",
              "      height: 32px;\n",
              "      padding: 0 0 0 0;\n",
              "      width: 32px;\n",
              "    }\n",
              "\n",
              "    .colab-df-convert:hover {\n",
              "      background-color: #E2EBFA;\n",
              "      box-shadow: 0px 1px 2px rgba(60, 64, 67, 0.3), 0px 1px 3px 1px rgba(60, 64, 67, 0.15);\n",
              "      fill: #174EA6;\n",
              "    }\n",
              "\n",
              "    [theme=dark] .colab-df-convert {\n",
              "      background-color: #3B4455;\n",
              "      fill: #D2E3FC;\n",
              "    }\n",
              "\n",
              "    [theme=dark] .colab-df-convert:hover {\n",
              "      background-color: #434B5C;\n",
              "      box-shadow: 0px 1px 3px 1px rgba(0, 0, 0, 0.15);\n",
              "      filter: drop-shadow(0px 1px 2px rgba(0, 0, 0, 0.3));\n",
              "      fill: #FFFFFF;\n",
              "    }\n",
              "  </style>\n",
              "\n",
              "      <script>\n",
              "        const buttonEl =\n",
              "          document.querySelector('#df-cd8e820e-6faf-4592-8cd1-d0c8eac69219 button.colab-df-convert');\n",
              "        buttonEl.style.display =\n",
              "          google.colab.kernel.accessAllowed ? 'block' : 'none';\n",
              "\n",
              "        async function convertToInteractive(key) {\n",
              "          const element = document.querySelector('#df-cd8e820e-6faf-4592-8cd1-d0c8eac69219');\n",
              "          const dataTable =\n",
              "            await google.colab.kernel.invokeFunction('convertToInteractive',\n",
              "                                                     [key], {});\n",
              "          if (!dataTable) return;\n",
              "\n",
              "          const docLinkHtml = 'Like what you see? Visit the ' +\n",
              "            '<a target=\"_blank\" href=https://colab.research.google.com/notebooks/data_table.ipynb>data table notebook</a>'\n",
              "            + ' to learn more about interactive tables.';\n",
              "          element.innerHTML = '';\n",
              "          dataTable['output_type'] = 'display_data';\n",
              "          await google.colab.output.renderOutput(dataTable, element);\n",
              "          const docLink = document.createElement('div');\n",
              "          docLink.innerHTML = docLinkHtml;\n",
              "          element.appendChild(docLink);\n",
              "        }\n",
              "      </script>\n",
              "    </div>\n",
              "  </div>\n",
              "  "
            ],
            "text/plain": [
              "        name                               headline        date  change\n",
              "419439  신한지주           신한 디지털 vs 국민 변화… 카드 리딩금융 승부수  2021-12-30       0\n",
              "419440  신한지주         순혈주의 이어 유리천장도 깨진다…은행권에 부는 '여풍'  2021-12-30       0\n",
              "419441  신한지주  “리딩금융 승자, 비은행이 가른다” 신한 vs KB, ‘보험 전쟁’  2021-12-30       0\n",
              "419442  신한지주   은행 개발자 몸값 더 높아진다...부서 넘나들며 플랫폼 특명 완수  2021-12-30       0\n",
              "419443  신한지주     배당락에 3000선 내줬지만…“코스피 하락폭 예상보다 작았다”  2021-12-30       0"
            ]
          },
          "metadata": {},
          "execution_count": 3
        }
      ],
      "metadata": {
        "colab": {
          "base_uri": "https://localhost:8080/",
          "height": 250
        },
        "id": "rnpmNxki8XRz",
        "outputId": "3d950d7e-52b7-4434-c8e7-6e50f4f91a28"
      }
    },
    {
      "cell_type": "markdown",
      "source": [
        "### headline 중복성 검사"
      ],
      "metadata": {
        "id": "wMM8F_wJ9BUK"
      }
    },
    {
      "cell_type": "code",
      "execution_count": 4,
      "source": [
        "news['headline'].nunique(), news['change'].nunique()"
      ],
      "outputs": [
        {
          "output_type": "execute_result",
          "data": {
            "text/plain": [
              "(306794, 2)"
            ]
          },
          "metadata": {},
          "execution_count": 4
        }
      ],
      "metadata": {
        "colab": {
          "base_uri": "https://localhost:8080/"
        },
        "id": "h8sIbAOC9LeV",
        "outputId": "9625990d-2d70-497a-fbbf-8d49555d1735"
      }
    },
    {
      "cell_type": "markdown",
      "source": [
        "#### headline 열의 중복 제거 - 중복된 문장 모두 제거\n",
        "- 여러 종목에 중복된 문장이 있으면 한 종목에 편향적일 수 있어 모두 제거"
      ],
      "metadata": {
        "id": "pfcC4ABh9Oh2"
      }
    },
    {
      "cell_type": "code",
      "execution_count": 5,
      "source": [
        "news.drop_duplicates(subset=['headline'], inplace=True, keep=False)"
      ],
      "outputs": [],
      "metadata": {
        "id": "hllJcm0v9MbS"
      }
    },
    {
      "cell_type": "code",
      "execution_count": 6,
      "source": [
        "news.reset_index(drop=True, inplace=True)"
      ],
      "outputs": [],
      "metadata": {
        "id": "KH0_fmba9g9W"
      }
    },
    {
      "cell_type": "code",
      "execution_count": 7,
      "source": [
        "news.tail(3)"
      ],
      "outputs": [
        {
          "output_type": "execute_result",
          "data": {
            "text/html": [
              "\n",
              "  <div id=\"df-2737440b-075a-4402-83d6-200033208674\">\n",
              "    <div class=\"colab-df-container\">\n",
              "      <div>\n",
              "<style scoped>\n",
              "    .dataframe tbody tr th:only-of-type {\n",
              "        vertical-align: middle;\n",
              "    }\n",
              "\n",
              "    .dataframe tbody tr th {\n",
              "        vertical-align: top;\n",
              "    }\n",
              "\n",
              "    .dataframe thead th {\n",
              "        text-align: right;\n",
              "    }\n",
              "</style>\n",
              "<table border=\"1\" class=\"dataframe\">\n",
              "  <thead>\n",
              "    <tr style=\"text-align: right;\">\n",
              "      <th></th>\n",
              "      <th>name</th>\n",
              "      <th>headline</th>\n",
              "      <th>date</th>\n",
              "      <th>change</th>\n",
              "    </tr>\n",
              "  </thead>\n",
              "  <tbody>\n",
              "    <tr>\n",
              "      <th>244716</th>\n",
              "      <td>신한지주</td>\n",
              "      <td>“리딩금융 승자, 비은행이 가른다” 신한 vs KB, ‘보험 전쟁’</td>\n",
              "      <td>2021-12-30</td>\n",
              "      <td>0</td>\n",
              "    </tr>\n",
              "    <tr>\n",
              "      <th>244717</th>\n",
              "      <td>신한지주</td>\n",
              "      <td>은행 개발자 몸값 더 높아진다...부서 넘나들며 플랫폼 특명 완수</td>\n",
              "      <td>2021-12-30</td>\n",
              "      <td>0</td>\n",
              "    </tr>\n",
              "    <tr>\n",
              "      <th>244718</th>\n",
              "      <td>신한지주</td>\n",
              "      <td>배당락에 3000선 내줬지만…“코스피 하락폭 예상보다 작았다”</td>\n",
              "      <td>2021-12-30</td>\n",
              "      <td>0</td>\n",
              "    </tr>\n",
              "  </tbody>\n",
              "</table>\n",
              "</div>\n",
              "      <button class=\"colab-df-convert\" onclick=\"convertToInteractive('df-2737440b-075a-4402-83d6-200033208674')\"\n",
              "              title=\"Convert this dataframe to an interactive table.\"\n",
              "              style=\"display:none;\">\n",
              "        \n",
              "  <svg xmlns=\"http://www.w3.org/2000/svg\" height=\"24px\"viewBox=\"0 0 24 24\"\n",
              "       width=\"24px\">\n",
              "    <path d=\"M0 0h24v24H0V0z\" fill=\"none\"/>\n",
              "    <path d=\"M18.56 5.44l.94 2.06.94-2.06 2.06-.94-2.06-.94-.94-2.06-.94 2.06-2.06.94zm-11 1L8.5 8.5l.94-2.06 2.06-.94-2.06-.94L8.5 2.5l-.94 2.06-2.06.94zm10 10l.94 2.06.94-2.06 2.06-.94-2.06-.94-.94-2.06-.94 2.06-2.06.94z\"/><path d=\"M17.41 7.96l-1.37-1.37c-.4-.4-.92-.59-1.43-.59-.52 0-1.04.2-1.43.59L10.3 9.45l-7.72 7.72c-.78.78-.78 2.05 0 2.83L4 21.41c.39.39.9.59 1.41.59.51 0 1.02-.2 1.41-.59l7.78-7.78 2.81-2.81c.8-.78.8-2.07 0-2.86zM5.41 20L4 18.59l7.72-7.72 1.47 1.35L5.41 20z\"/>\n",
              "  </svg>\n",
              "      </button>\n",
              "      \n",
              "  <style>\n",
              "    .colab-df-container {\n",
              "      display:flex;\n",
              "      flex-wrap:wrap;\n",
              "      gap: 12px;\n",
              "    }\n",
              "\n",
              "    .colab-df-convert {\n",
              "      background-color: #E8F0FE;\n",
              "      border: none;\n",
              "      border-radius: 50%;\n",
              "      cursor: pointer;\n",
              "      display: none;\n",
              "      fill: #1967D2;\n",
              "      height: 32px;\n",
              "      padding: 0 0 0 0;\n",
              "      width: 32px;\n",
              "    }\n",
              "\n",
              "    .colab-df-convert:hover {\n",
              "      background-color: #E2EBFA;\n",
              "      box-shadow: 0px 1px 2px rgba(60, 64, 67, 0.3), 0px 1px 3px 1px rgba(60, 64, 67, 0.15);\n",
              "      fill: #174EA6;\n",
              "    }\n",
              "\n",
              "    [theme=dark] .colab-df-convert {\n",
              "      background-color: #3B4455;\n",
              "      fill: #D2E3FC;\n",
              "    }\n",
              "\n",
              "    [theme=dark] .colab-df-convert:hover {\n",
              "      background-color: #434B5C;\n",
              "      box-shadow: 0px 1px 3px 1px rgba(0, 0, 0, 0.15);\n",
              "      filter: drop-shadow(0px 1px 2px rgba(0, 0, 0, 0.3));\n",
              "      fill: #FFFFFF;\n",
              "    }\n",
              "  </style>\n",
              "\n",
              "      <script>\n",
              "        const buttonEl =\n",
              "          document.querySelector('#df-2737440b-075a-4402-83d6-200033208674 button.colab-df-convert');\n",
              "        buttonEl.style.display =\n",
              "          google.colab.kernel.accessAllowed ? 'block' : 'none';\n",
              "\n",
              "        async function convertToInteractive(key) {\n",
              "          const element = document.querySelector('#df-2737440b-075a-4402-83d6-200033208674');\n",
              "          const dataTable =\n",
              "            await google.colab.kernel.invokeFunction('convertToInteractive',\n",
              "                                                     [key], {});\n",
              "          if (!dataTable) return;\n",
              "\n",
              "          const docLinkHtml = 'Like what you see? Visit the ' +\n",
              "            '<a target=\"_blank\" href=https://colab.research.google.com/notebooks/data_table.ipynb>data table notebook</a>'\n",
              "            + ' to learn more about interactive tables.';\n",
              "          element.innerHTML = '';\n",
              "          dataTable['output_type'] = 'display_data';\n",
              "          await google.colab.output.renderOutput(dataTable, element);\n",
              "          const docLink = document.createElement('div');\n",
              "          docLink.innerHTML = docLinkHtml;\n",
              "          element.appendChild(docLink);\n",
              "        }\n",
              "      </script>\n",
              "    </div>\n",
              "  </div>\n",
              "  "
            ],
            "text/plain": [
              "        name                               headline        date  change\n",
              "244716  신한지주  “리딩금융 승자, 비은행이 가른다” 신한 vs KB, ‘보험 전쟁’  2021-12-30       0\n",
              "244717  신한지주   은행 개발자 몸값 더 높아진다...부서 넘나들며 플랫폼 특명 완수  2021-12-30       0\n",
              "244718  신한지주     배당락에 3000선 내줬지만…“코스피 하락폭 예상보다 작았다”  2021-12-30       0"
            ]
          },
          "metadata": {},
          "execution_count": 7
        }
      ],
      "metadata": {
        "colab": {
          "base_uri": "https://localhost:8080/",
          "height": 188
        },
        "id": "IhsM6Gjl9l5D",
        "outputId": "b8fd474a-20f4-45d1-f268-26ae115f883f"
      }
    },
    {
      "cell_type": "markdown",
      "source": [
        "- 약 데이터가 41만9천개에서 중복된 문장을 모두 빼고 나니 24만4천개 정도 남았다"
      ],
      "metadata": {
        "id": "BVWgNviQ9oku"
      }
    },
    {
      "cell_type": "markdown",
      "source": [
        "## 데이터 정제\n",
        "\n",
        "- 특정 종목의 상승 하락과 무관하다고 판단되는 헤드라인은 데이터에서 제외시킨다.\n",
        "- 생톡관심종목,사진,포토, 부고,인사,부음 <표>,프로필, 오늘의 메모,집중관찰,<오늘의 화제주>,특징주,게임소개 등 헤드라인 처음에 시작하는 단어 제외시키기"
      ],
      "metadata": {
        "id": "bkzJEpcJR026"
      }
    },
    {
      "cell_type": "code",
      "source": [
        "# [인사] 헤드라인 제거 후 비교\n",
        "news_temp = news[~news.headline.str.startswith(\"[인사]\")]\n",
        "len(news),len(news_temp)"
      ],
      "metadata": {
        "colab": {
          "base_uri": "https://localhost:8080/"
        },
        "id": "YRoKVcSCuotz",
        "outputId": "2a1a8665-4e26-491a-b634-e62484f62db7"
      },
      "execution_count": 13,
      "outputs": [
        {
          "output_type": "execute_result",
          "data": {
            "text/plain": [
              "(244719, 244620)"
            ]
          },
          "metadata": {},
          "execution_count": 13
        }
      ]
    },
    {
      "cell_type": "code",
      "source": [
        "useless = [\"[생톡관심종목]\",'[사진]','[포토]','[부고]','[인사]','[부음]','<표>','[프로필]','[오늘의 메모]','[집중관찰]','<오늘의 화제주>','[특징주]','[게임소개]']\n",
        "print(\"전체 데이터 개수 : \",len(news))\n",
        "for eliminate_word in useless:\n",
        "  news = news[~news['headline'].str.startswith(eliminate_word)]\n",
        "print(\"남은 데이터 개수 \",len(news))"
      ],
      "metadata": {
        "colab": {
          "base_uri": "https://localhost:8080/"
        },
        "id": "CjMcXIXZtoYT",
        "outputId": "1b03d6c5-68eb-4b55-c06e-d12fcfe634ef"
      },
      "execution_count": 14,
      "outputs": [
        {
          "output_type": "stream",
          "name": "stdout",
          "text": [
            "전체 데이터 개수 :  244719\n",
            "남은 데이터 개수  241727\n"
          ]
        }
      ]
    },
    {
      "cell_type": "markdown",
      "source": [
        "**전체 데이터에서 약 3000개 정도 삭제된 것으로 확인됨**"
      ],
      "metadata": {
        "id": "8t9TSa9-trIq"
      }
    },
    {
      "cell_type": "markdown",
      "source": [
        "### 형태소 분석 전 전처리 기준\n",
        "- 구두점\n",
        "    - 구두점으로 표기된 형태는 공백으로 replace 처리하면서 1차 전처리 진행\n",
        "  \n",
        "- 한자\n",
        "    - 헤드라인에 표기된 한자 자체만으로도 뜻이 있는 경우가 많았기에 자주 사용되는 한자로 표기되는 경우는 한글로 변경 작업 진행\n",
        "    - ex) 국가명, 대통령 성씨, 기관(은행, 중소기업, 종목) 등이 포함됨\n",
        "  \n",
        "- 영어\n",
        "    - 영어가 포함된 단어는 종목이름이 과반 이상이나, M&A, R&D, GDP 등 주요 경제 용어가 다수 포함되어 있어 띄어쓰기 기준으로라도 포함 진행\n",
        "  \n",
        "- 숫자\n",
        "    - 숫자는 제외시킴\n",
        "    - 경제 관련 기사에서 숫자 지표는 헤드라인 논조에서 중요한 역할을 차지할 수 있으나, 단위, 시간 등에 따라 다른 숫자에 대한 명확한 기준이 없기에 제외시킴\n",
        "  \n",
        "- 특수문자\n",
        "    - ↓ , ↑ 와 같은 경우, 특수문자 자체로도 의미가 형성되므로 하락과 상승으로 변경 후 진행\n",
        "\n",
        "- 기타\n",
        "    - 헤드라인에 \"미리보는\"이라는 단어는 종목 상승,하락에 영향을 미치지 않는 것으로 판단되나 많은 양을 포함하므로 공백으로 제거 \n",
        "  \n",
        "**1차 전처리가 끝난 후, 한글, 영어, 띄어쓰기를 제외한 모든 표현 삭제(정규표현식 이용)** "
      ],
      "metadata": {
        "id": "-TNCdLJLSMGv"
      }
    },
    {
      "cell_type": "code",
      "source": [
        "import re\n",
        "\n",
        "def apply_regular_expression(headline):\n",
        "  # 한글 추출 규칙 : 띄어쓰기(1 개)를 포함한 한글과 대문자, ... …는 반드시 공백으로 처리해야 띄어쓰기 유지\n",
        "  headline = headline.replace(\"…\",\" \") # 구두점으로 표기하고 띄어쓰기가 반영이 되지 않은 것 처리\n",
        "  headline = headline.replace(\"..\",\" \") # 구두점으로 표기하고 띄어쓰기가 반영이 되지 않은 것 처리\n",
        "  headline = headline.replace(\"·\",\" \") # 구두점으로 표기하고 띄어쓰기가 반영이 되지 않은 것 처리\n",
        "\n",
        "  # 국가나 기관등을 한자로 표기하는 경우가 많아 전처리 진행\n",
        "  headline = headline.replace(\"中企\",\"중소기업\") # 중국과 혼동 피하기 위해 먼저 전처리(중국과 구분짓기 위함)\n",
        "  headline = headline.replace(\"中\",\"중국\")\n",
        "  headline = headline.replace(\"日\",\"일본\")\n",
        "  headline = headline.replace(\"韓\",\"한국\")\n",
        "  headline = headline.replace(\"美\",\"미국\")\n",
        "  headline = headline.replace(\"銀\",\"은행\")\n",
        "  headline = headline.replace('株','종목') # 많이 쓰이는 한자\n",
        "  # 대동령을 한자로 표기하는 경우가 많아 전처리 진행\n",
        "  headline = headline.replace('文','문재인')\n",
        "  headline = headline.replace('朴','박근혜')\n",
        "\n",
        "  headline = headline.replace(\"↓\",\" 하락\")\n",
        "  headline = headline.replace(\"↑\", \"상승\")\n",
        "\n",
        "  headline = headline.replace(\"미리보는\",\"\") # 미리보는 삭제\n",
        "\n",
        "  hangeul = re.compile('[^ ㄱ-ㅣ 가-힣a-zA-Z]') # 숫자는 배제!\n",
        "  result = hangeul.sub('', headline)\n",
        "  return result"
      ],
      "metadata": {
        "id": "v_IC8v0gvI4-"
      },
      "execution_count": 15,
      "outputs": []
    },
    {
      "cell_type": "markdown",
      "source": [
        "### 상승/하락 별 데이터 분포 확인"
      ],
      "metadata": {
        "id": "CIoz_FDt9w2G"
      }
    },
    {
      "cell_type": "code",
      "execution_count": 16,
      "source": [
        "news['change'].value_counts().plot(kind = 'bar');"
      ],
      "outputs": [
        {
          "output_type": "display_data",
          "data": {
            "image/png": "[encoded data removed]",
            "text/plain": [
              "<Figure size 432x288 with 1 Axes>"
            ]
          },
          "metadata": {
            "needs_background": "light"
          }
        }
      ],
      "metadata": {
        "colab": {
          "base_uri": "https://localhost:8080/",
          "height": 262
        },
        "id": "ItsZjXRz92fh",
        "outputId": "8e15e3c6-aa3a-47c4-e6a3-d2d9f762f299"
      }
    },
    {
      "cell_type": "code",
      "execution_count": 17,
      "source": [
        "print(news.groupby('change').size().reset_index(name = 'count'))"
      ],
      "outputs": [
        {
          "output_type": "stream",
          "name": "stdout",
          "text": [
            "   change   count\n",
            "0       0  127700\n",
            "1       1  114027\n"
          ]
        }
      ],
      "metadata": {
        "colab": {
          "base_uri": "https://localhost:8080/"
        },
        "id": "5gjY1Zdp95AK",
        "outputId": "5443d274-48b2-4129-9048-28e7ec860142"
      }
    },
    {
      "cell_type": "markdown",
      "source": [
        "- 주가 변동이 하락인 기사가 조금 더 많다."
      ],
      "metadata": {
        "id": "tQXg7pnH96zi"
      }
    },
    {
      "cell_type": "markdown",
      "source": [
        "### 헤드라인 결측치 확인"
      ],
      "metadata": {
        "id": "BjLfK1pk-tvv"
      }
    },
    {
      "cell_type": "code",
      "execution_count": 18,
      "source": [
        "print(news.isnull().values.any()) # 널값 없음"
      ],
      "outputs": [
        {
          "output_type": "stream",
          "name": "stdout",
          "text": [
            "False\n"
          ]
        }
      ],
      "metadata": {
        "colab": {
          "base_uri": "https://localhost:8080/"
        },
        "id": "bBuWVfPi-7T1",
        "outputId": "e09ad746-80ce-4d8e-9581-b81ba25cb0c7"
      }
    },
    {
      "cell_type": "markdown",
      "source": [
        "## 전처리된 텍스트로 데이터 프레임 업데이트\n",
        "- news['headline']을 전처리한 텍스트로 변경"
      ],
      "metadata": {
        "id": "fD5E8_QITOWY"
      }
    },
    {
      "cell_type": "code",
      "source": [
        "from tqdm import tqdm\n",
        "\n",
        "headline_list = []\n",
        "for idx,row in tqdm(news.iterrows()):\n",
        "  headline_list.append(apply_regular_expression(row['headline']))\n",
        "  #per_words = headline_keywords(corpus)\n",
        "  ## per_words에 넣을 형태소 분석 후 넣을 단어 정리\n",
        "  #per_words = [x for x in per_nouns if len(x) > 1]  # 한글자 키워드 제거\n",
        "  #keyword_list.append(per_nouns)\n",
        "\n",
        "news['headline'] = headline_list\n",
        "news.tail() "
      ],
      "metadata": {
        "colab": {
          "base_uri": "https://localhost:8080/",
          "height": 268
        },
        "id": "XNxnK182THa-",
        "outputId": "8dd60867-2c90-4425-d183-cdf7b0047a22"
      },
      "execution_count": 25,
      "outputs": [
        {
          "output_type": "stream",
          "name": "stderr",
          "text": [
            "241727it [00:30, 7980.68it/s]\n"
          ]
        },
        {
          "output_type": "execute_result",
          "data": {
            "text/html": [
              "\n",
              "  <div id=\"df-665009c6-7b75-4318-b1b3-2af8ce585870\">\n",
              "    <div class=\"colab-df-container\">\n",
              "      <div>\n",
              "<style scoped>\n",
              "    .dataframe tbody tr th:only-of-type {\n",
              "        vertical-align: middle;\n",
              "    }\n",
              "\n",
              "    .dataframe tbody tr th {\n",
              "        vertical-align: top;\n",
              "    }\n",
              "\n",
              "    .dataframe thead th {\n",
              "        text-align: right;\n",
              "    }\n",
              "</style>\n",
              "<table border=\"1\" class=\"dataframe\">\n",
              "  <thead>\n",
              "    <tr style=\"text-align: right;\">\n",
              "      <th></th>\n",
              "      <th>name</th>\n",
              "      <th>headline</th>\n",
              "      <th>date</th>\n",
              "      <th>change</th>\n",
              "    </tr>\n",
              "  </thead>\n",
              "  <tbody>\n",
              "    <tr>\n",
              "      <th>244714</th>\n",
              "      <td>신한지주</td>\n",
              "      <td>신한 디지털 vs 국민 변화  카드 리딩금융 승부수</td>\n",
              "      <td>2021-12-30</td>\n",
              "      <td>0</td>\n",
              "    </tr>\n",
              "    <tr>\n",
              "      <th>244715</th>\n",
              "      <td>신한지주</td>\n",
              "      <td>순혈주의 이어 유리천장도 깨진다 은행권에 부는 여풍</td>\n",
              "      <td>2021-12-30</td>\n",
              "      <td>0</td>\n",
              "    </tr>\n",
              "    <tr>\n",
              "      <th>244716</th>\n",
              "      <td>신한지주</td>\n",
              "      <td>리딩금융 승자 비은행이 가른다 신한 vs KB 보험 전쟁</td>\n",
              "      <td>2021-12-30</td>\n",
              "      <td>0</td>\n",
              "    </tr>\n",
              "    <tr>\n",
              "      <th>244717</th>\n",
              "      <td>신한지주</td>\n",
              "      <td>은행 개발자 몸값 더 높아진다 부서 넘나들며 플랫폼 특명 완수</td>\n",
              "      <td>2021-12-30</td>\n",
              "      <td>0</td>\n",
              "    </tr>\n",
              "    <tr>\n",
              "      <th>244718</th>\n",
              "      <td>신한지주</td>\n",
              "      <td>배당락에 선 내줬지만 코스피 하락폭 예상보다 작았다</td>\n",
              "      <td>2021-12-30</td>\n",
              "      <td>0</td>\n",
              "    </tr>\n",
              "  </tbody>\n",
              "</table>\n",
              "</div>\n",
              "      <button class=\"colab-df-convert\" onclick=\"convertToInteractive('df-665009c6-7b75-4318-b1b3-2af8ce585870')\"\n",
              "              title=\"Convert this dataframe to an interactive table.\"\n",
              "              style=\"display:none;\">\n",
              "        \n",
              "  <svg xmlns=\"http://www.w3.org/2000/svg\" height=\"24px\"viewBox=\"0 0 24 24\"\n",
              "       width=\"24px\">\n",
              "    <path d=\"M0 0h24v24H0V0z\" fill=\"none\"/>\n",
              "    <path d=\"M18.56 5.44l.94 2.06.94-2.06 2.06-.94-2.06-.94-.94-2.06-.94 2.06-2.06.94zm-11 1L8.5 8.5l.94-2.06 2.06-.94-2.06-.94L8.5 2.5l-.94 2.06-2.06.94zm10 10l.94 2.06.94-2.06 2.06-.94-2.06-.94-.94-2.06-.94 2.06-2.06.94z\"/><path d=\"M17.41 7.96l-1.37-1.37c-.4-.4-.92-.59-1.43-.59-.52 0-1.04.2-1.43.59L10.3 9.45l-7.72 7.72c-.78.78-.78 2.05 0 2.83L4 21.41c.39.39.9.59 1.41.59.51 0 1.02-.2 1.41-.59l7.78-7.78 2.81-2.81c.8-.78.8-2.07 0-2.86zM5.41 20L4 18.59l7.72-7.72 1.47 1.35L5.41 20z\"/>\n",
              "  </svg>\n",
              "      </button>\n",
              "      \n",
              "  <style>\n",
              "    .colab-df-container {\n",
              "      display:flex;\n",
              "      flex-wrap:wrap;\n",
              "      gap: 12px;\n",
              "    }\n",
              "\n",
              "    .colab-df-convert {\n",
              "      background-color: #E8F0FE;\n",
              "      border: none;\n",
              "      border-radius: 50%;\n",
              "      cursor: pointer;\n",
              "      display: none;\n",
              "      fill: #1967D2;\n",
              "      height: 32px;\n",
              "      padding: 0 0 0 0;\n",
              "      width: 32px;\n",
              "    }\n",
              "\n",
              "    .colab-df-convert:hover {\n",
              "      background-color: #E2EBFA;\n",
              "      box-shadow: 0px 1px 2px rgba(60, 64, 67, 0.3), 0px 1px 3px 1px rgba(60, 64, 67, 0.15);\n",
              "      fill: #174EA6;\n",
              "    }\n",
              "\n",
              "    [theme=dark] .colab-df-convert {\n",
              "      background-color: #3B4455;\n",
              "      fill: #D2E3FC;\n",
              "    }\n",
              "\n",
              "    [theme=dark] .colab-df-convert:hover {\n",
              "      background-color: #434B5C;\n",
              "      box-shadow: 0px 1px 3px 1px rgba(0, 0, 0, 0.15);\n",
              "      filter: drop-shadow(0px 1px 2px rgba(0, 0, 0, 0.3));\n",
              "      fill: #FFFFFF;\n",
              "    }\n",
              "  </style>\n",
              "\n",
              "      <script>\n",
              "        const buttonEl =\n",
              "          document.querySelector('#df-665009c6-7b75-4318-b1b3-2af8ce585870 button.colab-df-convert');\n",
              "        buttonEl.style.display =\n",
              "          google.colab.kernel.accessAllowed ? 'block' : 'none';\n",
              "\n",
              "        async function convertToInteractive(key) {\n",
              "          const element = document.querySelector('#df-665009c6-7b75-4318-b1b3-2af8ce585870');\n",
              "          const dataTable =\n",
              "            await google.colab.kernel.invokeFunction('convertToInteractive',\n",
              "                                                     [key], {});\n",
              "          if (!dataTable) return;\n",
              "\n",
              "          const docLinkHtml = 'Like what you see? Visit the ' +\n",
              "            '<a target=\"_blank\" href=https://colab.research.google.com/notebooks/data_table.ipynb>data table notebook</a>'\n",
              "            + ' to learn more about interactive tables.';\n",
              "          element.innerHTML = '';\n",
              "          dataTable['output_type'] = 'display_data';\n",
              "          await google.colab.output.renderOutput(dataTable, element);\n",
              "          const docLink = document.createElement('div');\n",
              "          docLink.innerHTML = docLinkHtml;\n",
              "          element.appendChild(docLink);\n",
              "        }\n",
              "      </script>\n",
              "    </div>\n",
              "  </div>\n",
              "  "
            ],
            "text/plain": [
              "        name                            headline       date  change\n",
              "244714  신한지주        신한 디지털 vs 국민 변화  카드 리딩금융 승부수 2021-12-30       0\n",
              "244715  신한지주        순혈주의 이어 유리천장도 깨진다 은행권에 부는 여풍 2021-12-30       0\n",
              "244716  신한지주     리딩금융 승자 비은행이 가른다 신한 vs KB 보험 전쟁 2021-12-30       0\n",
              "244717  신한지주  은행 개발자 몸값 더 높아진다 부서 넘나들며 플랫폼 특명 완수 2021-12-30       0\n",
              "244718  신한지주        배당락에 선 내줬지만 코스피 하락폭 예상보다 작았다 2021-12-30       0"
            ]
          },
          "metadata": {},
          "execution_count": 25
        }
      ]
    },
    {
      "cell_type": "markdown",
      "source": [
        "## 데이터 분리 - train (2012 ~ 2019), test (2020 ~ 2021)"
      ],
      "metadata": {
        "id": "yqcgnTgd_Lfc"
      }
    },
    {
      "cell_type": "code",
      "execution_count": 27,
      "source": [
        "news['date'] = pd.to_datetime(news['date'])\n",
        "\n",
        "split_date = pd.to_datetime('2020-01-01')\n",
        "\n",
        "train = news[news['date'] < split_date]\n",
        "test = news[news['date'] >= split_date]"
      ],
      "outputs": [],
      "metadata": {
        "id": "IEz2UeP6_R6B"
      }
    },
    {
      "cell_type": "code",
      "execution_count": 28,
      "source": [
        "len(train), len(test)"
      ],
      "outputs": [
        {
          "output_type": "execute_result",
          "data": {
            "text/plain": [
              "(195601, 46126)"
            ]
          },
          "metadata": {},
          "execution_count": 28
        }
      ],
      "metadata": {
        "colab": {
          "base_uri": "https://localhost:8080/"
        },
        "id": "6exSZqKQ_WpG",
        "outputId": "15a37c5d-f761-4ec4-f3dc-6bbbfdc94f9d"
      }
    },
    {
      "cell_type": "markdown",
      "source": [
        "- train과 test를 20년도를 기준으로 나누었고 약 8:2 비율로 나뉘었다."
      ],
      "metadata": {
        "id": "wg6d5hF8_XjD"
      }
    },
    {
      "cell_type": "code",
      "execution_count": 29,
      "source": [
        "train.head(3)"
      ],
      "outputs": [
        {
          "output_type": "execute_result",
          "data": {
            "text/html": [
              "\n",
              "  <div id=\"df-6d243f8f-7148-41da-9f2e-e4b1855009d3\">\n",
              "    <div class=\"colab-df-container\">\n",
              "      <div>\n",
              "<style scoped>\n",
              "    .dataframe tbody tr th:only-of-type {\n",
              "        vertical-align: middle;\n",
              "    }\n",
              "\n",
              "    .dataframe tbody tr th {\n",
              "        vertical-align: top;\n",
              "    }\n",
              "\n",
              "    .dataframe thead th {\n",
              "        text-align: right;\n",
              "    }\n",
              "</style>\n",
              "<table border=\"1\" class=\"dataframe\">\n",
              "  <thead>\n",
              "    <tr style=\"text-align: right;\">\n",
              "      <th></th>\n",
              "      <th>name</th>\n",
              "      <th>headline</th>\n",
              "      <th>date</th>\n",
              "      <th>change</th>\n",
              "    </tr>\n",
              "  </thead>\n",
              "  <tbody>\n",
              "    <tr>\n",
              "      <th>0</th>\n",
              "      <td>삼성전자</td>\n",
              "      <td>TV 재계 총수들 일자리 창출과 투자 확대 강조</td>\n",
              "      <td>2012-01-02</td>\n",
              "      <td>1</td>\n",
              "    </tr>\n",
              "    <tr>\n",
              "      <th>1</th>\n",
              "      <td>삼성전자</td>\n",
              "      <td>오너 세들 전진배치 명과 암</td>\n",
              "      <td>2012-01-02</td>\n",
              "      <td>1</td>\n",
              "    </tr>\n",
              "    <tr>\n",
              "      <th>2</th>\n",
              "      <td>삼성전자</td>\n",
              "      <td>안철수연구소 개장 첫날 또 상한가</td>\n",
              "      <td>2012-01-02</td>\n",
              "      <td>1</td>\n",
              "    </tr>\n",
              "  </tbody>\n",
              "</table>\n",
              "</div>\n",
              "      <button class=\"colab-df-convert\" onclick=\"convertToInteractive('df-6d243f8f-7148-41da-9f2e-e4b1855009d3')\"\n",
              "              title=\"Convert this dataframe to an interactive table.\"\n",
              "              style=\"display:none;\">\n",
              "        \n",
              "  <svg xmlns=\"http://www.w3.org/2000/svg\" height=\"24px\"viewBox=\"0 0 24 24\"\n",
              "       width=\"24px\">\n",
              "    <path d=\"M0 0h24v24H0V0z\" fill=\"none\"/>\n",
              "    <path d=\"M18.56 5.44l.94 2.06.94-2.06 2.06-.94-2.06-.94-.94-2.06-.94 2.06-2.06.94zm-11 1L8.5 8.5l.94-2.06 2.06-.94-2.06-.94L8.5 2.5l-.94 2.06-2.06.94zm10 10l.94 2.06.94-2.06 2.06-.94-2.06-.94-.94-2.06-.94 2.06-2.06.94z\"/><path d=\"M17.41 7.96l-1.37-1.37c-.4-.4-.92-.59-1.43-.59-.52 0-1.04.2-1.43.59L10.3 9.45l-7.72 7.72c-.78.78-.78 2.05 0 2.83L4 21.41c.39.39.9.59 1.41.59.51 0 1.02-.2 1.41-.59l7.78-7.78 2.81-2.81c.8-.78.8-2.07 0-2.86zM5.41 20L4 18.59l7.72-7.72 1.47 1.35L5.41 20z\"/>\n",
              "  </svg>\n",
              "      </button>\n",
              "      \n",
              "  <style>\n",
              "    .colab-df-container {\n",
              "      display:flex;\n",
              "      flex-wrap:wrap;\n",
              "      gap: 12px;\n",
              "    }\n",
              "\n",
              "    .colab-df-convert {\n",
              "      background-color: #E8F0FE;\n",
              "      border: none;\n",
              "      border-radius: 50%;\n",
              "      cursor: pointer;\n",
              "      display: none;\n",
              "      fill: #1967D2;\n",
              "      height: 32px;\n",
              "      padding: 0 0 0 0;\n",
              "      width: 32px;\n",
              "    }\n",
              "\n",
              "    .colab-df-convert:hover {\n",
              "      background-color: #E2EBFA;\n",
              "      box-shadow: 0px 1px 2px rgba(60, 64, 67, 0.3), 0px 1px 3px 1px rgba(60, 64, 67, 0.15);\n",
              "      fill: #174EA6;\n",
              "    }\n",
              "\n",
              "    [theme=dark] .colab-df-convert {\n",
              "      background-color: #3B4455;\n",
              "      fill: #D2E3FC;\n",
              "    }\n",
              "\n",
              "    [theme=dark] .colab-df-convert:hover {\n",
              "      background-color: #434B5C;\n",
              "      box-shadow: 0px 1px 3px 1px rgba(0, 0, 0, 0.15);\n",
              "      filter: drop-shadow(0px 1px 2px rgba(0, 0, 0, 0.3));\n",
              "      fill: #FFFFFF;\n",
              "    }\n",
              "  </style>\n",
              "\n",
              "      <script>\n",
              "        const buttonEl =\n",
              "          document.querySelector('#df-6d243f8f-7148-41da-9f2e-e4b1855009d3 button.colab-df-convert');\n",
              "        buttonEl.style.display =\n",
              "          google.colab.kernel.accessAllowed ? 'block' : 'none';\n",
              "\n",
              "        async function convertToInteractive(key) {\n",
              "          const element = document.querySelector('#df-6d243f8f-7148-41da-9f2e-e4b1855009d3');\n",
              "          const dataTable =\n",
              "            await google.colab.kernel.invokeFunction('convertToInteractive',\n",
              "                                                     [key], {});\n",
              "          if (!dataTable) return;\n",
              "\n",
              "          const docLinkHtml = 'Like what you see? Visit the ' +\n",
              "            '<a target=\"_blank\" href=https://colab.research.google.com/notebooks/data_table.ipynb>data table notebook</a>'\n",
              "            + ' to learn more about interactive tables.';\n",
              "          element.innerHTML = '';\n",
              "          dataTable['output_type'] = 'display_data';\n",
              "          await google.colab.output.renderOutput(dataTable, element);\n",
              "          const docLink = document.createElement('div');\n",
              "          docLink.innerHTML = docLinkHtml;\n",
              "          element.appendChild(docLink);\n",
              "        }\n",
              "      </script>\n",
              "    </div>\n",
              "  </div>\n",
              "  "
            ],
            "text/plain": [
              "   name                    headline       date  change\n",
              "0  삼성전자  TV 재계 총수들 일자리 창출과 투자 확대 강조 2012-01-02       1\n",
              "1  삼성전자             오너 세들 전진배치 명과 암 2012-01-02       1\n",
              "2  삼성전자          안철수연구소 개장 첫날 또 상한가 2012-01-02       1"
            ]
          },
          "metadata": {},
          "execution_count": 29
        }
      ],
      "metadata": {
        "colab": {
          "base_uri": "https://localhost:8080/",
          "height": 143
        },
        "id": "1RRPgHu4_xBb",
        "outputId": "64a673cc-02cc-488d-d418-9a4efec09b86"
      }
    },
    {
      "cell_type": "markdown",
      "source": [
        "- 기존의 공백은 유지되면서 온점과 같은 구두점 등은 모두 제거되었다.\n",
        "\n",
        "- train headline에 공백만 있거나 빈 값을 가진 행이 있다면 Null로 변경하고, Null 값이 존재하는지 확인"
      ],
      "metadata": {
        "id": "B-VZ6OKfBuE6"
      }
    },
    {
      "cell_type": "code",
      "execution_count": 30,
      "source": [
        "train['headline'] = train['headline'].str.replace('^ +', \"\") # white space 데이터를 empty value로 변경\n",
        "train['headline'].replace('', np.nan, inplace=True)\n",
        "print(train.isnull().sum())"
      ],
      "outputs": [
        {
          "output_type": "stream",
          "name": "stdout",
          "text": [
            "name        0\n",
            "headline    0\n",
            "date        0\n",
            "change      0\n",
            "dtype: int64\n"
          ]
        },
        {
          "output_type": "stream",
          "name": "stderr",
          "text": [
            "/usr/local/lib/python3.7/dist-packages/ipykernel_launcher.py:1: SettingWithCopyWarning: \n",
            "A value is trying to be set on a copy of a slice from a DataFrame.\n",
            "Try using .loc[row_indexer,col_indexer] = value instead\n",
            "\n",
            "See the caveats in the documentation: https://pandas.pydata.org/pandas-docs/stable/user_guide/indexing.html#returning-a-view-versus-a-copy\n",
            "  \"\"\"Entry point for launching an IPython kernel.\n",
            "/usr/local/lib/python3.7/dist-packages/pandas/core/series.py:4582: SettingWithCopyWarning: \n",
            "A value is trying to be set on a copy of a slice from a DataFrame\n",
            "\n",
            "See the caveats in the documentation: https://pandas.pydata.org/pandas-docs/stable/user_guide/indexing.html#returning-a-view-versus-a-copy\n",
            "  method=method,\n"
          ]
        }
      ],
      "metadata": {
        "colab": {
          "base_uri": "https://localhost:8080/"
        },
        "id": "soDQdIJLBxPC",
        "outputId": "86e88659-7c15-4c0f-98ac-a7a0d239d715"
      }
    },
    {
      "cell_type": "markdown",
      "source": [
        "- 널 값이 없다"
      ],
      "metadata": {
        "id": "W77nrbQ_CEP6"
      }
    },
    {
      "cell_type": "code",
      "execution_count": 31,
      "source": [
        "len(train), len(train.dropna(how = 'any'))"
      ],
      "outputs": [
        {
          "output_type": "execute_result",
          "data": {
            "text/plain": [
              "(195601, 195601)"
            ]
          },
          "metadata": {},
          "execution_count": 31
        }
      ],
      "metadata": {
        "colab": {
          "base_uri": "https://localhost:8080/"
        },
        "id": "zDLNn-69CECI",
        "outputId": "eb419aaf-29d5-4af7-acb1-bc394c33f6a7"
      }
    },
    {
      "cell_type": "markdown",
      "source": [
        "### test 셋 확인"
      ],
      "metadata": {
        "id": "oREA6OyCCZLe"
      }
    },
    {
      "cell_type": "code",
      "source": [
        "test['headline'] = test['headline'].str.replace('^ +', \"\") # white space 데이터를 empty value로 변경\n",
        "test['headline'].replace('', np.nan, inplace=True)\n",
        "print(test.isnull().sum())"
      ],
      "metadata": {
        "colab": {
          "base_uri": "https://localhost:8080/"
        },
        "id": "-2Kpn8EvVMIV",
        "outputId": "9deae174-4b6e-49e0-8982-290a434a0ef0"
      },
      "execution_count": 32,
      "outputs": [
        {
          "output_type": "stream",
          "name": "stdout",
          "text": [
            "name        0\n",
            "headline    0\n",
            "date        0\n",
            "change      0\n",
            "dtype: int64\n"
          ]
        },
        {
          "output_type": "stream",
          "name": "stderr",
          "text": [
            "/usr/local/lib/python3.7/dist-packages/ipykernel_launcher.py:1: SettingWithCopyWarning: \n",
            "A value is trying to be set on a copy of a slice from a DataFrame.\n",
            "Try using .loc[row_indexer,col_indexer] = value instead\n",
            "\n",
            "See the caveats in the documentation: https://pandas.pydata.org/pandas-docs/stable/user_guide/indexing.html#returning-a-view-versus-a-copy\n",
            "  \"\"\"Entry point for launching an IPython kernel.\n",
            "/usr/local/lib/python3.7/dist-packages/pandas/core/series.py:4582: SettingWithCopyWarning: \n",
            "A value is trying to be set on a copy of a slice from a DataFrame\n",
            "\n",
            "See the caveats in the documentation: https://pandas.pydata.org/pandas-docs/stable/user_guide/indexing.html#returning-a-view-versus-a-copy\n",
            "  method=method,\n"
          ]
        }
      ]
    },
    {
      "cell_type": "code",
      "source": [
        "len(test), len(test.dropna(how = 'any'))"
      ],
      "metadata": {
        "colab": {
          "base_uri": "https://localhost:8080/"
        },
        "id": "w5ZmWq8BVWsz",
        "outputId": "0f7cf180-a7c8-454f-a5af-5917e1f02a90"
      },
      "execution_count": 33,
      "outputs": [
        {
          "output_type": "execute_result",
          "data": {
            "text/plain": [
              "(46126, 46126)"
            ]
          },
          "metadata": {},
          "execution_count": 33
        }
      ]
    },
    {
      "cell_type": "code",
      "source": [
        "test.tail(20)"
      ],
      "metadata": {
        "colab": {
          "base_uri": "https://localhost:8080/",
          "height": 1000
        },
        "id": "GYR_T_aWVjLa",
        "outputId": "4a652bc1-57a9-4cfe-d4eb-6bafbf29e119"
      },
      "execution_count": 34,
      "outputs": [
        {
          "output_type": "execute_result",
          "data": {
            "text/html": [
              "\n",
              "  <div id=\"df-e37b67e7-84e4-46b3-a99c-a22c48501a0e\">\n",
              "    <div class=\"colab-df-container\">\n",
              "      <div>\n",
              "<style scoped>\n",
              "    .dataframe tbody tr th:only-of-type {\n",
              "        vertical-align: middle;\n",
              "    }\n",
              "\n",
              "    .dataframe tbody tr th {\n",
              "        vertical-align: top;\n",
              "    }\n",
              "\n",
              "    .dataframe thead th {\n",
              "        text-align: right;\n",
              "    }\n",
              "</style>\n",
              "<table border=\"1\" class=\"dataframe\">\n",
              "  <thead>\n",
              "    <tr style=\"text-align: right;\">\n",
              "      <th></th>\n",
              "      <th>name</th>\n",
              "      <th>headline</th>\n",
              "      <th>date</th>\n",
              "      <th>change</th>\n",
              "    </tr>\n",
              "  </thead>\n",
              "  <tbody>\n",
              "    <tr>\n",
              "      <th>244697</th>\n",
              "      <td>신한지주</td>\n",
              "      <td>신한금융 그룹 CDO에 김명희 부사장 영입</td>\n",
              "      <td>2021-12-24</td>\n",
              "      <td>0</td>\n",
              "    </tr>\n",
              "    <tr>\n",
              "      <th>244698</th>\n",
              "      <td>신한지주</td>\n",
              "      <td>신한금융 최고 디지털 책임자에 DT 전문가 김명희 영입</td>\n",
              "      <td>2021-12-24</td>\n",
              "      <td>0</td>\n",
              "    </tr>\n",
              "    <tr>\n",
              "      <th>244699</th>\n",
              "      <td>신한지주</td>\n",
              "      <td>신한금융지주 그룹 CDO 김명희 부사장 신규 영입</td>\n",
              "      <td>2021-12-24</td>\n",
              "      <td>0</td>\n",
              "    </tr>\n",
              "    <tr>\n",
              "      <th>244701</th>\n",
              "      <td>신한지주</td>\n",
              "      <td>신한금융 그룹 CDO에 김명희 부사장 신규 영입</td>\n",
              "      <td>2021-12-24</td>\n",
              "      <td>0</td>\n",
              "    </tr>\n",
              "    <tr>\n",
              "      <th>244702</th>\n",
              "      <td>신한지주</td>\n",
              "      <td>신한금융 김명희 전 국가정보자원관리원장 CDO로 영입 IBM 출신</td>\n",
              "      <td>2021-12-24</td>\n",
              "      <td>0</td>\n",
              "    </tr>\n",
              "    <tr>\n",
              "      <th>244703</th>\n",
              "      <td>신한지주</td>\n",
              "      <td>신한금융 김명희 전 국가정보자원관리원장 DT 책임자로 영입</td>\n",
              "      <td>2021-12-24</td>\n",
              "      <td>0</td>\n",
              "    </tr>\n",
              "    <tr>\n",
              "      <th>244704</th>\n",
              "      <td>신한지주</td>\n",
              "      <td>신한은행 안정 방점 임원 인사 디지털 전환 효율화 조직개편도</td>\n",
              "      <td>2021-12-28</td>\n",
              "      <td>1</td>\n",
              "    </tr>\n",
              "    <tr>\n",
              "      <th>244705</th>\n",
              "      <td>신한지주</td>\n",
              "      <td>신한금융 지배구조 투명성 강화 준법경영 부패방지경영 동시 인증</td>\n",
              "      <td>2021-12-29</td>\n",
              "      <td>0</td>\n",
              "    </tr>\n",
              "    <tr>\n",
              "      <th>244706</th>\n",
              "      <td>신한지주</td>\n",
              "      <td>신한금융 준법 부패방지경영 국제표준인증 동시 획득</td>\n",
              "      <td>2021-12-29</td>\n",
              "      <td>0</td>\n",
              "    </tr>\n",
              "    <tr>\n",
              "      <th>244707</th>\n",
              "      <td>신한지주</td>\n",
              "      <td>신한금융 준법경영 부패방지경영 국제표준인증 동시 획득</td>\n",
              "      <td>2021-12-29</td>\n",
              "      <td>0</td>\n",
              "    </tr>\n",
              "    <tr>\n",
              "      <th>244708</th>\n",
              "      <td>신한지주</td>\n",
              "      <td>신한금융 준법 부패방지경영 ISO 인증 획득 ESG 대외적 인정</td>\n",
              "      <td>2021-12-29</td>\n",
              "      <td>0</td>\n",
              "    </tr>\n",
              "    <tr>\n",
              "      <th>244709</th>\n",
              "      <td>신한지주</td>\n",
              "      <td>신한금융 준법경영 및 부패방지경영 ISO인증 동시 획득</td>\n",
              "      <td>2021-12-29</td>\n",
              "      <td>0</td>\n",
              "    </tr>\n",
              "    <tr>\n",
              "      <th>244710</th>\n",
              "      <td>신한지주</td>\n",
              "      <td>신한금융 준법경영 부패방지경영 국제표준 인증 획득</td>\n",
              "      <td>2021-12-29</td>\n",
              "      <td>0</td>\n",
              "    </tr>\n",
              "    <tr>\n",
              "      <th>244711</th>\n",
              "      <td>신한지주</td>\n",
              "      <td>ESG 투자길 막혀 원전 씨마르는 한국 미국 EU는 신중</td>\n",
              "      <td>2021-12-30</td>\n",
              "      <td>0</td>\n",
              "    </tr>\n",
              "    <tr>\n",
              "      <th>244713</th>\n",
              "      <td>신한지주</td>\n",
              "      <td>하이서울기업을 보다 랜섬웨어로부터 기업을 안전하게 기업 맞춤형 정보보안 솔루션</td>\n",
              "      <td>2021-12-30</td>\n",
              "      <td>0</td>\n",
              "    </tr>\n",
              "    <tr>\n",
              "      <th>244714</th>\n",
              "      <td>신한지주</td>\n",
              "      <td>신한 디지털 vs 국민 변화  카드 리딩금융 승부수</td>\n",
              "      <td>2021-12-30</td>\n",
              "      <td>0</td>\n",
              "    </tr>\n",
              "    <tr>\n",
              "      <th>244715</th>\n",
              "      <td>신한지주</td>\n",
              "      <td>순혈주의 이어 유리천장도 깨진다 은행권에 부는 여풍</td>\n",
              "      <td>2021-12-30</td>\n",
              "      <td>0</td>\n",
              "    </tr>\n",
              "    <tr>\n",
              "      <th>244716</th>\n",
              "      <td>신한지주</td>\n",
              "      <td>리딩금융 승자 비은행이 가른다 신한 vs KB 보험 전쟁</td>\n",
              "      <td>2021-12-30</td>\n",
              "      <td>0</td>\n",
              "    </tr>\n",
              "    <tr>\n",
              "      <th>244717</th>\n",
              "      <td>신한지주</td>\n",
              "      <td>은행 개발자 몸값 더 높아진다 부서 넘나들며 플랫폼 특명 완수</td>\n",
              "      <td>2021-12-30</td>\n",
              "      <td>0</td>\n",
              "    </tr>\n",
              "    <tr>\n",
              "      <th>244718</th>\n",
              "      <td>신한지주</td>\n",
              "      <td>배당락에 선 내줬지만 코스피 하락폭 예상보다 작았다</td>\n",
              "      <td>2021-12-30</td>\n",
              "      <td>0</td>\n",
              "    </tr>\n",
              "  </tbody>\n",
              "</table>\n",
              "</div>\n",
              "      <button class=\"colab-df-convert\" onclick=\"convertToInteractive('df-e37b67e7-84e4-46b3-a99c-a22c48501a0e')\"\n",
              "              title=\"Convert this dataframe to an interactive table.\"\n",
              "              style=\"display:none;\">\n",
              "        \n",
              "  <svg xmlns=\"http://www.w3.org/2000/svg\" height=\"24px\"viewBox=\"0 0 24 24\"\n",
              "       width=\"24px\">\n",
              "    <path d=\"M0 0h24v24H0V0z\" fill=\"none\"/>\n",
              "    <path d=\"M18.56 5.44l.94 2.06.94-2.06 2.06-.94-2.06-.94-.94-2.06-.94 2.06-2.06.94zm-11 1L8.5 8.5l.94-2.06 2.06-.94-2.06-.94L8.5 2.5l-.94 2.06-2.06.94zm10 10l.94 2.06.94-2.06 2.06-.94-2.06-.94-.94-2.06-.94 2.06-2.06.94z\"/><path d=\"M17.41 7.96l-1.37-1.37c-.4-.4-.92-.59-1.43-.59-.52 0-1.04.2-1.43.59L10.3 9.45l-7.72 7.72c-.78.78-.78 2.05 0 2.83L4 21.41c.39.39.9.59 1.41.59.51 0 1.02-.2 1.41-.59l7.78-7.78 2.81-2.81c.8-.78.8-2.07 0-2.86zM5.41 20L4 18.59l7.72-7.72 1.47 1.35L5.41 20z\"/>\n",
              "  </svg>\n",
              "      </button>\n",
              "      \n",
              "  <style>\n",
              "    .colab-df-container {\n",
              "      display:flex;\n",
              "      flex-wrap:wrap;\n",
              "      gap: 12px;\n",
              "    }\n",
              "\n",
              "    .colab-df-convert {\n",
              "      background-color: #E8F0FE;\n",
              "      border: none;\n",
              "      border-radius: 50%;\n",
              "      cursor: pointer;\n",
              "      display: none;\n",
              "      fill: #1967D2;\n",
              "      height: 32px;\n",
              "      padding: 0 0 0 0;\n",
              "      width: 32px;\n",
              "    }\n",
              "\n",
              "    .colab-df-convert:hover {\n",
              "      background-color: #E2EBFA;\n",
              "      box-shadow: 0px 1px 2px rgba(60, 64, 67, 0.3), 0px 1px 3px 1px rgba(60, 64, 67, 0.15);\n",
              "      fill: #174EA6;\n",
              "    }\n",
              "\n",
              "    [theme=dark] .colab-df-convert {\n",
              "      background-color: #3B4455;\n",
              "      fill: #D2E3FC;\n",
              "    }\n",
              "\n",
              "    [theme=dark] .colab-df-convert:hover {\n",
              "      background-color: #434B5C;\n",
              "      box-shadow: 0px 1px 3px 1px rgba(0, 0, 0, 0.15);\n",
              "      filter: drop-shadow(0px 1px 2px rgba(0, 0, 0, 0.3));\n",
              "      fill: #FFFFFF;\n",
              "    }\n",
              "  </style>\n",
              "\n",
              "      <script>\n",
              "        const buttonEl =\n",
              "          document.querySelector('#df-e37b67e7-84e4-46b3-a99c-a22c48501a0e button.colab-df-convert');\n",
              "        buttonEl.style.display =\n",
              "          google.colab.kernel.accessAllowed ? 'block' : 'none';\n",
              "\n",
              "        async function convertToInteractive(key) {\n",
              "          const element = document.querySelector('#df-e37b67e7-84e4-46b3-a99c-a22c48501a0e');\n",
              "          const dataTable =\n",
              "            await google.colab.kernel.invokeFunction('convertToInteractive',\n",
              "                                                     [key], {});\n",
              "          if (!dataTable) return;\n",
              "\n",
              "          const docLinkHtml = 'Like what you see? Visit the ' +\n",
              "            '<a target=\"_blank\" href=https://colab.research.google.com/notebooks/data_table.ipynb>data table notebook</a>'\n",
              "            + ' to learn more about interactive tables.';\n",
              "          element.innerHTML = '';\n",
              "          dataTable['output_type'] = 'display_data';\n",
              "          await google.colab.output.renderOutput(dataTable, element);\n",
              "          const docLink = document.createElement('div');\n",
              "          docLink.innerHTML = docLinkHtml;\n",
              "          element.appendChild(docLink);\n",
              "        }\n",
              "      </script>\n",
              "    </div>\n",
              "  </div>\n",
              "  "
            ],
            "text/plain": [
              "        name                                      headline       date  change\n",
              "244697  신한지주                       신한금융 그룹 CDO에 김명희 부사장 영입 2021-12-24       0\n",
              "244698  신한지주                신한금융 최고 디지털 책임자에 DT 전문가 김명희 영입 2021-12-24       0\n",
              "244699  신한지주                   신한금융지주 그룹 CDO 김명희 부사장 신규 영입 2021-12-24       0\n",
              "244701  신한지주                    신한금융 그룹 CDO에 김명희 부사장 신규 영입 2021-12-24       0\n",
              "244702  신한지주          신한금융 김명희 전 국가정보자원관리원장 CDO로 영입 IBM 출신 2021-12-24       0\n",
              "244703  신한지주              신한금융 김명희 전 국가정보자원관리원장 DT 책임자로 영입 2021-12-24       0\n",
              "244704  신한지주             신한은행 안정 방점 임원 인사 디지털 전환 효율화 조직개편도 2021-12-28       1\n",
              "244705  신한지주            신한금융 지배구조 투명성 강화 준법경영 부패방지경영 동시 인증 2021-12-29       0\n",
              "244706  신한지주                   신한금융 준법 부패방지경영 국제표준인증 동시 획득 2021-12-29       0\n",
              "244707  신한지주                 신한금융 준법경영 부패방지경영 국제표준인증 동시 획득 2021-12-29       0\n",
              "244708  신한지주           신한금융 준법 부패방지경영 ISO 인증 획득 ESG 대외적 인정 2021-12-29       0\n",
              "244709  신한지주                신한금융 준법경영 및 부패방지경영 ISO인증 동시 획득 2021-12-29       0\n",
              "244710  신한지주                   신한금융 준법경영 부패방지경영 국제표준 인증 획득 2021-12-29       0\n",
              "244711  신한지주               ESG 투자길 막혀 원전 씨마르는 한국 미국 EU는 신중 2021-12-30       0\n",
              "244713  신한지주  하이서울기업을 보다 랜섬웨어로부터 기업을 안전하게 기업 맞춤형 정보보안 솔루션  2021-12-30       0\n",
              "244714  신한지주                  신한 디지털 vs 국민 변화  카드 리딩금융 승부수 2021-12-30       0\n",
              "244715  신한지주                  순혈주의 이어 유리천장도 깨진다 은행권에 부는 여풍 2021-12-30       0\n",
              "244716  신한지주               리딩금융 승자 비은행이 가른다 신한 vs KB 보험 전쟁 2021-12-30       0\n",
              "244717  신한지주            은행 개발자 몸값 더 높아진다 부서 넘나들며 플랫폼 특명 완수 2021-12-30       0\n",
              "244718  신한지주                  배당락에 선 내줬지만 코스피 하락폭 예상보다 작았다 2021-12-30       0"
            ]
          },
          "metadata": {},
          "execution_count": 34
        }
      ]
    },
    {
      "cell_type": "markdown",
      "source": [
        "---"
      ],
      "metadata": {
        "id": "CDK-vQwpVtml"
      }
    },
    {
      "cell_type": "markdown",
      "source": [
        "## 토큰화 (Tokenization)\n",
        "- 토큰화 과정에서 불용어를 제거할 예정.\n",
        "- 불용어는 정의하기 나름, 한국어의 조사, 접속사 등의 보편적인 불용어를 사용하며,\n",
        "- 추가적으로 풀고자 하는 문제의 데이터를 지속 검토하면서 계속해서 추가해야함.\n",
        "- 따라서 headline의 텍스트를 유심히 살펴보면서 추가적인 불용어를 선정해줘야 함."
      ],
      "metadata": {
        "id": "jKVGRq9DCodi"
      }
    },
    {
      "cell_type": "code",
      "execution_count": null,
      "source": [
        "# 초기 불용어 선정 -> 한글자로 구성된 토큰 및 조사 제거\n",
        "stopwords = ['의','가','이','은','들','는','좀','잘','걍','과','으로','도','을','를','자','에','와','한','하다','에서','에게'] "
      ],
      "outputs": [],
      "metadata": {
        "id": "KhOET98MCunp"
      }
    }
  ]
}