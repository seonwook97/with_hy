{
  "nbformat": 4,
  "nbformat_minor": 2,
  "metadata": {
    "colab": {
      "name": "mecab_neutral_remove.ipynb",
      "provenance": [],
      "collapsed_sections": []
    },
    "kernelspec": {
      "name": "python3",
      "display_name": "Python 3"
    },
    "language_info": {
      "name": "python"
    },
    "accelerator": "GPU"
  },
  "cells": [
    {
      "cell_type": "markdown",
      "source": [
        "## 기존 불용어 사전에 추가하는 방식\r\n",
        "  - 헤드라인은 명사 위주의 단어로 명사로 판단하기(품사선택은 추후 변경 가능)\r\n",
        "  - 1글자 단어 제외(2글자 이상의 단어만 판단)\r\n",
        "  \r\n",
        "## 꼭 확인해야 되는 요소\r\n",
        "- okt, mecab 등 한글 형태소 분석에 따라 추출되는 단어가 다르다는 점\r\n",
        "- 자연어 처리 형태소 분석기 각각 독립적으로 판단해서 최종 결과치를 산출하고,\r\n",
        "- okt와 mecab에서 공통으로 선정한 불용어 사전으로만 학습 진행한 최종 결과치를 또 okt, mecab을 써서 2번과 비교\r\n",
        "- 가장 best 값을 나타낸 결과를 우리의 결과로 활용해볼 것\r\n",
        "\r\n",
        "\r\n",
        "+ 추가 피드백 받은 것: 중립단어를 미리 제거하지 말고, 모델까지 다 돌려본 후 비교하는 과정으로 처리해볼것! "
      ],
      "metadata": {
        "id": "9s6Te4cnkeGy"
      }
    },
    {
      "cell_type": "markdown",
      "source": [
        "## 최종 선정 전처리\r\n",
        "- okt, mecab으로 형태소 분석 후 실질 형태소(뜻을 내포하는 핵심 형태소) 중심으로 판단하기에 mecab이 정확도와 속도에서 적절하다고 판단\r\n",
        "- mecab으로 분리한 형태소에서 noise라고 판단하는 text는 삭제(3000여개)--> 부고, 인사 등 상승/하락에 영향이 없는 text\r\n",
        "- ngram을 통해 시황이라는 내용이 상승/하락과 무관하다는 판단으로 시황이 들어간 wording 제거(8000여개)\r\n",
        "- "
      ],
      "metadata": {}
    },
    {
      "cell_type": "code",
      "execution_count": 1,
      "source": [
        "!sudo apt-get install -y fonts-nanum #코랩 한글 폰트 꺠짐 방지 폰트 설치\r\n",
        "!sudo fc-cache -fv\r\n",
        "!rm ~/.cache/matplotlib -rf"
      ],
      "outputs": [
        {
          "output_type": "stream",
          "name": "stdout",
          "text": [
            "Reading package lists... Done\n",
            "Building dependency tree       \n",
            "Reading state information... Done\n",
            "The following NEW packages will be installed:\n",
            "  fonts-nanum\n",
            "0 upgraded, 1 newly installed, 0 to remove and 37 not upgraded.\n",
            "Need to get 9,604 kB of archives.\n",
            "After this operation, 29.5 MB of additional disk space will be used.\n",
            "Get:1 http://archive.ubuntu.com/ubuntu bionic/universe amd64 fonts-nanum all 20170925-1 [9,604 kB]\n",
            "Fetched 9,604 kB in 1s (8,315 kB/s)\n",
            "debconf: unable to initialize frontend: Dialog\n",
            "debconf: (No usable dialog-like program is installed, so the dialog based frontend cannot be used. at /usr/share/perl5/Debconf/FrontEnd/Dialog.pm line 76, <> line 1.)\n",
            "debconf: falling back to frontend: Readline\n",
            "debconf: unable to initialize frontend: Readline\n",
            "debconf: (This frontend requires a controlling tty.)\n",
            "debconf: falling back to frontend: Teletype\n",
            "dpkg-preconfigure: unable to re-open stdin: \n",
            "Selecting previously unselected package fonts-nanum.\n",
            "(Reading database ... 155229 files and directories currently installed.)\n",
            "Preparing to unpack .../fonts-nanum_20170925-1_all.deb ...\n",
            "Unpacking fonts-nanum (20170925-1) ...\n",
            "Setting up fonts-nanum (20170925-1) ...\n",
            "Processing triggers for fontconfig (2.12.6-0ubuntu2) ...\n",
            "/usr/share/fonts: caching, new cache contents: 0 fonts, 1 dirs\n",
            "/usr/share/fonts/truetype: caching, new cache contents: 0 fonts, 3 dirs\n",
            "/usr/share/fonts/truetype/humor-sans: caching, new cache contents: 1 fonts, 0 dirs\n",
            "/usr/share/fonts/truetype/liberation: caching, new cache contents: 16 fonts, 0 dirs\n",
            "/usr/share/fonts/truetype/nanum: caching, new cache contents: 10 fonts, 0 dirs\n",
            "/usr/local/share/fonts: caching, new cache contents: 0 fonts, 0 dirs\n",
            "/root/.local/share/fonts: skipping, no such directory\n",
            "/root/.fonts: skipping, no such directory\n",
            "/var/cache/fontconfig: cleaning cache directory\n",
            "/root/.cache/fontconfig: not cleaning non-existent cache directory\n",
            "/root/.fontconfig: not cleaning non-existent cache directory\n",
            "fc-cache: succeeded\n"
          ]
        }
      ],
      "metadata": {
        "colab": {
          "base_uri": "https://localhost:8080/"
        },
        "id": "Q1JhXYgGUKIS",
        "outputId": "93c919ab-5dec-4d9d-98ce-6e8a044d7f23"
      }
    },
    {
      "cell_type": "code",
      "execution_count": 53,
      "source": [
        "import pandas as pd\r\n",
        "import numpy as np\r\n",
        "import matplotlib.pyplot as plt\r\n",
        "import matplotlib.font_manager as fm\r\n",
        "import seaborn as sns\r\n",
        "\r\n",
        "import warnings\r\n",
        "warnings.filterwarnings('ignore')\r\n",
        "\r\n",
        "# 한국어 출력\r\n",
        "fontpath = '/usr/share/fonts/truetype/nanum/NanumBarunGothic.ttf'\r\n",
        "font = fm.FontProperties(fname=fontpath,size=9)\r\n",
        "plt.rc('font',family='NanumBarunGothic')\r\n"
      ],
      "outputs": [],
      "metadata": {
        "id": "4RmJwv6Cm7wn"
      }
    },
    {
      "cell_type": "markdown",
      "source": [
        "- train/test를 연도별로 index 기준으로 구분지을 예정이므로 date 기준으로 정렬한 후, index를 다시 매긴다. "
      ],
      "metadata": {
        "id": "Plq0DUIYrh3p"
      }
    },
    {
      "cell_type": "code",
      "execution_count": 98,
      "source": [
        "df = pd.read_csv('/content/drive/MyDrive/final_project/crawling_datasets.csv',index_col=0)\r\n",
        "df = df.sort_values(by='date')\r\n",
        "df.reset_index(inplace=True)\r\n",
        "del df['index']\r\n",
        "df"
      ],
      "outputs": [
        {
          "output_type": "execute_result",
          "data": {
            "text/html": [
              "\n",
              "  <div id=\"df-750f6ed2-4c18-4649-9fd6-2c0be3026333\">\n",
              "    <div class=\"colab-df-container\">\n",
              "      <div>\n",
              "<style scoped>\n",
              "    .dataframe tbody tr th:only-of-type {\n",
              "        vertical-align: middle;\n",
              "    }\n",
              "\n",
              "    .dataframe tbody tr th {\n",
              "        vertical-align: top;\n",
              "    }\n",
              "\n",
              "    .dataframe thead th {\n",
              "        text-align: right;\n",
              "    }\n",
              "</style>\n",
              "<table border=\"1\" class=\"dataframe\">\n",
              "  <thead>\n",
              "    <tr style=\"text-align: right;\">\n",
              "      <th></th>\n",
              "      <th>name</th>\n",
              "      <th>headline</th>\n",
              "      <th>date</th>\n",
              "      <th>change</th>\n",
              "    </tr>\n",
              "  </thead>\n",
              "  <tbody>\n",
              "    <tr>\n",
              "      <th>0</th>\n",
              "      <td>삼성전자</td>\n",
              "      <td>[TV] 재계 총수들, 일자리 창출과 투자 확대 강조</td>\n",
              "      <td>2012-01-02</td>\n",
              "      <td>1</td>\n",
              "    </tr>\n",
              "    <tr>\n",
              "      <th>1</th>\n",
              "      <td>셀트리온</td>\n",
              "      <td>[시황]상승동력 부재… 코스피, 하락 전환</td>\n",
              "      <td>2012-01-02</td>\n",
              "      <td>0</td>\n",
              "    </tr>\n",
              "    <tr>\n",
              "      <th>2</th>\n",
              "      <td>셀트리온</td>\n",
              "      <td>코스닥, 새해 첫 거래일 소폭 오름세 지속</td>\n",
              "      <td>2012-01-02</td>\n",
              "      <td>0</td>\n",
              "    </tr>\n",
              "    <tr>\n",
              "      <th>3</th>\n",
              "      <td>셀트리온</td>\n",
              "      <td>코스닥 새해 첫 거래일 소폭 오름세 지속</td>\n",
              "      <td>2012-01-02</td>\n",
              "      <td>0</td>\n",
              "    </tr>\n",
              "    <tr>\n",
              "      <th>4</th>\n",
              "      <td>셀트리온</td>\n",
              "      <td>[특징주]차바이오·알앤엘 등 바이오株, 연초 '강세'</td>\n",
              "      <td>2012-01-02</td>\n",
              "      <td>0</td>\n",
              "    </tr>\n",
              "    <tr>\n",
              "      <th>...</th>\n",
              "      <td>...</td>\n",
              "      <td>...</td>\n",
              "      <td>...</td>\n",
              "      <td>...</td>\n",
              "    </tr>\n",
              "    <tr>\n",
              "      <th>419439</th>\n",
              "      <td>SK하이닉스</td>\n",
              "      <td>삼성전자만 11조원…연기금, 올해 24조원 팔았다</td>\n",
              "      <td>2021-12-30</td>\n",
              "      <td>1</td>\n",
              "    </tr>\n",
              "    <tr>\n",
              "      <th>419440</th>\n",
              "      <td>SK하이닉스</td>\n",
              "      <td>SK하이닉스, 특별성과급 300% 쏜다</td>\n",
              "      <td>2021-12-30</td>\n",
              "      <td>1</td>\n",
              "    </tr>\n",
              "    <tr>\n",
              "      <th>419441</th>\n",
              "      <td>셀트리온</td>\n",
              "      <td>삼성바이오로직스-셀트리온, 바이오 대장주 희비</td>\n",
              "      <td>2021-12-30</td>\n",
              "      <td>0</td>\n",
              "    </tr>\n",
              "    <tr>\n",
              "      <th>419442</th>\n",
              "      <td>LG화학</td>\n",
              "      <td>3300도 뚫더니... '용두사미' 코스피, 마이너스 수익률 겨우 면했다</td>\n",
              "      <td>2021-12-30</td>\n",
              "      <td>0</td>\n",
              "    </tr>\n",
              "    <tr>\n",
              "      <th>419443</th>\n",
              "      <td>신한지주</td>\n",
              "      <td>배당락에 3000선 내줬지만…“코스피 하락폭 예상보다 작았다”</td>\n",
              "      <td>2021-12-30</td>\n",
              "      <td>0</td>\n",
              "    </tr>\n",
              "  </tbody>\n",
              "</table>\n",
              "<p>419444 rows × 4 columns</p>\n",
              "</div>\n",
              "      <button class=\"colab-df-convert\" onclick=\"convertToInteractive('df-750f6ed2-4c18-4649-9fd6-2c0be3026333')\"\n",
              "              title=\"Convert this dataframe to an interactive table.\"\n",
              "              style=\"display:none;\">\n",
              "        \n",
              "  <svg xmlns=\"http://www.w3.org/2000/svg\" height=\"24px\"viewBox=\"0 0 24 24\"\n",
              "       width=\"24px\">\n",
              "    <path d=\"M0 0h24v24H0V0z\" fill=\"none\"/>\n",
              "    <path d=\"M18.56 5.44l.94 2.06.94-2.06 2.06-.94-2.06-.94-.94-2.06-.94 2.06-2.06.94zm-11 1L8.5 8.5l.94-2.06 2.06-.94-2.06-.94L8.5 2.5l-.94 2.06-2.06.94zm10 10l.94 2.06.94-2.06 2.06-.94-2.06-.94-.94-2.06-.94 2.06-2.06.94z\"/><path d=\"M17.41 7.96l-1.37-1.37c-.4-.4-.92-.59-1.43-.59-.52 0-1.04.2-1.43.59L10.3 9.45l-7.72 7.72c-.78.78-.78 2.05 0 2.83L4 21.41c.39.39.9.59 1.41.59.51 0 1.02-.2 1.41-.59l7.78-7.78 2.81-2.81c.8-.78.8-2.07 0-2.86zM5.41 20L4 18.59l7.72-7.72 1.47 1.35L5.41 20z\"/>\n",
              "  </svg>\n",
              "      </button>\n",
              "      \n",
              "  <style>\n",
              "    .colab-df-container {\n",
              "      display:flex;\n",
              "      flex-wrap:wrap;\n",
              "      gap: 12px;\n",
              "    }\n",
              "\n",
              "    .colab-df-convert {\n",
              "      background-color: #E8F0FE;\n",
              "      border: none;\n",
              "      border-radius: 50%;\n",
              "      cursor: pointer;\n",
              "      display: none;\n",
              "      fill: #1967D2;\n",
              "      height: 32px;\n",
              "      padding: 0 0 0 0;\n",
              "      width: 32px;\n",
              "    }\n",
              "\n",
              "    .colab-df-convert:hover {\n",
              "      background-color: #E2EBFA;\n",
              "      box-shadow: 0px 1px 2px rgba(60, 64, 67, 0.3), 0px 1px 3px 1px rgba(60, 64, 67, 0.15);\n",
              "      fill: #174EA6;\n",
              "    }\n",
              "\n",
              "    [theme=dark] .colab-df-convert {\n",
              "      background-color: #3B4455;\n",
              "      fill: #D2E3FC;\n",
              "    }\n",
              "\n",
              "    [theme=dark] .colab-df-convert:hover {\n",
              "      background-color: #434B5C;\n",
              "      box-shadow: 0px 1px 3px 1px rgba(0, 0, 0, 0.15);\n",
              "      filter: drop-shadow(0px 1px 2px rgba(0, 0, 0, 0.3));\n",
              "      fill: #FFFFFF;\n",
              "    }\n",
              "  </style>\n",
              "\n",
              "      <script>\n",
              "        const buttonEl =\n",
              "          document.querySelector('#df-750f6ed2-4c18-4649-9fd6-2c0be3026333 button.colab-df-convert');\n",
              "        buttonEl.style.display =\n",
              "          google.colab.kernel.accessAllowed ? 'block' : 'none';\n",
              "\n",
              "        async function convertToInteractive(key) {\n",
              "          const element = document.querySelector('#df-750f6ed2-4c18-4649-9fd6-2c0be3026333');\n",
              "          const dataTable =\n",
              "            await google.colab.kernel.invokeFunction('convertToInteractive',\n",
              "                                                     [key], {});\n",
              "          if (!dataTable) return;\n",
              "\n",
              "          const docLinkHtml = 'Like what you see? Visit the ' +\n",
              "            '<a target=\"_blank\" href=https://colab.research.google.com/notebooks/data_table.ipynb>data table notebook</a>'\n",
              "            + ' to learn more about interactive tables.';\n",
              "          element.innerHTML = '';\n",
              "          dataTable['output_type'] = 'display_data';\n",
              "          await google.colab.output.renderOutput(dataTable, element);\n",
              "          const docLink = document.createElement('div');\n",
              "          docLink.innerHTML = docLinkHtml;\n",
              "          element.appendChild(docLink);\n",
              "        }\n",
              "      </script>\n",
              "    </div>\n",
              "  </div>\n",
              "  "
            ],
            "text/plain": [
              "          name                                  headline        date  change\n",
              "0         삼성전자             [TV] 재계 총수들, 일자리 창출과 투자 확대 강조  2012-01-02       1\n",
              "1         셀트리온                   [시황]상승동력 부재… 코스피, 하락 전환  2012-01-02       0\n",
              "2         셀트리온                   코스닥, 새해 첫 거래일 소폭 오름세 지속  2012-01-02       0\n",
              "3         셀트리온                    코스닥 새해 첫 거래일 소폭 오름세 지속  2012-01-02       0\n",
              "4         셀트리온             [특징주]차바이오·알앤엘 등 바이오株, 연초 '강세'  2012-01-02       0\n",
              "...        ...                                       ...         ...     ...\n",
              "419439  SK하이닉스               삼성전자만 11조원…연기금, 올해 24조원 팔았다  2021-12-30       1\n",
              "419440  SK하이닉스                     SK하이닉스, 특별성과급 300% 쏜다  2021-12-30       1\n",
              "419441    셀트리온                 삼성바이오로직스-셀트리온, 바이오 대장주 희비  2021-12-30       0\n",
              "419442    LG화학  3300도 뚫더니... '용두사미' 코스피, 마이너스 수익률 겨우 면했다  2021-12-30       0\n",
              "419443    신한지주        배당락에 3000선 내줬지만…“코스피 하락폭 예상보다 작았다”  2021-12-30       0\n",
              "\n",
              "[419444 rows x 4 columns]"
            ]
          },
          "metadata": {},
          "execution_count": 98
        }
      ],
      "metadata": {
        "colab": {
          "base_uri": "https://localhost:8080/",
          "height": 423
        },
        "id": "w23FGKNDsJBS",
        "outputId": "9a5a346c-05e5-4cf6-ddf7-d5e3249a0701"
      }
    },
    {
      "cell_type": "code",
      "execution_count": 100,
      "source": [
        "df['date'] = pd.to_datetime(df['date'])\r\n",
        "df.info()"
      ],
      "outputs": [
        {
          "output_type": "stream",
          "name": "stdout",
          "text": [
            "<class 'pandas.core.frame.DataFrame'>\n",
            "RangeIndex: 419444 entries, 0 to 419443\n",
            "Data columns (total 4 columns):\n",
            " #   Column    Non-Null Count   Dtype         \n",
            "---  ------    --------------   -----         \n",
            " 0   name      419444 non-null  object        \n",
            " 1   headline  419444 non-null  object        \n",
            " 2   date      419444 non-null  datetime64[ns]\n",
            " 3   change    419444 non-null  int64         \n",
            "dtypes: datetime64[ns](1), int64(1), object(2)\n",
            "memory usage: 12.8+ MB\n"
          ]
        }
      ],
      "metadata": {
        "colab": {
          "base_uri": "https://localhost:8080/"
        },
        "id": "GMXn5ZWYtkE_",
        "outputId": "0ead311e-0a82-4a09-e17b-6b3036e230cf"
      }
    },
    {
      "cell_type": "code",
      "execution_count": 101,
      "source": [
        "# 중복으로 제거할 모든 rows의 index 확인 후 제거\r\n",
        "\r\n",
        "temp = df.duplicated(subset='headline',keep=False)\r\n",
        "\r\n",
        "df_duplicate = df.loc[temp,:]\r\n",
        "erase_idx = df_duplicate.index.tolist()\r\n",
        "erase_idx[:5], len(erase_idx)"
      ],
      "outputs": [
        {
          "output_type": "execute_result",
          "data": {
            "text/plain": [
              "([9, 10, 11, 12, 13], 174725)"
            ]
          },
          "metadata": {},
          "execution_count": 101
        }
      ],
      "metadata": {
        "colab": {
          "base_uri": "https://localhost:8080/"
        },
        "id": "e6F2eAiFOPvm",
        "outputId": "209ad753-4614-4ed1-80a9-0885ea34ec1d"
      }
    },
    {
      "cell_type": "code",
      "execution_count": 102,
      "source": [
        "df = df.drop(index=erase_idx)\r\n",
        "df.reset_index(inplace=True)\r\n",
        "del df['index']\r\n",
        "df"
      ],
      "outputs": [
        {
          "output_type": "execute_result",
          "data": {
            "text/html": [
              "\n",
              "  <div id=\"df-03fee4d6-8411-4459-a8ed-a3e81bbdc1a6\">\n",
              "    <div class=\"colab-df-container\">\n",
              "      <div>\n",
              "<style scoped>\n",
              "    .dataframe tbody tr th:only-of-type {\n",
              "        vertical-align: middle;\n",
              "    }\n",
              "\n",
              "    .dataframe tbody tr th {\n",
              "        vertical-align: top;\n",
              "    }\n",
              "\n",
              "    .dataframe thead th {\n",
              "        text-align: right;\n",
              "    }\n",
              "</style>\n",
              "<table border=\"1\" class=\"dataframe\">\n",
              "  <thead>\n",
              "    <tr style=\"text-align: right;\">\n",
              "      <th></th>\n",
              "      <th>name</th>\n",
              "      <th>headline</th>\n",
              "      <th>date</th>\n",
              "      <th>change</th>\n",
              "    </tr>\n",
              "  </thead>\n",
              "  <tbody>\n",
              "    <tr>\n",
              "      <th>0</th>\n",
              "      <td>삼성전자</td>\n",
              "      <td>[TV] 재계 총수들, 일자리 창출과 투자 확대 강조</td>\n",
              "      <td>2012-01-02</td>\n",
              "      <td>1</td>\n",
              "    </tr>\n",
              "    <tr>\n",
              "      <th>1</th>\n",
              "      <td>셀트리온</td>\n",
              "      <td>[시황]상승동력 부재… 코스피, 하락 전환</td>\n",
              "      <td>2012-01-02</td>\n",
              "      <td>0</td>\n",
              "    </tr>\n",
              "    <tr>\n",
              "      <th>2</th>\n",
              "      <td>셀트리온</td>\n",
              "      <td>코스닥, 새해 첫 거래일 소폭 오름세 지속</td>\n",
              "      <td>2012-01-02</td>\n",
              "      <td>0</td>\n",
              "    </tr>\n",
              "    <tr>\n",
              "      <th>3</th>\n",
              "      <td>셀트리온</td>\n",
              "      <td>코스닥 새해 첫 거래일 소폭 오름세 지속</td>\n",
              "      <td>2012-01-02</td>\n",
              "      <td>0</td>\n",
              "    </tr>\n",
              "    <tr>\n",
              "      <th>4</th>\n",
              "      <td>셀트리온</td>\n",
              "      <td>[특징주]차바이오·알앤엘 등 바이오株, 연초 '강세'</td>\n",
              "      <td>2012-01-02</td>\n",
              "      <td>0</td>\n",
              "    </tr>\n",
              "    <tr>\n",
              "      <th>...</th>\n",
              "      <td>...</td>\n",
              "      <td>...</td>\n",
              "      <td>...</td>\n",
              "      <td>...</td>\n",
              "    </tr>\n",
              "    <tr>\n",
              "      <th>244714</th>\n",
              "      <td>SK하이닉스</td>\n",
              "      <td>\"코로나 봉쇄로 삼성 시안공장 생산 줄여…메모리 공급사 주가에는 긍정적 영향\"</td>\n",
              "      <td>2021-12-30</td>\n",
              "      <td>1</td>\n",
              "    </tr>\n",
              "    <tr>\n",
              "      <th>244715</th>\n",
              "      <td>SK하이닉스</td>\n",
              "      <td>SK하이닉스, 인텔 낸드 1단계 인수</td>\n",
              "      <td>2021-12-30</td>\n",
              "      <td>1</td>\n",
              "    </tr>\n",
              "    <tr>\n",
              "      <th>244716</th>\n",
              "      <td>SK하이닉스</td>\n",
              "      <td>SK하이닉스, 특별성과급 300% 쏜다</td>\n",
              "      <td>2021-12-30</td>\n",
              "      <td>1</td>\n",
              "    </tr>\n",
              "    <tr>\n",
              "      <th>244717</th>\n",
              "      <td>셀트리온</td>\n",
              "      <td>삼성바이오로직스-셀트리온, 바이오 대장주 희비</td>\n",
              "      <td>2021-12-30</td>\n",
              "      <td>0</td>\n",
              "    </tr>\n",
              "    <tr>\n",
              "      <th>244718</th>\n",
              "      <td>신한지주</td>\n",
              "      <td>배당락에 3000선 내줬지만…“코스피 하락폭 예상보다 작았다”</td>\n",
              "      <td>2021-12-30</td>\n",
              "      <td>0</td>\n",
              "    </tr>\n",
              "  </tbody>\n",
              "</table>\n",
              "<p>244719 rows × 4 columns</p>\n",
              "</div>\n",
              "      <button class=\"colab-df-convert\" onclick=\"convertToInteractive('df-03fee4d6-8411-4459-a8ed-a3e81bbdc1a6')\"\n",
              "              title=\"Convert this dataframe to an interactive table.\"\n",
              "              style=\"display:none;\">\n",
              "        \n",
              "  <svg xmlns=\"http://www.w3.org/2000/svg\" height=\"24px\"viewBox=\"0 0 24 24\"\n",
              "       width=\"24px\">\n",
              "    <path d=\"M0 0h24v24H0V0z\" fill=\"none\"/>\n",
              "    <path d=\"M18.56 5.44l.94 2.06.94-2.06 2.06-.94-2.06-.94-.94-2.06-.94 2.06-2.06.94zm-11 1L8.5 8.5l.94-2.06 2.06-.94-2.06-.94L8.5 2.5l-.94 2.06-2.06.94zm10 10l.94 2.06.94-2.06 2.06-.94-2.06-.94-.94-2.06-.94 2.06-2.06.94z\"/><path d=\"M17.41 7.96l-1.37-1.37c-.4-.4-.92-.59-1.43-.59-.52 0-1.04.2-1.43.59L10.3 9.45l-7.72 7.72c-.78.78-.78 2.05 0 2.83L4 21.41c.39.39.9.59 1.41.59.51 0 1.02-.2 1.41-.59l7.78-7.78 2.81-2.81c.8-.78.8-2.07 0-2.86zM5.41 20L4 18.59l7.72-7.72 1.47 1.35L5.41 20z\"/>\n",
              "  </svg>\n",
              "      </button>\n",
              "      \n",
              "  <style>\n",
              "    .colab-df-container {\n",
              "      display:flex;\n",
              "      flex-wrap:wrap;\n",
              "      gap: 12px;\n",
              "    }\n",
              "\n",
              "    .colab-df-convert {\n",
              "      background-color: #E8F0FE;\n",
              "      border: none;\n",
              "      border-radius: 50%;\n",
              "      cursor: pointer;\n",
              "      display: none;\n",
              "      fill: #1967D2;\n",
              "      height: 32px;\n",
              "      padding: 0 0 0 0;\n",
              "      width: 32px;\n",
              "    }\n",
              "\n",
              "    .colab-df-convert:hover {\n",
              "      background-color: #E2EBFA;\n",
              "      box-shadow: 0px 1px 2px rgba(60, 64, 67, 0.3), 0px 1px 3px 1px rgba(60, 64, 67, 0.15);\n",
              "      fill: #174EA6;\n",
              "    }\n",
              "\n",
              "    [theme=dark] .colab-df-convert {\n",
              "      background-color: #3B4455;\n",
              "      fill: #D2E3FC;\n",
              "    }\n",
              "\n",
              "    [theme=dark] .colab-df-convert:hover {\n",
              "      background-color: #434B5C;\n",
              "      box-shadow: 0px 1px 3px 1px rgba(0, 0, 0, 0.15);\n",
              "      filter: drop-shadow(0px 1px 2px rgba(0, 0, 0, 0.3));\n",
              "      fill: #FFFFFF;\n",
              "    }\n",
              "  </style>\n",
              "\n",
              "      <script>\n",
              "        const buttonEl =\n",
              "          document.querySelector('#df-03fee4d6-8411-4459-a8ed-a3e81bbdc1a6 button.colab-df-convert');\n",
              "        buttonEl.style.display =\n",
              "          google.colab.kernel.accessAllowed ? 'block' : 'none';\n",
              "\n",
              "        async function convertToInteractive(key) {\n",
              "          const element = document.querySelector('#df-03fee4d6-8411-4459-a8ed-a3e81bbdc1a6');\n",
              "          const dataTable =\n",
              "            await google.colab.kernel.invokeFunction('convertToInteractive',\n",
              "                                                     [key], {});\n",
              "          if (!dataTable) return;\n",
              "\n",
              "          const docLinkHtml = 'Like what you see? Visit the ' +\n",
              "            '<a target=\"_blank\" href=https://colab.research.google.com/notebooks/data_table.ipynb>data table notebook</a>'\n",
              "            + ' to learn more about interactive tables.';\n",
              "          element.innerHTML = '';\n",
              "          dataTable['output_type'] = 'display_data';\n",
              "          await google.colab.output.renderOutput(dataTable, element);\n",
              "          const docLink = document.createElement('div');\n",
              "          docLink.innerHTML = docLinkHtml;\n",
              "          element.appendChild(docLink);\n",
              "        }\n",
              "      </script>\n",
              "    </div>\n",
              "  </div>\n",
              "  "
            ],
            "text/plain": [
              "          name                                     headline       date  change\n",
              "0         삼성전자                [TV] 재계 총수들, 일자리 창출과 투자 확대 강조 2012-01-02       1\n",
              "1         셀트리온                      [시황]상승동력 부재… 코스피, 하락 전환 2012-01-02       0\n",
              "2         셀트리온                      코스닥, 새해 첫 거래일 소폭 오름세 지속 2012-01-02       0\n",
              "3         셀트리온                       코스닥 새해 첫 거래일 소폭 오름세 지속 2012-01-02       0\n",
              "4         셀트리온                [특징주]차바이오·알앤엘 등 바이오株, 연초 '강세' 2012-01-02       0\n",
              "...        ...                                          ...        ...     ...\n",
              "244714  SK하이닉스  \"코로나 봉쇄로 삼성 시안공장 생산 줄여…메모리 공급사 주가에는 긍정적 영향\" 2021-12-30       1\n",
              "244715  SK하이닉스                         SK하이닉스, 인텔 낸드 1단계 인수 2021-12-30       1\n",
              "244716  SK하이닉스                        SK하이닉스, 특별성과급 300% 쏜다 2021-12-30       1\n",
              "244717    셀트리온                    삼성바이오로직스-셀트리온, 바이오 대장주 희비 2021-12-30       0\n",
              "244718    신한지주           배당락에 3000선 내줬지만…“코스피 하락폭 예상보다 작았다” 2021-12-30       0\n",
              "\n",
              "[244719 rows x 4 columns]"
            ]
          },
          "metadata": {},
          "execution_count": 102
        }
      ],
      "metadata": {
        "colab": {
          "base_uri": "https://localhost:8080/",
          "height": 423
        },
        "id": "njbZoeoJvcVs",
        "outputId": "d1757e8e-4c20-4f8a-c71e-c9c73afebe26"
      }
    },
    {
      "cell_type": "markdown",
      "source": [
        "- 특정 종목의 상승 하락과 무관하다고 판단되는 헤드라인은 데이터에서 제외시킨다.\n",
        "- 생톡관심종목,사진,포토, 부고,인사,부음 <표>,프로필, 오늘의 메모,집중관찰,<오늘의 화제주>,특징주,게임소개,업&다운 등 헤드라인 처음에 시작하는 단어 제외시키기\n"
      ],
      "metadata": {
        "id": "xHX4J4cXEmvm"
      }
    },
    {
      "cell_type": "code",
      "execution_count": 58,
      "source": [
        "df_temp = df[~df.headline.str.startswith(\"[인사]\")]\r\n",
        "len(df),len(df_temp)"
      ],
      "outputs": [
        {
          "output_type": "execute_result",
          "data": {
            "text/plain": [
              "(244719, 244620)"
            ]
          },
          "metadata": {},
          "execution_count": 58
        }
      ],
      "metadata": {
        "colab": {
          "base_uri": "https://localhost:8080/"
        },
        "id": "YRoKVcSCuotz",
        "outputId": "e6a905b4-8038-41d4-f736-fb76546462dc"
      }
    },
    {
      "cell_type": "code",
      "execution_count": 103,
      "source": [
        "useless = [\"[생톡관심종목]\",'[사진]','[포토]','[부고]','[인사]','[부음]','<표>','[프로필]','[오늘의 메모]','[집중관찰]','<오늘의 화제주>','[특징주]','[게임소개]','[업&다운]']\r\n",
        "print(\"전체 데이터 개수 : \",len(df))\r\n",
        "for eliminate_word in useless:\r\n",
        "  df = df[~df['headline'].str.startswith(eliminate_word)]\r\n",
        "print(\"남은 데이터 개수 \",len(df))"
      ],
      "outputs": [
        {
          "output_type": "stream",
          "name": "stdout",
          "text": [
            "전체 데이터 개수 :  244719\n",
            "남은 데이터 개수  241726\n"
          ]
        }
      ],
      "metadata": {
        "colab": {
          "base_uri": "https://localhost:8080/"
        },
        "id": "CjMcXIXZtoYT",
        "outputId": "6014a822-e153-4ab7-b704-05e9e6e0d656"
      }
    },
    {
      "cell_type": "markdown",
      "source": [
        "**전체 데이터에서 3000여개 정도 삭제된 것으로 확인됨**"
      ],
      "metadata": {
        "id": "5N4Xe2KHBrO8"
      }
    },
    {
      "cell_type": "code",
      "execution_count": 108,
      "source": [
        "# 시황 내용 포함시 제거 (상승/하락)\r\n",
        "print('시황 키워드 행 제거 전 : ',len(df))\r\n",
        "df = df[~df['headline'].str.contains('시황')]\r\n",
        "print('시황 키워드 행 제거 후 : ',len(df))"
      ],
      "outputs": [
        {
          "output_type": "stream",
          "name": "stdout",
          "text": [
            "시황 키워드 행 제거 전 :  241726\n",
            "시황 키워드 행 제거 후 :  233704\n"
          ]
        }
      ],
      "metadata": {
        "colab": {
          "base_uri": "https://localhost:8080/"
        },
        "id": "UdXf0COdBESD",
        "outputId": "4a50ab7f-e58b-4afd-e397-152217acf2c8"
      }
    },
    {
      "cell_type": "markdown",
      "source": [
        "**해당일의 코스피 가격, 시장을 중계해주는 시황 키워드는 상승/하락에 노이즈로 판단 기존 데이터에서 약 8000개 정도 삭제된 것으로 확인됨**"
      ],
      "metadata": {
        "id": "rU3zUtarE1My"
      }
    },
    {
      "cell_type": "markdown",
      "source": [
        "### 형태소 분석 전 전처리 기준\r\n",
        "- 구두점\r\n",
        "    - 구두점으로 표기된 형태는 공백으로 replace 처리하면서 1차 전처리 진행\r\n",
        "  \r\n",
        "- 한자\r\n",
        "    - 헤드라인에 표기된 한자 자체만으로도 뜻이 있는 경우가 많았기에 자주 사용되는 한자로 표기되는 경우는 한글로 변경 작업 진행\r\n",
        "    - ex) 국가명, 대통령 성씨, 기관(은행, 중소기업, 종목) 등이 포함됨\r\n",
        "  \r\n",
        "- 영어\r\n",
        "    - 영어가 포함된 단어는 종목이름이 과반 이상이나, M&A, R&D, GDP 등 주요 경제 용어가 다수 포함되어 있어 띄어쓰기 기준으로라도 포함 진행\r\n",
        "  \r\n",
        "- 숫자\r\n",
        "    - 숫자는 제외시킴\r\n",
        "    - 경제 관련 기사에서 숫자 지표는 헤드라인 논조에서 중요한 역할을 차지할 수 있으나, 단위, 시간 등에 따라 다른 숫자에 대한 명확한 기준이 없기에 제외시킴\r\n",
        "  \r\n",
        "- 특수문자\r\n",
        "    - ↓ , ↑ 와 같은 경우, 특수문자 자체로도 의미가 형성되므로 하락과 상승으로 변경 후 진행\r\n",
        "\r\n",
        "- 기타\r\n",
        "    - 헤드라인에 \"미리보는\"이라는 단어는 종목 상승,하락에 영향을 미치지 않는 것으로 판단되나 많은 양을 포함하므로 공백으로 제거 \r\n",
        "  \r\n",
        "**1차 전처리가 끝난 후, 한글, 영어, 띄어쓰기를 제외한 모든 표현 삭제(정규표현식 이용)** "
      ],
      "metadata": {
        "id": "8t9TSa9-trIq"
      }
    },
    {
      "cell_type": "code",
      "execution_count": 126,
      "source": [
        "import re\r\n",
        "\r\n",
        "def apply_regular_expression(headline):\r\n",
        "  # 한글 추출 규칙 : 띄어쓰기(1 개)를 포함한 한글과 대문자, ... …는 반드시 공백으로 처리해야 띄어쓰기 유지\r\n",
        "  headline = headline.replace(\"…\",\" \") # 구두점으로 표기하고 띄어쓰기가 반영이 되지 않은 것 처리\r\n",
        "  headline = headline.replace(\"..\",\" \") # 구두점으로 표기하고 띄어쓰기가 반영이 되지 않은 것 처리\r\n",
        "  headline = headline.replace(\"·\",\" \") # 구두점으로 표기하고 띄어쓰기가 반영이 되지 않은 것 처리\r\n",
        "\r\n",
        "  # 국가나 기관등을 한자로 표기하는 경우가 많아 전처리 진행\r\n",
        "  headline = headline.replace(\"中企\",\"중소기업\") # 중국과 혼동 피하기 위해 먼저 전처리(중국과 구분짓기 위함)\r\n",
        "  headline = headline.replace(\"中\",\"중국\")\r\n",
        "  headline = headline.replace(\"日\",\"일본\")\r\n",
        "  headline = headline.replace(\"韓\",\"한국\")\r\n",
        "  headline = headline.replace(\"美\",\"미국\")\r\n",
        "  headline = headline.replace(\"銀\",\"은행\")\r\n",
        "  headline = headline.replace('株','종목') # 많이 쓰이는 한자\r\n",
        "  # 대동령을 한자로 표기하는 경우가 많아 전처리 진행\r\n",
        "  headline = headline.replace('文','문재인')\r\n",
        "  headline = headline.replace('朴','박근혜')\r\n",
        "\r\n",
        "  headline = headline.replace(\"↓\",\" 하락\")\r\n",
        "  headline = headline.replace(\"↑\", \"상승\")\r\n",
        "\r\n",
        "  headline = headline.replace(\"미리보는\",\"\") # 미리보는 삭제\r\n",
        "  headline = re.sub(\"\\s\\s+\" , \" \", headline) # 다중 공백 제거\r\n",
        " \r\n",
        "  hangeul = re.compile('[^ ㄱ-ㅣ 가-힣a-zA-Z]') # 숫자는 배제!\r\n",
        "  result = hangeul.sub('', headline)\r\n",
        "  return result"
      ],
      "outputs": [],
      "metadata": {
        "id": "v_IC8v0gvI4-"
      }
    },
    {
      "cell_type": "code",
      "execution_count": 83,
      "source": [
        "apply_regular_expression('공모가 10% 프리미엄에도 청약경쟁률 663대 1···POSCO 관련종목 흥행 성공')"
      ],
      "outputs": [
        {
          "output_type": "execute_result",
          "data": {
            "application/vnd.google.colaboratory.intrinsic+json": {
              "type": "string"
            },
            "text/plain": [
              "'공모가  프리미엄에도 청약경쟁률 대  POSCO 관련종목 흥행 성공'"
            ]
          },
          "metadata": {},
          "execution_count": 83
        }
      ],
      "metadata": {
        "colab": {
          "base_uri": "https://localhost:8080/",
          "height": 35
        },
        "id": "5S2OLFLPr4SR",
        "outputId": "6c5bec28-7fd0-445e-ed2f-305a923658cf"
      }
    },
    {
      "cell_type": "code",
      "execution_count": null,
      "source": [
        "apply_regular_expression('中企 사회보험료 세액공제 확대')"
      ],
      "outputs": [
        {
          "output_type": "execute_result",
          "data": {
            "application/vnd.google.colaboratory.intrinsic+json": {
              "type": "string"
            },
            "text/plain": [
              "'중소기업 사회보험료 세액공제 확대'"
            ]
          },
          "metadata": {},
          "execution_count": 11
        }
      ],
      "metadata": {
        "colab": {
          "base_uri": "https://localhost:8080/",
          "height": 35
        },
        "id": "TUgSp8L1dCEK",
        "outputId": "0f514448-8198-4823-c136-3f3e6d796277"
      }
    },
    {
      "cell_type": "code",
      "execution_count": 84,
      "source": [
        "apply_regular_expression('sk하이닉스, OCI머티리얼즈 인수…반도체 역량 강화… 상승')"
      ],
      "outputs": [
        {
          "output_type": "execute_result",
          "data": {
            "application/vnd.google.colaboratory.intrinsic+json": {
              "type": "string"
            },
            "text/plain": [
              "'sk하이닉스 OCI머티리얼즈 인수 반도체 역량 강화 상승'"
            ]
          },
          "metadata": {},
          "execution_count": 84
        }
      ],
      "metadata": {
        "colab": {
          "base_uri": "https://localhost:8080/",
          "height": 35
        },
        "id": "nmB9DzXCvq8D",
        "outputId": "4fa795f0-0c06-4cae-a36f-c83b30323175"
      }
    },
    {
      "cell_type": "markdown",
      "source": [
        "- mecab, konlpy 설치"
      ],
      "metadata": {
        "id": "z3vHasPB0aNJ"
      }
    },
    {
      "cell_type": "code",
      "execution_count": 11,
      "source": [
        "!git clone https://github.com/SOMJANG/Mecab-ko-for-Google-Colab.git"
      ],
      "outputs": [
        {
          "output_type": "stream",
          "name": "stdout",
          "text": [
            "Cloning into 'Mecab-ko-for-Google-Colab'...\n",
            "remote: Enumerating objects: 109, done.\u001b[K\n",
            "remote: Counting objects: 100% (18/18), done.\u001b[K\n",
            "remote: Compressing objects: 100% (14/14), done.\u001b[K\n",
            "remote: Total 109 (delta 7), reused 10 (delta 3), pack-reused 91\u001b[K\n",
            "Receiving objects: 100% (109/109), 1.27 MiB | 16.46 MiB/s, done.\n",
            "Resolving deltas: 100% (46/46), done.\n"
          ]
        }
      ],
      "metadata": {
        "colab": {
          "base_uri": "https://localhost:8080/"
        },
        "id": "HLyM2gtjwlf0",
        "outputId": "cf472ed1-f501-40bc-8fc8-f7466e66920b"
      }
    },
    {
      "cell_type": "code",
      "execution_count": 12,
      "source": [
        "cd Mecab-ko-for-Google-Colab/"
      ],
      "outputs": [
        {
          "output_type": "stream",
          "name": "stdout",
          "text": [
            "/content/Mecab-ko-for-Google-Colab\n"
          ]
        }
      ],
      "metadata": {
        "colab": {
          "base_uri": "https://localhost:8080/"
        },
        "id": "RPQ0MQk3bn1p",
        "outputId": "a8634903-f595-47ed-be3d-2b10d76bd5dd"
      }
    },
    {
      "cell_type": "code",
      "execution_count": null,
      "source": [
        "!bash install_mecab-ko_on_colab_light_220111.sh"
      ],
      "outputs": [],
      "metadata": {
        "id": "HlGYcYKAbqMe"
      }
    },
    {
      "cell_type": "code",
      "execution_count": null,
      "source": [
        "!pip install konlpy"
      ],
      "outputs": [
        {
          "output_type": "stream",
          "name": "stdout",
          "text": [
            "Requirement already satisfied: konlpy in /usr/local/lib/python3.7/dist-packages (0.6.0)\n",
            "Requirement already satisfied: JPype1>=0.7.0 in /usr/local/lib/python3.7/dist-packages (from konlpy) (1.3.0)\n",
            "Requirement already satisfied: numpy>=1.6 in /usr/local/lib/python3.7/dist-packages (from konlpy) (1.19.5)\n",
            "Requirement already satisfied: lxml>=4.1.0 in /usr/local/lib/python3.7/dist-packages (from konlpy) (4.2.6)\n",
            "Requirement already satisfied: typing-extensions in /usr/local/lib/python3.7/dist-packages (from JPype1>=0.7.0->konlpy) (3.10.0.2)\n"
          ]
        }
      ],
      "metadata": {
        "colab": {
          "base_uri": "https://localhost:8080/"
        },
        "id": "cxVu8NnttFW3",
        "outputId": "16aa797b-307d-4851-f409-68323c7713eb"
      }
    },
    {
      "cell_type": "markdown",
      "source": [
        "## mecab 분석 진행해보기"
      ],
      "metadata": {
        "id": "ncCuEHZFtZBL"
      }
    },
    {
      "cell_type": "code",
      "execution_count": 110,
      "source": [
        "#한국어 형태소 분석 \r\n",
        "from konlpy.tag import Okt,Mecab\r\n",
        "from collections import Counter\r\n",
        "\r\n",
        "okt = Okt()  # 형태소 추출 함수\r\n",
        "mecab = Mecab()\r\n",
        "print(okt.pos('sk하이닉스 OCI머티리얼즈 인수 반도체 역량 강화')) # 예시\r\n",
        "print(mecab.pos('sk하이닉스 OCI머티리얼즈 인수 반도체 역량 강화'))"
      ],
      "outputs": [
        {
          "output_type": "stream",
          "name": "stdout",
          "text": [
            "[('sk', 'Alpha'), ('하이닉스', 'Noun'), ('OCI', 'Alpha'), ('머티리얼즈', 'Noun'), ('인수', 'Noun'), ('반도체', 'Noun'), ('역량', 'Noun'), ('강화', 'Noun')]\n",
            "[('sk', 'SL'), ('하이닉스', 'NNP'), ('OCI', 'SL'), ('머티', 'NNP'), ('리얼', 'NNG'), ('즈', 'XSN'), ('인수', 'NNG'), ('반도체', 'NNG'), ('역량', 'NNG'), ('강화', 'NNG')]\n"
          ]
        }
      ],
      "metadata": {
        "id": "Pk43KI4jxHvk",
        "colab": {
          "base_uri": "https://localhost:8080/"
        },
        "outputId": "f0de0518-2d37-4bd8-8963-e133beac231a"
      }
    },
    {
      "cell_type": "markdown",
      "source": [
        "## mecab-ko-dic 품사 태그 (실질형태소 3대 용언)\r\n",
        "- 체언 용언 수식언 외국어 (독립언(감탄사),형식형태소(관계언) 제외)\r\n",
        "- 태그\r\n",
        "  - 체언: ['NNG','NNP','NNB','NR','NP'] # 일반N,고유N,의존N(대다수 한글자라 제외가능성 큼), 수사 대명사 \r\n",
        "  - 용언:['VV','VA','VCP','VCN'] # 동사 형용사 긍정지정사 부정지정사\r\n",
        "  - 수식언: ['MM','MAG'] : #관형사, 일반부사\r\n",
        "  - 외국어 : 영어만 포함시킴 'SL'"
      ],
      "metadata": {
        "id": "htlLSThezW2q"
      }
    },
    {
      "cell_type": "code",
      "execution_count": 86,
      "source": [
        "mecab.pos('SK공모가 프리미엄에도 청약경쟁률 대 흥행 성공')"
      ],
      "outputs": [
        {
          "output_type": "execute_result",
          "data": {
            "text/plain": [
              "[('SK', 'SL'),\n",
              " ('공모', 'NNG'),\n",
              " ('가', 'JKS'),\n",
              " ('프리미엄', 'NNG'),\n",
              " ('에', 'JKB'),\n",
              " ('도', 'JX'),\n",
              " ('청약', 'NNG'),\n",
              " ('경쟁', 'NNG'),\n",
              " ('률', 'XSN'),\n",
              " ('대', 'XPN'),\n",
              " ('흥행', 'NNG'),\n",
              " ('성공', 'NNG')]"
            ]
          },
          "metadata": {},
          "execution_count": 86
        }
      ],
      "metadata": {
        "colab": {
          "base_uri": "https://localhost:8080/"
        },
        "id": "uBjlNRf6wX_g",
        "outputId": "d7e3ff2d-8e7c-4630-e8fa-6c7d124e3498"
      }
    },
    {
      "cell_type": "code",
      "execution_count": 85,
      "source": [
        "okt.pos('SK공모가 프리미엄에도 청약경쟁률 대 흥행 성공')"
      ],
      "outputs": [
        {
          "output_type": "execute_result",
          "data": {
            "text/plain": [
              "[('SK', 'Alpha'),\n",
              " ('공모', 'Noun'),\n",
              " ('가', 'Josa'),\n",
              " ('프리미엄', 'Noun'),\n",
              " ('에도', 'Josa'),\n",
              " ('청약', 'Noun'),\n",
              " ('경쟁률', 'Noun'),\n",
              " ('대', 'Verb'),\n",
              " ('흥행', 'Noun'),\n",
              " ('성공', 'Noun')]"
            ]
          },
          "metadata": {},
          "execution_count": 85
        }
      ],
      "metadata": {
        "colab": {
          "base_uri": "https://localhost:8080/"
        },
        "id": "ctu-dff2vTa-",
        "outputId": "f449982d-c2c5-4814-c0cb-405c5c8e1465"
      }
    },
    {
      "cell_type": "markdown",
      "source": [
        "- okt와 비교할 때 더 상세한 형태소 분석가능(mecab: 세종 품사 태그 기준)"
      ],
      "metadata": {
        "id": "WZO0ISo70vJI"
      }
    },
    {
      "cell_type": "code",
      "execution_count": 111,
      "source": [
        "consider_pos = ['NNG','NNP','NNB','NR','NP','VV','VA','VCP','VCN','MM','MAG','SL']\r\n",
        "def mecab_words(headline):\r\n",
        "  words = []\r\n",
        "  for word, pos in mecab.pos(headline):\r\n",
        "      if pos in consider_pos:\r\n",
        "        words.append(word)\r\n",
        "  return words"
      ],
      "outputs": [],
      "metadata": {
        "id": "AO4C3o6G3l8c"
      }
    },
    {
      "cell_type": "code",
      "execution_count": 112,
      "source": [
        "from tqdm import tqdm\r\n",
        "\r\n",
        "def headline_keywords(raw):\r\n",
        "  return mecab_words(apply_regular_expression(raw))\r\n",
        "\r\n",
        "token_list = []\r\n",
        "for idx,row in tqdm(df.iterrows()):\r\n",
        "  raw = row['headline']\r\n",
        "  per_words = headline_keywords(raw)\r\n",
        "  per_words = [x for x in per_words if len(x) > 1]  # 한글자 키워드 제거\r\n",
        "  corpus = ' '.join(per_words)\r\n",
        "  token_list.append(corpus)"
      ],
      "outputs": [
        {
          "output_type": "stream",
          "name": "stderr",
          "text": [
            "233704it [00:41, 5599.51it/s]\n"
          ]
        }
      ],
      "metadata": {
        "colab": {
          "base_uri": "https://localhost:8080/"
        },
        "id": "ASZ2kQZuAj2-",
        "outputId": "58cc4103-fbb3-40d7-c0ba-de054877f7d5"
      }
    },
    {
      "cell_type": "code",
      "execution_count": 113,
      "source": [
        "df['token_mecab'] = token_list\r\n",
        "df.tail(20)"
      ],
      "outputs": [
        {
          "output_type": "execute_result",
          "data": {
            "text/html": [
              "\n",
              "  <div id=\"df-8cb39953-3d5d-4dab-8794-8e5e62e4a21f\">\n",
              "    <div class=\"colab-df-container\">\n",
              "      <div>\n",
              "<style scoped>\n",
              "    .dataframe tbody tr th:only-of-type {\n",
              "        vertical-align: middle;\n",
              "    }\n",
              "\n",
              "    .dataframe tbody tr th {\n",
              "        vertical-align: top;\n",
              "    }\n",
              "\n",
              "    .dataframe thead th {\n",
              "        text-align: right;\n",
              "    }\n",
              "</style>\n",
              "<table border=\"1\" class=\"dataframe\">\n",
              "  <thead>\n",
              "    <tr style=\"text-align: right;\">\n",
              "      <th></th>\n",
              "      <th>name</th>\n",
              "      <th>headline</th>\n",
              "      <th>date</th>\n",
              "      <th>change</th>\n",
              "      <th>token_mecab</th>\n",
              "    </tr>\n",
              "  </thead>\n",
              "  <tbody>\n",
              "    <tr>\n",
              "      <th>244698</th>\n",
              "      <td>LG화학</td>\n",
              "      <td>개미 울리는 물적분할에 고승범 \"법적 측면 포함 대책 검토\"</td>\n",
              "      <td>2021-12-30</td>\n",
              "      <td>0</td>\n",
              "      <td>개미 울리 물적분할 고승범 측면 포함 대책 검토</td>\n",
              "    </tr>\n",
              "    <tr>\n",
              "      <th>244699</th>\n",
              "      <td>LG화학</td>\n",
              "      <td>올해 증시 마지막 날 코스피 2970선으로 마감...한 해 동안 3.63% 상승</td>\n",
              "      <td>2021-12-30</td>\n",
              "      <td>0</td>\n",
              "      <td>올해 증시 마지막 코스피 마감 동안 상승</td>\n",
              "    </tr>\n",
              "    <tr>\n",
              "      <th>244700</th>\n",
              "      <td>LG화학</td>\n",
              "      <td>코스피 마지막 거래일 2,970선 마감‥삼성전자 이틀째 하락 흐름</td>\n",
              "      <td>2021-12-30</td>\n",
              "      <td>0</td>\n",
              "      <td>코스피 마지막 거래일 마감 삼성전자 이틀 하락 흐름</td>\n",
              "    </tr>\n",
              "    <tr>\n",
              "      <th>244701</th>\n",
              "      <td>LG화학</td>\n",
              "      <td>3000선 끝내 못 지킨 코스피…올해 2977.65 마감</td>\n",
              "      <td>2021-12-30</td>\n",
              "      <td>0</td>\n",
              "      <td>끝내 코스피 올해 마감</td>\n",
              "    </tr>\n",
              "    <tr>\n",
              "      <th>244702</th>\n",
              "      <td>LG화학</td>\n",
              "      <td>JW중외제약, 아토피신약 개발 박차…유한양행·LG화학도 경쟁</td>\n",
              "      <td>2021-12-30</td>\n",
              "      <td>0</td>\n",
              "      <td>JW 중외 제약 아토피 신약 개발 박차 유한양행 LG 화학 경쟁</td>\n",
              "    </tr>\n",
              "    <tr>\n",
              "      <th>244704</th>\n",
              "      <td>LG화학</td>\n",
              "      <td>악재 덮친 LG화학, 주가 뚝뚝…\"50만원대 추락\" 최악 시나리오까지</td>\n",
              "      <td>2021-12-30</td>\n",
              "      <td>0</td>\n",
              "      <td>악재 LG 화학 뚝뚝 추락 최악 시나리오</td>\n",
              "    </tr>\n",
              "    <tr>\n",
              "      <th>244705</th>\n",
              "      <td>LG화학</td>\n",
              "      <td>금융위원장 “물적분할 규제 검토, 인터넷은행 대출 상한도 업권 특성 고려할 것”</td>\n",
              "      <td>2021-12-30</td>\n",
              "      <td>0</td>\n",
              "      <td>금융 위원장 물적분할 규제 검토 인터넷 은행 대출 상한 특성 고려</td>\n",
              "    </tr>\n",
              "    <tr>\n",
              "      <th>244706</th>\n",
              "      <td>카카오</td>\n",
              "      <td>올해 코스피 시총 2200조원 돌파로 마감</td>\n",
              "      <td>2021-12-30</td>\n",
              "      <td>0</td>\n",
              "      <td>올해 코스피 돌파 마감</td>\n",
              "    </tr>\n",
              "    <tr>\n",
              "      <th>244707</th>\n",
              "      <td>카카오</td>\n",
              "      <td>[2021 증시결산] 코스피 3.6% 올라 G20 18위…시총 2천200조원 넘어</td>\n",
              "      <td>2021-12-30</td>\n",
              "      <td>0</td>\n",
              "      <td>증시 결산 코스피</td>\n",
              "    </tr>\n",
              "    <tr>\n",
              "      <th>244708</th>\n",
              "      <td>SK하이닉스</td>\n",
              "      <td>\"최태원이 쏜다\"···SK하이닉스, 전 직원 특별 성과급 300% 지급</td>\n",
              "      <td>2021-12-30</td>\n",
              "      <td>1</td>\n",
              "      <td>최태원 SK 하이닉스 직원 특별 성과급 지급</td>\n",
              "    </tr>\n",
              "    <tr>\n",
              "      <th>244709</th>\n",
              "      <td>SK하이닉스</td>\n",
              "      <td>SK하이닉스, 인텔 다롄공장·SSD사업 넘겨받아</td>\n",
              "      <td>2021-12-30</td>\n",
              "      <td>1</td>\n",
              "      <td>SK 하이닉스 인텔 다롄 공장 SSD 사업</td>\n",
              "    </tr>\n",
              "    <tr>\n",
              "      <th>244710</th>\n",
              "      <td>SK하이닉스</td>\n",
              "      <td>SK, 인텔 낸드 인수 1단계 완료…美 SSD운영 솔리다임 설립</td>\n",
              "      <td>2021-12-30</td>\n",
              "      <td>1</td>\n",
              "      <td>SK 인텔 낸드 인수 단계 완료 미국 SSD 운영 솔리 다임 설립</td>\n",
              "    </tr>\n",
              "    <tr>\n",
              "      <th>244711</th>\n",
              "      <td>SK하이닉스</td>\n",
              "      <td>SK그룹, 전자계열 CTO 영입·교체 바람</td>\n",
              "      <td>2021-12-30</td>\n",
              "      <td>1</td>\n",
              "      <td>SK 그룹 전자 계열 CTO 영입 교체 바람</td>\n",
              "    </tr>\n",
              "    <tr>\n",
              "      <th>244712</th>\n",
              "      <td>SK하이닉스</td>\n",
              "      <td>[2021년 총결산 리그테이블] 플랫폼 강자 모건스탠리, M&amp;A 재무자문 1위</td>\n",
              "      <td>2021-12-30</td>\n",
              "      <td>1</td>\n",
              "      <td>총결산 리그 테이블 플랫 강자 모건 스탠리 MA 재무 자문</td>\n",
              "    </tr>\n",
              "    <tr>\n",
              "      <th>244713</th>\n",
              "      <td>SK하이닉스</td>\n",
              "      <td>[2021년 총결산 리그테이블] '잇단 빅딜' 삼일PwC, M&amp;A 회계자문 1위</td>\n",
              "      <td>2021-12-30</td>\n",
              "      <td>1</td>\n",
              "      <td>총결산 리그 테이블 빅딜 PwC MA 회계 자문</td>\n",
              "    </tr>\n",
              "    <tr>\n",
              "      <th>244714</th>\n",
              "      <td>SK하이닉스</td>\n",
              "      <td>\"코로나 봉쇄로 삼성 시안공장 생산 줄여…메모리 공급사 주가에는 긍정적 영향\"</td>\n",
              "      <td>2021-12-30</td>\n",
              "      <td>1</td>\n",
              "      <td>코로나 봉쇄 삼성 시안 공장 생산 메모리 공급 주가 긍정 영향</td>\n",
              "    </tr>\n",
              "    <tr>\n",
              "      <th>244715</th>\n",
              "      <td>SK하이닉스</td>\n",
              "      <td>SK하이닉스, 인텔 낸드 1단계 인수</td>\n",
              "      <td>2021-12-30</td>\n",
              "      <td>1</td>\n",
              "      <td>SK 하이닉스 인텔 낸드 단계 인수</td>\n",
              "    </tr>\n",
              "    <tr>\n",
              "      <th>244716</th>\n",
              "      <td>SK하이닉스</td>\n",
              "      <td>SK하이닉스, 특별성과급 300% 쏜다</td>\n",
              "      <td>2021-12-30</td>\n",
              "      <td>1</td>\n",
              "      <td>SK 하이닉스 특별</td>\n",
              "    </tr>\n",
              "    <tr>\n",
              "      <th>244717</th>\n",
              "      <td>셀트리온</td>\n",
              "      <td>삼성바이오로직스-셀트리온, 바이오 대장주 희비</td>\n",
              "      <td>2021-12-30</td>\n",
              "      <td>0</td>\n",
              "      <td>삼성 바이오 로직스 트리 장주 희비</td>\n",
              "    </tr>\n",
              "    <tr>\n",
              "      <th>244718</th>\n",
              "      <td>신한지주</td>\n",
              "      <td>배당락에 3000선 내줬지만…“코스피 하락폭 예상보다 작았다”</td>\n",
              "      <td>2021-12-30</td>\n",
              "      <td>0</td>\n",
              "      <td>배당락 코스피 하락 예상</td>\n",
              "    </tr>\n",
              "  </tbody>\n",
              "</table>\n",
              "</div>\n",
              "      <button class=\"colab-df-convert\" onclick=\"convertToInteractive('df-8cb39953-3d5d-4dab-8794-8e5e62e4a21f')\"\n",
              "              title=\"Convert this dataframe to an interactive table.\"\n",
              "              style=\"display:none;\">\n",
              "        \n",
              "  <svg xmlns=\"http://www.w3.org/2000/svg\" height=\"24px\"viewBox=\"0 0 24 24\"\n",
              "       width=\"24px\">\n",
              "    <path d=\"M0 0h24v24H0V0z\" fill=\"none\"/>\n",
              "    <path d=\"M18.56 5.44l.94 2.06.94-2.06 2.06-.94-2.06-.94-.94-2.06-.94 2.06-2.06.94zm-11 1L8.5 8.5l.94-2.06 2.06-.94-2.06-.94L8.5 2.5l-.94 2.06-2.06.94zm10 10l.94 2.06.94-2.06 2.06-.94-2.06-.94-.94-2.06-.94 2.06-2.06.94z\"/><path d=\"M17.41 7.96l-1.37-1.37c-.4-.4-.92-.59-1.43-.59-.52 0-1.04.2-1.43.59L10.3 9.45l-7.72 7.72c-.78.78-.78 2.05 0 2.83L4 21.41c.39.39.9.59 1.41.59.51 0 1.02-.2 1.41-.59l7.78-7.78 2.81-2.81c.8-.78.8-2.07 0-2.86zM5.41 20L4 18.59l7.72-7.72 1.47 1.35L5.41 20z\"/>\n",
              "  </svg>\n",
              "      </button>\n",
              "      \n",
              "  <style>\n",
              "    .colab-df-container {\n",
              "      display:flex;\n",
              "      flex-wrap:wrap;\n",
              "      gap: 12px;\n",
              "    }\n",
              "\n",
              "    .colab-df-convert {\n",
              "      background-color: #E8F0FE;\n",
              "      border: none;\n",
              "      border-radius: 50%;\n",
              "      cursor: pointer;\n",
              "      display: none;\n",
              "      fill: #1967D2;\n",
              "      height: 32px;\n",
              "      padding: 0 0 0 0;\n",
              "      width: 32px;\n",
              "    }\n",
              "\n",
              "    .colab-df-convert:hover {\n",
              "      background-color: #E2EBFA;\n",
              "      box-shadow: 0px 1px 2px rgba(60, 64, 67, 0.3), 0px 1px 3px 1px rgba(60, 64, 67, 0.15);\n",
              "      fill: #174EA6;\n",
              "    }\n",
              "\n",
              "    [theme=dark] .colab-df-convert {\n",
              "      background-color: #3B4455;\n",
              "      fill: #D2E3FC;\n",
              "    }\n",
              "\n",
              "    [theme=dark] .colab-df-convert:hover {\n",
              "      background-color: #434B5C;\n",
              "      box-shadow: 0px 1px 3px 1px rgba(0, 0, 0, 0.15);\n",
              "      filter: drop-shadow(0px 1px 2px rgba(0, 0, 0, 0.3));\n",
              "      fill: #FFFFFF;\n",
              "    }\n",
              "  </style>\n",
              "\n",
              "      <script>\n",
              "        const buttonEl =\n",
              "          document.querySelector('#df-8cb39953-3d5d-4dab-8794-8e5e62e4a21f button.colab-df-convert');\n",
              "        buttonEl.style.display =\n",
              "          google.colab.kernel.accessAllowed ? 'block' : 'none';\n",
              "\n",
              "        async function convertToInteractive(key) {\n",
              "          const element = document.querySelector('#df-8cb39953-3d5d-4dab-8794-8e5e62e4a21f');\n",
              "          const dataTable =\n",
              "            await google.colab.kernel.invokeFunction('convertToInteractive',\n",
              "                                                     [key], {});\n",
              "          if (!dataTable) return;\n",
              "\n",
              "          const docLinkHtml = 'Like what you see? Visit the ' +\n",
              "            '<a target=\"_blank\" href=https://colab.research.google.com/notebooks/data_table.ipynb>data table notebook</a>'\n",
              "            + ' to learn more about interactive tables.';\n",
              "          element.innerHTML = '';\n",
              "          dataTable['output_type'] = 'display_data';\n",
              "          await google.colab.output.renderOutput(dataTable, element);\n",
              "          const docLink = document.createElement('div');\n",
              "          docLink.innerHTML = docLinkHtml;\n",
              "          element.appendChild(docLink);\n",
              "        }\n",
              "      </script>\n",
              "    </div>\n",
              "  </div>\n",
              "  "
            ],
            "text/plain": [
              "          name  ...                           token_mecab\n",
              "244698    LG화학  ...            개미 울리 물적분할 고승범 측면 포함 대책 검토\n",
              "244699    LG화학  ...                올해 증시 마지막 코스피 마감 동안 상승\n",
              "244700    LG화학  ...          코스피 마지막 거래일 마감 삼성전자 이틀 하락 흐름\n",
              "244701    LG화학  ...                          끝내 코스피 올해 마감\n",
              "244702    LG화학  ...   JW 중외 제약 아토피 신약 개발 박차 유한양행 LG 화학 경쟁\n",
              "244704    LG화학  ...                악재 LG 화학 뚝뚝 추락 최악 시나리오\n",
              "244705    LG화학  ...  금융 위원장 물적분할 규제 검토 인터넷 은행 대출 상한 특성 고려\n",
              "244706     카카오  ...                          올해 코스피 돌파 마감\n",
              "244707     카카오  ...                             증시 결산 코스피\n",
              "244708  SK하이닉스  ...              최태원 SK 하이닉스 직원 특별 성과급 지급\n",
              "244709  SK하이닉스  ...               SK 하이닉스 인텔 다롄 공장 SSD 사업\n",
              "244710  SK하이닉스  ...  SK 인텔 낸드 인수 단계 완료 미국 SSD 운영 솔리 다임 설립\n",
              "244711  SK하이닉스  ...              SK 그룹 전자 계열 CTO 영입 교체 바람\n",
              "244712  SK하이닉스  ...      총결산 리그 테이블 플랫 강자 모건 스탠리 MA 재무 자문\n",
              "244713  SK하이닉스  ...            총결산 리그 테이블 빅딜 PwC MA 회계 자문\n",
              "244714  SK하이닉스  ...    코로나 봉쇄 삼성 시안 공장 생산 메모리 공급 주가 긍정 영향\n",
              "244715  SK하이닉스  ...                   SK 하이닉스 인텔 낸드 단계 인수\n",
              "244716  SK하이닉스  ...                            SK 하이닉스 특별\n",
              "244717    셀트리온  ...                   삼성 바이오 로직스 트리 장주 희비\n",
              "244718    신한지주  ...                         배당락 코스피 하락 예상\n",
              "\n",
              "[20 rows x 5 columns]"
            ]
          },
          "metadata": {},
          "execution_count": 113
        }
      ],
      "metadata": {
        "colab": {
          "base_uri": "https://localhost:8080/",
          "height": 676
        },
        "id": "2-jEJTREBPbi",
        "outputId": "96c5758c-b1a6-483a-dc77-eb9146adb522"
      }
    },
    {
      "cell_type": "code",
      "execution_count": 127,
      "source": [
        "df.reset_index(inplace=True)\r\n",
        "del df['index']"
      ],
      "outputs": [],
      "metadata": {
        "id": "9gH-5XiYR95G"
      }
    },
    {
      "cell_type": "code",
      "execution_count": 128,
      "source": [
        "df.to_csv('./final_preprocessing_df',encoding='utf-8')"
      ],
      "outputs": [],
      "metadata": {
        "id": "ADfsX7x0Rmrq"
      }
    },
    {
      "cell_type": "markdown",
      "source": [
        "---"
      ],
      "metadata": {
        "id": "or5bcDq3RgPC"
      }
    }
  ]
}