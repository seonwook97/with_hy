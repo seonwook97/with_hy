{
  "nbformat": 4,
  "nbformat_minor": 0,
  "metadata": {
    "colab": {
      "name": "text_to_sequences_LSTM.ipynb",
      "provenance": [],
      "collapsed_sections": [],
      "machine_shape": "hm"
    },
    "kernelspec": {
      "name": "python3",
      "display_name": "Python 3"
    },
    "language_info": {
      "name": "python"
    },
    "accelerator": "GPU"
  },
  "cells": [
    {
      "cell_type": "markdown",
      "source": [
        "## 모듈 설치"
      ],
      "metadata": {
        "id": "rF5x_anw5uiQ"
      }
    },
    {
      "cell_type": "code",
      "source": [
        "from google.colab import drive\n",
        "drive.mount('/content/drive')"
      ],
      "metadata": {
        "colab": {
          "base_uri": "https://localhost:8080/"
        },
        "id": "5CRokIXd5z8C",
        "outputId": "417deaa5-359e-4f2c-c073-04aa4861426c"
      },
      "execution_count": null,
      "outputs": [
        {
          "output_type": "stream",
          "name": "stdout",
          "text": [
            "Drive already mounted at /content/drive; to attempt to forcibly remount, call drive.mount(\"/content/drive\", force_remount=True).\n"
          ]
        }
      ]
    },
    {
      "cell_type": "code",
      "source": [
        "!sudo apt-get install -y fonts-nanum #코랩 한글 폰트 꺠짐 방지 폰트 설치\n",
        "!sudo fc-cache -fv\n",
        "!rm ~/.cache/matplotlib -rf"
      ],
      "metadata": {
        "id": "8IbREiajXpEh",
        "colab": {
          "base_uri": "https://localhost:8080/"
        },
        "outputId": "0d1f5567-e0f5-4354-c644-7edccd4568ce"
      },
      "execution_count": 64,
      "outputs": [
        {
          "output_type": "stream",
          "name": "stdout",
          "text": [
            "Reading package lists... Done\n",
            "Building dependency tree       \n",
            "Reading state information... Done\n",
            "fonts-nanum is already the newest version (20170925-1).\n",
            "0 upgraded, 0 newly installed, 0 to remove and 37 not upgraded.\n",
            "/usr/share/fonts: caching, new cache contents: 0 fonts, 1 dirs\n",
            "/usr/share/fonts/truetype: caching, new cache contents: 0 fonts, 3 dirs\n",
            "/usr/share/fonts/truetype/humor-sans: caching, new cache contents: 1 fonts, 0 dirs\n",
            "/usr/share/fonts/truetype/liberation: caching, new cache contents: 16 fonts, 0 dirs\n",
            "/usr/share/fonts/truetype/nanum: caching, new cache contents: 10 fonts, 0 dirs\n",
            "/usr/local/share/fonts: caching, new cache contents: 0 fonts, 0 dirs\n",
            "/root/.local/share/fonts: skipping, no such directory\n",
            "/root/.fonts: skipping, no such directory\n",
            "/var/cache/fontconfig: cleaning cache directory\n",
            "/root/.cache/fontconfig: not cleaning non-existent cache directory\n",
            "/root/.fontconfig: not cleaning non-existent cache directory\n",
            "fc-cache: succeeded\n"
          ]
        }
      ]
    },
    {
      "cell_type": "code",
      "execution_count": 1,
      "metadata": {
        "id": "XH0iUXld2wY7"
      },
      "outputs": [],
      "source": [
        "import re\n",
        "import urllib.request\n",
        "\n",
        "from tqdm import tqdm\n",
        "from tensorflow.keras.preprocessing.text import Tokenizer\n",
        "from tensorflow.keras.preprocessing.sequence import pad_sequences"
      ]
    },
    {
      "cell_type": "markdown",
      "source": [
        "## 한글"
      ],
      "metadata": {
        "id": "r0_8OkOHcNzh"
      }
    },
    {
      "cell_type": "code",
      "source": [
        "import pandas as pd\n",
        "import numpy as np\n",
        "import matplotlib.pyplot as plt\n",
        "import matplotlib.font_manager as fm\n",
        "import seaborn as sns\n",
        "\n",
        "import warnings\n",
        "warnings.filterwarnings('ignore')\n",
        "\n",
        "# 한국어 출력\n",
        "fontpath = '/usr/share/fonts/truetype/nanum/NanumBarunGothic.ttf'\n",
        "font = fm.FontProperties(fname=fontpath,size=9)\n",
        "plt.rc('font',family='NanumBarunGothic')"
      ],
      "metadata": {
        "id": "8aIZkCyC6Jhd"
      },
      "execution_count": 2,
      "outputs": []
    },
    {
      "cell_type": "markdown",
      "source": [
        "## 데이터 확인 - Mecab 전처리 끝난"
      ],
      "metadata": {
        "id": "ipZquvbD8WWu"
      }
    },
    {
      "cell_type": "code",
      "source": [
        "news = pd.read_csv('./drive/MyDrive/final_project/final_df.csv', index_col=0) \n",
        "news.tail()"
      ],
      "metadata": {
        "colab": {
          "base_uri": "https://localhost:8080/",
          "height": 354
        },
        "id": "rnpmNxki8XRz",
        "outputId": "9b089799-c295-4898-cd09-a38a57ddf96d"
      },
      "execution_count": 3,
      "outputs": [
        {
          "output_type": "execute_result",
          "data": {
            "text/html": [
              "\n",
              "  <div id=\"df-fca992a0-0c78-4e84-8746-492ade221c39\">\n",
              "    <div class=\"colab-df-container\">\n",
              "      <div>\n",
              "<style scoped>\n",
              "    .dataframe tbody tr th:only-of-type {\n",
              "        vertical-align: middle;\n",
              "    }\n",
              "\n",
              "    .dataframe tbody tr th {\n",
              "        vertical-align: top;\n",
              "    }\n",
              "\n",
              "    .dataframe thead th {\n",
              "        text-align: right;\n",
              "    }\n",
              "</style>\n",
              "<table border=\"1\" class=\"dataframe\">\n",
              "  <thead>\n",
              "    <tr style=\"text-align: right;\">\n",
              "      <th></th>\n",
              "      <th>name</th>\n",
              "      <th>headline</th>\n",
              "      <th>date</th>\n",
              "      <th>change</th>\n",
              "      <th>token_mecab</th>\n",
              "    </tr>\n",
              "  </thead>\n",
              "  <tbody>\n",
              "    <tr>\n",
              "      <th>233699</th>\n",
              "      <td>SK하이닉스</td>\n",
              "      <td>\"코로나 봉쇄로 삼성 시안공장 생산 줄여…메모리 공급사 주가에는 긍정적 영향\"</td>\n",
              "      <td>2021-12-30</td>\n",
              "      <td>1</td>\n",
              "      <td>코로나 봉쇄 삼성 시안 공장 생산 메모리 공급 주가 긍정 영향</td>\n",
              "    </tr>\n",
              "    <tr>\n",
              "      <th>233700</th>\n",
              "      <td>SK하이닉스</td>\n",
              "      <td>SK하이닉스, 인텔 낸드 1단계 인수</td>\n",
              "      <td>2021-12-30</td>\n",
              "      <td>1</td>\n",
              "      <td>SK 하이닉스 인텔 낸드 단계 인수</td>\n",
              "    </tr>\n",
              "    <tr>\n",
              "      <th>233701</th>\n",
              "      <td>SK하이닉스</td>\n",
              "      <td>SK하이닉스, 특별성과급 300% 쏜다</td>\n",
              "      <td>2021-12-30</td>\n",
              "      <td>1</td>\n",
              "      <td>SK 하이닉스 특별</td>\n",
              "    </tr>\n",
              "    <tr>\n",
              "      <th>233702</th>\n",
              "      <td>셀트리온</td>\n",
              "      <td>삼성바이오로직스-셀트리온, 바이오 대장주 희비</td>\n",
              "      <td>2021-12-30</td>\n",
              "      <td>0</td>\n",
              "      <td>삼성 바이오 로직스 트리 장주 희비</td>\n",
              "    </tr>\n",
              "    <tr>\n",
              "      <th>233703</th>\n",
              "      <td>신한지주</td>\n",
              "      <td>배당락에 3000선 내줬지만…“코스피 하락폭 예상보다 작았다”</td>\n",
              "      <td>2021-12-30</td>\n",
              "      <td>0</td>\n",
              "      <td>배당락 코스피 하락 예상</td>\n",
              "    </tr>\n",
              "  </tbody>\n",
              "</table>\n",
              "</div>\n",
              "      <button class=\"colab-df-convert\" onclick=\"convertToInteractive('df-fca992a0-0c78-4e84-8746-492ade221c39')\"\n",
              "              title=\"Convert this dataframe to an interactive table.\"\n",
              "              style=\"display:none;\">\n",
              "        \n",
              "  <svg xmlns=\"http://www.w3.org/2000/svg\" height=\"24px\"viewBox=\"0 0 24 24\"\n",
              "       width=\"24px\">\n",
              "    <path d=\"M0 0h24v24H0V0z\" fill=\"none\"/>\n",
              "    <path d=\"M18.56 5.44l.94 2.06.94-2.06 2.06-.94-2.06-.94-.94-2.06-.94 2.06-2.06.94zm-11 1L8.5 8.5l.94-2.06 2.06-.94-2.06-.94L8.5 2.5l-.94 2.06-2.06.94zm10 10l.94 2.06.94-2.06 2.06-.94-2.06-.94-.94-2.06-.94 2.06-2.06.94z\"/><path d=\"M17.41 7.96l-1.37-1.37c-.4-.4-.92-.59-1.43-.59-.52 0-1.04.2-1.43.59L10.3 9.45l-7.72 7.72c-.78.78-.78 2.05 0 2.83L4 21.41c.39.39.9.59 1.41.59.51 0 1.02-.2 1.41-.59l7.78-7.78 2.81-2.81c.8-.78.8-2.07 0-2.86zM5.41 20L4 18.59l7.72-7.72 1.47 1.35L5.41 20z\"/>\n",
              "  </svg>\n",
              "      </button>\n",
              "      \n",
              "  <style>\n",
              "    .colab-df-container {\n",
              "      display:flex;\n",
              "      flex-wrap:wrap;\n",
              "      gap: 12px;\n",
              "    }\n",
              "\n",
              "    .colab-df-convert {\n",
              "      background-color: #E8F0FE;\n",
              "      border: none;\n",
              "      border-radius: 50%;\n",
              "      cursor: pointer;\n",
              "      display: none;\n",
              "      fill: #1967D2;\n",
              "      height: 32px;\n",
              "      padding: 0 0 0 0;\n",
              "      width: 32px;\n",
              "    }\n",
              "\n",
              "    .colab-df-convert:hover {\n",
              "      background-color: #E2EBFA;\n",
              "      box-shadow: 0px 1px 2px rgba(60, 64, 67, 0.3), 0px 1px 3px 1px rgba(60, 64, 67, 0.15);\n",
              "      fill: #174EA6;\n",
              "    }\n",
              "\n",
              "    [theme=dark] .colab-df-convert {\n",
              "      background-color: #3B4455;\n",
              "      fill: #D2E3FC;\n",
              "    }\n",
              "\n",
              "    [theme=dark] .colab-df-convert:hover {\n",
              "      background-color: #434B5C;\n",
              "      box-shadow: 0px 1px 3px 1px rgba(0, 0, 0, 0.15);\n",
              "      filter: drop-shadow(0px 1px 2px rgba(0, 0, 0, 0.3));\n",
              "      fill: #FFFFFF;\n",
              "    }\n",
              "  </style>\n",
              "\n",
              "      <script>\n",
              "        const buttonEl =\n",
              "          document.querySelector('#df-fca992a0-0c78-4e84-8746-492ade221c39 button.colab-df-convert');\n",
              "        buttonEl.style.display =\n",
              "          google.colab.kernel.accessAllowed ? 'block' : 'none';\n",
              "\n",
              "        async function convertToInteractive(key) {\n",
              "          const element = document.querySelector('#df-fca992a0-0c78-4e84-8746-492ade221c39');\n",
              "          const dataTable =\n",
              "            await google.colab.kernel.invokeFunction('convertToInteractive',\n",
              "                                                     [key], {});\n",
              "          if (!dataTable) return;\n",
              "\n",
              "          const docLinkHtml = 'Like what you see? Visit the ' +\n",
              "            '<a target=\"_blank\" href=https://colab.research.google.com/notebooks/data_table.ipynb>data table notebook</a>'\n",
              "            + ' to learn more about interactive tables.';\n",
              "          element.innerHTML = '';\n",
              "          dataTable['output_type'] = 'display_data';\n",
              "          await google.colab.output.renderOutput(dataTable, element);\n",
              "          const docLink = document.createElement('div');\n",
              "          docLink.innerHTML = docLinkHtml;\n",
              "          element.appendChild(docLink);\n",
              "        }\n",
              "      </script>\n",
              "    </div>\n",
              "  </div>\n",
              "  "
            ],
            "text/plain": [
              "          name  ...                         token_mecab\n",
              "233699  SK하이닉스  ...  코로나 봉쇄 삼성 시안 공장 생산 메모리 공급 주가 긍정 영향\n",
              "233700  SK하이닉스  ...                 SK 하이닉스 인텔 낸드 단계 인수\n",
              "233701  SK하이닉스  ...                          SK 하이닉스 특별\n",
              "233702    셀트리온  ...                 삼성 바이오 로직스 트리 장주 희비\n",
              "233703    신한지주  ...                       배당락 코스피 하락 예상\n",
              "\n",
              "[5 rows x 5 columns]"
            ]
          },
          "metadata": {},
          "execution_count": 3
        }
      ]
    },
    {
      "cell_type": "markdown",
      "source": [
        "## 데이터 분리 - train (2012 ~ 2019), test (2020 ~ 2021)"
      ],
      "metadata": {
        "id": "yqcgnTgd_Lfc"
      }
    },
    {
      "cell_type": "code",
      "source": [
        "news['date'] = pd.to_datetime(news['date'])\n",
        "\n",
        "split_date = pd.to_datetime('2020-01-01')\n",
        "\n",
        "train = news[news['date'] < split_date]\n",
        "test = news[news['date'] >= split_date]"
      ],
      "metadata": {
        "id": "IEz2UeP6_R6B"
      },
      "execution_count": 4,
      "outputs": []
    },
    {
      "cell_type": "code",
      "source": [
        "len(train), len(test)"
      ],
      "metadata": {
        "colab": {
          "base_uri": "https://localhost:8080/"
        },
        "id": "6exSZqKQ_WpG",
        "outputId": "44e45988-7a53-47e6-bba3-60eade5a1146"
      },
      "execution_count": 5,
      "outputs": [
        {
          "output_type": "execute_result",
          "data": {
            "text/plain": [
              "(188530, 45174)"
            ]
          },
          "metadata": {},
          "execution_count": 5
        }
      ]
    },
    {
      "cell_type": "markdown",
      "source": [
        "- train과 test를 20년도를 기준으로 나누었고 약 8:2 비율로 나뉘었다."
      ],
      "metadata": {
        "id": "wg6d5hF8_XjD"
      }
    },
    {
      "cell_type": "markdown",
      "source": [
        "## 널값 제거"
      ],
      "metadata": {
        "id": "-wTtIHnN2lLf"
      }
    },
    {
      "cell_type": "code",
      "source": [
        "train.dropna(how='any', inplace=True)\n",
        "test.dropna(how='any', inplace=True)"
      ],
      "metadata": {
        "id": "S2RrIasAX5Lt"
      },
      "execution_count": 6,
      "outputs": []
    },
    {
      "cell_type": "code",
      "source": [
        "train.reset_index(inplace=True); test.reset_index(inplace=True)"
      ],
      "metadata": {
        "id": "Jy1xmRaZcw2o"
      },
      "execution_count": 7,
      "outputs": []
    },
    {
      "cell_type": "markdown",
      "source": [
        "## 정수 인코딩 작업을 위해 text를 token 단위로 분리"
      ],
      "metadata": {
        "id": "aSlMZ5rm24nr"
      }
    },
    {
      "cell_type": "code",
      "source": [
        "X_train = []\n",
        "for sentence in tqdm(train['token_mecab']):\n",
        "    temp_list = []\n",
        "    for word in sentence.split():\n",
        "        temp_list.append(word)\n",
        "    X_train.append(temp_list)    "
      ],
      "metadata": {
        "colab": {
          "base_uri": "https://localhost:8080/"
        },
        "id": "HN3fAhrSVovZ",
        "outputId": "8bf284ab-7a6c-4ef8-b4d8-8d47d19697ec"
      },
      "execution_count": 8,
      "outputs": [
        {
          "output_type": "stream",
          "name": "stderr",
          "text": [
            "100%|██████████| 188501/188501 [00:00<00:00, 247542.75it/s]\n"
          ]
        }
      ]
    },
    {
      "cell_type": "code",
      "source": [
        "X_train[:5]"
      ],
      "metadata": {
        "colab": {
          "base_uri": "https://localhost:8080/"
        },
        "id": "SxWQ0VQYZc9i",
        "outputId": "d507e114-6b25-4aaf-87df-7c0674b86908"
      },
      "execution_count": 9,
      "outputs": [
        {
          "output_type": "execute_result",
          "data": {
            "text/plain": [
              "[['TV', '재계', '총수', '일자리', '창출', '투자', '확대', '강조'],\n",
              " ['코스닥', '새해', '거래일', '소폭', '오름세', '지속'],\n",
              " ['코스닥', '새해', '거래일', '소폭', '오름세', '지속'],\n",
              " ['코스닥', '개인', '기관', '사자', '상승', '지속', '저출산', '종목', '강세'],\n",
              " ['코스피', '외인', '팔자', '약세', '전환', '방향', '탐색']]"
            ]
          },
          "metadata": {},
          "execution_count": 9
        }
      ]
    },
    {
      "cell_type": "code",
      "source": [
        "X_test = []\n",
        "for sentence in tqdm(test['token_mecab']):\n",
        "    temp_list = []\n",
        "    for word in sentence.split():\n",
        "        temp_list.append(word)\n",
        "    X_test.append(temp_list)    "
      ],
      "metadata": {
        "colab": {
          "base_uri": "https://localhost:8080/"
        },
        "id": "g0lX96cZZMQ7",
        "outputId": "b18104a4-496d-47a8-bc71-ed202c095ce0"
      },
      "execution_count": 10,
      "outputs": [
        {
          "output_type": "stream",
          "name": "stderr",
          "text": [
            "100%|██████████| 45172/45172 [00:00<00:00, 412789.69it/s]\n"
          ]
        }
      ]
    },
    {
      "cell_type": "code",
      "source": [
        "X_test[:5]"
      ],
      "metadata": {
        "colab": {
          "base_uri": "https://localhost:8080/"
        },
        "id": "35YKOGI1ZoGg",
        "outputId": "246ae075-7ba4-4c54-8b80-8d7e19325966"
      },
      "execution_count": 11,
      "outputs": [
        {
          "output_type": "execute_result",
          "data": {
            "text/plain": [
              "[['기술', '사대주의', 'AI', '정복', '힘들'],\n",
              " ['해설', '중국', '디지털', '종속', '우려', '동남아', '국가', '중국', 'QR', '결제', '금지', '강수'],\n",
              " ['씨티', '은행', '포인트', '금리', '인하', '직장', '신용', '대출', '연장', '이벤트'],\n",
              " ['소비자', '분쟁', '통지서', '카톡', '제공'],\n",
              " ['이슈', '분석', '공정위', '배민', 'DH', '합병', '경우']]"
            ]
          },
          "metadata": {},
          "execution_count": 11
        }
      ]
    },
    {
      "cell_type": "markdown",
      "source": [
        "## 단어 집합(vocabulary) 생성\n"
      ],
      "metadata": {
        "id": "gt_XZq_zGqSg"
      }
    },
    {
      "cell_type": "code",
      "source": [
        "tokenizer = Tokenizer()\n",
        "tokenizer.fit_on_texts(X_train)"
      ],
      "metadata": {
        "id": "oep7BvF7G21r"
      },
      "execution_count": 12,
      "outputs": []
    },
    {
      "cell_type": "code",
      "source": [
        "len(tokenizer.word_index)"
      ],
      "metadata": {
        "colab": {
          "base_uri": "https://localhost:8080/"
        },
        "id": "hfaJ7tnhG6EM",
        "outputId": "9d9c0018-eae3-43cc-8802-d453ce1455f4"
      },
      "execution_count": 13,
      "outputs": [
        {
          "output_type": "execute_result",
          "data": {
            "text/plain": [
              "35750"
            ]
          },
          "metadata": {},
          "execution_count": 13
        }
      ]
    },
    {
      "cell_type": "markdown",
      "source": [
        "- 단어가 3만5천개가 넘게 존재한다.\n",
        "- 부여된 정수는 등장 빈도순으로 차례로 부여되었다.\n",
        "- 높은 정수가 부여된 단어들은 등장 빈도수가 매우 낮은 것\n",
        "- 빈도수가 낮은 단어들을 자연어처리에서 배제하기 위해 등장 빈도수에 따라 비중을 확인하면서 정제 진행"
      ],
      "metadata": {
        "id": "lf-OLlUGdPUe"
      }
    },
    {
      "cell_type": "markdown",
      "source": [
        "### 빈도수 확인\n",
        "- 상승/하락에 따른 빈도수로 나누어 확인하자\n",
        "- 겹치는 조사 및 공통어를 불용어로 추가해 제거"
      ],
      "metadata": {
        "id": "fJrByuk4H8Nm"
      }
    },
    {
      "cell_type": "code",
      "source": [
        "frequencies = pd.Series(np.concatenate([word for word in X_train])).value_counts()\n",
        "frequencies"
      ],
      "metadata": {
        "colab": {
          "base_uri": "https://localhost:8080/"
        },
        "id": "qxkbj9saHyj-",
        "outputId": "a54f9c88-5e69-4a9e-9f13-307859034367"
      },
      "execution_count": 14,
      "outputs": [
        {
          "output_type": "execute_result",
          "data": {
            "text/plain": [
              "코스피      15508\n",
              "금융       15194\n",
              "코스닥      10267\n",
              "삼성        9907\n",
              "KB        9597\n",
              "         ...  \n",
              "조웅래          1\n",
              "후버           1\n",
              "표가           1\n",
              "KAMCO        1\n",
              "어류           1\n",
              "Length: 36017, dtype: int64"
            ]
          },
          "metadata": {},
          "execution_count": 14
        }
      ]
    },
    {
      "cell_type": "code",
      "source": [
        "train['tokens'] = X_train # 토큰화된 mecab 문장들 컬럼 추가\n",
        "train.head(3)"
      ],
      "metadata": {
        "colab": {
          "base_uri": "https://localhost:8080/",
          "height": 292
        },
        "id": "jI5r8d_gPJxV",
        "outputId": "0835fce5-d9b8-4277-eaee-b0e2e97f2c29"
      },
      "execution_count": 15,
      "outputs": [
        {
          "output_type": "execute_result",
          "data": {
            "text/html": [
              "\n",
              "  <div id=\"df-430e3253-f822-4527-888f-6a1d0192dac5\">\n",
              "    <div class=\"colab-df-container\">\n",
              "      <div>\n",
              "<style scoped>\n",
              "    .dataframe tbody tr th:only-of-type {\n",
              "        vertical-align: middle;\n",
              "    }\n",
              "\n",
              "    .dataframe tbody tr th {\n",
              "        vertical-align: top;\n",
              "    }\n",
              "\n",
              "    .dataframe thead th {\n",
              "        text-align: right;\n",
              "    }\n",
              "</style>\n",
              "<table border=\"1\" class=\"dataframe\">\n",
              "  <thead>\n",
              "    <tr style=\"text-align: right;\">\n",
              "      <th></th>\n",
              "      <th>index</th>\n",
              "      <th>name</th>\n",
              "      <th>headline</th>\n",
              "      <th>date</th>\n",
              "      <th>change</th>\n",
              "      <th>token_mecab</th>\n",
              "      <th>tokens</th>\n",
              "    </tr>\n",
              "  </thead>\n",
              "  <tbody>\n",
              "    <tr>\n",
              "      <th>0</th>\n",
              "      <td>0</td>\n",
              "      <td>삼성전자</td>\n",
              "      <td>[TV] 재계 총수들, 일자리 창출과 투자 확대 강조</td>\n",
              "      <td>2012-01-02</td>\n",
              "      <td>1</td>\n",
              "      <td>TV 재계 총수 일자리 창출 투자 확대 강조</td>\n",
              "      <td>[TV, 재계, 총수, 일자리, 창출, 투자, 확대, 강조]</td>\n",
              "    </tr>\n",
              "    <tr>\n",
              "      <th>1</th>\n",
              "      <td>1</td>\n",
              "      <td>셀트리온</td>\n",
              "      <td>코스닥, 새해 첫 거래일 소폭 오름세 지속</td>\n",
              "      <td>2012-01-02</td>\n",
              "      <td>0</td>\n",
              "      <td>코스닥 새해 거래일 소폭 오름세 지속</td>\n",
              "      <td>[코스닥, 새해, 거래일, 소폭, 오름세, 지속]</td>\n",
              "    </tr>\n",
              "    <tr>\n",
              "      <th>2</th>\n",
              "      <td>2</td>\n",
              "      <td>셀트리온</td>\n",
              "      <td>코스닥 새해 첫 거래일 소폭 오름세 지속</td>\n",
              "      <td>2012-01-02</td>\n",
              "      <td>0</td>\n",
              "      <td>코스닥 새해 거래일 소폭 오름세 지속</td>\n",
              "      <td>[코스닥, 새해, 거래일, 소폭, 오름세, 지속]</td>\n",
              "    </tr>\n",
              "  </tbody>\n",
              "</table>\n",
              "</div>\n",
              "      <button class=\"colab-df-convert\" onclick=\"convertToInteractive('df-430e3253-f822-4527-888f-6a1d0192dac5')\"\n",
              "              title=\"Convert this dataframe to an interactive table.\"\n",
              "              style=\"display:none;\">\n",
              "        \n",
              "  <svg xmlns=\"http://www.w3.org/2000/svg\" height=\"24px\"viewBox=\"0 0 24 24\"\n",
              "       width=\"24px\">\n",
              "    <path d=\"M0 0h24v24H0V0z\" fill=\"none\"/>\n",
              "    <path d=\"M18.56 5.44l.94 2.06.94-2.06 2.06-.94-2.06-.94-.94-2.06-.94 2.06-2.06.94zm-11 1L8.5 8.5l.94-2.06 2.06-.94-2.06-.94L8.5 2.5l-.94 2.06-2.06.94zm10 10l.94 2.06.94-2.06 2.06-.94-2.06-.94-.94-2.06-.94 2.06-2.06.94z\"/><path d=\"M17.41 7.96l-1.37-1.37c-.4-.4-.92-.59-1.43-.59-.52 0-1.04.2-1.43.59L10.3 9.45l-7.72 7.72c-.78.78-.78 2.05 0 2.83L4 21.41c.39.39.9.59 1.41.59.51 0 1.02-.2 1.41-.59l7.78-7.78 2.81-2.81c.8-.78.8-2.07 0-2.86zM5.41 20L4 18.59l7.72-7.72 1.47 1.35L5.41 20z\"/>\n",
              "  </svg>\n",
              "      </button>\n",
              "      \n",
              "  <style>\n",
              "    .colab-df-container {\n",
              "      display:flex;\n",
              "      flex-wrap:wrap;\n",
              "      gap: 12px;\n",
              "    }\n",
              "\n",
              "    .colab-df-convert {\n",
              "      background-color: #E8F0FE;\n",
              "      border: none;\n",
              "      border-radius: 50%;\n",
              "      cursor: pointer;\n",
              "      display: none;\n",
              "      fill: #1967D2;\n",
              "      height: 32px;\n",
              "      padding: 0 0 0 0;\n",
              "      width: 32px;\n",
              "    }\n",
              "\n",
              "    .colab-df-convert:hover {\n",
              "      background-color: #E2EBFA;\n",
              "      box-shadow: 0px 1px 2px rgba(60, 64, 67, 0.3), 0px 1px 3px 1px rgba(60, 64, 67, 0.15);\n",
              "      fill: #174EA6;\n",
              "    }\n",
              "\n",
              "    [theme=dark] .colab-df-convert {\n",
              "      background-color: #3B4455;\n",
              "      fill: #D2E3FC;\n",
              "    }\n",
              "\n",
              "    [theme=dark] .colab-df-convert:hover {\n",
              "      background-color: #434B5C;\n",
              "      box-shadow: 0px 1px 3px 1px rgba(0, 0, 0, 0.15);\n",
              "      filter: drop-shadow(0px 1px 2px rgba(0, 0, 0, 0.3));\n",
              "      fill: #FFFFFF;\n",
              "    }\n",
              "  </style>\n",
              "\n",
              "      <script>\n",
              "        const buttonEl =\n",
              "          document.querySelector('#df-430e3253-f822-4527-888f-6a1d0192dac5 button.colab-df-convert');\n",
              "        buttonEl.style.display =\n",
              "          google.colab.kernel.accessAllowed ? 'block' : 'none';\n",
              "\n",
              "        async function convertToInteractive(key) {\n",
              "          const element = document.querySelector('#df-430e3253-f822-4527-888f-6a1d0192dac5');\n",
              "          const dataTable =\n",
              "            await google.colab.kernel.invokeFunction('convertToInteractive',\n",
              "                                                     [key], {});\n",
              "          if (!dataTable) return;\n",
              "\n",
              "          const docLinkHtml = 'Like what you see? Visit the ' +\n",
              "            '<a target=\"_blank\" href=https://colab.research.google.com/notebooks/data_table.ipynb>data table notebook</a>'\n",
              "            + ' to learn more about interactive tables.';\n",
              "          element.innerHTML = '';\n",
              "          dataTable['output_type'] = 'display_data';\n",
              "          await google.colab.output.renderOutput(dataTable, element);\n",
              "          const docLink = document.createElement('div');\n",
              "          docLink.innerHTML = docLinkHtml;\n",
              "          element.appendChild(docLink);\n",
              "        }\n",
              "      </script>\n",
              "    </div>\n",
              "  </div>\n",
              "  "
            ],
            "text/plain": [
              "   index  name  ...               token_mecab                             tokens\n",
              "0      0  삼성전자  ...  TV 재계 총수 일자리 창출 투자 확대 강조  [TV, 재계, 총수, 일자리, 창출, 투자, 확대, 강조]\n",
              "1      1  셀트리온  ...      코스닥 새해 거래일 소폭 오름세 지속        [코스닥, 새해, 거래일, 소폭, 오름세, 지속]\n",
              "2      2  셀트리온  ...      코스닥 새해 거래일 소폭 오름세 지속        [코스닥, 새해, 거래일, 소폭, 오름세, 지속]\n",
              "\n",
              "[3 rows x 7 columns]"
            ]
          },
          "metadata": {},
          "execution_count": 15
        }
      ]
    },
    {
      "cell_type": "markdown",
      "source": [
        "## 단어 등장 빈도 시각화 \n",
        "- 전체 헤드라인 분포 확인 후 주가 변동 상승/하락으로 나누어 분포 확인\n",
        "- 상승/하락의 공통어 빈도수를 확인하면서 불용어 처리"
      ],
      "metadata": {
        "id": "k2LEuwwE4R1g"
      }
    },
    {
      "cell_type": "code",
      "source": [
        "def get_freq_count(tokens):\n",
        "  pos_token = list(train['tokens'][train['change'] == 1])\n",
        "  neg_token = list(train['tokens'][train['change'] == 0])\n",
        "  pos_freq = pd.Series(np.concatenate([w for w in pos_token])).value_counts()\n",
        "  neg_freq = pd.Series(np.concatenate([w for w in neg_token])).value_counts()\n",
        "  return pos_freq, neg_freq\n",
        "\n",
        "def remove_doubled_words(pos_freq, neg_freq, tokens):\n",
        "  # 긍정,부정에서 모두 사용되는 단어는 의미 없는 단어이므로 제거\n",
        "  top_50_pos = pos_freq[:20]\n",
        "  top_50_neg = neg_freq[:20]\n",
        "  remove_words = [p for p in top_50_pos.index if p in top_50_neg.index]\n",
        "  tokens_removed = remove_stop_words(tokens, remove_words)\n",
        "  final_tokens = cleaning_tokens(tokens_removed)\n",
        "  return final_tokens\n",
        "\n",
        "def draw_top_hist(data,name,color): # 히스토그램을 그려줍니다.\n",
        "  top_10 = data[:10]\n",
        "  plt.figure(figsize=(12,7.5))\n",
        "  plt.rc('font', family='NanumBarunGothic') \n",
        "  plt.suptitle(\"단어 등장 빈도 수\", fontsize=30)\n",
        "  plt.title(name, fontsize=15)\n",
        "  plt.bar(top_10.index,top_10.values, width=0.5, color= color, alpha=0.5)\n",
        "  plt.tight_layout(rect=[0, 0.03, 1, 0.95])\n",
        "  plt.show()"
      ],
      "metadata": {
        "id": "2veoMGEfdhMN"
      },
      "execution_count": 16,
      "outputs": []
    },
    {
      "cell_type": "code",
      "source": [
        "tokens = pd.Series(X_train) # 인덱싱을 위해 시리즈로 변환\n",
        "tokens[:5]"
      ],
      "metadata": {
        "colab": {
          "base_uri": "https://localhost:8080/"
        },
        "id": "OdbW2wq3dj1z",
        "outputId": "e25ead73-e41a-4159-94cb-8f71004f8a3c"
      },
      "execution_count": 17,
      "outputs": [
        {
          "output_type": "execute_result",
          "data": {
            "text/plain": [
              "0         [TV, 재계, 총수, 일자리, 창출, 투자, 확대, 강조]\n",
              "1               [코스닥, 새해, 거래일, 소폭, 오름세, 지속]\n",
              "2               [코스닥, 새해, 거래일, 소폭, 오름세, 지속]\n",
              "3    [코스닥, 개인, 기관, 사자, 상승, 지속, 저출산, 종목, 강세]\n",
              "4             [코스피, 외인, 팔자, 약세, 전환, 방향, 탐색]\n",
              "dtype: object"
            ]
          },
          "metadata": {},
          "execution_count": 17
        }
      ]
    },
    {
      "cell_type": "code",
      "source": [
        "pos_freq, neg_freq = get_freq_count(tokens)"
      ],
      "metadata": {
        "id": "P36OBNHkdk7g"
      },
      "execution_count": 18,
      "outputs": []
    },
    {
      "cell_type": "markdown",
      "source": [
        "### 헤드라인 단어 등장 빈도 수 확인"
      ],
      "metadata": {
        "id": "U0J0miRk5feU"
      }
    },
    {
      "cell_type": "code",
      "source": [
        "draw_top_hist(frequencies,'총 헤드라인','g') # 총"
      ],
      "metadata": {
        "colab": {
          "base_uri": "https://localhost:8080/",
          "height": 458
        },
        "id": "gPZ_yPkAdmU1",
        "outputId": "e25e0a46-a2e1-4b83-b9ce-53de395db2af"
      },
      "execution_count": 19,
      "outputs": [
        {
          "output_type": "display_data",
          "data": {
            "image/png": "[encoded data removed]",
            "text/plain": [
              "<Figure size 864x540 with 1 Axes>"
            ]
          },
          "metadata": {
            "needs_background": "light"
          }
        }
      ]
    },
    {
      "cell_type": "code",
      "source": [
        "draw_top_hist(pos_freq,'주가 상승 헤드라인 수','r') # 상승"
      ],
      "metadata": {
        "colab": {
          "base_uri": "https://localhost:8080/",
          "height": 458
        },
        "id": "oc8_WAdjdtjS",
        "outputId": "e3052a1a-7a89-46f3-f2a2-90612ac1e665"
      },
      "execution_count": 20,
      "outputs": [
        {
          "output_type": "display_data",
          "data": {
            "image/png": "[encoded data removed]",
            "text/plain": [
              "<Figure size 864x540 with 1 Axes>"
            ]
          },
          "metadata": {
            "needs_background": "light"
          }
        }
      ]
    },
    {
      "cell_type": "code",
      "source": [
        "draw_top_hist(neg_freq,'주가 하락 헤드라인 수','b') # 하락"
      ],
      "metadata": {
        "colab": {
          "base_uri": "https://localhost:8080/",
          "height": 458
        },
        "id": "lSG83cRDdwWI",
        "outputId": "52a17090-ae36-4daf-dcff-b7f33502caf3"
      },
      "execution_count": 21,
      "outputs": [
        {
          "output_type": "display_data",
          "data": {
            "image/png": "[encoded data removed]",
            "text/plain": [
              "<Figure size 864x540 with 1 Axes>"
            ]
          },
          "metadata": {
            "needs_background": "light"
          }
        }
      ]
    },
    {
      "cell_type": "markdown",
      "source": [
        "### 상위 10개 단어 중 상승/하락 공통 토큰 불용어 처리\n"
      ],
      "metadata": {
        "id": "Zs4bSUkW5s_n"
      }
    },
    {
      "cell_type": "code",
      "source": [
        "top_50_pos = pos_freq[:10]\n",
        "top_50_neg = neg_freq[:10]\n",
        "common_words = [p for p in top_50_pos.index if p in top_50_neg.index]\n",
        "common_words"
      ],
      "metadata": {
        "colab": {
          "base_uri": "https://localhost:8080/"
        },
        "id": "nOqb490od1yP",
        "outputId": "0dffc019-ba52-4a69-cf66-0b88d5086497"
      },
      "execution_count": 22,
      "outputs": [
        {
          "output_type": "execute_result",
          "data": {
            "text/plain": [
              "['코스피', '금융', '삼성', '코스닥', 'LG', 'KB', '기업', '현대차', '투자']"
            ]
          },
          "metadata": {},
          "execution_count": 22
        }
      ]
    },
    {
      "cell_type": "markdown",
      "source": [
        "- 상위 10위에 공동으로 존재하는 토큰들은 전부 제거"
      ],
      "metadata": {
        "id": "ylDj0dpoR2G1"
      }
    },
    {
      "cell_type": "code",
      "source": [
        "total = frequencies.sum()\n",
        "common_words_cnt = frequencies[common_words].sum()\n",
        "print(f'total words count: {total} removed: {common_words_cnt} ratio: {common_words_cnt / total :.2f}')"
      ],
      "metadata": {
        "colab": {
          "base_uri": "https://localhost:8080/"
        },
        "id": "srDGH4UIRkbE",
        "outputId": "d65405eb-08c1-4270-ac79-b83665c518c5"
      },
      "execution_count": 23,
      "outputs": [
        {
          "output_type": "stream",
          "name": "stdout",
          "text": [
            "total words count: 1255421 removed: 95771 ratio: 0.08\n"
          ]
        }
      ]
    },
    {
      "cell_type": "markdown",
      "source": [
        "- 전체 단어 사용 횟수 중 8% 정도의 빈도수가 겹치는 공통어\n",
        "- 이 공통어들을 불용어로 처리해 제거"
      ],
      "metadata": {
        "id": "EcMBbAJURxCg"
      }
    },
    {
      "cell_type": "code",
      "source": [
        "clean_token_list = []\n",
        "for token in tokens:\n",
        "  clean_token = list(filter(lambda x: x not in common_words,token))\n",
        "  clean_token_list.append(clean_token)"
      ],
      "metadata": {
        "id": "ClIxTEZxSEXg"
      },
      "execution_count": 24,
      "outputs": []
    },
    {
      "cell_type": "code",
      "source": [
        "clean_tokens = pd.Series(clean_token_list)\n",
        "clean_tokens[:10]"
      ],
      "metadata": {
        "colab": {
          "base_uri": "https://localhost:8080/"
        },
        "id": "FIILo6XMSFdv",
        "outputId": "d866b080-acfa-4e52-9146-1652397e9e88"
      },
      "execution_count": 25,
      "outputs": [
        {
          "output_type": "execute_result",
          "data": {
            "text/plain": [
              "0         [TV, 재계, 총수, 일자리, 창출, 확대, 강조]\n",
              "1                [새해, 거래일, 소폭, 오름세, 지속]\n",
              "2                [새해, 거래일, 소폭, 오름세, 지속]\n",
              "3     [개인, 기관, 사자, 상승, 지속, 저출산, 종목, 강세]\n",
              "4              [외인, 팔자, 약세, 전환, 방향, 탐색]\n",
              "5                        [거래일, 상승세, 상승]\n",
              "6                 [새해, 거래일, 개인, 매수, 상승]\n",
              "7    [IR, 장영, 실상, 화학, 장갑, 소재, NBR, 라텍스]\n",
              "8               [주목, CEO, 김반석, 화학, 부회장]\n",
              "9                         [정유, 화학주, 하락]\n",
              "dtype: object"
            ]
          },
          "metadata": {},
          "execution_count": 25
        }
      ]
    },
    {
      "cell_type": "code",
      "source": [
        "train['clean_tokens'] = clean_token_list # 상위 10개 공동 토큰 처리한 문장 컬럼 추가\n",
        "train.head(3)"
      ],
      "metadata": {
        "colab": {
          "base_uri": "https://localhost:8080/",
          "height": 308
        },
        "id": "xEDKalRDSNtO",
        "outputId": "e948248e-8b9a-45ba-a0da-a253dc381f15"
      },
      "execution_count": 26,
      "outputs": [
        {
          "output_type": "execute_result",
          "data": {
            "text/html": [
              "\n",
              "  <div id=\"df-96aba964-a380-4550-9a4e-177a767c58eb\">\n",
              "    <div class=\"colab-df-container\">\n",
              "      <div>\n",
              "<style scoped>\n",
              "    .dataframe tbody tr th:only-of-type {\n",
              "        vertical-align: middle;\n",
              "    }\n",
              "\n",
              "    .dataframe tbody tr th {\n",
              "        vertical-align: top;\n",
              "    }\n",
              "\n",
              "    .dataframe thead th {\n",
              "        text-align: right;\n",
              "    }\n",
              "</style>\n",
              "<table border=\"1\" class=\"dataframe\">\n",
              "  <thead>\n",
              "    <tr style=\"text-align: right;\">\n",
              "      <th></th>\n",
              "      <th>index</th>\n",
              "      <th>name</th>\n",
              "      <th>headline</th>\n",
              "      <th>date</th>\n",
              "      <th>change</th>\n",
              "      <th>token_mecab</th>\n",
              "      <th>tokens</th>\n",
              "      <th>clean_tokens</th>\n",
              "    </tr>\n",
              "  </thead>\n",
              "  <tbody>\n",
              "    <tr>\n",
              "      <th>0</th>\n",
              "      <td>0</td>\n",
              "      <td>삼성전자</td>\n",
              "      <td>[TV] 재계 총수들, 일자리 창출과 투자 확대 강조</td>\n",
              "      <td>2012-01-02</td>\n",
              "      <td>1</td>\n",
              "      <td>TV 재계 총수 일자리 창출 투자 확대 강조</td>\n",
              "      <td>[TV, 재계, 총수, 일자리, 창출, 투자, 확대, 강조]</td>\n",
              "      <td>[TV, 재계, 총수, 일자리, 창출, 확대, 강조]</td>\n",
              "    </tr>\n",
              "    <tr>\n",
              "      <th>1</th>\n",
              "      <td>1</td>\n",
              "      <td>셀트리온</td>\n",
              "      <td>코스닥, 새해 첫 거래일 소폭 오름세 지속</td>\n",
              "      <td>2012-01-02</td>\n",
              "      <td>0</td>\n",
              "      <td>코스닥 새해 거래일 소폭 오름세 지속</td>\n",
              "      <td>[코스닥, 새해, 거래일, 소폭, 오름세, 지속]</td>\n",
              "      <td>[새해, 거래일, 소폭, 오름세, 지속]</td>\n",
              "    </tr>\n",
              "    <tr>\n",
              "      <th>2</th>\n",
              "      <td>2</td>\n",
              "      <td>셀트리온</td>\n",
              "      <td>코스닥 새해 첫 거래일 소폭 오름세 지속</td>\n",
              "      <td>2012-01-02</td>\n",
              "      <td>0</td>\n",
              "      <td>코스닥 새해 거래일 소폭 오름세 지속</td>\n",
              "      <td>[코스닥, 새해, 거래일, 소폭, 오름세, 지속]</td>\n",
              "      <td>[새해, 거래일, 소폭, 오름세, 지속]</td>\n",
              "    </tr>\n",
              "  </tbody>\n",
              "</table>\n",
              "</div>\n",
              "      <button class=\"colab-df-convert\" onclick=\"convertToInteractive('df-96aba964-a380-4550-9a4e-177a767c58eb')\"\n",
              "              title=\"Convert this dataframe to an interactive table.\"\n",
              "              style=\"display:none;\">\n",
              "        \n",
              "  <svg xmlns=\"http://www.w3.org/2000/svg\" height=\"24px\"viewBox=\"0 0 24 24\"\n",
              "       width=\"24px\">\n",
              "    <path d=\"M0 0h24v24H0V0z\" fill=\"none\"/>\n",
              "    <path d=\"M18.56 5.44l.94 2.06.94-2.06 2.06-.94-2.06-.94-.94-2.06-.94 2.06-2.06.94zm-11 1L8.5 8.5l.94-2.06 2.06-.94-2.06-.94L8.5 2.5l-.94 2.06-2.06.94zm10 10l.94 2.06.94-2.06 2.06-.94-2.06-.94-.94-2.06-.94 2.06-2.06.94z\"/><path d=\"M17.41 7.96l-1.37-1.37c-.4-.4-.92-.59-1.43-.59-.52 0-1.04.2-1.43.59L10.3 9.45l-7.72 7.72c-.78.78-.78 2.05 0 2.83L4 21.41c.39.39.9.59 1.41.59.51 0 1.02-.2 1.41-.59l7.78-7.78 2.81-2.81c.8-.78.8-2.07 0-2.86zM5.41 20L4 18.59l7.72-7.72 1.47 1.35L5.41 20z\"/>\n",
              "  </svg>\n",
              "      </button>\n",
              "      \n",
              "  <style>\n",
              "    .colab-df-container {\n",
              "      display:flex;\n",
              "      flex-wrap:wrap;\n",
              "      gap: 12px;\n",
              "    }\n",
              "\n",
              "    .colab-df-convert {\n",
              "      background-color: #E8F0FE;\n",
              "      border: none;\n",
              "      border-radius: 50%;\n",
              "      cursor: pointer;\n",
              "      display: none;\n",
              "      fill: #1967D2;\n",
              "      height: 32px;\n",
              "      padding: 0 0 0 0;\n",
              "      width: 32px;\n",
              "    }\n",
              "\n",
              "    .colab-df-convert:hover {\n",
              "      background-color: #E2EBFA;\n",
              "      box-shadow: 0px 1px 2px rgba(60, 64, 67, 0.3), 0px 1px 3px 1px rgba(60, 64, 67, 0.15);\n",
              "      fill: #174EA6;\n",
              "    }\n",
              "\n",
              "    [theme=dark] .colab-df-convert {\n",
              "      background-color: #3B4455;\n",
              "      fill: #D2E3FC;\n",
              "    }\n",
              "\n",
              "    [theme=dark] .colab-df-convert:hover {\n",
              "      background-color: #434B5C;\n",
              "      box-shadow: 0px 1px 3px 1px rgba(0, 0, 0, 0.15);\n",
              "      filter: drop-shadow(0px 1px 2px rgba(0, 0, 0, 0.3));\n",
              "      fill: #FFFFFF;\n",
              "    }\n",
              "  </style>\n",
              "\n",
              "      <script>\n",
              "        const buttonEl =\n",
              "          document.querySelector('#df-96aba964-a380-4550-9a4e-177a767c58eb button.colab-df-convert');\n",
              "        buttonEl.style.display =\n",
              "          google.colab.kernel.accessAllowed ? 'block' : 'none';\n",
              "\n",
              "        async function convertToInteractive(key) {\n",
              "          const element = document.querySelector('#df-96aba964-a380-4550-9a4e-177a767c58eb');\n",
              "          const dataTable =\n",
              "            await google.colab.kernel.invokeFunction('convertToInteractive',\n",
              "                                                     [key], {});\n",
              "          if (!dataTable) return;\n",
              "\n",
              "          const docLinkHtml = 'Like what you see? Visit the ' +\n",
              "            '<a target=\"_blank\" href=https://colab.research.google.com/notebooks/data_table.ipynb>data table notebook</a>'\n",
              "            + ' to learn more about interactive tables.';\n",
              "          element.innerHTML = '';\n",
              "          dataTable['output_type'] = 'display_data';\n",
              "          await google.colab.output.renderOutput(dataTable, element);\n",
              "          const docLink = document.createElement('div');\n",
              "          docLink.innerHTML = docLinkHtml;\n",
              "          element.appendChild(docLink);\n",
              "        }\n",
              "      </script>\n",
              "    </div>\n",
              "  </div>\n",
              "  "
            ],
            "text/plain": [
              "   index  ...                   clean_tokens\n",
              "0      0  ...  [TV, 재계, 총수, 일자리, 창출, 확대, 강조]\n",
              "1      1  ...         [새해, 거래일, 소폭, 오름세, 지속]\n",
              "2      2  ...         [새해, 거래일, 소폭, 오름세, 지속]\n",
              "\n",
              "[3 rows x 8 columns]"
            ]
          },
          "metadata": {},
          "execution_count": 26
        }
      ]
    },
    {
      "cell_type": "markdown",
      "source": [
        "## 상위 10개 공동 토큰 처리 후 한번 더 단어 등장 빈도 수 확인 (상승/하락)"
      ],
      "metadata": {
        "id": "fu-z_xAg6JMO"
      }
    },
    {
      "cell_type": "code",
      "source": [
        "def get_freq_count2(tokens):\n",
        "  pos_token = list(train['clean_tokens'][train['change'] == 1])\n",
        "  neg_token = list(train['clean_tokens'][train['change'] == 0])\n",
        "  pos_freq = pd.Series(np.concatenate([w for w in pos_token])).value_counts()\n",
        "  neg_freq = pd.Series(np.concatenate([w for w in neg_token])).value_counts()\n",
        "  return pos_freq, neg_freq"
      ],
      "metadata": {
        "id": "xWHDjrChS7ZI"
      },
      "execution_count": 27,
      "outputs": []
    },
    {
      "cell_type": "code",
      "source": [
        "pos_freq,neg_freq = get_freq_count2(clean_tokens)"
      ],
      "metadata": {
        "id": "uqm1TAVYS_Oo"
      },
      "execution_count": 28,
      "outputs": []
    },
    {
      "cell_type": "code",
      "source": [
        "draw_top_hist(pos_freq,'주가 상승 헤드라인 수','r')"
      ],
      "metadata": {
        "colab": {
          "base_uri": "https://localhost:8080/",
          "height": 458
        },
        "id": "NSkXnUOGTDRK",
        "outputId": "24ad043a-d67e-4e95-bd3d-0b596f60aab1"
      },
      "execution_count": null,
      "outputs": [
        {
          "output_type": "display_data",
          "data": {
            "image/png": "[encoded data removed]",
            "text/plain": [
              "<Figure size 864x540 with 1 Axes>"
            ]
          },
          "metadata": {
            "needs_background": "light"
          }
        }
      ]
    },
    {
      "cell_type": "code",
      "source": [
        "draw_top_hist(neg_freq,'주가 하락 헤드라인 수','b')"
      ],
      "metadata": {
        "colab": {
          "base_uri": "https://localhost:8080/",
          "height": 458
        },
        "id": "siyipycDTY0R",
        "outputId": "a9214448-e937-4ad1-c32b-e9f0152fb02c"
      },
      "execution_count": null,
      "outputs": [
        {
          "output_type": "display_data",
          "data": {
            "image/png": "[encoded data removed]",
            "text/plain": [
              "<Figure size 864x540 with 1 Axes>"
            ]
          },
          "metadata": {
            "needs_background": "light"
          }
        }
      ]
    },
    {
      "cell_type": "markdown",
      "source": [
        "### 한번 더 상위 10개의 공동 토큰 제거"
      ],
      "metadata": {
        "id": "N95vn3236lcB"
      }
    },
    {
      "cell_type": "markdown",
      "source": [
        "- 아직까지 공통 토큰들이 좀 보인다 한번 더 제거"
      ],
      "metadata": {
        "id": "p_oe_E_afE4R"
      }
    },
    {
      "cell_type": "code",
      "source": [
        "top_50_pos2 = pos_freq[:10]\n",
        "top_50_neg2 = neg_freq[:10]\n",
        "common_words = [p for p in top_50_pos2.index if p in top_50_neg2.index]\n",
        "common_words = common_words[1:] # 상승은 중요한 단어 -> 주가 변동이 상승일 때\n",
        "common_words"
      ],
      "metadata": {
        "colab": {
          "base_uri": "https://localhost:8080/"
        },
        "id": "fbUuY5Qtez0k",
        "outputId": "aa16878b-7b8d-4650-caa9-b91cafa87bcd"
      },
      "execution_count": 29,
      "outputs": [
        {
          "output_type": "execute_result",
          "data": {
            "text/plain": [
              "['삼성전자', 'SK', '회장', '종목', '시장', '마감', '한국']"
            ]
          },
          "metadata": {},
          "execution_count": 29
        }
      ]
    },
    {
      "cell_type": "code",
      "source": [
        "total = frequencies.sum()\n",
        "common_words_cnt = frequencies[common_words].sum()\n",
        "print(f'total words count: {total} removed: {common_words_cnt} ratio: {common_words_cnt / total :.2f}')"
      ],
      "metadata": {
        "colab": {
          "base_uri": "https://localhost:8080/"
        },
        "id": "Qv-Lt0vOfOVU",
        "outputId": "c4db9ca3-86cf-4f6a-d046-c727dbba1ec3"
      },
      "execution_count": 30,
      "outputs": [
        {
          "output_type": "stream",
          "name": "stdout",
          "text": [
            "total words count: 1255421 removed: 43350 ratio: 0.03\n"
          ]
        }
      ]
    },
    {
      "cell_type": "markdown",
      "source": [
        "- 전체 단어 중 3% 공통어"
      ],
      "metadata": {
        "id": "CMW-l5jhfk9l"
      }
    },
    {
      "cell_type": "code",
      "source": [
        "clean_token_list2 = []\n",
        "for token in clean_tokens:\n",
        "  clean_token = list(filter(lambda x: x not in common_words,token))\n",
        "  clean_token_list2.append(clean_token)"
      ],
      "metadata": {
        "id": "SnAEdPZ9fkcq"
      },
      "execution_count": 31,
      "outputs": []
    },
    {
      "cell_type": "code",
      "source": [
        "clean_tokens2 = pd.Series(clean_token_list2)\n",
        "clean_tokens2[:10]"
      ],
      "metadata": {
        "colab": {
          "base_uri": "https://localhost:8080/"
        },
        "id": "lfocOuQUgDHZ",
        "outputId": "bae13a23-9cee-4274-b608-8c3f282b88de"
      },
      "execution_count": 32,
      "outputs": [
        {
          "output_type": "execute_result",
          "data": {
            "text/plain": [
              "0         [TV, 재계, 총수, 일자리, 창출, 확대, 강조]\n",
              "1                [새해, 거래일, 소폭, 오름세, 지속]\n",
              "2                [새해, 거래일, 소폭, 오름세, 지속]\n",
              "3         [개인, 기관, 사자, 상승, 지속, 저출산, 강세]\n",
              "4              [외인, 팔자, 약세, 전환, 방향, 탐색]\n",
              "5                        [거래일, 상승세, 상승]\n",
              "6                 [새해, 거래일, 개인, 매수, 상승]\n",
              "7    [IR, 장영, 실상, 화학, 장갑, 소재, NBR, 라텍스]\n",
              "8               [주목, CEO, 김반석, 화학, 부회장]\n",
              "9                         [정유, 화학주, 하락]\n",
              "dtype: object"
            ]
          },
          "metadata": {},
          "execution_count": 32
        }
      ]
    },
    {
      "cell_type": "code",
      "source": [
        "train['clean_tokens2'] = clean_token_list2 # 최종 clean_token_list 추가\n",
        "train.head(3)"
      ],
      "metadata": {
        "colab": {
          "base_uri": "https://localhost:8080/",
          "height": 413
        },
        "id": "HwZi-k6WgKOh",
        "outputId": "3110e97e-5fe8-4a57-a9ee-d1d7c00da24a"
      },
      "execution_count": 33,
      "outputs": [
        {
          "output_type": "execute_result",
          "data": {
            "text/html": [
              "\n",
              "  <div id=\"df-b86851af-146b-4ece-b8fe-f3215bb90ec8\">\n",
              "    <div class=\"colab-df-container\">\n",
              "      <div>\n",
              "<style scoped>\n",
              "    .dataframe tbody tr th:only-of-type {\n",
              "        vertical-align: middle;\n",
              "    }\n",
              "\n",
              "    .dataframe tbody tr th {\n",
              "        vertical-align: top;\n",
              "    }\n",
              "\n",
              "    .dataframe thead th {\n",
              "        text-align: right;\n",
              "    }\n",
              "</style>\n",
              "<table border=\"1\" class=\"dataframe\">\n",
              "  <thead>\n",
              "    <tr style=\"text-align: right;\">\n",
              "      <th></th>\n",
              "      <th>index</th>\n",
              "      <th>name</th>\n",
              "      <th>headline</th>\n",
              "      <th>date</th>\n",
              "      <th>change</th>\n",
              "      <th>token_mecab</th>\n",
              "      <th>tokens</th>\n",
              "      <th>clean_tokens</th>\n",
              "      <th>clean_tokens2</th>\n",
              "    </tr>\n",
              "  </thead>\n",
              "  <tbody>\n",
              "    <tr>\n",
              "      <th>0</th>\n",
              "      <td>0</td>\n",
              "      <td>삼성전자</td>\n",
              "      <td>[TV] 재계 총수들, 일자리 창출과 투자 확대 강조</td>\n",
              "      <td>2012-01-02</td>\n",
              "      <td>1</td>\n",
              "      <td>TV 재계 총수 일자리 창출 투자 확대 강조</td>\n",
              "      <td>[TV, 재계, 총수, 일자리, 창출, 투자, 확대, 강조]</td>\n",
              "      <td>[TV, 재계, 총수, 일자리, 창출, 확대, 강조]</td>\n",
              "      <td>[TV, 재계, 총수, 일자리, 창출, 확대, 강조]</td>\n",
              "    </tr>\n",
              "    <tr>\n",
              "      <th>1</th>\n",
              "      <td>1</td>\n",
              "      <td>셀트리온</td>\n",
              "      <td>코스닥, 새해 첫 거래일 소폭 오름세 지속</td>\n",
              "      <td>2012-01-02</td>\n",
              "      <td>0</td>\n",
              "      <td>코스닥 새해 거래일 소폭 오름세 지속</td>\n",
              "      <td>[코스닥, 새해, 거래일, 소폭, 오름세, 지속]</td>\n",
              "      <td>[새해, 거래일, 소폭, 오름세, 지속]</td>\n",
              "      <td>[새해, 거래일, 소폭, 오름세, 지속]</td>\n",
              "    </tr>\n",
              "    <tr>\n",
              "      <th>2</th>\n",
              "      <td>2</td>\n",
              "      <td>셀트리온</td>\n",
              "      <td>코스닥 새해 첫 거래일 소폭 오름세 지속</td>\n",
              "      <td>2012-01-02</td>\n",
              "      <td>0</td>\n",
              "      <td>코스닥 새해 거래일 소폭 오름세 지속</td>\n",
              "      <td>[코스닥, 새해, 거래일, 소폭, 오름세, 지속]</td>\n",
              "      <td>[새해, 거래일, 소폭, 오름세, 지속]</td>\n",
              "      <td>[새해, 거래일, 소폭, 오름세, 지속]</td>\n",
              "    </tr>\n",
              "  </tbody>\n",
              "</table>\n",
              "</div>\n",
              "      <button class=\"colab-df-convert\" onclick=\"convertToInteractive('df-b86851af-146b-4ece-b8fe-f3215bb90ec8')\"\n",
              "              title=\"Convert this dataframe to an interactive table.\"\n",
              "              style=\"display:none;\">\n",
              "        \n",
              "  <svg xmlns=\"http://www.w3.org/2000/svg\" height=\"24px\"viewBox=\"0 0 24 24\"\n",
              "       width=\"24px\">\n",
              "    <path d=\"M0 0h24v24H0V0z\" fill=\"none\"/>\n",
              "    <path d=\"M18.56 5.44l.94 2.06.94-2.06 2.06-.94-2.06-.94-.94-2.06-.94 2.06-2.06.94zm-11 1L8.5 8.5l.94-2.06 2.06-.94-2.06-.94L8.5 2.5l-.94 2.06-2.06.94zm10 10l.94 2.06.94-2.06 2.06-.94-2.06-.94-.94-2.06-.94 2.06-2.06.94z\"/><path d=\"M17.41 7.96l-1.37-1.37c-.4-.4-.92-.59-1.43-.59-.52 0-1.04.2-1.43.59L10.3 9.45l-7.72 7.72c-.78.78-.78 2.05 0 2.83L4 21.41c.39.39.9.59 1.41.59.51 0 1.02-.2 1.41-.59l7.78-7.78 2.81-2.81c.8-.78.8-2.07 0-2.86zM5.41 20L4 18.59l7.72-7.72 1.47 1.35L5.41 20z\"/>\n",
              "  </svg>\n",
              "      </button>\n",
              "      \n",
              "  <style>\n",
              "    .colab-df-container {\n",
              "      display:flex;\n",
              "      flex-wrap:wrap;\n",
              "      gap: 12px;\n",
              "    }\n",
              "\n",
              "    .colab-df-convert {\n",
              "      background-color: #E8F0FE;\n",
              "      border: none;\n",
              "      border-radius: 50%;\n",
              "      cursor: pointer;\n",
              "      display: none;\n",
              "      fill: #1967D2;\n",
              "      height: 32px;\n",
              "      padding: 0 0 0 0;\n",
              "      width: 32px;\n",
              "    }\n",
              "\n",
              "    .colab-df-convert:hover {\n",
              "      background-color: #E2EBFA;\n",
              "      box-shadow: 0px 1px 2px rgba(60, 64, 67, 0.3), 0px 1px 3px 1px rgba(60, 64, 67, 0.15);\n",
              "      fill: #174EA6;\n",
              "    }\n",
              "\n",
              "    [theme=dark] .colab-df-convert {\n",
              "      background-color: #3B4455;\n",
              "      fill: #D2E3FC;\n",
              "    }\n",
              "\n",
              "    [theme=dark] .colab-df-convert:hover {\n",
              "      background-color: #434B5C;\n",
              "      box-shadow: 0px 1px 3px 1px rgba(0, 0, 0, 0.15);\n",
              "      filter: drop-shadow(0px 1px 2px rgba(0, 0, 0, 0.3));\n",
              "      fill: #FFFFFF;\n",
              "    }\n",
              "  </style>\n",
              "\n",
              "      <script>\n",
              "        const buttonEl =\n",
              "          document.querySelector('#df-b86851af-146b-4ece-b8fe-f3215bb90ec8 button.colab-df-convert');\n",
              "        buttonEl.style.display =\n",
              "          google.colab.kernel.accessAllowed ? 'block' : 'none';\n",
              "\n",
              "        async function convertToInteractive(key) {\n",
              "          const element = document.querySelector('#df-b86851af-146b-4ece-b8fe-f3215bb90ec8');\n",
              "          const dataTable =\n",
              "            await google.colab.kernel.invokeFunction('convertToInteractive',\n",
              "                                                     [key], {});\n",
              "          if (!dataTable) return;\n",
              "\n",
              "          const docLinkHtml = 'Like what you see? Visit the ' +\n",
              "            '<a target=\"_blank\" href=https://colab.research.google.com/notebooks/data_table.ipynb>data table notebook</a>'\n",
              "            + ' to learn more about interactive tables.';\n",
              "          element.innerHTML = '';\n",
              "          dataTable['output_type'] = 'display_data';\n",
              "          await google.colab.output.renderOutput(dataTable, element);\n",
              "          const docLink = document.createElement('div');\n",
              "          docLink.innerHTML = docLinkHtml;\n",
              "          element.appendChild(docLink);\n",
              "        }\n",
              "      </script>\n",
              "    </div>\n",
              "  </div>\n",
              "  "
            ],
            "text/plain": [
              "   index  name  ...                   clean_tokens                  clean_tokens2\n",
              "0      0  삼성전자  ...  [TV, 재계, 총수, 일자리, 창출, 확대, 강조]  [TV, 재계, 총수, 일자리, 창출, 확대, 강조]\n",
              "1      1  셀트리온  ...         [새해, 거래일, 소폭, 오름세, 지속]         [새해, 거래일, 소폭, 오름세, 지속]\n",
              "2      2  셀트리온  ...         [새해, 거래일, 소폭, 오름세, 지속]         [새해, 거래일, 소폭, 오름세, 지속]\n",
              "\n",
              "[3 rows x 9 columns]"
            ]
          },
          "metadata": {},
          "execution_count": 33
        }
      ]
    },
    {
      "cell_type": "markdown",
      "source": [
        "## 최종 주가 변동 별 단어 등장 빈도 수 확인"
      ],
      "metadata": {
        "id": "HTwRs_v97HEt"
      }
    },
    {
      "cell_type": "code",
      "source": [
        "def get_freq_count3(tokens):\n",
        "  pos_token = list(train['clean_tokens2'][train['change'] == 1])\n",
        "  neg_token = list(train['clean_tokens2'][train['change'] == 0])\n",
        "  pos_freq = pd.Series(np.concatenate([w for w in pos_token])).value_counts()\n",
        "  neg_freq = pd.Series(np.concatenate([w for w in neg_token])).value_counts()\n",
        "  return pos_freq, neg_freq"
      ],
      "metadata": {
        "id": "ELYuz62nghKM"
      },
      "execution_count": null,
      "outputs": []
    },
    {
      "cell_type": "code",
      "source": [
        "pos_freq,neg_freq = get_freq_count3(clean_tokens2)"
      ],
      "metadata": {
        "id": "s4MWj5Trgk8F"
      },
      "execution_count": null,
      "outputs": []
    },
    {
      "cell_type": "code",
      "source": [
        "draw_top_hist(pos_freq,'주가 상승 헤드라인 수','r')"
      ],
      "metadata": {
        "colab": {
          "base_uri": "https://localhost:8080/",
          "height": 458
        },
        "id": "sLhLeEpng6iU",
        "outputId": "709b0dcd-8033-49a9-bb79-d482f94a3bc4"
      },
      "execution_count": null,
      "outputs": [
        {
          "output_type": "display_data",
          "data": {
            "image/png": "[encoded data removed]",
            "text/plain": [
              "<Figure size 864x540 with 1 Axes>"
            ]
          },
          "metadata": {
            "needs_background": "light"
          }
        }
      ]
    },
    {
      "cell_type": "code",
      "source": [
        "draw_top_hist(neg_freq,'주가 하락 헤드라인 수','b')"
      ],
      "metadata": {
        "colab": {
          "base_uri": "https://localhost:8080/",
          "height": 458
        },
        "id": "bd4S8vj7hJKz",
        "outputId": "331bfb0e-6448-4fd3-9f2e-7e52343dd8a8"
      },
      "execution_count": null,
      "outputs": [
        {
          "output_type": "display_data",
          "data": {
            "image/png": "[encoded data removed]",
            "text/plain": [
              "<Figure size 864x540 with 1 Axes>"
            ]
          },
          "metadata": {
            "needs_background": "light"
          }
        }
      ]
    },
    {
      "cell_type": "code",
      "source": [
        "print(f\"Words kinds: {len(frequencies)}\")"
      ],
      "metadata": {
        "colab": {
          "base_uri": "https://localhost:8080/"
        },
        "id": "jWULIfgvUN2B",
        "outputId": "5a5330fe-da10-4278-cabd-742daaa3877f"
      },
      "execution_count": null,
      "outputs": [
        {
          "output_type": "stream",
          "name": "stdout",
          "text": [
            "Words kinds: 36017\n"
          ]
        }
      ]
    },
    {
      "cell_type": "markdown",
      "source": [
        "- 약 36000개 정도의 단어를 사용하고 있다.\n",
        "- 모두 사용해야 될까?"
      ],
      "metadata": {
        "id": "QsTBRDYSUWK9"
      }
    },
    {
      "cell_type": "markdown",
      "source": [
        "## 단어 개수에 따른 빈도수 분포 확인"
      ],
      "metadata": {
        "id": "Y9o_Ppsy7zdb"
      }
    },
    {
      "cell_type": "code",
      "source": [
        "for rate in [0.98, 0.99]:\n",
        "    clean_frequencies = pd.Series(np.concatenate([w for w in clean_tokens2])).value_counts()\n",
        "    accumulate_words = np.add.accumulate(clean_frequencies) # 빈도수의 누적합을 구해줍니다.\n",
        "    ratio = rate\n",
        "    words_cnt = np.where(accumulate_words > sum(clean_frequencies) * rate)[0][0]\n",
        "    plt.figure(figsize=(12,8))\n",
        "    plt.bar(range(0,len(clean_frequencies)), accumulate_words / sum(clean_frequencies), width=1.0) # 전체 단어와 현재까지의 빈도수의 비율을 구해줍니다.\n",
        "    plt.title('단어 개수에 따른 빈도수 분포')\n",
        "    plt.suptitle(f'{words_cnt} 개의 단어가 {ratio * 100:.1f}% 의 단어 빈도수를 설명')"
      ],
      "metadata": {
        "colab": {
          "base_uri": "https://localhost:8080/",
          "height": 1000
        },
        "id": "tYNOF79_UeLu",
        "outputId": "7fc255ee-4598-4517-8e9b-f5ad6fe2f8f8"
      },
      "execution_count": 35,
      "outputs": [
        {
          "output_type": "display_data",
          "data": {
            "image/png": "[encoded data removed]",
            "text/plain": [
              "<Figure size 864x576 with 1 Axes>"
            ]
          },
          "metadata": {
            "needs_background": "light"
          }
        },
        {
          "output_type": "display_data",
          "data": {
            "image/png": "[encoded data removed]",
            "text/plain": [
              "<Figure size 864x576 with 1 Axes>"
            ]
          },
          "metadata": {
            "needs_background": "light"
          }
        }
      ]
    },
    {
      "cell_type": "markdown",
      "source": [
        "- 98 ~ 99%의 빈도수를 설명하려면 약 18200 ~ 24800개가 필요"
      ],
      "metadata": {
        "id": "S28lmkYZWyXU"
      }
    },
    {
      "cell_type": "code",
      "source": [
        "words_distribution = clean_frequencies.value_counts()\n",
        "plt.figure(figsize=(12,8))\n",
        "plt.plot(range(0,len(words_distribution)), words_distribution.values)\n",
        "plt.ylabel(\"해당 빈도수를 갖는 단어의 수\")\n",
        "plt.xlabel(\"단어의 등장 빈도 수\")\n",
        "plt.title(\"등장 빈도수에 따른 단어의 분포\")\n",
        "plt.legend()"
      ],
      "metadata": {
        "colab": {
          "base_uri": "https://localhost:8080/",
          "height": 547
        },
        "id": "wmpWC4d0W205",
        "outputId": "2e373e33-30c3-4e5c-94c8-7dc6f595963f"
      },
      "execution_count": 36,
      "outputs": [
        {
          "output_type": "stream",
          "name": "stderr",
          "text": [
            "No handles with labels found to put in legend.\n"
          ]
        },
        {
          "output_type": "execute_result",
          "data": {
            "text/plain": [
              "<matplotlib.legend.Legend at 0x7f31989e6590>"
            ]
          },
          "metadata": {},
          "execution_count": 36
        },
        {
          "output_type": "display_data",
          "data": {
            "image/png": "[encoded data removed]",
            "text/plain": [
              "<Figure size 864x576 with 1 Axes>"
            ]
          },
          "metadata": {
            "needs_background": "light"
          }
        }
      ]
    },
    {
      "cell_type": "markdown",
      "source": [
        "- 그래프를 살펴보면 빈도수가 높아질 수록 해당하는 단어의 수도 줄어든다.\n",
        "- 빈도수가 낮은 단어의 수가 압도적으로 많으므로 단어 전체 분포를 설명하기 위해선 많은 단어가 필요하다."
      ],
      "metadata": {
        "id": "pPMifmhRW9Es"
      }
    },
    {
      "cell_type": "markdown",
      "source": [
        "### 등장 빈도가 적은 단어들을 단어 집합에서 제외"
      ],
      "metadata": {
        "id": "JdB9eFQEN1G9"
      }
    },
    {
      "cell_type": "markdown",
      "source": [
        "#### 위에서 정제한 2번의 공동 토큰 처리를 한 총 단어의 수를 가져오자"
      ],
      "metadata": {
        "id": "DIUQOH_0_T49"
      }
    },
    {
      "cell_type": "markdown",
      "source": [
        "- 등장 빈도가 1회 이하인 단어들이 실제 train 데이터에서 등장 빈도로 차지하는 비중은 약 1.15%\n",
        "- 등장 빈도가 1회 이하인 단어들은 정수 인코딩 과정에서 배제 \n",
        "- 약 22700개 정도의 단어가 남으므로 98~99%의 단어 빈도수를 설명"
      ],
      "metadata": {
        "id": "jDUQGFr2M2iO"
      }
    },
    {
      "cell_type": "code",
      "source": [
        "X_train = train.clean_tokens2 # train 데이터 문서 추출\n",
        "y_train = train.change # train 데이터에서 라벨 추출\n",
        "\n",
        "X_test = test.token_mecab # test 데이터 문서 추출\n",
        "y_test = test.change      # test 데이터 라벨 추출"
      ],
      "metadata": {
        "id": "DDs7btx-7Vl5"
      },
      "execution_count": 37,
      "outputs": []
    },
    {
      "cell_type": "code",
      "source": [
        "def check_frequency(num,tokenizer):\n",
        "  threshold = num\n",
        "  total_cnt = len(tokenizer.word_index) # 단어의 수\n",
        "  rare_cnt = 0 # 등장 빈도수가 threshold보다 작은 단어의 개수를 카운트\n",
        "  total_freq = 0 # 훈련 데이터의 전체 단어 빈도수 총 합\n",
        "  rare_freq = 0 # 등장 빈도수가 threshold보다 작은 단어의 등장 빈도수의 총 합\n",
        "\n",
        "# 단어와 빈도수의 쌍(pair)을 key와 value로 받는다.\n",
        "  for key, value in tokenizer.word_counts.items():\n",
        "      total_freq += value\n",
        "\n",
        "      # 단어의 등장 빈도수가 threshold보다 작으면\n",
        "      if(value < threshold):\n",
        "          rare_cnt += 1\n",
        "          rare_freq += value\n",
        "\n",
        "  print('단어 집합(vocabulary)의 크기 :',total_cnt)\n",
        "  print('등장 빈도가 %s번 이하인 희귀 단어의 수: %s'%(threshold - 1, rare_cnt))\n",
        "  print(\"단어 집합에서 희귀 단어의 비율:\", (rare_cnt / total_cnt)*100)\n",
        "  print(\"전체 등장 빈도에서 희귀 단어 등장 빈도 비율:\", (rare_freq / total_freq)*100)\n",
        "\n",
        "  return total_cnt, rare_cnt"
      ],
      "metadata": {
        "id": "kd-Wu_m5Aivp"
      },
      "execution_count": 38,
      "outputs": []
    },
    {
      "cell_type": "code",
      "source": [
        "# 전체 단어 개수 중 빈도수 1 이하인 단어는 제거하기 위한 작업\n",
        "\n",
        "\n",
        "# 빈도 확인해보기\n",
        "tokenizer = Tokenizer()\n",
        "tokenizer.fit_on_texts(X_train)\n",
        "\n",
        "threshold = 2\n",
        "total_cnt, rare_cnt = check_frequency(threshold, tokenizer)\n",
        "vocab_size = total_cnt - rare_cnt + 1\n",
        "print('단어 집합의 크기 :',vocab_size)\n",
        "\n",
        "# tokenizer\n",
        "myTokenizer = Tokenizer(vocab_size)\n",
        "myTokenizer.fit_on_texts(X_train)\n",
        "\n",
        "# 정수 sequences로 encoding\n",
        "X_train = myTokenizer.texts_to_sequences(X_train)\n",
        "X_test = myTokenizer.texts_to_sequences(X_test)\n",
        "\n",
        "# check_data\n",
        "print(X_train[0])\n",
        "print(X_test[0])"
      ],
      "metadata": {
        "colab": {
          "base_uri": "https://localhost:8080/"
        },
        "id": "OXCycnhJNmIf",
        "outputId": "6ad3944e-3870-4c63-af0e-4910f5071d63"
      },
      "execution_count": 39,
      "outputs": [
        {
          "output_type": "stream",
          "name": "stdout",
          "text": [
            "단어 집합(vocabulary)의 크기 : 35737\n",
            "등장 빈도가 1번 이하인 희귀 단어의 수: 12942\n",
            "단어 집합에서 희귀 단어의 비율: 36.214567535047706\n",
            "전체 등장 빈도에서 희귀 단어 등장 빈도 비율: 1.1593657618919644\n",
            "단어 집합의 크기 : 22796\n",
            "[49, 208, 350, 224, 682, 39, 1273]\n",
            "[57, 227, 7466, 2866]\n"
          ]
        }
      ]
    },
    {
      "cell_type": "markdown",
      "source": [
        "### 정수 인코딩\n",
        "- 단어 집합의 크기는 22796개 -> 토크나이저로 넘겨줌\n",
        "- 텍스트 시퀀스를 정수 시퀀스로 변환"
      ],
      "metadata": {
        "id": "XjyCy1iUN9hm"
      }
    },
    {
      "cell_type": "code",
      "source": [
        "print(X_train[:3])"
      ],
      "metadata": {
        "colab": {
          "base_uri": "https://localhost:8080/"
        },
        "id": "HZtEkexWYSqv",
        "outputId": "d11acc2d-bd87-4990-e0d3-dc741fadbae1"
      },
      "execution_count": 40,
      "outputs": [
        {
          "output_type": "stream",
          "name": "stdout",
          "text": [
            "[[49, 208, 350, 224, 682, 39, 1273], [980, 234, 237, 1177, 55], [980, 234, 237, 1177, 55]]\n"
          ]
        }
      ]
    },
    {
      "cell_type": "markdown",
      "source": [
        "#### 라벨 분리"
      ],
      "metadata": {
        "id": "iy-1cVIpYf7f"
      }
    },
    {
      "cell_type": "code",
      "source": [
        "y_train = np.array(train['change'])\n",
        "y_test = np.array(test['change'])"
      ],
      "metadata": {
        "id": "RHlWiHaPYiRH"
      },
      "execution_count": 41,
      "outputs": []
    },
    {
      "cell_type": "markdown",
      "source": [
        "## 빈 샘플(empty samples) 제거\n",
        "- 전체 데이터에서 빈도수가 1이하인 단어가 삭제되었을 때 빈 샘플이 있을 수 있음\n",
        "- 빈 샘플들은 어떤 레이블이 붙어있던 의미가 없으므로 제거해줘야한다."
      ],
      "metadata": {
        "id": "CmMaRSCXYqVR"
      }
    },
    {
      "cell_type": "code",
      "source": [
        "len(X_train), len(y_train)"
      ],
      "metadata": {
        "colab": {
          "base_uri": "https://localhost:8080/"
        },
        "id": "DY3syUPNZ52n",
        "outputId": "0bd45e31-f0b1-488c-9426-d9faad14abbd"
      },
      "execution_count": 42,
      "outputs": [
        {
          "output_type": "execute_result",
          "data": {
            "text/plain": [
              "(188501, 188501)"
            ]
          },
          "metadata": {},
          "execution_count": 42
        }
      ]
    },
    {
      "cell_type": "code",
      "source": [
        "# 길이가 0인 샘플들의 인덱스 반환\n",
        "drop_train = [index for index, sentence in enumerate(X_train) if len(sentence) < 1]\n",
        "drop_test = [index for index, sentence in enumerate(X_test) if len(sentence) < 1]\n",
        "print(f'빈 train 개수 : {len(drop_train)}')\n",
        "print(f'빈 test 개수 : {len(drop_test)}')"
      ],
      "metadata": {
        "colab": {
          "base_uri": "https://localhost:8080/"
        },
        "id": "tD5ng1QhZwN3",
        "outputId": "7e454ed7-45a8-466f-ec32-5a6353ce6e68"
      },
      "execution_count": 43,
      "outputs": [
        {
          "output_type": "stream",
          "name": "stdout",
          "text": [
            "빈 train 개수 : 115\n",
            "빈 test 개수 : 31\n"
          ]
        }
      ]
    },
    {
      "cell_type": "code",
      "source": [
        "# 빈 샘플들을 제거\n",
        "X_train = np.delete(X_train, drop_train, axis=0)\n",
        "y_train = np.delete(y_train, drop_train, axis=0)\n",
        "X_test = np.delete(X_test, drop_test, axis=0)\n",
        "y_test = np.delete(y_test, drop_test, axis=0)\n",
        "len(X_train), len(X_test)"
      ],
      "metadata": {
        "colab": {
          "base_uri": "https://localhost:8080/"
        },
        "id": "6wazkKCUZ4Bm",
        "outputId": "ca336cee-a6d4-44bf-bd3a-5bce1a586464"
      },
      "execution_count": 44,
      "outputs": [
        {
          "output_type": "execute_result",
          "data": {
            "text/plain": [
              "(188386, 45141)"
            ]
          },
          "metadata": {},
          "execution_count": 44
        }
      ]
    },
    {
      "cell_type": "markdown",
      "source": [
        "## 패딩\n",
        "- 서로 다른 길이의 샘플들의 길이를 동일하게 맞춰줘야 함"
      ],
      "metadata": {
        "id": "XJjdUL3daBab"
      }
    },
    {
      "cell_type": "code",
      "source": [
        "print('헤드라인의 최대 길이 :',max(len(review) for review in X_train))\n",
        "print('헤드라인의 평균 길이 :',sum(map(len, X_train))/len(X_train))\n",
        "plt.hist([len(review) for review in X_train], bins=50)\n",
        "plt.xlabel('length of samples')\n",
        "plt.ylabel('number of samples')\n",
        "plt.show()"
      ],
      "metadata": {
        "colab": {
          "base_uri": "https://localhost:8080/",
          "height": 317
        },
        "id": "ixtCvvghaKoZ",
        "outputId": "7ee2818e-192e-4796-82cf-4010941c43bb"
      },
      "execution_count": null,
      "outputs": [
        {
          "output_type": "stream",
          "name": "stdout",
          "text": [
            "헤드라인의 최대 길이 : 21\n",
            "헤드라인의 평균 길이 : 5.856900194281953\n"
          ]
        },
        {
          "output_type": "display_data",
          "data": {
            "image/png": "[encoded data removed]",
            "text/plain": [
              "<Figure size 432x288 with 1 Axes>"
            ]
          },
          "metadata": {
            "needs_background": "light"
          }
        }
      ]
    },
    {
      "cell_type": "markdown",
      "source": [
        "- 가장 긴 헤드라인의 길이는 21, 평균은 약 5.8정도이다.\n",
        "- X_train, X_test 모두 병렬 연산을 위해 문장의 길이를 통일해 주어야 함"
      ],
      "metadata": {
        "id": "N-P5e0VYaVQJ"
      }
    },
    {
      "cell_type": "code",
      "source": [
        "def below_threshold_len(max_len, nested_list):\n",
        "  count = 0\n",
        "  for sentence in nested_list:\n",
        "    if(len(sentence) <= max_len):\n",
        "        count = count + 1\n",
        "  print('전체 샘플 중 길이가 %s 이하인 샘플의 비율: %s'%(max_len, (count / len(nested_list))*100))"
      ],
      "metadata": {
        "id": "YGidzamab7Ed"
      },
      "execution_count": 45,
      "outputs": []
    },
    {
      "cell_type": "code",
      "source": [
        "max_len = 12\n",
        "below_threshold_len(max_len, X_train)"
      ],
      "metadata": {
        "colab": {
          "base_uri": "https://localhost:8080/"
        },
        "id": "Q4iPVAPVb7wo",
        "outputId": "5dd6995c-6101-47d6-de50-27f162e10262"
      },
      "execution_count": 46,
      "outputs": [
        {
          "output_type": "stream",
          "name": "stdout",
          "text": [
            "전체 샘플 중 길이가 12 이하인 샘플의 비율: 99.8375675474823\n"
          ]
        }
      ]
    },
    {
      "cell_type": "markdown",
      "source": [
        "- 전체 train 데이터 중 약 99%의 헤드라인이 12이하의 길이를 가지므로 max_len을 12로 설정"
      ],
      "metadata": {
        "id": "0ZS0rGcEcJls"
      }
    },
    {
      "cell_type": "code",
      "source": [
        "X_train = pad_sequences(X_train, maxlen=max_len)\n",
        "X_test = pad_sequences(X_test, maxlen=max_len)"
      ],
      "metadata": {
        "id": "dvGZRb1NdcU3"
      },
      "execution_count": 47,
      "outputs": []
    },
    {
      "cell_type": "markdown",
      "source": [
        "## 모델링\n",
        "- 일단은 baseline\n",
        "- 하이퍼파라미터인 임베딩 벡터의 차원은 100, 은닉 상태의 크기는 128\n",
        "- 출력은 상승 or 하락 중 하나를 예측하는 이진 분류\n",
        "- 출력층의 활성화함수는 이진분류이므로 시그모이드 사용\n",
        "- 손실함수는 크로스 엔트로피\n",
        "- 배치 크기: 64, 에폭: 15"
      ],
      "metadata": {
        "id": "bgs_C-FecR8-"
      }
    },
    {
      "cell_type": "markdown",
      "source": [
        "- EarlyStopping(monitor='val_loss', mode='min', verbose=1, patience=4)는 검증 데이터 손실(val_loss)이 증가하면, 과적합 징후므로 검증 데이터 손실이 4회 증가하면 정해진 에포크가 도달하지 못하였더라도 학습을 조기 종료(Early Stopping)한다. \n",
        "- ModelCheckpoint를 사용하여 검증 데이터의 정확도(val_acc)가 이전보다 좋아질 경우에만 모델을 저장한다.\n",
        "- validation_split=0.2을 사용하여 훈련 데이터의 20%를 검증 데이터로 분리해서 사용하고, 검증 데이터를 통해서 훈련이 적절히 되고 있는지 확인한다. \n",
        "- 검증 데이터는 기계가 훈련 데이터에 과적합되고 있지는 않은지 확인하기 위한 용도로 사용된다.\n"
      ],
      "metadata": {
        "id": "5trbkQWkc9yn"
      }
    },
    {
      "cell_type": "markdown",
      "source": [
        "### 모델 학습"
      ],
      "metadata": {
        "id": "ugMVM7EjeT2c"
      }
    },
    {
      "cell_type": "code",
      "source": [
        "from tensorflow.keras.layers import Embedding, Dense, LSTM, Bidirectional\n",
        "from tensorflow.keras.models import Sequential\n",
        "from tensorflow.keras.models import load_model\n",
        "from tensorflow.keras.callbacks import EarlyStopping, ModelCheckpoint\n",
        "\n",
        "embedding_dim = 100\n",
        "hidden_units = 128\n",
        "\n",
        "model = Sequential()\n",
        "model.add(Embedding(vocab_size, embedding_dim))\n",
        "model.add(LSTM(hidden_units))\n",
        "model.add(Dense(1, activation='sigmoid'))\n",
        "\n",
        "es = EarlyStopping(monitor='val_loss', mode='min', verbose=1, patience=4)\n",
        "mc = ModelCheckpoint('best_model.h5', monitor='val_acc', mode='max', verbose=1, save_best_only=True)\n",
        "\n",
        "model.compile(optimizer='rmsprop', loss='binary_crossentropy', metrics=['acc'])\n",
        "history = model.fit(X_train, y_train, epochs=15, callbacks=[es, mc], batch_size=64, validation_split=0.2)"
      ],
      "metadata": {
        "colab": {
          "base_uri": "https://localhost:8080/"
        },
        "id": "LmuICjyqcVMw",
        "outputId": "bd766bce-248f-48ea-e3e8-6fa316bb4d39"
      },
      "execution_count": 48,
      "outputs": [
        {
          "output_type": "stream",
          "name": "stdout",
          "text": [
            "Epoch 1/15\n",
            "2348/2355 [============================>.] - ETA: 0s - loss: 0.6857 - acc: 0.5461\n",
            "Epoch 00001: val_acc improved from -inf to 0.52139, saving model to best_model.h5\n",
            "2355/2355 [==============================] - 19s 5ms/step - loss: 0.6857 - acc: 0.5461 - val_loss: 0.6939 - val_acc: 0.5214\n",
            "Epoch 2/15\n",
            "2353/2355 [============================>.] - ETA: 0s - loss: 0.6671 - acc: 0.5936\n",
            "Epoch 00002: val_acc improved from 0.52139 to 0.52232, saving model to best_model.h5\n",
            "2355/2355 [==============================] - 13s 6ms/step - loss: 0.6671 - acc: 0.5936 - val_loss: 0.7020 - val_acc: 0.5223\n",
            "Epoch 3/15\n",
            "2354/2355 [============================>.] - ETA: 0s - loss: 0.6450 - acc: 0.6274\n",
            "Epoch 00003: val_acc did not improve from 0.52232\n",
            "2355/2355 [==============================] - 15s 6ms/step - loss: 0.6450 - acc: 0.6274 - val_loss: 0.7107 - val_acc: 0.5222\n",
            "Epoch 4/15\n",
            "2353/2355 [============================>.] - ETA: 0s - loss: 0.6205 - acc: 0.6585\n",
            "Epoch 00004: val_acc did not improve from 0.52232\n",
            "2355/2355 [==============================] - 15s 6ms/step - loss: 0.6205 - acc: 0.6585 - val_loss: 0.7309 - val_acc: 0.5138\n",
            "Epoch 5/15\n",
            "2347/2355 [============================>.] - ETA: 0s - loss: 0.5935 - acc: 0.6833\n",
            "Epoch 00005: val_acc did not improve from 0.52232\n",
            "2355/2355 [==============================] - 14s 6ms/step - loss: 0.5936 - acc: 0.6832 - val_loss: 0.7679 - val_acc: 0.5137\n",
            "Epoch 00005: early stopping\n"
          ]
        }
      ]
    },
    {
      "cell_type": "markdown",
      "source": [
        "### 모델 학습 결과"
      ],
      "metadata": {
        "id": "-YfTSgExe9TP"
      }
    },
    {
      "cell_type": "code",
      "source": [
        "acc = history.history['acc']\n",
        "val_acc = history.history['val_acc']\n",
        "loss = history.history['loss']\n",
        "val_loss = history.history['val_loss']\n",
        "\n",
        "epochs = range(1, len(acc) + 1)\n",
        "\n",
        "plt.figure(figsize=(15,12))\n",
        "plt.plot(epochs, acc, 'bo', label='Training acc')\n",
        "plt.plot(epochs, val_acc, 'b', label='Validation acc')\n",
        "plt.title('Training and validation accuracy')\n",
        "plt.legend()\n",
        "\n",
        "\n",
        "plt.figure(figsize=(15,12))\n",
        "plt.plot(epochs, loss, 'bo', label='Training loss')\n",
        "plt.plot(epochs, val_loss, 'b', label='Validation loss')\n",
        "plt.title('Training and validation loss')\n",
        "plt.legend()\n",
        "\n",
        "plt.show()"
      ],
      "metadata": {
        "colab": {
          "base_uri": "https://localhost:8080/",
          "height": 1000
        },
        "id": "rJWYF4q5e_vk",
        "outputId": "67133664-4bbf-48ed-c0c5-d149139ee171"
      },
      "execution_count": 50,
      "outputs": [
        {
          "output_type": "display_data",
          "data": {
            "image/png": "[encoded data removed]",
            "text/plain": [
              "<Figure size 1080x864 with 1 Axes>"
            ]
          },
          "metadata": {
            "needs_background": "light"
          }
        },
        {
          "output_type": "display_data",
          "data": {
            "image/png": "[encoded data removed]",
            "text/plain": [
              "<Figure size 1080x864 with 1 Axes>"
            ]
          },
          "metadata": {
            "needs_background": "light"
          }
        }
      ]
    },
    {
      "cell_type": "markdown",
      "source": [
        "- 과적합이 발생했다"
      ],
      "metadata": {
        "id": "uzQec8LgBUen"
      }
    },
    {
      "cell_type": "markdown",
      "source": [
        "### test set 평가 준비\n",
        "- 예측기로서 동작할 수 있는 Selection Function을 만들어야함\n",
        "- 특정날짜의 주가 기사문장이 N개라고 했을 때, N개의 문장의 감성 분류스코어를 계산한 확률평균을 그날 주식 종가의 업다운을 결정하는 예측 값으로 사용\n",
        "- 문장 판별 확률의 평균으로 선택한 이유 -> 일반화된 테스트 데이터가 아님"
      ],
      "metadata": {
        "id": "UV1GCHAyeVg_"
      }
    },
    {
      "cell_type": "markdown",
      "source": [
        "### 종목별 예측값 mapping df 생성"
      ],
      "metadata": {
        "id": "BxPpCLb0ILVc"
      }
    },
    {
      "cell_type": "code",
      "source": [
        "loaded_model = load_model('best_model.h5') # best model 불러오기"
      ],
      "metadata": {
        "id": "RGpJFa7reWe3"
      },
      "execution_count": 51,
      "outputs": []
    },
    {
      "cell_type": "code",
      "source": [
        "score = loaded_model.predict(X_test)"
      ],
      "metadata": {
        "id": "pSdxHaIhmTu0"
      },
      "execution_count": 52,
      "outputs": []
    },
    {
      "cell_type": "code",
      "source": [
        "print('원래 test set 수: ',len(test))\n",
        "temp = test.drop(drop_test,axis=0,inplace=True)\n",
        "print('31개 삭제한 test set 수: ',len(test))"
      ],
      "metadata": {
        "colab": {
          "base_uri": "https://localhost:8080/"
        },
        "id": "eefbrInrHoaF",
        "outputId": "6b6e52b2-4a7e-4684-c7ab-c350e4faba50"
      },
      "execution_count": 54,
      "outputs": [
        {
          "output_type": "stream",
          "name": "stdout",
          "text": [
            "원래 test set 수:  45172\n",
            "31개 삭제한 test set 수:  45141\n"
          ]
        }
      ]
    },
    {
      "cell_type": "code",
      "source": [
        "test['sentiment_prob'] = score\n",
        "test.head()"
      ],
      "metadata": {
        "id": "XlYTZZLjm5K-",
        "colab": {
          "base_uri": "https://localhost:8080/",
          "height": 388
        },
        "outputId": "e55e44e6-941c-41b6-f5a1-3308bf967f9c"
      },
      "execution_count": 55,
      "outputs": [
        {
          "output_type": "execute_result",
          "data": {
            "text/html": [
              "\n",
              "  <div id=\"df-ec14fd96-2662-4341-955f-c0af8536a0a4\">\n",
              "    <div class=\"colab-df-container\">\n",
              "      <div>\n",
              "<style scoped>\n",
              "    .dataframe tbody tr th:only-of-type {\n",
              "        vertical-align: middle;\n",
              "    }\n",
              "\n",
              "    .dataframe tbody tr th {\n",
              "        vertical-align: top;\n",
              "    }\n",
              "\n",
              "    .dataframe thead th {\n",
              "        text-align: right;\n",
              "    }\n",
              "</style>\n",
              "<table border=\"1\" class=\"dataframe\">\n",
              "  <thead>\n",
              "    <tr style=\"text-align: right;\">\n",
              "      <th></th>\n",
              "      <th>index</th>\n",
              "      <th>name</th>\n",
              "      <th>headline</th>\n",
              "      <th>date</th>\n",
              "      <th>change</th>\n",
              "      <th>token_mecab</th>\n",
              "      <th>sentiment_prob</th>\n",
              "    </tr>\n",
              "  </thead>\n",
              "  <tbody>\n",
              "    <tr>\n",
              "      <th>0</th>\n",
              "      <td>188530</td>\n",
              "      <td>카카오</td>\n",
              "      <td>\"기술 사대주의로는 AI 정복 힘들다\"</td>\n",
              "      <td>2020-01-02</td>\n",
              "      <td>0</td>\n",
              "      <td>기술 사대주의 AI 정복 힘들</td>\n",
              "      <td>0.543430</td>\n",
              "    </tr>\n",
              "    <tr>\n",
              "      <th>1</th>\n",
              "      <td>188531</td>\n",
              "      <td>카카오</td>\n",
              "      <td>[해설]中 디지털 종속 우려...동남아 국가 '中 QR결제 금지' 초강수</td>\n",
              "      <td>2020-01-02</td>\n",
              "      <td>0</td>\n",
              "      <td>해설 중국 디지털 종속 우려 동남아 국가 중국 QR 결제 금지 강수</td>\n",
              "      <td>0.524929</td>\n",
              "    </tr>\n",
              "    <tr>\n",
              "      <th>2</th>\n",
              "      <td>188532</td>\n",
              "      <td>카카오</td>\n",
              "      <td>씨티은행, 1.3%포인트 금리인하 직장인 신용대출..한달 연장 이벤트</td>\n",
              "      <td>2020-01-02</td>\n",
              "      <td>0</td>\n",
              "      <td>씨티 은행 포인트 금리 인하 직장 신용 대출 연장 이벤트</td>\n",
              "      <td>0.330863</td>\n",
              "    </tr>\n",
              "    <tr>\n",
              "      <th>3</th>\n",
              "      <td>188533</td>\n",
              "      <td>카카오</td>\n",
              "      <td>'소비자분쟁 통지서' 카톡으로 제공된다</td>\n",
              "      <td>2020-01-02</td>\n",
              "      <td>0</td>\n",
              "      <td>소비자 분쟁 통지서 카톡 제공</td>\n",
              "      <td>0.413645</td>\n",
              "    </tr>\n",
              "    <tr>\n",
              "      <th>4</th>\n",
              "      <td>188534</td>\n",
              "      <td>카카오</td>\n",
              "      <td>[이슈분석]키 잡은 공정위…배민-DH 합병 경우의 수</td>\n",
              "      <td>2020-01-02</td>\n",
              "      <td>0</td>\n",
              "      <td>이슈 분석 공정위 배민 DH 합병 경우</td>\n",
              "      <td>0.410426</td>\n",
              "    </tr>\n",
              "  </tbody>\n",
              "</table>\n",
              "</div>\n",
              "      <button class=\"colab-df-convert\" onclick=\"convertToInteractive('df-ec14fd96-2662-4341-955f-c0af8536a0a4')\"\n",
              "              title=\"Convert this dataframe to an interactive table.\"\n",
              "              style=\"display:none;\">\n",
              "        \n",
              "  <svg xmlns=\"http://www.w3.org/2000/svg\" height=\"24px\"viewBox=\"0 0 24 24\"\n",
              "       width=\"24px\">\n",
              "    <path d=\"M0 0h24v24H0V0z\" fill=\"none\"/>\n",
              "    <path d=\"M18.56 5.44l.94 2.06.94-2.06 2.06-.94-2.06-.94-.94-2.06-.94 2.06-2.06.94zm-11 1L8.5 8.5l.94-2.06 2.06-.94-2.06-.94L8.5 2.5l-.94 2.06-2.06.94zm10 10l.94 2.06.94-2.06 2.06-.94-2.06-.94-.94-2.06-.94 2.06-2.06.94z\"/><path d=\"M17.41 7.96l-1.37-1.37c-.4-.4-.92-.59-1.43-.59-.52 0-1.04.2-1.43.59L10.3 9.45l-7.72 7.72c-.78.78-.78 2.05 0 2.83L4 21.41c.39.39.9.59 1.41.59.51 0 1.02-.2 1.41-.59l7.78-7.78 2.81-2.81c.8-.78.8-2.07 0-2.86zM5.41 20L4 18.59l7.72-7.72 1.47 1.35L5.41 20z\"/>\n",
              "  </svg>\n",
              "      </button>\n",
              "      \n",
              "  <style>\n",
              "    .colab-df-container {\n",
              "      display:flex;\n",
              "      flex-wrap:wrap;\n",
              "      gap: 12px;\n",
              "    }\n",
              "\n",
              "    .colab-df-convert {\n",
              "      background-color: #E8F0FE;\n",
              "      border: none;\n",
              "      border-radius: 50%;\n",
              "      cursor: pointer;\n",
              "      display: none;\n",
              "      fill: #1967D2;\n",
              "      height: 32px;\n",
              "      padding: 0 0 0 0;\n",
              "      width: 32px;\n",
              "    }\n",
              "\n",
              "    .colab-df-convert:hover {\n",
              "      background-color: #E2EBFA;\n",
              "      box-shadow: 0px 1px 2px rgba(60, 64, 67, 0.3), 0px 1px 3px 1px rgba(60, 64, 67, 0.15);\n",
              "      fill: #174EA6;\n",
              "    }\n",
              "\n",
              "    [theme=dark] .colab-df-convert {\n",
              "      background-color: #3B4455;\n",
              "      fill: #D2E3FC;\n",
              "    }\n",
              "\n",
              "    [theme=dark] .colab-df-convert:hover {\n",
              "      background-color: #434B5C;\n",
              "      box-shadow: 0px 1px 3px 1px rgba(0, 0, 0, 0.15);\n",
              "      filter: drop-shadow(0px 1px 2px rgba(0, 0, 0, 0.3));\n",
              "      fill: #FFFFFF;\n",
              "    }\n",
              "  </style>\n",
              "\n",
              "      <script>\n",
              "        const buttonEl =\n",
              "          document.querySelector('#df-ec14fd96-2662-4341-955f-c0af8536a0a4 button.colab-df-convert');\n",
              "        buttonEl.style.display =\n",
              "          google.colab.kernel.accessAllowed ? 'block' : 'none';\n",
              "\n",
              "        async function convertToInteractive(key) {\n",
              "          const element = document.querySelector('#df-ec14fd96-2662-4341-955f-c0af8536a0a4');\n",
              "          const dataTable =\n",
              "            await google.colab.kernel.invokeFunction('convertToInteractive',\n",
              "                                                     [key], {});\n",
              "          if (!dataTable) return;\n",
              "\n",
              "          const docLinkHtml = 'Like what you see? Visit the ' +\n",
              "            '<a target=\"_blank\" href=https://colab.research.google.com/notebooks/data_table.ipynb>data table notebook</a>'\n",
              "            + ' to learn more about interactive tables.';\n",
              "          element.innerHTML = '';\n",
              "          dataTable['output_type'] = 'display_data';\n",
              "          await google.colab.output.renderOutput(dataTable, element);\n",
              "          const docLink = document.createElement('div');\n",
              "          docLink.innerHTML = docLinkHtml;\n",
              "          element.appendChild(docLink);\n",
              "        }\n",
              "      </script>\n",
              "    </div>\n",
              "  </div>\n",
              "  "
            ],
            "text/plain": [
              "    index name  ...                            token_mecab sentiment_prob\n",
              "0  188530  카카오  ...                       기술 사대주의 AI 정복 힘들       0.543430\n",
              "1  188531  카카오  ...  해설 중국 디지털 종속 우려 동남아 국가 중국 QR 결제 금지 강수       0.524929\n",
              "2  188532  카카오  ...        씨티 은행 포인트 금리 인하 직장 신용 대출 연장 이벤트       0.330863\n",
              "3  188533  카카오  ...                       소비자 분쟁 통지서 카톡 제공       0.413645\n",
              "4  188534  카카오  ...                  이슈 분석 공정위 배민 DH 합병 경우       0.410426\n",
              "\n",
              "[5 rows x 7 columns]"
            ]
          },
          "metadata": {},
          "execution_count": 55
        }
      ]
    },
    {
      "cell_type": "code",
      "source": [
        "loss = test.iloc[drop_test,]\n",
        "loss[['name','change','date']]"
      ],
      "metadata": {
        "colab": {
          "base_uri": "https://localhost:8080/",
          "height": 1000
        },
        "id": "CzIQPiy7HL7S",
        "outputId": "b0468aac-f4b4-4721-8c87-e68c8de19d08"
      },
      "execution_count": 56,
      "outputs": [
        {
          "output_type": "execute_result",
          "data": {
            "text/html": [
              "\n",
              "  <div id=\"df-606c9d52-e25a-454c-9218-147e4df8f8fe\">\n",
              "    <div class=\"colab-df-container\">\n",
              "      <div>\n",
              "<style scoped>\n",
              "    .dataframe tbody tr th:only-of-type {\n",
              "        vertical-align: middle;\n",
              "    }\n",
              "\n",
              "    .dataframe tbody tr th {\n",
              "        vertical-align: top;\n",
              "    }\n",
              "\n",
              "    .dataframe thead th {\n",
              "        text-align: right;\n",
              "    }\n",
              "</style>\n",
              "<table border=\"1\" class=\"dataframe\">\n",
              "  <thead>\n",
              "    <tr style=\"text-align: right;\">\n",
              "      <th></th>\n",
              "      <th>name</th>\n",
              "      <th>change</th>\n",
              "      <th>date</th>\n",
              "    </tr>\n",
              "  </thead>\n",
              "  <tbody>\n",
              "    <tr>\n",
              "      <th>4587</th>\n",
              "      <td>KB금융</td>\n",
              "      <td>0</td>\n",
              "      <td>2020-03-19</td>\n",
              "    </tr>\n",
              "    <tr>\n",
              "      <th>7246</th>\n",
              "      <td>삼성전자</td>\n",
              "      <td>0</td>\n",
              "      <td>2020-05-07</td>\n",
              "    </tr>\n",
              "    <tr>\n",
              "      <th>7984</th>\n",
              "      <td>셀트리온</td>\n",
              "      <td>1</td>\n",
              "      <td>2020-05-20</td>\n",
              "    </tr>\n",
              "    <tr>\n",
              "      <th>9144</th>\n",
              "      <td>NAVER</td>\n",
              "      <td>0</td>\n",
              "      <td>2020-06-09</td>\n",
              "    </tr>\n",
              "    <tr>\n",
              "      <th>9414</th>\n",
              "      <td>현대차</td>\n",
              "      <td>0</td>\n",
              "      <td>2020-06-12</td>\n",
              "    </tr>\n",
              "    <tr>\n",
              "      <th>10913</th>\n",
              "      <td>LG화학</td>\n",
              "      <td>0</td>\n",
              "      <td>2020-07-08</td>\n",
              "    </tr>\n",
              "    <tr>\n",
              "      <th>11977</th>\n",
              "      <td>LG화학</td>\n",
              "      <td>0</td>\n",
              "      <td>2020-07-24</td>\n",
              "    </tr>\n",
              "    <tr>\n",
              "      <th>12423</th>\n",
              "      <td>NAVER</td>\n",
              "      <td>1</td>\n",
              "      <td>2020-08-03</td>\n",
              "    </tr>\n",
              "    <tr>\n",
              "      <th>15975</th>\n",
              "      <td>셀트리온</td>\n",
              "      <td>1</td>\n",
              "      <td>2020-09-25</td>\n",
              "    </tr>\n",
              "    <tr>\n",
              "      <th>16004</th>\n",
              "      <td>셀트리온</td>\n",
              "      <td>0</td>\n",
              "      <td>2020-09-28</td>\n",
              "    </tr>\n",
              "    <tr>\n",
              "      <th>17933</th>\n",
              "      <td>LG화학</td>\n",
              "      <td>1</td>\n",
              "      <td>2020-10-29</td>\n",
              "    </tr>\n",
              "    <tr>\n",
              "      <th>19015</th>\n",
              "      <td>SK하이닉스</td>\n",
              "      <td>1</td>\n",
              "      <td>2020-11-16</td>\n",
              "    </tr>\n",
              "    <tr>\n",
              "      <th>19767</th>\n",
              "      <td>LG화학</td>\n",
              "      <td>1</td>\n",
              "      <td>2020-11-26</td>\n",
              "    </tr>\n",
              "    <tr>\n",
              "      <th>20133</th>\n",
              "      <td>LG화학</td>\n",
              "      <td>1</td>\n",
              "      <td>2020-12-02</td>\n",
              "    </tr>\n",
              "    <tr>\n",
              "      <th>20990</th>\n",
              "      <td>신한지주</td>\n",
              "      <td>0</td>\n",
              "      <td>2020-12-17</td>\n",
              "    </tr>\n",
              "    <tr>\n",
              "      <th>22161</th>\n",
              "      <td>카카오</td>\n",
              "      <td>1</td>\n",
              "      <td>2021-01-08</td>\n",
              "    </tr>\n",
              "    <tr>\n",
              "      <th>27454</th>\n",
              "      <td>현대차</td>\n",
              "      <td>0</td>\n",
              "      <td>2021-03-26</td>\n",
              "    </tr>\n",
              "    <tr>\n",
              "      <th>27464</th>\n",
              "      <td>KB금융</td>\n",
              "      <td>1</td>\n",
              "      <td>2021-03-26</td>\n",
              "    </tr>\n",
              "    <tr>\n",
              "      <th>27727</th>\n",
              "      <td>LG화학</td>\n",
              "      <td>1</td>\n",
              "      <td>2021-03-30</td>\n",
              "    </tr>\n",
              "    <tr>\n",
              "      <th>28540</th>\n",
              "      <td>NAVER</td>\n",
              "      <td>1</td>\n",
              "      <td>2021-04-12</td>\n",
              "    </tr>\n",
              "    <tr>\n",
              "      <th>28550</th>\n",
              "      <td>카카오</td>\n",
              "      <td>0</td>\n",
              "      <td>2021-04-12</td>\n",
              "    </tr>\n",
              "    <tr>\n",
              "      <th>28551</th>\n",
              "      <td>카카오</td>\n",
              "      <td>0</td>\n",
              "      <td>2021-04-12</td>\n",
              "    </tr>\n",
              "    <tr>\n",
              "      <th>29364</th>\n",
              "      <td>현대차</td>\n",
              "      <td>1</td>\n",
              "      <td>2021-04-22</td>\n",
              "    </tr>\n",
              "    <tr>\n",
              "      <th>31151</th>\n",
              "      <td>카카오</td>\n",
              "      <td>0</td>\n",
              "      <td>2021-05-24</td>\n",
              "    </tr>\n",
              "    <tr>\n",
              "      <th>33781</th>\n",
              "      <td>현대차</td>\n",
              "      <td>1</td>\n",
              "      <td>2021-07-01</td>\n",
              "    </tr>\n",
              "    <tr>\n",
              "      <th>34705</th>\n",
              "      <td>셀트리온</td>\n",
              "      <td>1</td>\n",
              "      <td>2021-07-15</td>\n",
              "    </tr>\n",
              "    <tr>\n",
              "      <th>36585</th>\n",
              "      <td>NAVER</td>\n",
              "      <td>0</td>\n",
              "      <td>2021-08-12</td>\n",
              "    </tr>\n",
              "    <tr>\n",
              "      <th>38345</th>\n",
              "      <td>카카오</td>\n",
              "      <td>0</td>\n",
              "      <td>2021-09-13</td>\n",
              "    </tr>\n",
              "    <tr>\n",
              "      <th>39465</th>\n",
              "      <td>카카오</td>\n",
              "      <td>0</td>\n",
              "      <td>2021-10-05</td>\n",
              "    </tr>\n",
              "    <tr>\n",
              "      <th>43104</th>\n",
              "      <td>삼성전자</td>\n",
              "      <td>0</td>\n",
              "      <td>2021-11-30</td>\n",
              "    </tr>\n",
              "    <tr>\n",
              "      <th>45113</th>\n",
              "      <td>현대차</td>\n",
              "      <td>0</td>\n",
              "      <td>2021-12-30</td>\n",
              "    </tr>\n",
              "  </tbody>\n",
              "</table>\n",
              "</div>\n",
              "      <button class=\"colab-df-convert\" onclick=\"convertToInteractive('df-606c9d52-e25a-454c-9218-147e4df8f8fe')\"\n",
              "              title=\"Convert this dataframe to an interactive table.\"\n",
              "              style=\"display:none;\">\n",
              "        \n",
              "  <svg xmlns=\"http://www.w3.org/2000/svg\" height=\"24px\"viewBox=\"0 0 24 24\"\n",
              "       width=\"24px\">\n",
              "    <path d=\"M0 0h24v24H0V0z\" fill=\"none\"/>\n",
              "    <path d=\"M18.56 5.44l.94 2.06.94-2.06 2.06-.94-2.06-.94-.94-2.06-.94 2.06-2.06.94zm-11 1L8.5 8.5l.94-2.06 2.06-.94-2.06-.94L8.5 2.5l-.94 2.06-2.06.94zm10 10l.94 2.06.94-2.06 2.06-.94-2.06-.94-.94-2.06-.94 2.06-2.06.94z\"/><path d=\"M17.41 7.96l-1.37-1.37c-.4-.4-.92-.59-1.43-.59-.52 0-1.04.2-1.43.59L10.3 9.45l-7.72 7.72c-.78.78-.78 2.05 0 2.83L4 21.41c.39.39.9.59 1.41.59.51 0 1.02-.2 1.41-.59l7.78-7.78 2.81-2.81c.8-.78.8-2.07 0-2.86zM5.41 20L4 18.59l7.72-7.72 1.47 1.35L5.41 20z\"/>\n",
              "  </svg>\n",
              "      </button>\n",
              "      \n",
              "  <style>\n",
              "    .colab-df-container {\n",
              "      display:flex;\n",
              "      flex-wrap:wrap;\n",
              "      gap: 12px;\n",
              "    }\n",
              "\n",
              "    .colab-df-convert {\n",
              "      background-color: #E8F0FE;\n",
              "      border: none;\n",
              "      border-radius: 50%;\n",
              "      cursor: pointer;\n",
              "      display: none;\n",
              "      fill: #1967D2;\n",
              "      height: 32px;\n",
              "      padding: 0 0 0 0;\n",
              "      width: 32px;\n",
              "    }\n",
              "\n",
              "    .colab-df-convert:hover {\n",
              "      background-color: #E2EBFA;\n",
              "      box-shadow: 0px 1px 2px rgba(60, 64, 67, 0.3), 0px 1px 3px 1px rgba(60, 64, 67, 0.15);\n",
              "      fill: #174EA6;\n",
              "    }\n",
              "\n",
              "    [theme=dark] .colab-df-convert {\n",
              "      background-color: #3B4455;\n",
              "      fill: #D2E3FC;\n",
              "    }\n",
              "\n",
              "    [theme=dark] .colab-df-convert:hover {\n",
              "      background-color: #434B5C;\n",
              "      box-shadow: 0px 1px 3px 1px rgba(0, 0, 0, 0.15);\n",
              "      filter: drop-shadow(0px 1px 2px rgba(0, 0, 0, 0.3));\n",
              "      fill: #FFFFFF;\n",
              "    }\n",
              "  </style>\n",
              "\n",
              "      <script>\n",
              "        const buttonEl =\n",
              "          document.querySelector('#df-606c9d52-e25a-454c-9218-147e4df8f8fe button.colab-df-convert');\n",
              "        buttonEl.style.display =\n",
              "          google.colab.kernel.accessAllowed ? 'block' : 'none';\n",
              "\n",
              "        async function convertToInteractive(key) {\n",
              "          const element = document.querySelector('#df-606c9d52-e25a-454c-9218-147e4df8f8fe');\n",
              "          const dataTable =\n",
              "            await google.colab.kernel.invokeFunction('convertToInteractive',\n",
              "                                                     [key], {});\n",
              "          if (!dataTable) return;\n",
              "\n",
              "          const docLinkHtml = 'Like what you see? Visit the ' +\n",
              "            '<a target=\"_blank\" href=https://colab.research.google.com/notebooks/data_table.ipynb>data table notebook</a>'\n",
              "            + ' to learn more about interactive tables.';\n",
              "          element.innerHTML = '';\n",
              "          dataTable['output_type'] = 'display_data';\n",
              "          await google.colab.output.renderOutput(dataTable, element);\n",
              "          const docLink = document.createElement('div');\n",
              "          docLink.innerHTML = docLinkHtml;\n",
              "          element.appendChild(docLink);\n",
              "        }\n",
              "      </script>\n",
              "    </div>\n",
              "  </div>\n",
              "  "
            ],
            "text/plain": [
              "         name  change       date\n",
              "4587     KB금융       0 2020-03-19\n",
              "7246     삼성전자       0 2020-05-07\n",
              "7984     셀트리온       1 2020-05-20\n",
              "9144    NAVER       0 2020-06-09\n",
              "9414      현대차       0 2020-06-12\n",
              "10913    LG화학       0 2020-07-08\n",
              "11977    LG화학       0 2020-07-24\n",
              "12423   NAVER       1 2020-08-03\n",
              "15975    셀트리온       1 2020-09-25\n",
              "16004    셀트리온       0 2020-09-28\n",
              "17933    LG화학       1 2020-10-29\n",
              "19015  SK하이닉스       1 2020-11-16\n",
              "19767    LG화학       1 2020-11-26\n",
              "20133    LG화학       1 2020-12-02\n",
              "20990    신한지주       0 2020-12-17\n",
              "22161     카카오       1 2021-01-08\n",
              "27454     현대차       0 2021-03-26\n",
              "27464    KB금융       1 2021-03-26\n",
              "27727    LG화학       1 2021-03-30\n",
              "28540   NAVER       1 2021-04-12\n",
              "28550     카카오       0 2021-04-12\n",
              "28551     카카오       0 2021-04-12\n",
              "29364     현대차       1 2021-04-22\n",
              "31151     카카오       0 2021-05-24\n",
              "33781     현대차       1 2021-07-01\n",
              "34705    셀트리온       1 2021-07-15\n",
              "36585   NAVER       0 2021-08-12\n",
              "38345     카카오       0 2021-09-13\n",
              "39465     카카오       0 2021-10-05\n",
              "43104    삼성전자       0 2021-11-30\n",
              "45113     현대차       0 2021-12-30"
            ]
          },
          "metadata": {},
          "execution_count": 56
        }
      ]
    },
    {
      "cell_type": "code",
      "source": [
        "len(test['date'].unique()) # test set -> 2년치 데이터인지 확인"
      ],
      "metadata": {
        "colab": {
          "base_uri": "https://localhost:8080/"
        },
        "id": "H1IdH0PqIPpY",
        "outputId": "8bf17f05-b0d6-4086-82c7-ad047d3c7fb0"
      },
      "execution_count": 57,
      "outputs": [
        {
          "output_type": "execute_result",
          "data": {
            "text/plain": [
              "496"
            ]
          },
          "metadata": {},
          "execution_count": 57
        }
      ]
    },
    {
      "cell_type": "code",
      "source": [
        "stock_prob_list = []\n",
        "for name in test['name'].unique(): # 10개 종목\n",
        "    temp_list = []\n",
        "    for date in tqdm(test['date'].unique()): # 일자 별\n",
        "        avg_prob = np.mean(test[(test['date'] == date) & (test['name'] == name)]['sentiment_prob']) # 일자별 감성 확률 평균 값\n",
        "        temp_list.append(avg_prob)  \n",
        "    stock_prob_list.append(temp_list)"
      ],
      "metadata": {
        "id": "NPqQoNFmISvb",
        "colab": {
          "base_uri": "https://localhost:8080/"
        },
        "outputId": "d28e420d-24f6-45fe-d485-9977230491fc"
      },
      "execution_count": 59,
      "outputs": [
        {
          "output_type": "stream",
          "name": "stderr",
          "text": [
            "100%|██████████| 496/496 [00:01<00:00, 305.10it/s]\n",
            "100%|██████████| 496/496 [00:01<00:00, 326.83it/s]\n",
            "100%|██████████| 496/496 [00:01<00:00, 314.27it/s]\n",
            "100%|██████████| 496/496 [00:01<00:00, 293.64it/s]\n",
            "100%|██████████| 496/496 [00:02<00:00, 246.78it/s]\n",
            "100%|██████████| 496/496 [00:01<00:00, 315.55it/s]\n",
            "100%|██████████| 496/496 [00:01<00:00, 324.41it/s]\n",
            "100%|██████████| 496/496 [00:01<00:00, 321.53it/s]\n",
            "100%|██████████| 496/496 [00:01<00:00, 338.52it/s]\n",
            "100%|██████████| 496/496 [00:01<00:00, 339.60it/s]\n"
          ]
        }
      ]
    },
    {
      "cell_type": "code",
      "source": [
        "result_df = pd.DataFrame({'카카오': stock_prob_list[0]}, index=test['date'].unique())\n",
        "\n",
        "for idx, name in enumerate(test['name'].unique()[1:]):\n",
        "    result_df[name] = stock_prob_list[idx + 1]"
      ],
      "metadata": {
        "id": "9JAP4AL2Iume"
      },
      "execution_count": 60,
      "outputs": []
    },
    {
      "cell_type": "code",
      "source": [
        "result_df.sort_index(inplace=True)"
      ],
      "metadata": {
        "id": "_jrJ64bHIz_4"
      },
      "execution_count": 61,
      "outputs": []
    },
    {
      "cell_type": "code",
      "source": [
        "result_df.head()"
      ],
      "metadata": {
        "colab": {
          "base_uri": "https://localhost:8080/",
          "height": 374
        },
        "id": "tAeJQ_NEI1kg",
        "outputId": "90b12e89-ab55-4abc-8311-1e318afaa1a3"
      },
      "execution_count": 62,
      "outputs": [
        {
          "output_type": "execute_result",
          "data": {
            "text/html": [
              "\n",
              "  <div id=\"df-f25413f4-5737-4b77-b2e2-7700a27d83a8\">\n",
              "    <div class=\"colab-df-container\">\n",
              "      <div>\n",
              "<style scoped>\n",
              "    .dataframe tbody tr th:only-of-type {\n",
              "        vertical-align: middle;\n",
              "    }\n",
              "\n",
              "    .dataframe tbody tr th {\n",
              "        vertical-align: top;\n",
              "    }\n",
              "\n",
              "    .dataframe thead th {\n",
              "        text-align: right;\n",
              "    }\n",
              "</style>\n",
              "<table border=\"1\" class=\"dataframe\">\n",
              "  <thead>\n",
              "    <tr style=\"text-align: right;\">\n",
              "      <th></th>\n",
              "      <th>카카오</th>\n",
              "      <th>SK하이닉스</th>\n",
              "      <th>KB금융</th>\n",
              "      <th>신한지주</th>\n",
              "      <th>삼성전자</th>\n",
              "      <th>셀트리온</th>\n",
              "      <th>현대차</th>\n",
              "      <th>LG화학</th>\n",
              "      <th>POSCO</th>\n",
              "      <th>NAVER</th>\n",
              "    </tr>\n",
              "  </thead>\n",
              "  <tbody>\n",
              "    <tr>\n",
              "      <th>2020-01-02</th>\n",
              "      <td>0.441799</td>\n",
              "      <td>0.464764</td>\n",
              "      <td>0.444616</td>\n",
              "      <td>0.486764</td>\n",
              "      <td>0.471437</td>\n",
              "      <td>0.379926</td>\n",
              "      <td>0.411993</td>\n",
              "      <td>0.467946</td>\n",
              "      <td>0.473649</td>\n",
              "      <td>0.220484</td>\n",
              "    </tr>\n",
              "    <tr>\n",
              "      <th>2020-01-03</th>\n",
              "      <td>0.447051</td>\n",
              "      <td>0.566636</td>\n",
              "      <td>0.457877</td>\n",
              "      <td>0.461653</td>\n",
              "      <td>0.450119</td>\n",
              "      <td>0.413742</td>\n",
              "      <td>0.401189</td>\n",
              "      <td>0.423670</td>\n",
              "      <td>0.570284</td>\n",
              "      <td>0.385583</td>\n",
              "    </tr>\n",
              "    <tr>\n",
              "      <th>2020-01-06</th>\n",
              "      <td>0.472941</td>\n",
              "      <td>0.425900</td>\n",
              "      <td>0.315058</td>\n",
              "      <td>0.590625</td>\n",
              "      <td>0.418817</td>\n",
              "      <td>0.401219</td>\n",
              "      <td>0.490809</td>\n",
              "      <td>0.453777</td>\n",
              "      <td>0.414023</td>\n",
              "      <td>0.374548</td>\n",
              "    </tr>\n",
              "    <tr>\n",
              "      <th>2020-01-07</th>\n",
              "      <td>0.443253</td>\n",
              "      <td>0.473868</td>\n",
              "      <td>0.447439</td>\n",
              "      <td>NaN</td>\n",
              "      <td>0.490522</td>\n",
              "      <td>0.545502</td>\n",
              "      <td>0.421195</td>\n",
              "      <td>0.424913</td>\n",
              "      <td>0.487397</td>\n",
              "      <td>0.543994</td>\n",
              "    </tr>\n",
              "    <tr>\n",
              "      <th>2020-01-08</th>\n",
              "      <td>0.451336</td>\n",
              "      <td>0.490984</td>\n",
              "      <td>0.511493</td>\n",
              "      <td>0.447148</td>\n",
              "      <td>0.456190</td>\n",
              "      <td>0.268173</td>\n",
              "      <td>0.463446</td>\n",
              "      <td>0.401912</td>\n",
              "      <td>0.419364</td>\n",
              "      <td>0.498487</td>\n",
              "    </tr>\n",
              "  </tbody>\n",
              "</table>\n",
              "</div>\n",
              "      <button class=\"colab-df-convert\" onclick=\"convertToInteractive('df-f25413f4-5737-4b77-b2e2-7700a27d83a8')\"\n",
              "              title=\"Convert this dataframe to an interactive table.\"\n",
              "              style=\"display:none;\">\n",
              "        \n",
              "  <svg xmlns=\"http://www.w3.org/2000/svg\" height=\"24px\"viewBox=\"0 0 24 24\"\n",
              "       width=\"24px\">\n",
              "    <path d=\"M0 0h24v24H0V0z\" fill=\"none\"/>\n",
              "    <path d=\"M18.56 5.44l.94 2.06.94-2.06 2.06-.94-2.06-.94-.94-2.06-.94 2.06-2.06.94zm-11 1L8.5 8.5l.94-2.06 2.06-.94-2.06-.94L8.5 2.5l-.94 2.06-2.06.94zm10 10l.94 2.06.94-2.06 2.06-.94-2.06-.94-.94-2.06-.94 2.06-2.06.94z\"/><path d=\"M17.41 7.96l-1.37-1.37c-.4-.4-.92-.59-1.43-.59-.52 0-1.04.2-1.43.59L10.3 9.45l-7.72 7.72c-.78.78-.78 2.05 0 2.83L4 21.41c.39.39.9.59 1.41.59.51 0 1.02-.2 1.41-.59l7.78-7.78 2.81-2.81c.8-.78.8-2.07 0-2.86zM5.41 20L4 18.59l7.72-7.72 1.47 1.35L5.41 20z\"/>\n",
              "  </svg>\n",
              "      </button>\n",
              "      \n",
              "  <style>\n",
              "    .colab-df-container {\n",
              "      display:flex;\n",
              "      flex-wrap:wrap;\n",
              "      gap: 12px;\n",
              "    }\n",
              "\n",
              "    .colab-df-convert {\n",
              "      background-color: #E8F0FE;\n",
              "      border: none;\n",
              "      border-radius: 50%;\n",
              "      cursor: pointer;\n",
              "      display: none;\n",
              "      fill: #1967D2;\n",
              "      height: 32px;\n",
              "      padding: 0 0 0 0;\n",
              "      width: 32px;\n",
              "    }\n",
              "\n",
              "    .colab-df-convert:hover {\n",
              "      background-color: #E2EBFA;\n",
              "      box-shadow: 0px 1px 2px rgba(60, 64, 67, 0.3), 0px 1px 3px 1px rgba(60, 64, 67, 0.15);\n",
              "      fill: #174EA6;\n",
              "    }\n",
              "\n",
              "    [theme=dark] .colab-df-convert {\n",
              "      background-color: #3B4455;\n",
              "      fill: #D2E3FC;\n",
              "    }\n",
              "\n",
              "    [theme=dark] .colab-df-convert:hover {\n",
              "      background-color: #434B5C;\n",
              "      box-shadow: 0px 1px 3px 1px rgba(0, 0, 0, 0.15);\n",
              "      filter: drop-shadow(0px 1px 2px rgba(0, 0, 0, 0.3));\n",
              "      fill: #FFFFFF;\n",
              "    }\n",
              "  </style>\n",
              "\n",
              "      <script>\n",
              "        const buttonEl =\n",
              "          document.querySelector('#df-f25413f4-5737-4b77-b2e2-7700a27d83a8 button.colab-df-convert');\n",
              "        buttonEl.style.display =\n",
              "          google.colab.kernel.accessAllowed ? 'block' : 'none';\n",
              "\n",
              "        async function convertToInteractive(key) {\n",
              "          const element = document.querySelector('#df-f25413f4-5737-4b77-b2e2-7700a27d83a8');\n",
              "          const dataTable =\n",
              "            await google.colab.kernel.invokeFunction('convertToInteractive',\n",
              "                                                     [key], {});\n",
              "          if (!dataTable) return;\n",
              "\n",
              "          const docLinkHtml = 'Like what you see? Visit the ' +\n",
              "            '<a target=\"_blank\" href=https://colab.research.google.com/notebooks/data_table.ipynb>data table notebook</a>'\n",
              "            + ' to learn more about interactive tables.';\n",
              "          element.innerHTML = '';\n",
              "          dataTable['output_type'] = 'display_data';\n",
              "          await google.colab.output.renderOutput(dataTable, element);\n",
              "          const docLink = document.createElement('div');\n",
              "          docLink.innerHTML = docLinkHtml;\n",
              "          element.appendChild(docLink);\n",
              "        }\n",
              "      </script>\n",
              "    </div>\n",
              "  </div>\n",
              "  "
            ],
            "text/plain": [
              "                 카카오    SK하이닉스      KB금융  ...      LG화학     POSCO     NAVER\n",
              "2020-01-02  0.441799  0.464764  0.444616  ...  0.467946  0.473649  0.220484\n",
              "2020-01-03  0.447051  0.566636  0.457877  ...  0.423670  0.570284  0.385583\n",
              "2020-01-06  0.472941  0.425900  0.315058  ...  0.453777  0.414023  0.374548\n",
              "2020-01-07  0.443253  0.473868  0.447439  ...  0.424913  0.487397  0.543994\n",
              "2020-01-08  0.451336  0.490984  0.511493  ...  0.401912  0.419364  0.498487\n",
              "\n",
              "[5 rows x 10 columns]"
            ]
          },
          "metadata": {},
          "execution_count": 62
        }
      ]
    },
    {
      "cell_type": "code",
      "source": [
        "result_df.isnull().sum() # 널값 확인"
      ],
      "metadata": {
        "colab": {
          "base_uri": "https://localhost:8080/"
        },
        "id": "7wyaGfSwI6kn",
        "outputId": "43b0c1c0-4eb4-44e1-ce5e-24f81e747f1f"
      },
      "execution_count": 63,
      "outputs": [
        {
          "output_type": "execute_result",
          "data": {
            "text/plain": [
              "카카오         0\n",
              "SK하이닉스      1\n",
              "KB금융        4\n",
              "신한지주       83\n",
              "삼성전자        3\n",
              "셀트리온        1\n",
              "현대차         1\n",
              "LG화학        1\n",
              "POSCO     137\n",
              "NAVER       6\n",
              "dtype: int64"
            ]
          },
          "metadata": {},
          "execution_count": 63
        }
      ]
    },
    {
      "cell_type": "code",
      "source": [
        "result_df.info()"
      ],
      "metadata": {
        "colab": {
          "base_uri": "https://localhost:8080/"
        },
        "id": "tHhmzznyINkZ",
        "outputId": "8ce886d9-10b3-4381-f25a-ae79b8e0b262"
      },
      "execution_count": 64,
      "outputs": [
        {
          "output_type": "stream",
          "name": "stdout",
          "text": [
            "<class 'pandas.core.frame.DataFrame'>\n",
            "DatetimeIndex: 496 entries, 2020-01-02 to 2021-12-30\n",
            "Data columns (total 10 columns):\n",
            " #   Column  Non-Null Count  Dtype  \n",
            "---  ------  --------------  -----  \n",
            " 0   카카오     496 non-null    float64\n",
            " 1   SK하이닉스  495 non-null    float64\n",
            " 2   KB금융    492 non-null    float64\n",
            " 3   신한지주    413 non-null    float64\n",
            " 4   삼성전자    493 non-null    float64\n",
            " 5   셀트리온    495 non-null    float64\n",
            " 6   현대차     495 non-null    float64\n",
            " 7   LG화학    495 non-null    float64\n",
            " 8   POSCO   359 non-null    float64\n",
            " 9   NAVER   490 non-null    float64\n",
            "dtypes: float64(10)\n",
            "memory usage: 42.6 KB\n"
          ]
        }
      ]
    },
    {
      "cell_type": "markdown",
      "source": [
        "- 널 값을 label값과 병합 후에 처리하자"
      ],
      "metadata": {
        "id": "0kLkAqvgI8BR"
      }
    },
    {
      "cell_type": "markdown",
      "source": [
        "### 종목별 정답 mapping df 생성"
      ],
      "metadata": {
        "id": "9bwe9u1EaKqx"
      }
    },
    {
      "cell_type": "code",
      "source": [
        "change = pd.read_csv('/content/drive/MyDrive/final_project/ten_change.csv', index_col=0)\n",
        "change.tail()"
      ],
      "metadata": {
        "colab": {
          "base_uri": "https://localhost:8080/",
          "height": 206
        },
        "id": "hJjEFKE7XH6_",
        "outputId": "1094924f-3585-475c-e16b-a3cc727f7ed5"
      },
      "execution_count": 65,
      "outputs": [
        {
          "output_type": "execute_result",
          "data": {
            "text/html": [
              "\n",
              "  <div id=\"df-406792cb-058d-431e-baad-1e19c48fb09f\">\n",
              "    <div class=\"colab-df-container\">\n",
              "      <div>\n",
              "<style scoped>\n",
              "    .dataframe tbody tr th:only-of-type {\n",
              "        vertical-align: middle;\n",
              "    }\n",
              "\n",
              "    .dataframe tbody tr th {\n",
              "        vertical-align: top;\n",
              "    }\n",
              "\n",
              "    .dataframe thead th {\n",
              "        text-align: right;\n",
              "    }\n",
              "</style>\n",
              "<table border=\"1\" class=\"dataframe\">\n",
              "  <thead>\n",
              "    <tr style=\"text-align: right;\">\n",
              "      <th></th>\n",
              "      <th>date</th>\n",
              "      <th>change</th>\n",
              "      <th>name</th>\n",
              "    </tr>\n",
              "  </thead>\n",
              "  <tbody>\n",
              "    <tr>\n",
              "      <th>24725</th>\n",
              "      <td>2022-01-10</td>\n",
              "      <td>1</td>\n",
              "      <td>신한지주</td>\n",
              "    </tr>\n",
              "    <tr>\n",
              "      <th>24726</th>\n",
              "      <td>2022-01-11</td>\n",
              "      <td>1</td>\n",
              "      <td>신한지주</td>\n",
              "    </tr>\n",
              "    <tr>\n",
              "      <th>24727</th>\n",
              "      <td>2022-01-12</td>\n",
              "      <td>1</td>\n",
              "      <td>신한지주</td>\n",
              "    </tr>\n",
              "    <tr>\n",
              "      <th>24728</th>\n",
              "      <td>2022-01-13</td>\n",
              "      <td>0</td>\n",
              "      <td>신한지주</td>\n",
              "    </tr>\n",
              "    <tr>\n",
              "      <th>24729</th>\n",
              "      <td>2022-01-14</td>\n",
              "      <td>0</td>\n",
              "      <td>신한지주</td>\n",
              "    </tr>\n",
              "  </tbody>\n",
              "</table>\n",
              "</div>\n",
              "      <button class=\"colab-df-convert\" onclick=\"convertToInteractive('df-406792cb-058d-431e-baad-1e19c48fb09f')\"\n",
              "              title=\"Convert this dataframe to an interactive table.\"\n",
              "              style=\"display:none;\">\n",
              "        \n",
              "  <svg xmlns=\"http://www.w3.org/2000/svg\" height=\"24px\"viewBox=\"0 0 24 24\"\n",
              "       width=\"24px\">\n",
              "    <path d=\"M0 0h24v24H0V0z\" fill=\"none\"/>\n",
              "    <path d=\"M18.56 5.44l.94 2.06.94-2.06 2.06-.94-2.06-.94-.94-2.06-.94 2.06-2.06.94zm-11 1L8.5 8.5l.94-2.06 2.06-.94-2.06-.94L8.5 2.5l-.94 2.06-2.06.94zm10 10l.94 2.06.94-2.06 2.06-.94-2.06-.94-.94-2.06-.94 2.06-2.06.94z\"/><path d=\"M17.41 7.96l-1.37-1.37c-.4-.4-.92-.59-1.43-.59-.52 0-1.04.2-1.43.59L10.3 9.45l-7.72 7.72c-.78.78-.78 2.05 0 2.83L4 21.41c.39.39.9.59 1.41.59.51 0 1.02-.2 1.41-.59l7.78-7.78 2.81-2.81c.8-.78.8-2.07 0-2.86zM5.41 20L4 18.59l7.72-7.72 1.47 1.35L5.41 20z\"/>\n",
              "  </svg>\n",
              "      </button>\n",
              "      \n",
              "  <style>\n",
              "    .colab-df-container {\n",
              "      display:flex;\n",
              "      flex-wrap:wrap;\n",
              "      gap: 12px;\n",
              "    }\n",
              "\n",
              "    .colab-df-convert {\n",
              "      background-color: #E8F0FE;\n",
              "      border: none;\n",
              "      border-radius: 50%;\n",
              "      cursor: pointer;\n",
              "      display: none;\n",
              "      fill: #1967D2;\n",
              "      height: 32px;\n",
              "      padding: 0 0 0 0;\n",
              "      width: 32px;\n",
              "    }\n",
              "\n",
              "    .colab-df-convert:hover {\n",
              "      background-color: #E2EBFA;\n",
              "      box-shadow: 0px 1px 2px rgba(60, 64, 67, 0.3), 0px 1px 3px 1px rgba(60, 64, 67, 0.15);\n",
              "      fill: #174EA6;\n",
              "    }\n",
              "\n",
              "    [theme=dark] .colab-df-convert {\n",
              "      background-color: #3B4455;\n",
              "      fill: #D2E3FC;\n",
              "    }\n",
              "\n",
              "    [theme=dark] .colab-df-convert:hover {\n",
              "      background-color: #434B5C;\n",
              "      box-shadow: 0px 1px 3px 1px rgba(0, 0, 0, 0.15);\n",
              "      filter: drop-shadow(0px 1px 2px rgba(0, 0, 0, 0.3));\n",
              "      fill: #FFFFFF;\n",
              "    }\n",
              "  </style>\n",
              "\n",
              "      <script>\n",
              "        const buttonEl =\n",
              "          document.querySelector('#df-406792cb-058d-431e-baad-1e19c48fb09f button.colab-df-convert');\n",
              "        buttonEl.style.display =\n",
              "          google.colab.kernel.accessAllowed ? 'block' : 'none';\n",
              "\n",
              "        async function convertToInteractive(key) {\n",
              "          const element = document.querySelector('#df-406792cb-058d-431e-baad-1e19c48fb09f');\n",
              "          const dataTable =\n",
              "            await google.colab.kernel.invokeFunction('convertToInteractive',\n",
              "                                                     [key], {});\n",
              "          if (!dataTable) return;\n",
              "\n",
              "          const docLinkHtml = 'Like what you see? Visit the ' +\n",
              "            '<a target=\"_blank\" href=https://colab.research.google.com/notebooks/data_table.ipynb>data table notebook</a>'\n",
              "            + ' to learn more about interactive tables.';\n",
              "          element.innerHTML = '';\n",
              "          dataTable['output_type'] = 'display_data';\n",
              "          await google.colab.output.renderOutput(dataTable, element);\n",
              "          const docLink = document.createElement('div');\n",
              "          docLink.innerHTML = docLinkHtml;\n",
              "          element.appendChild(docLink);\n",
              "        }\n",
              "      </script>\n",
              "    </div>\n",
              "  </div>\n",
              "  "
            ],
            "text/plain": [
              "             date  change  name\n",
              "24725  2022-01-10       1  신한지주\n",
              "24726  2022-01-11       1  신한지주\n",
              "24727  2022-01-12       1  신한지주\n",
              "24728  2022-01-13       0  신한지주\n",
              "24729  2022-01-14       0  신한지주"
            ]
          },
          "metadata": {},
          "execution_count": 65
        }
      ]
    },
    {
      "cell_type": "code",
      "source": [
        "change['date'] = pd.to_datetime(change['date'])\n",
        "\n",
        "split_date = pd.to_datetime('2020-01-01')\n",
        "end_date = pd.to_datetime('2021-12-30')\n",
        "\n",
        "change_test = change[(change['date'] >= split_date) & (change['date'] <= end_date)]"
      ],
      "metadata": {
        "id": "UElzR28cXjIk"
      },
      "execution_count": 66,
      "outputs": []
    },
    {
      "cell_type": "code",
      "source": [
        "change_test"
      ],
      "metadata": {
        "colab": {
          "base_uri": "https://localhost:8080/",
          "height": 423
        },
        "id": "zAsGojOVYazv",
        "outputId": "24a3d4ed-5717-464d-8ed5-56e7979d5d86"
      },
      "execution_count": 67,
      "outputs": [
        {
          "output_type": "execute_result",
          "data": {
            "text/html": [
              "\n",
              "  <div id=\"df-8c5741e1-8672-4fbb-b663-42e540059729\">\n",
              "    <div class=\"colab-df-container\">\n",
              "      <div>\n",
              "<style scoped>\n",
              "    .dataframe tbody tr th:only-of-type {\n",
              "        vertical-align: middle;\n",
              "    }\n",
              "\n",
              "    .dataframe tbody tr th {\n",
              "        vertical-align: top;\n",
              "    }\n",
              "\n",
              "    .dataframe thead th {\n",
              "        text-align: right;\n",
              "    }\n",
              "</style>\n",
              "<table border=\"1\" class=\"dataframe\">\n",
              "  <thead>\n",
              "    <tr style=\"text-align: right;\">\n",
              "      <th></th>\n",
              "      <th>date</th>\n",
              "      <th>change</th>\n",
              "      <th>name</th>\n",
              "    </tr>\n",
              "  </thead>\n",
              "  <tbody>\n",
              "    <tr>\n",
              "      <th>1967</th>\n",
              "      <td>2020-01-02</td>\n",
              "      <td>0</td>\n",
              "      <td>삼성전자</td>\n",
              "    </tr>\n",
              "    <tr>\n",
              "      <th>1968</th>\n",
              "      <td>2020-01-03</td>\n",
              "      <td>1</td>\n",
              "      <td>삼성전자</td>\n",
              "    </tr>\n",
              "    <tr>\n",
              "      <th>1969</th>\n",
              "      <td>2020-01-06</td>\n",
              "      <td>0</td>\n",
              "      <td>삼성전자</td>\n",
              "    </tr>\n",
              "    <tr>\n",
              "      <th>1970</th>\n",
              "      <td>2020-01-07</td>\n",
              "      <td>1</td>\n",
              "      <td>삼성전자</td>\n",
              "    </tr>\n",
              "    <tr>\n",
              "      <th>1971</th>\n",
              "      <td>2020-01-08</td>\n",
              "      <td>1</td>\n",
              "      <td>삼성전자</td>\n",
              "    </tr>\n",
              "    <tr>\n",
              "      <th>...</th>\n",
              "      <td>...</td>\n",
              "      <td>...</td>\n",
              "      <td>...</td>\n",
              "    </tr>\n",
              "    <tr>\n",
              "      <th>24715</th>\n",
              "      <td>2021-12-24</td>\n",
              "      <td>0</td>\n",
              "      <td>신한지주</td>\n",
              "    </tr>\n",
              "    <tr>\n",
              "      <th>24716</th>\n",
              "      <td>2021-12-27</td>\n",
              "      <td>0</td>\n",
              "      <td>신한지주</td>\n",
              "    </tr>\n",
              "    <tr>\n",
              "      <th>24717</th>\n",
              "      <td>2021-12-28</td>\n",
              "      <td>1</td>\n",
              "      <td>신한지주</td>\n",
              "    </tr>\n",
              "    <tr>\n",
              "      <th>24718</th>\n",
              "      <td>2021-12-29</td>\n",
              "      <td>0</td>\n",
              "      <td>신한지주</td>\n",
              "    </tr>\n",
              "    <tr>\n",
              "      <th>24719</th>\n",
              "      <td>2021-12-30</td>\n",
              "      <td>0</td>\n",
              "      <td>신한지주</td>\n",
              "    </tr>\n",
              "  </tbody>\n",
              "</table>\n",
              "<p>4960 rows × 3 columns</p>\n",
              "</div>\n",
              "      <button class=\"colab-df-convert\" onclick=\"convertToInteractive('df-8c5741e1-8672-4fbb-b663-42e540059729')\"\n",
              "              title=\"Convert this dataframe to an interactive table.\"\n",
              "              style=\"display:none;\">\n",
              "        \n",
              "  <svg xmlns=\"http://www.w3.org/2000/svg\" height=\"24px\"viewBox=\"0 0 24 24\"\n",
              "       width=\"24px\">\n",
              "    <path d=\"M0 0h24v24H0V0z\" fill=\"none\"/>\n",
              "    <path d=\"M18.56 5.44l.94 2.06.94-2.06 2.06-.94-2.06-.94-.94-2.06-.94 2.06-2.06.94zm-11 1L8.5 8.5l.94-2.06 2.06-.94-2.06-.94L8.5 2.5l-.94 2.06-2.06.94zm10 10l.94 2.06.94-2.06 2.06-.94-2.06-.94-.94-2.06-.94 2.06-2.06.94z\"/><path d=\"M17.41 7.96l-1.37-1.37c-.4-.4-.92-.59-1.43-.59-.52 0-1.04.2-1.43.59L10.3 9.45l-7.72 7.72c-.78.78-.78 2.05 0 2.83L4 21.41c.39.39.9.59 1.41.59.51 0 1.02-.2 1.41-.59l7.78-7.78 2.81-2.81c.8-.78.8-2.07 0-2.86zM5.41 20L4 18.59l7.72-7.72 1.47 1.35L5.41 20z\"/>\n",
              "  </svg>\n",
              "      </button>\n",
              "      \n",
              "  <style>\n",
              "    .colab-df-container {\n",
              "      display:flex;\n",
              "      flex-wrap:wrap;\n",
              "      gap: 12px;\n",
              "    }\n",
              "\n",
              "    .colab-df-convert {\n",
              "      background-color: #E8F0FE;\n",
              "      border: none;\n",
              "      border-radius: 50%;\n",
              "      cursor: pointer;\n",
              "      display: none;\n",
              "      fill: #1967D2;\n",
              "      height: 32px;\n",
              "      padding: 0 0 0 0;\n",
              "      width: 32px;\n",
              "    }\n",
              "\n",
              "    .colab-df-convert:hover {\n",
              "      background-color: #E2EBFA;\n",
              "      box-shadow: 0px 1px 2px rgba(60, 64, 67, 0.3), 0px 1px 3px 1px rgba(60, 64, 67, 0.15);\n",
              "      fill: #174EA6;\n",
              "    }\n",
              "\n",
              "    [theme=dark] .colab-df-convert {\n",
              "      background-color: #3B4455;\n",
              "      fill: #D2E3FC;\n",
              "    }\n",
              "\n",
              "    [theme=dark] .colab-df-convert:hover {\n",
              "      background-color: #434B5C;\n",
              "      box-shadow: 0px 1px 3px 1px rgba(0, 0, 0, 0.15);\n",
              "      filter: drop-shadow(0px 1px 2px rgba(0, 0, 0, 0.3));\n",
              "      fill: #FFFFFF;\n",
              "    }\n",
              "  </style>\n",
              "\n",
              "      <script>\n",
              "        const buttonEl =\n",
              "          document.querySelector('#df-8c5741e1-8672-4fbb-b663-42e540059729 button.colab-df-convert');\n",
              "        buttonEl.style.display =\n",
              "          google.colab.kernel.accessAllowed ? 'block' : 'none';\n",
              "\n",
              "        async function convertToInteractive(key) {\n",
              "          const element = document.querySelector('#df-8c5741e1-8672-4fbb-b663-42e540059729');\n",
              "          const dataTable =\n",
              "            await google.colab.kernel.invokeFunction('convertToInteractive',\n",
              "                                                     [key], {});\n",
              "          if (!dataTable) return;\n",
              "\n",
              "          const docLinkHtml = 'Like what you see? Visit the ' +\n",
              "            '<a target=\"_blank\" href=https://colab.research.google.com/notebooks/data_table.ipynb>data table notebook</a>'\n",
              "            + ' to learn more about interactive tables.';\n",
              "          element.innerHTML = '';\n",
              "          dataTable['output_type'] = 'display_data';\n",
              "          await google.colab.output.renderOutput(dataTable, element);\n",
              "          const docLink = document.createElement('div');\n",
              "          docLink.innerHTML = docLinkHtml;\n",
              "          element.appendChild(docLink);\n",
              "        }\n",
              "      </script>\n",
              "    </div>\n",
              "  </div>\n",
              "  "
            ],
            "text/plain": [
              "            date  change  name\n",
              "1967  2020-01-02       0  삼성전자\n",
              "1968  2020-01-03       1  삼성전자\n",
              "1969  2020-01-06       0  삼성전자\n",
              "1970  2020-01-07       1  삼성전자\n",
              "1971  2020-01-08       1  삼성전자\n",
              "...          ...     ...   ...\n",
              "24715 2021-12-24       0  신한지주\n",
              "24716 2021-12-27       0  신한지주\n",
              "24717 2021-12-28       1  신한지주\n",
              "24718 2021-12-29       0  신한지주\n",
              "24719 2021-12-30       0  신한지주\n",
              "\n",
              "[4960 rows x 3 columns]"
            ]
          },
          "metadata": {},
          "execution_count": 67
        }
      ]
    },
    {
      "cell_type": "code",
      "source": [
        "change_df = pd.DataFrame({'삼성전자': change_test[change_test['name'] == '삼성전자']['change'].values}, index=change_test['date'].unique())\n",
        "change_df.head()"
      ],
      "metadata": {
        "colab": {
          "base_uri": "https://localhost:8080/",
          "height": 206
        },
        "id": "zeAoXG6OXwu8",
        "outputId": "07329f07-ef09-4cbb-8b88-60f1fde95b3a"
      },
      "execution_count": 68,
      "outputs": [
        {
          "output_type": "execute_result",
          "data": {
            "text/html": [
              "\n",
              "  <div id=\"df-d4e19c0b-8b27-4960-af01-7faefc5b08dc\">\n",
              "    <div class=\"colab-df-container\">\n",
              "      <div>\n",
              "<style scoped>\n",
              "    .dataframe tbody tr th:only-of-type {\n",
              "        vertical-align: middle;\n",
              "    }\n",
              "\n",
              "    .dataframe tbody tr th {\n",
              "        vertical-align: top;\n",
              "    }\n",
              "\n",
              "    .dataframe thead th {\n",
              "        text-align: right;\n",
              "    }\n",
              "</style>\n",
              "<table border=\"1\" class=\"dataframe\">\n",
              "  <thead>\n",
              "    <tr style=\"text-align: right;\">\n",
              "      <th></th>\n",
              "      <th>삼성전자</th>\n",
              "    </tr>\n",
              "  </thead>\n",
              "  <tbody>\n",
              "    <tr>\n",
              "      <th>2020-01-02</th>\n",
              "      <td>0</td>\n",
              "    </tr>\n",
              "    <tr>\n",
              "      <th>2020-01-03</th>\n",
              "      <td>1</td>\n",
              "    </tr>\n",
              "    <tr>\n",
              "      <th>2020-01-06</th>\n",
              "      <td>0</td>\n",
              "    </tr>\n",
              "    <tr>\n",
              "      <th>2020-01-07</th>\n",
              "      <td>1</td>\n",
              "    </tr>\n",
              "    <tr>\n",
              "      <th>2020-01-08</th>\n",
              "      <td>1</td>\n",
              "    </tr>\n",
              "  </tbody>\n",
              "</table>\n",
              "</div>\n",
              "      <button class=\"colab-df-convert\" onclick=\"convertToInteractive('df-d4e19c0b-8b27-4960-af01-7faefc5b08dc')\"\n",
              "              title=\"Convert this dataframe to an interactive table.\"\n",
              "              style=\"display:none;\">\n",
              "        \n",
              "  <svg xmlns=\"http://www.w3.org/2000/svg\" height=\"24px\"viewBox=\"0 0 24 24\"\n",
              "       width=\"24px\">\n",
              "    <path d=\"M0 0h24v24H0V0z\" fill=\"none\"/>\n",
              "    <path d=\"M18.56 5.44l.94 2.06.94-2.06 2.06-.94-2.06-.94-.94-2.06-.94 2.06-2.06.94zm-11 1L8.5 8.5l.94-2.06 2.06-.94-2.06-.94L8.5 2.5l-.94 2.06-2.06.94zm10 10l.94 2.06.94-2.06 2.06-.94-2.06-.94-.94-2.06-.94 2.06-2.06.94z\"/><path d=\"M17.41 7.96l-1.37-1.37c-.4-.4-.92-.59-1.43-.59-.52 0-1.04.2-1.43.59L10.3 9.45l-7.72 7.72c-.78.78-.78 2.05 0 2.83L4 21.41c.39.39.9.59 1.41.59.51 0 1.02-.2 1.41-.59l7.78-7.78 2.81-2.81c.8-.78.8-2.07 0-2.86zM5.41 20L4 18.59l7.72-7.72 1.47 1.35L5.41 20z\"/>\n",
              "  </svg>\n",
              "      </button>\n",
              "      \n",
              "  <style>\n",
              "    .colab-df-container {\n",
              "      display:flex;\n",
              "      flex-wrap:wrap;\n",
              "      gap: 12px;\n",
              "    }\n",
              "\n",
              "    .colab-df-convert {\n",
              "      background-color: #E8F0FE;\n",
              "      border: none;\n",
              "      border-radius: 50%;\n",
              "      cursor: pointer;\n",
              "      display: none;\n",
              "      fill: #1967D2;\n",
              "      height: 32px;\n",
              "      padding: 0 0 0 0;\n",
              "      width: 32px;\n",
              "    }\n",
              "\n",
              "    .colab-df-convert:hover {\n",
              "      background-color: #E2EBFA;\n",
              "      box-shadow: 0px 1px 2px rgba(60, 64, 67, 0.3), 0px 1px 3px 1px rgba(60, 64, 67, 0.15);\n",
              "      fill: #174EA6;\n",
              "    }\n",
              "\n",
              "    [theme=dark] .colab-df-convert {\n",
              "      background-color: #3B4455;\n",
              "      fill: #D2E3FC;\n",
              "    }\n",
              "\n",
              "    [theme=dark] .colab-df-convert:hover {\n",
              "      background-color: #434B5C;\n",
              "      box-shadow: 0px 1px 3px 1px rgba(0, 0, 0, 0.15);\n",
              "      filter: drop-shadow(0px 1px 2px rgba(0, 0, 0, 0.3));\n",
              "      fill: #FFFFFF;\n",
              "    }\n",
              "  </style>\n",
              "\n",
              "      <script>\n",
              "        const buttonEl =\n",
              "          document.querySelector('#df-d4e19c0b-8b27-4960-af01-7faefc5b08dc button.colab-df-convert');\n",
              "        buttonEl.style.display =\n",
              "          google.colab.kernel.accessAllowed ? 'block' : 'none';\n",
              "\n",
              "        async function convertToInteractive(key) {\n",
              "          const element = document.querySelector('#df-d4e19c0b-8b27-4960-af01-7faefc5b08dc');\n",
              "          const dataTable =\n",
              "            await google.colab.kernel.invokeFunction('convertToInteractive',\n",
              "                                                     [key], {});\n",
              "          if (!dataTable) return;\n",
              "\n",
              "          const docLinkHtml = 'Like what you see? Visit the ' +\n",
              "            '<a target=\"_blank\" href=https://colab.research.google.com/notebooks/data_table.ipynb>data table notebook</a>'\n",
              "            + ' to learn more about interactive tables.';\n",
              "          element.innerHTML = '';\n",
              "          dataTable['output_type'] = 'display_data';\n",
              "          await google.colab.output.renderOutput(dataTable, element);\n",
              "          const docLink = document.createElement('div');\n",
              "          docLink.innerHTML = docLinkHtml;\n",
              "          element.appendChild(docLink);\n",
              "        }\n",
              "      </script>\n",
              "    </div>\n",
              "  </div>\n",
              "  "
            ],
            "text/plain": [
              "            삼성전자\n",
              "2020-01-02     0\n",
              "2020-01-03     1\n",
              "2020-01-06     0\n",
              "2020-01-07     1\n",
              "2020-01-08     1"
            ]
          },
          "metadata": {},
          "execution_count": 68
        }
      ]
    },
    {
      "cell_type": "code",
      "source": [
        "for name in change_test['name'].unique()[1:]:\n",
        "    change_df[name] = change_test[change_test['name'] == name]['change'].values"
      ],
      "metadata": {
        "id": "ZoKwBBRcYL2M"
      },
      "execution_count": 69,
      "outputs": []
    },
    {
      "cell_type": "code",
      "source": [
        "change_df.tail()"
      ],
      "metadata": {
        "colab": {
          "base_uri": "https://localhost:8080/",
          "height": 354
        },
        "id": "69BygBtWYN7N",
        "outputId": "97dd8ee2-6503-4c2b-9740-38eda50daf78"
      },
      "execution_count": 70,
      "outputs": [
        {
          "output_type": "execute_result",
          "data": {
            "text/html": [
              "\n",
              "  <div id=\"df-a49a3efe-c57b-4734-8cb6-dc4384a2107c\">\n",
              "    <div class=\"colab-df-container\">\n",
              "      <div>\n",
              "<style scoped>\n",
              "    .dataframe tbody tr th:only-of-type {\n",
              "        vertical-align: middle;\n",
              "    }\n",
              "\n",
              "    .dataframe tbody tr th {\n",
              "        vertical-align: top;\n",
              "    }\n",
              "\n",
              "    .dataframe thead th {\n",
              "        text-align: right;\n",
              "    }\n",
              "</style>\n",
              "<table border=\"1\" class=\"dataframe\">\n",
              "  <thead>\n",
              "    <tr style=\"text-align: right;\">\n",
              "      <th></th>\n",
              "      <th>삼성전자</th>\n",
              "      <th>SK하이닉스</th>\n",
              "      <th>NAVER</th>\n",
              "      <th>LG화학</th>\n",
              "      <th>현대차</th>\n",
              "      <th>카카오</th>\n",
              "      <th>셀트리온</th>\n",
              "      <th>POSCO</th>\n",
              "      <th>KB금융</th>\n",
              "      <th>신한지주</th>\n",
              "    </tr>\n",
              "  </thead>\n",
              "  <tbody>\n",
              "    <tr>\n",
              "      <th>2021-12-24</th>\n",
              "      <td>1</td>\n",
              "      <td>1</td>\n",
              "      <td>1</td>\n",
              "      <td>0</td>\n",
              "      <td>1</td>\n",
              "      <td>1</td>\n",
              "      <td>0</td>\n",
              "      <td>1</td>\n",
              "      <td>0</td>\n",
              "      <td>0</td>\n",
              "    </tr>\n",
              "    <tr>\n",
              "      <th>2021-12-27</th>\n",
              "      <td>0</td>\n",
              "      <td>0</td>\n",
              "      <td>0</td>\n",
              "      <td>1</td>\n",
              "      <td>0</td>\n",
              "      <td>0</td>\n",
              "      <td>1</td>\n",
              "      <td>0</td>\n",
              "      <td>0</td>\n",
              "      <td>0</td>\n",
              "    </tr>\n",
              "    <tr>\n",
              "      <th>2021-12-28</th>\n",
              "      <td>1</td>\n",
              "      <td>1</td>\n",
              "      <td>1</td>\n",
              "      <td>1</td>\n",
              "      <td>1</td>\n",
              "      <td>1</td>\n",
              "      <td>1</td>\n",
              "      <td>1</td>\n",
              "      <td>1</td>\n",
              "      <td>1</td>\n",
              "    </tr>\n",
              "    <tr>\n",
              "      <th>2021-12-29</th>\n",
              "      <td>0</td>\n",
              "      <td>0</td>\n",
              "      <td>0</td>\n",
              "      <td>0</td>\n",
              "      <td>0</td>\n",
              "      <td>1</td>\n",
              "      <td>0</td>\n",
              "      <td>0</td>\n",
              "      <td>0</td>\n",
              "      <td>0</td>\n",
              "    </tr>\n",
              "    <tr>\n",
              "      <th>2021-12-30</th>\n",
              "      <td>0</td>\n",
              "      <td>1</td>\n",
              "      <td>0</td>\n",
              "      <td>0</td>\n",
              "      <td>0</td>\n",
              "      <td>0</td>\n",
              "      <td>0</td>\n",
              "      <td>0</td>\n",
              "      <td>0</td>\n",
              "      <td>0</td>\n",
              "    </tr>\n",
              "  </tbody>\n",
              "</table>\n",
              "</div>\n",
              "      <button class=\"colab-df-convert\" onclick=\"convertToInteractive('df-a49a3efe-c57b-4734-8cb6-dc4384a2107c')\"\n",
              "              title=\"Convert this dataframe to an interactive table.\"\n",
              "              style=\"display:none;\">\n",
              "        \n",
              "  <svg xmlns=\"http://www.w3.org/2000/svg\" height=\"24px\"viewBox=\"0 0 24 24\"\n",
              "       width=\"24px\">\n",
              "    <path d=\"M0 0h24v24H0V0z\" fill=\"none\"/>\n",
              "    <path d=\"M18.56 5.44l.94 2.06.94-2.06 2.06-.94-2.06-.94-.94-2.06-.94 2.06-2.06.94zm-11 1L8.5 8.5l.94-2.06 2.06-.94-2.06-.94L8.5 2.5l-.94 2.06-2.06.94zm10 10l.94 2.06.94-2.06 2.06-.94-2.06-.94-.94-2.06-.94 2.06-2.06.94z\"/><path d=\"M17.41 7.96l-1.37-1.37c-.4-.4-.92-.59-1.43-.59-.52 0-1.04.2-1.43.59L10.3 9.45l-7.72 7.72c-.78.78-.78 2.05 0 2.83L4 21.41c.39.39.9.59 1.41.59.51 0 1.02-.2 1.41-.59l7.78-7.78 2.81-2.81c.8-.78.8-2.07 0-2.86zM5.41 20L4 18.59l7.72-7.72 1.47 1.35L5.41 20z\"/>\n",
              "  </svg>\n",
              "      </button>\n",
              "      \n",
              "  <style>\n",
              "    .colab-df-container {\n",
              "      display:flex;\n",
              "      flex-wrap:wrap;\n",
              "      gap: 12px;\n",
              "    }\n",
              "\n",
              "    .colab-df-convert {\n",
              "      background-color: #E8F0FE;\n",
              "      border: none;\n",
              "      border-radius: 50%;\n",
              "      cursor: pointer;\n",
              "      display: none;\n",
              "      fill: #1967D2;\n",
              "      height: 32px;\n",
              "      padding: 0 0 0 0;\n",
              "      width: 32px;\n",
              "    }\n",
              "\n",
              "    .colab-df-convert:hover {\n",
              "      background-color: #E2EBFA;\n",
              "      box-shadow: 0px 1px 2px rgba(60, 64, 67, 0.3), 0px 1px 3px 1px rgba(60, 64, 67, 0.15);\n",
              "      fill: #174EA6;\n",
              "    }\n",
              "\n",
              "    [theme=dark] .colab-df-convert {\n",
              "      background-color: #3B4455;\n",
              "      fill: #D2E3FC;\n",
              "    }\n",
              "\n",
              "    [theme=dark] .colab-df-convert:hover {\n",
              "      background-color: #434B5C;\n",
              "      box-shadow: 0px 1px 3px 1px rgba(0, 0, 0, 0.15);\n",
              "      filter: drop-shadow(0px 1px 2px rgba(0, 0, 0, 0.3));\n",
              "      fill: #FFFFFF;\n",
              "    }\n",
              "  </style>\n",
              "\n",
              "      <script>\n",
              "        const buttonEl =\n",
              "          document.querySelector('#df-a49a3efe-c57b-4734-8cb6-dc4384a2107c button.colab-df-convert');\n",
              "        buttonEl.style.display =\n",
              "          google.colab.kernel.accessAllowed ? 'block' : 'none';\n",
              "\n",
              "        async function convertToInteractive(key) {\n",
              "          const element = document.querySelector('#df-a49a3efe-c57b-4734-8cb6-dc4384a2107c');\n",
              "          const dataTable =\n",
              "            await google.colab.kernel.invokeFunction('convertToInteractive',\n",
              "                                                     [key], {});\n",
              "          if (!dataTable) return;\n",
              "\n",
              "          const docLinkHtml = 'Like what you see? Visit the ' +\n",
              "            '<a target=\"_blank\" href=https://colab.research.google.com/notebooks/data_table.ipynb>data table notebook</a>'\n",
              "            + ' to learn more about interactive tables.';\n",
              "          element.innerHTML = '';\n",
              "          dataTable['output_type'] = 'display_data';\n",
              "          await google.colab.output.renderOutput(dataTable, element);\n",
              "          const docLink = document.createElement('div');\n",
              "          docLink.innerHTML = docLinkHtml;\n",
              "          element.appendChild(docLink);\n",
              "        }\n",
              "      </script>\n",
              "    </div>\n",
              "  </div>\n",
              "  "
            ],
            "text/plain": [
              "            삼성전자  SK하이닉스  NAVER  LG화학  현대차  카카오  셀트리온  POSCO  KB금융  신한지주\n",
              "2021-12-24     1       1      1     0    1    1     0      1     0     0\n",
              "2021-12-27     0       0      0     1    0    0     1      0     0     0\n",
              "2021-12-28     1       1      1     1    1    1     1      1     1     1\n",
              "2021-12-29     0       0      0     0    0    1     0      0     0     0\n",
              "2021-12-30     0       1      0     0    0    0     0      0     0     0"
            ]
          },
          "metadata": {},
          "execution_count": 70
        }
      ]
    },
    {
      "cell_type": "markdown",
      "source": [
        "## 종목별 예측값, 정답 병합\n",
        "    "
      ],
      "metadata": {
        "id": "kcrhm5XWXq4a"
      }
    },
    {
      "cell_type": "code",
      "source": [
        "change_df.columns"
      ],
      "metadata": {
        "colab": {
          "base_uri": "https://localhost:8080/"
        },
        "id": "j0ugPkbVbOBd",
        "outputId": "0d9a813c-2b68-41d5-a6b0-0b01cd359bff"
      },
      "execution_count": 71,
      "outputs": [
        {
          "output_type": "execute_result",
          "data": {
            "text/plain": [
              "Index(['삼성전자', 'SK하이닉스', 'NAVER', 'LG화학', '현대차', '카카오', '셀트리온', 'POSCO',\n",
              "       'KB금융', '신한지주'],\n",
              "      dtype='object')"
            ]
          },
          "metadata": {},
          "execution_count": 71
        }
      ]
    },
    {
      "cell_type": "code",
      "source": [
        "# 각각 데이터프레임 생성\n",
        "\n",
        "ten_df = []\n",
        "def make_per_df(name):\n",
        "  df = pd.DataFrame({'predict':result_df[name],'label': change_df[name]}, index = test['date'].unique())\n",
        "  df['name'] = name\n",
        "  df = df.sort_index()\n",
        "  df.dropna(subset=['predict'],inplace=True)\n",
        "  return df\n",
        "\n",
        "def labeling(df):\n",
        "  df['predict'][df['predict'] < 0.5] = 0\n",
        "  df['predict'][df['predict'] >= 0.5] = 1\n",
        "  return df\n",
        "\n",
        "\n",
        "names = change_df.columns\n",
        "\n",
        "for name in names:\n",
        "  df = make_per_df(name)\n",
        "  label_df = labeling(df)\n",
        "  ten_df.append(label_df)\n"
      ],
      "metadata": {
        "id": "iLsNMRTHalMt"
      },
      "execution_count": 72,
      "outputs": []
    },
    {
      "cell_type": "code",
      "source": [
        "from sklearn.metrics import accuracy_score, precision_score, recall_score, f1_score, confusion_matrix, classification_report\n",
        "%matplotlib inline"
      ],
      "metadata": {
        "id": "rzrvPNRWYjSC"
      },
      "execution_count": 73,
      "outputs": []
    },
    {
      "cell_type": "code",
      "source": [
        "acc_list = []\n",
        "company = ['samsung elec', 'sk hynix', 'naver', 'lg chem', 'hyundai car', 'kakao', 'celtrion', 'posco', 'kb finance', 'shinhan']\n",
        "for df in ten_df:\n",
        "  acc_list.append(accuracy_score(df['label'], df['predict']))"
      ],
      "metadata": {
        "id": "BvcKOjKFed_i"
      },
      "execution_count": 74,
      "outputs": []
    },
    {
      "cell_type": "code",
      "source": [
        "acc_df = pd.DataFrame({'company': company, 'accuracy': acc_list})\n",
        "acc_df.set_index('company', inplace=True)"
      ],
      "metadata": {
        "id": "22QRynCbYkjt"
      },
      "execution_count": 75,
      "outputs": []
    },
    {
      "cell_type": "code",
      "source": [
        "plt.figure(figsize=(12, 10))\n",
        "plt.plot(acc_df.index, acc_df['accuracy'] * 100,\n",
        "         label='accuracy(%)',\n",
        "         linestyle='-',\n",
        "         linewidth=1.2,\n",
        "         color='black',\n",
        "         marker='o',\n",
        "         markersize=10,\n",
        "         markerfacecolor='yellow',\n",
        "         markeredgecolor='black'\n",
        ")\n",
        "\n",
        "plt.title('Accuracy of stock list', size=25)\n",
        "plt.xlabel(\"stock\", size=20)\n",
        "plt.ylabel(\"rate(%)\", size=20)\n",
        "plt.xticks(fontsize=15, rotation=45)\n",
        "plt.yticks(fontsize=15)\n",
        "plt.grid()\n",
        "plt.legend(loc='best')\n",
        "plt.show()"
      ],
      "metadata": {
        "colab": {
          "base_uri": "https://localhost:8080/",
          "height": 710
        },
        "id": "Mo99Gf0QYnIN",
        "outputId": "1ad71f1a-511a-458a-8ebc-728157d33573"
      },
      "execution_count": 76,
      "outputs": [
        {
          "output_type": "display_data",
          "data": {
            "image/png": "[encoded data removed]",
            "text/plain": [
              "<Figure size 864x720 with 1 Axes>"
            ]
          },
          "metadata": {
            "needs_background": "light"
          }
        }
      ]
    },
    {
      "cell_type": "markdown",
      "source": [
        "## 종목별 confusion matrix, classification_report"
      ],
      "metadata": {
        "id": "ruS-GEEreuCW"
      }
    },
    {
      "cell_type": "code",
      "source": [
        "ten_df[0].name.unique()[0]"
      ],
      "metadata": {
        "colab": {
          "base_uri": "https://localhost:8080/",
          "height": 36
        },
        "id": "owIAGNaffVIO",
        "outputId": "e95425d5-c1dd-42ab-b2c8-a524a8894e51"
      },
      "execution_count": 77,
      "outputs": [
        {
          "output_type": "execute_result",
          "data": {
            "application/vnd.google.colaboratory.intrinsic+json": {
              "type": "string"
            },
            "text/plain": [
              "'삼성전자'"
            ]
          },
          "metadata": {},
          "execution_count": 77
        }
      ]
    },
    {
      "cell_type": "code",
      "source": [
        "def make_confusion_matrix(df):\n",
        "  matrix = confusion_matrix(df.label, df.predict)\n",
        "  class_names = ['down', 'up']\n",
        "  dataframe = pd.DataFrame(matrix, index=class_names, columns=class_names)\n",
        "\n",
        "  sns.heatmap(dataframe, annot=True, annot_kws = {'size' : 23}, fmt='d', cbar=None, cmap='Blues')\n",
        "  name = df.name.unique()[0]\n",
        "  plt.title(f'{name} 종목 Confusion Matrix',size=17)\n",
        "  plt.tight_layout()\n",
        "  plt.ylabel('True Class')\n",
        "  plt.xlabel('Predicted Class')\n",
        "  plt.show()\n",
        "  print(classification_report(df.label, df.predict, target_names=class_names))\n",
        "\n",
        "for df in ten_df:\n",
        "  make_confusion_matrix(df)"
      ],
      "metadata": {
        "colab": {
          "base_uri": "https://localhost:8080/",
          "height": 1000
        },
        "id": "iVI6TW1Ye9cO",
        "outputId": "423b8535-c19d-4231-bec2-6ab11577e37a"
      },
      "execution_count": 78,
      "outputs": [
        {
          "output_type": "display_data",
          "data": {
            "image/png": "[encoded data removed]",
            "text/plain": [
              "<Figure size 432x288 with 1 Axes>"
            ]
          },
          "metadata": {
            "needs_background": "light"
          }
        },
        {
          "output_type": "stream",
          "name": "stdout",
          "text": [
            "              precision    recall  f1-score   support\n",
            "\n",
            "        down       0.54      0.86      0.66       256\n",
            "          up       0.58      0.21      0.31       237\n",
            "\n",
            "    accuracy                           0.55       493\n",
            "   macro avg       0.56      0.54      0.49       493\n",
            "weighted avg       0.56      0.55      0.49       493\n",
            "\n"
          ]
        },
        {
          "output_type": "display_data",
          "data": {
            "image/png": "[encoded data removed]",
            "text/plain": [
              "<Figure size 432x288 with 1 Axes>"
            ]
          },
          "metadata": {
            "needs_background": "light"
          }
        },
        {
          "output_type": "stream",
          "name": "stdout",
          "text": [
            "              precision    recall  f1-score   support\n",
            "\n",
            "        down       0.57      0.62      0.59       254\n",
            "          up       0.56      0.50      0.53       241\n",
            "\n",
            "    accuracy                           0.56       495\n",
            "   macro avg       0.56      0.56      0.56       495\n",
            "weighted avg       0.56      0.56      0.56       495\n",
            "\n"
          ]
        },
        {
          "output_type": "display_data",
          "data": {
            "image/png": "[encoded data removed]",
            "text/plain": [
              "<Figure size 432x288 with 1 Axes>"
            ]
          },
          "metadata": {
            "needs_background": "light"
          }
        },
        {
          "output_type": "stream",
          "name": "stdout",
          "text": [
            "              precision    recall  f1-score   support\n",
            "\n",
            "        down       0.57      0.77      0.66       255\n",
            "          up       0.60      0.38      0.47       235\n",
            "\n",
            "    accuracy                           0.58       490\n",
            "   macro avg       0.59      0.58      0.56       490\n",
            "weighted avg       0.59      0.58      0.57       490\n",
            "\n"
          ]
        },
        {
          "output_type": "display_data",
          "data": {
            "image/png": "[encoded data removed]",
            "text/plain": [
              "<Figure size 432x288 with 1 Axes>"
            ]
          },
          "metadata": {
            "needs_background": "light"
          }
        },
        {
          "output_type": "stream",
          "name": "stdout",
          "text": [
            "              precision    recall  f1-score   support\n",
            "\n",
            "        down       0.54      0.77      0.63       251\n",
            "          up       0.57      0.32      0.41       244\n",
            "\n",
            "    accuracy                           0.55       495\n",
            "   macro avg       0.55      0.54      0.52       495\n",
            "weighted avg       0.55      0.55      0.52       495\n",
            "\n"
          ]
        },
        {
          "output_type": "display_data",
          "data": {
            "image/png": "[encoded data removed]",
            "text/plain": [
              "<Figure size 432x288 with 1 Axes>"
            ]
          },
          "metadata": {
            "needs_background": "light"
          }
        },
        {
          "output_type": "stream",
          "name": "stdout",
          "text": [
            "              precision    recall  f1-score   support\n",
            "\n",
            "        down       0.55      0.96      0.70       270\n",
            "          up       0.60      0.08      0.14       225\n",
            "\n",
            "    accuracy                           0.56       495\n",
            "   macro avg       0.58      0.52      0.42       495\n",
            "weighted avg       0.58      0.56      0.45       495\n",
            "\n"
          ]
        },
        {
          "output_type": "display_data",
          "data": {
            "image/png": "[encoded data removed]",
            "text/plain": [
              "<Figure size 432x288 with 1 Axes>"
            ]
          },
          "metadata": {
            "needs_background": "light"
          }
        },
        {
          "output_type": "stream",
          "name": "stdout",
          "text": [
            "              precision    recall  f1-score   support\n",
            "\n",
            "        down       0.48      0.96      0.64       239\n",
            "          up       0.55      0.05      0.09       257\n",
            "\n",
            "    accuracy                           0.49       496\n",
            "   macro avg       0.51      0.50      0.36       496\n",
            "weighted avg       0.52      0.49      0.35       496\n",
            "\n"
          ]
        },
        {
          "output_type": "display_data",
          "data": {
            "image/png": "[encoded data removed]",
            "text/plain": [
              "<Figure size 432x288 with 1 Axes>"
            ]
          },
          "metadata": {
            "needs_background": "light"
          }
        },
        {
          "output_type": "stream",
          "name": "stdout",
          "text": [
            "              precision    recall  f1-score   support\n",
            "\n",
            "        down       0.60      0.78      0.68       272\n",
            "          up       0.58      0.37      0.45       223\n",
            "\n",
            "    accuracy                           0.60       495\n",
            "   macro avg       0.59      0.58      0.57       495\n",
            "weighted avg       0.59      0.60      0.58       495\n",
            "\n"
          ]
        },
        {
          "output_type": "display_data",
          "data": {
            "image/png": "[encoded data removed]",
            "text/plain": [
              "<Figure size 432x288 with 1 Axes>"
            ]
          },
          "metadata": {
            "needs_background": "light"
          }
        },
        {
          "output_type": "stream",
          "name": "stdout",
          "text": [
            "              precision    recall  f1-score   support\n",
            "\n",
            "        down       0.53      0.73      0.61       175\n",
            "          up       0.59      0.38      0.46       184\n",
            "\n",
            "    accuracy                           0.55       359\n",
            "   macro avg       0.56      0.55      0.54       359\n",
            "weighted avg       0.56      0.55      0.53       359\n",
            "\n"
          ]
        },
        {
          "output_type": "display_data",
          "data": {
            "image/png": "[encoded data removed]",
            "text/plain": [
              "<Figure size 432x288 with 1 Axes>"
            ]
          },
          "metadata": {
            "needs_background": "light"
          }
        },
        {
          "output_type": "stream",
          "name": "stdout",
          "text": [
            "              precision    recall  f1-score   support\n",
            "\n",
            "        down       0.53      0.80      0.64       259\n",
            "          up       0.50      0.23      0.31       233\n",
            "\n",
            "    accuracy                           0.53       492\n",
            "   macro avg       0.52      0.51      0.48       492\n",
            "weighted avg       0.52      0.53      0.48       492\n",
            "\n"
          ]
        },
        {
          "output_type": "display_data",
          "data": {
            "image/png": "[encoded data removed]",
            "text/plain": [
              "<Figure size 432x288 with 1 Axes>"
            ]
          },
          "metadata": {
            "needs_background": "light"
          }
        },
        {
          "output_type": "stream",
          "name": "stdout",
          "text": [
            "              precision    recall  f1-score   support\n",
            "\n",
            "        down       0.54      0.80      0.64       214\n",
            "          up       0.55      0.27      0.36       199\n",
            "\n",
            "    accuracy                           0.54       413\n",
            "   macro avg       0.55      0.53      0.50       413\n",
            "weighted avg       0.55      0.54      0.51       413\n",
            "\n"
          ]
        }
      ]
    },
    {
      "cell_type": "code",
      "source": [
        "#acc_list = []; \n",
        "precision_up = []; precision_down = []\n",
        "company = ['samsung elec', 'sk hynix', 'naver', 'lg chem', 'hyundai car', 'kakao', 'celtrion', 'posco', 'kb finance', 'shinhan']\n",
        "for df in ten_df:\n",
        "  #acc_list.append(accuracy_score(df['label'], df['predict']))\n",
        "  precision_up.append(precision_score(df['label'], df['predict'],pos_label=1))\n",
        "  precision_down.append(precision_score(df['label'], df['predict'],pos_label=0))"
      ],
      "metadata": {
        "id": "AYsKCcDziJxn"
      },
      "execution_count": 79,
      "outputs": []
    },
    {
      "cell_type": "code",
      "source": [
        "pre_up = pd.DataFrame({'company': company, 'precision': precision_up})\n",
        "pre_down = pd.DataFrame({'company': company, 'precision': precision_down})\n",
        "pre_up.set_index('company', inplace=True)\n",
        "pre_down.set_index('company', inplace=True)"
      ],
      "metadata": {
        "id": "lSQH0aKFiJx_"
      },
      "execution_count": 80,
      "outputs": []
    },
    {
      "cell_type": "code",
      "source": [
        "plt.figure(figsize=(12, 10))\n",
        "plt.plot(acc_df.index, acc_df['accuracy'] * 100,\n",
        "         label='accuracy(%)',\n",
        "         linestyle='-',\n",
        "         linewidth=1.2,\n",
        "         color='black',\n",
        "         marker='o',\n",
        "         markersize=10,\n",
        "         markerfacecolor='yellow',\n",
        "         markeredgecolor='black'\n",
        ")\n",
        "\n",
        "plt.plot(pre_up.index, pre_up['precision'] * 100,\n",
        "         label='precision(up)(%)',\n",
        "         linestyle='--',\n",
        "         linewidth=1.2,\n",
        "         color='red',\n",
        "         marker='^',\n",
        "         markersize=10,\n",
        "         markerfacecolor='red',\n",
        "         markeredgecolor='black'\n",
        ")\n",
        "\n",
        "plt.plot(pre_down.index, pre_down['precision'] * 100,\n",
        "         label='precision(down)(%)',\n",
        "         linestyle='--',\n",
        "         linewidth=1.2,\n",
        "         color='blue',\n",
        "         marker='v',\n",
        "         markersize=10,\n",
        "         markerfacecolor='blue',\n",
        "         markeredgecolor='black'\n",
        ")\n",
        "\n",
        "plt.title('Acc-precision stock list', size=25)\n",
        "plt.xlabel(\"stock\", size=20)\n",
        "plt.ylabel(\"rate(%)\", size=20)\n",
        "plt.xticks(fontsize=15, rotation=45)\n",
        "plt.yticks(fontsize=15)\n",
        "plt.grid()\n",
        "plt.legend(loc='best')\n",
        "plt.show()"
      ],
      "metadata": {
        "colab": {
          "base_uri": "https://localhost:8080/",
          "height": 709
        },
        "outputId": "d8213ff1-de8b-47d1-c718-6d407999d619",
        "id": "qQhtXxHFiJyA"
      },
      "execution_count": 81,
      "outputs": [
        {
          "output_type": "display_data",
          "data": {
            "image/png": "[encoded data removed]",
            "text/plain": [
              "<Figure size 864x720 with 1 Axes>"
            ]
          },
          "metadata": {
            "needs_background": "light"
          }
        }
      ]
    },
    {
      "cell_type": "markdown",
      "source": [
        "- accuracy : 전체 데이터에서 제대로 예측했는지 지표\n",
        "- precision : 모델이 1이라고 예측한 데이터 중 실제 1인 데이터의 비율\n",
        "- recall : 실제 1인 데이터에서 1이라고 예측한 데이터의 비율"
      ],
      "metadata": {
        "id": "MPVdrFzpjB7a"
      }
    },
    {
      "cell_type": "markdown",
      "source": [
        "---"
      ],
      "metadata": {
        "id": "qiJ4bI7CIar4"
      }
    }
  ]
}